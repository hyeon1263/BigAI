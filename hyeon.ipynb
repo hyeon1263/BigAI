{
  "nbformat": 4,
  "nbformat_minor": 0,
  "metadata": {
    "colab": {
      "name": "hyeon",
      "private_outputs": true,
      "provenance": [],
      "collapsed_sections": []
    },
    "kernelspec": {
      "name": "python3",
      "display_name": "Python 3"
    }
  },
  "cells": [
    {
      "cell_type": "code",
      "metadata": {
        "id": "IdgcxbgZR_lv"
      },
      "source": [
        "print('hello')"
      ],
      "execution_count": null,
      "outputs": []
    },
    {
      "cell_type": "code",
      "metadata": {
        "id": "mtXB5nMrSTz8"
      },
      "source": [
        "print('world!')"
      ],
      "execution_count": null,
      "outputs": []
    }
  ]
}