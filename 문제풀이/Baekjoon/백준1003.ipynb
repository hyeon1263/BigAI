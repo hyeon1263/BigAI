{
  "nbformat": 4,
  "nbformat_minor": 0,
  "metadata": {
    "colab": {
      "name": "백준1003",
      "private_outputs": true,
      "provenance": []
    },
    "kernelspec": {
      "name": "python3",
      "display_name": "Python 3"
    },
    "language_info": {
      "name": "python"
    }
  },
  "cells": [
    {
      "cell_type": "code",
      "metadata": {
        "id": "_i_v2qxDnovl"
      },
      "source": [
        "# 피보나치 함수 => 함수 사용, 시간 초과\n",
        "def zero(n):\n",
        "    if n == 2:\n",
        "        return 1\n",
        "    elif n == 3:\n",
        "        return 1\n",
        "    else:\n",
        "        return zero(n-1) + zero(n-2)\n",
        "  \n",
        "def one(n):\n",
        "    if n == 2:\n",
        "        return 1\n",
        "    elif n == 3:\n",
        "        return 2\n",
        "    else:\n",
        "        return one(n-1) + one(n-2)\n",
        "\n",
        "N = int(input())\n",
        "\n",
        "for i in range(N):\n",
        "    n = int(input())\n",
        "\n",
        "    if n == 0:\n",
        "        print(1,0)\n",
        "    elif n == 1:\n",
        "        print(0, 1)\n",
        "    else:\n",
        "        print(zero(n), one(n))"
      ],
      "execution_count": null,
      "outputs": []
    },
    {
      "cell_type": "code",
      "metadata": {
        "id": "j-QVEQbuuPFu"
      },
      "source": [
        "#피보나치 함수 => 리스트 생성, 정답\n",
        "\n",
        "fib_0 = [1, 0]\n",
        "fib_1 = [0, 1]\n",
        "\n",
        "for i in range(2, 41):\n",
        "    fib_0.append(fib_0[i-2]+fib_0[i-1])\n",
        "    fib_1.append(fib_1[i-2]+fib_1[i-1])\n",
        "\n",
        "N = int(input())\n",
        "for i in range(N):\n",
        "    n = int(input())\n",
        "    print(fib_0[n], fib_1[n])"
      ],
      "execution_count": null,
      "outputs": []
    }
  ]
}
