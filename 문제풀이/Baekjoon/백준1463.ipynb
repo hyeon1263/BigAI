{
  "nbformat": 4,
  "nbformat_minor": 0,
  "metadata": {
    "colab": {
      "name": "백준1463",
      "private_outputs": true,
      "provenance": [],
      "collapsed_sections": []
    },
    "kernelspec": {
      "name": "python3",
      "display_name": "Python 3"
    },
    "language_info": {
      "name": "python"
    }
  },
  "cells": [
    {
      "cell_type": "code",
      "metadata": {
        "id": "8z1cXNXVu4a-"
      },
      "source": [
        "# 1로 만들기\n",
        "\n",
        "N = int(input())\n",
        "arr = [0 for i in range(N+1)]\n",
        "\n",
        "for i in range(2, N+1):\n",
        "    arr[i] = arr[i-1] + 1\n",
        "\n",
        "    if (i % 2 == 0) and (arr[i] > arr[i//2] + 1):\n",
        "        arr[i] = arr[i//2] + 1\n",
        "\n",
        "    if (i % 3 == 0) and (arr[i] > arr[i//3] + 1):\n",
        "        arr[i] = arr[i//3] + 1\n",
        "\n",
        "print(arr[N])"
      ],
      "execution_count": null,
      "outputs": []
    },
    {
      "cell_type": "markdown",
      "metadata": {
        "id": "4aad_olaFrnC"
      },
      "source": [
        "1 - 1                          0\n",
        "\n",
        "\n",
        "2 - 1                          1\n",
        "\n",
        "\n",
        "3 - 1                          1\n",
        "\n",
        "\n",
        "4 - 2 - 1                      2\n",
        "\n",
        "\n",
        "5 - 4                         1+2 = 3\n",
        "\n",
        "\n",
        "6 - 2                         1+1 = 2\n",
        "\n",
        "\n",
        "7 - 6                         1+2 = 3\n",
        "\n",
        "\n",
        "8 - 4                         1+2 = 3\n",
        "\n",
        "\n",
        "9 - 3                         1+1 = 2\n",
        "\n",
        "\n",
        "10- 9                         1+2 = 3\n",
        "\n",
        "\n",
        "11- 10                        1+3 = 4\n",
        "\n",
        "\n",
        "12- 4                         1+2 = 3\n",
        "\n",
        "\n",
        "13- 12                        1+3 = 4\n",
        "\n",
        "\n",
        "14- 7                         1+3 = 4\n",
        "\n",
        "\n",
        "15- 5                         1+3 = 4\n",
        "\n",
        "\n",
        "16-8                          1+3 = 4\n",
        "\n",
        "\n",
        "17-16                         1+4 = 5\n",
        "\n",
        "\n",
        "18-6                          1+2 = 3\n",
        "\n",
        "\n",
        "19-18                         1+3 = 4\n",
        "\n",
        "\n",
        "20-10                         1+3 = 4\n",
        "\n",
        "\n",
        "21-7                          1+3 = 4\n",
        "\n",
        "\n",
        "22-11                         1+4 = 5\n",
        "\n",
        "\n",
        "28-14   5\n",
        "\n",
        "\n",
        "28-27-9-3-1 4"
      ]
    }
  ]
}