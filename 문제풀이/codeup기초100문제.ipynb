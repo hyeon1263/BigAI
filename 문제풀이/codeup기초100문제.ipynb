{
  "nbformat": 4,
  "nbformat_minor": 0,
  "metadata": {
    "colab": {
      "name": "codeup기초100문제",
      "private_outputs": true,
      "provenance": [],
      "collapsed_sections": []
    },
    "kernelspec": {
      "name": "python3",
      "display_name": "Python 3"
    }
  },
  "cells": [
    {
      "cell_type": "code",
      "metadata": {
        "id": "zJGUnZYfG3-n"
      },
      "source": [
        "# 6001\r\n",
        "print(\"Hello\")"
      ],
      "execution_count": null,
      "outputs": []
    },
    {
      "cell_type": "code",
      "metadata": {
        "id": "27PebfPgINHv"
      },
      "source": [
        "# 6002\r\n",
        "print(\"Hello World\")"
      ],
      "execution_count": null,
      "outputs": []
    },
    {
      "cell_type": "code",
      "metadata": {
        "id": "oXMrampWIUf3"
      },
      "source": [
        "# 6003\r\n",
        "print(\"Hello\\nWorld\")"
      ],
      "execution_count": null,
      "outputs": []
    },
    {
      "cell_type": "code",
      "metadata": {
        "id": "Wzipx0CUId3f"
      },
      "source": [
        "# 6004\r\n",
        "print(\"'Hello'\")"
      ],
      "execution_count": null,
      "outputs": []
    },
    {
      "cell_type": "code",
      "metadata": {
        "id": "oWYD9IVHIkij"
      },
      "source": [
        "# 6005\r\n",
        "print('\"Hello World\"')"
      ],
      "execution_count": null,
      "outputs": []
    },
    {
      "cell_type": "code",
      "metadata": {
        "id": "PWxy2HKBI1EU"
      },
      "source": [
        "# 6006\r\n",
        "print('\"!@#$%^&*()\"')"
      ],
      "execution_count": null,
      "outputs": []
    },
    {
      "cell_type": "code",
      "metadata": {
        "id": "jDipA6J9I8_z"
      },
      "source": [
        "# 6007\r\n",
        "print('\"C:\\Download\\hello.cpp\"')"
      ],
      "execution_count": null,
      "outputs": []
    },
    {
      "cell_type": "code",
      "metadata": {
        "id": "nfJddK7xJFfQ"
      },
      "source": [
        "# 6008\r\n",
        "print('print(\"Hello\\\\nWorld\")')"
      ],
      "execution_count": null,
      "outputs": []
    },
    {
      "cell_type": "code",
      "metadata": {
        "id": "l9wM_z9jJNim"
      },
      "source": [
        "# 6009\r\n",
        "n = input()\r\n",
        "print(n)"
      ],
      "execution_count": null,
      "outputs": []
    },
    {
      "cell_type": "code",
      "metadata": {
        "id": "64PVKbDNJUMa"
      },
      "source": [
        "# 6010\r\n",
        "c = input()\r\n",
        "print(c)"
      ],
      "execution_count": null,
      "outputs": []
    },
    {
      "cell_type": "code",
      "metadata": {
        "id": "B14t_6aBJdME"
      },
      "source": [
        "# 6011\r\n",
        "n =(input())\r\n",
        "print(n)"
      ],
      "execution_count": null,
      "outputs": []
    },
    {
      "cell_type": "code",
      "metadata": {
        "id": "wztE172hKG0C"
      },
      "source": [
        "# 6012\r\n",
        "a = input()\r\n",
        "b = input()\r\n",
        "print(a)\r\n",
        "print(b)"
      ],
      "execution_count": null,
      "outputs": []
    },
    {
      "cell_type": "code",
      "metadata": {
        "id": "qoYENYTvKQyr"
      },
      "source": [
        "# 6013\r\n",
        "a = input()\r\n",
        "b = input()\r\n",
        "print(b)\r\n",
        "print(a)"
      ],
      "execution_count": null,
      "outputs": []
    },
    {
      "cell_type": "code",
      "metadata": {
        "id": "iBdnIwRzKcBQ"
      },
      "source": [
        "#6014\r\n",
        "n = input()\r\n",
        "print(n)\r\n",
        "print(n)\r\n",
        "print(n)"
      ],
      "execution_count": null,
      "outputs": []
    },
    {
      "cell_type": "code",
      "metadata": {
        "id": "mL_S7Gyy3BYm"
      },
      "source": [
        "# 6015\r\n",
        "n, m = map(int, input().split())\r\n",
        "print(n)\r\n",
        "print(m)"
      ],
      "execution_count": null,
      "outputs": []
    },
    {
      "cell_type": "code",
      "metadata": {
        "id": "xsjNR9-y3JdT"
      },
      "source": [
        "# 6016\r\n",
        "a, b = map(str, input().split())\r\n",
        "print(b,a)"
      ],
      "execution_count": null,
      "outputs": []
    },
    {
      "cell_type": "code",
      "metadata": {
        "id": "zLcFmO8m3WJi"
      },
      "source": [
        "# 6017\r\n",
        "n = input()\r\n",
        "print(n,n,n)"
      ],
      "execution_count": null,
      "outputs": []
    },
    {
      "cell_type": "code",
      "metadata": {
        "id": "AWX7YJ6H3vT5"
      },
      "source": [
        "# 6018\r\n",
        "s, m = input().split(':')\r\n",
        "print(s, m, sep=':')"
      ],
      "execution_count": null,
      "outputs": []
    },
    {
      "cell_type": "code",
      "metadata": {
        "id": "SbLYJPBm4hAK"
      },
      "source": [
        "# 6019\r\n",
        "y, m, d = input().split('.')\r\n",
        "print(d, m, y, sep='-')"
      ],
      "execution_count": null,
      "outputs": []
    },
    {
      "cell_type": "code",
      "metadata": {
        "id": "zqwhLswM4vso"
      },
      "source": [
        "# 6020\r\n",
        "f, b = input().split('-')\r\n",
        "print(f,b, sep='')"
      ],
      "execution_count": null,
      "outputs": []
    },
    {
      "cell_type": "code",
      "metadata": {
        "id": "zYnQl6B24-5g"
      },
      "source": [
        "# 6021\r\n",
        "s = input()\r\n",
        "for i in s:\r\n",
        "    print(i)"
      ],
      "execution_count": null,
      "outputs": []
    },
    {
      "cell_type": "code",
      "metadata": {
        "id": "8ZcDqiGh5HeV"
      },
      "source": [
        "# 6022\r\n",
        "s = input()\r\n",
        "print(s[0:2], s[2:4], s[4:6])"
      ],
      "execution_count": null,
      "outputs": []
    },
    {
      "cell_type": "code",
      "metadata": {
        "id": "wSa6rjz85uIc"
      },
      "source": [
        "# 6023\r\n",
        "a, b, c = input().split(':')\r\n",
        "print(b)"
      ],
      "execution_count": null,
      "outputs": []
    },
    {
      "cell_type": "code",
      "metadata": {
        "id": "bGUgAmeT51Ne"
      },
      "source": [
        "# 6024\r\n",
        "a, b = input().split()\r\n",
        "print(a, b, sep='')"
      ],
      "execution_count": null,
      "outputs": []
    },
    {
      "cell_type": "code",
      "metadata": {
        "id": "YpgnoYKd6BDj"
      },
      "source": [
        "# 6025\r\n",
        "a, b = map(int, input().split())\r\n",
        "print(a+b)"
      ],
      "execution_count": null,
      "outputs": []
    },
    {
      "cell_type": "code",
      "metadata": {
        "id": "t2V5Lq2w6NBd"
      },
      "source": [
        "# 6026\r\n",
        "a = float(input())\r\n",
        "b = float(input())\r\n",
        "print(a+b)"
      ],
      "execution_count": null,
      "outputs": []
    },
    {
      "cell_type": "code",
      "metadata": {
        "id": "6XxkMdHeUTPW"
      },
      "source": [
        "# 6027\r\n",
        "n = int(input())\r\n",
        "print(\"%x\" %n)"
      ],
      "execution_count": null,
      "outputs": []
    },
    {
      "cell_type": "code",
      "metadata": {
        "id": "rQ20gi2fUpCb"
      },
      "source": [
        "# 6028\r\n",
        "n = int(input())\r\n",
        "print(\"%X\" %n)"
      ],
      "execution_count": null,
      "outputs": []
    },
    {
      "cell_type": "code",
      "metadata": {
        "id": "Nte_9nfeVBYT"
      },
      "source": [
        "# 6029\r\n",
        "a = int(input(), 16)\r\n",
        "print(\"%o\" %a)"
      ],
      "execution_count": null,
      "outputs": []
    },
    {
      "cell_type": "code",
      "metadata": {
        "id": "jwf18g38VZFl"
      },
      "source": [
        "# 6030\r\n",
        "n = ord(input()) # ord(c) : 문자 c를 10진수로 변환\r\n",
        "print(n)"
      ],
      "execution_count": null,
      "outputs": []
    },
    {
      "cell_type": "code",
      "metadata": {
        "id": "BetYLh2GVrXy"
      },
      "source": [
        "# 6031\r\n",
        "n = chr(int(input())) # chr(n) : 정수 n을 유니코드 문자로 변환\r\n",
        "print(n)"
      ],
      "execution_count": null,
      "outputs": []
    },
    {
      "cell_type": "code",
      "metadata": {
        "id": "sfOvfjrPV7AK"
      },
      "source": [
        "# 6032\r\n",
        "n = int(input())\r\n",
        "print(-n)"
      ],
      "execution_count": null,
      "outputs": []
    },
    {
      "cell_type": "code",
      "metadata": {
        "id": "xEOqqtgIWPBp"
      },
      "source": [
        "# 6033\r\n",
        "c = ord(input())\r\n",
        "print(chr(c+1))"
      ],
      "execution_count": null,
      "outputs": []
    },
    {
      "cell_type": "code",
      "metadata": {
        "id": "YJVG1JLBWgl2"
      },
      "source": [
        "# 6034\r\n",
        "a, b = map(int, input().split())\r\n",
        "print(a - b)"
      ],
      "execution_count": null,
      "outputs": []
    },
    {
      "cell_type": "code",
      "metadata": {
        "id": "9IbEaxIOXFEk"
      },
      "source": [
        "# 6035\r\n",
        "a, b = map(float, input().split())\r\n",
        "print(a*b)"
      ],
      "execution_count": null,
      "outputs": []
    },
    {
      "cell_type": "code",
      "metadata": {
        "id": "A6WDSmH7XhKo"
      },
      "source": [
        "# 6036\r\n",
        "c, n = input().split()\r\n",
        "for i in range(int(n)):\r\n",
        "    print(c, end='')"
      ],
      "execution_count": null,
      "outputs": []
    },
    {
      "cell_type": "code",
      "metadata": {
        "id": "unwQSTduYPxi"
      },
      "source": [
        "# 6037\r\n",
        "n = int(input())\r\n",
        "c = input()\r\n",
        "print(c*n)"
      ],
      "execution_count": null,
      "outputs": []
    },
    {
      "cell_type": "code",
      "metadata": {
        "id": "5obtkEJhYfUd"
      },
      "source": [
        "# 6038\r\n",
        "a, b = map(int, input().split())\r\n",
        "print(a**b)"
      ],
      "execution_count": null,
      "outputs": []
    },
    {
      "cell_type": "code",
      "metadata": {
        "id": "_l1_6BFAYo09"
      },
      "source": [
        "# 6039\r\n",
        "a, b = map(float, input().split())\r\n",
        "print(a**b)"
      ],
      "execution_count": null,
      "outputs": []
    },
    {
      "cell_type": "code",
      "metadata": {
        "id": "3YG_CJpEY1D3"
      },
      "source": [
        "# 6040\r\n",
        "a, b = map(int, input().split())\r\n",
        "print(a//b)"
      ],
      "execution_count": null,
      "outputs": []
    },
    {
      "cell_type": "code",
      "metadata": {
        "id": "AMO97NBCZeEM"
      },
      "source": [
        "# 6041\r\n",
        "a, b = map(int, input().split())\r\n",
        "print(a%b)"
      ],
      "execution_count": null,
      "outputs": []
    },
    {
      "cell_type": "code",
      "metadata": {
        "id": "Lfgfor9tZnig"
      },
      "source": [
        "# 6042\r\n",
        "n = float(input())\r\n",
        "print(round(n, 2))"
      ],
      "execution_count": null,
      "outputs": []
    },
    {
      "cell_type": "code",
      "metadata": {
        "id": "Ez1HM0X2ZzAP"
      },
      "source": [
        "# 6043\r\n",
        "a, b = map(float, input().split())\r\n",
        "print(\"%.3f\" %(a/b))"
      ],
      "execution_count": null,
      "outputs": []
    },
    {
      "cell_type": "code",
      "metadata": {
        "id": "3bexyh2paM1j"
      },
      "source": [
        "# 6044\r\n",
        "a, b = map(int, input().split())\r\n",
        "print(a+b)\r\n",
        "print(a-b)\r\n",
        "print(a*b)\r\n",
        "print(a//b)\r\n",
        "print(a%b)\r\n",
        "print(round(a/b, 2))"
      ],
      "execution_count": null,
      "outputs": []
    },
    {
      "cell_type": "code",
      "metadata": {
        "id": "iSLTL3uFau5t"
      },
      "source": [
        "# 6045\r\n",
        "a, b, c = map(int, input().split())\r\n",
        "print(a+b+c, round((a+b+c)/3, 2))"
      ],
      "execution_count": null,
      "outputs": []
    },
    {
      "cell_type": "code",
      "metadata": {
        "id": "App4fdOzb7uR"
      },
      "source": [
        "# 6046\r\n",
        "n = int(input())\r\n",
        "print(n<<1)"
      ],
      "execution_count": null,
      "outputs": []
    },
    {
      "cell_type": "code",
      "metadata": {
        "id": "XzlGv2Kgv_u3"
      },
      "source": [
        "# 6047\r\n",
        "a, b = map(int, input().split())\r\n",
        "print(a<<b)"
      ],
      "execution_count": null,
      "outputs": []
    },
    {
      "cell_type": "code",
      "metadata": {
        "id": "SEMR5MpLwUeM"
      },
      "source": [
        "# 6048\r\n",
        "a, b = map(int, input().split())\r\n",
        "print(a<b)"
      ],
      "execution_count": null,
      "outputs": []
    },
    {
      "cell_type": "code",
      "metadata": {
        "id": "7hYgn3Djwp4h"
      },
      "source": [
        "# 6049\r\n",
        "a, b = map(int, input().split())\r\n",
        "print(a==b)"
      ],
      "execution_count": null,
      "outputs": []
    },
    {
      "cell_type": "code",
      "metadata": {
        "id": "lBhwizZ-laO2"
      },
      "source": [
        "# 6050\r\n",
        "a, b = map(int, input().split())\r\n",
        "print(a<=b)"
      ],
      "execution_count": null,
      "outputs": []
    },
    {
      "cell_type": "code",
      "metadata": {
        "id": "WsCRXUSnljBW"
      },
      "source": [
        "# 6051\r\n",
        "a, b = map(int, input().split())\r\n",
        "print(a!=b)"
      ],
      "execution_count": null,
      "outputs": []
    },
    {
      "cell_type": "code",
      "metadata": {
        "id": "GW8yjualkMQH"
      },
      "source": [
        "# 6052\r\n",
        "n = int(input())\r\n",
        "print(n != 0)"
      ],
      "execution_count": null,
      "outputs": []
    },
    {
      "cell_type": "code",
      "metadata": {
        "id": "BrzGeHxxka7a"
      },
      "source": [
        "# 6053\r\n",
        "n = int(input())\r\n",
        "print(not bool(n))"
      ],
      "execution_count": null,
      "outputs": []
    },
    {
      "cell_type": "code",
      "metadata": {
        "id": "0PSkgieomGA6"
      },
      "source": [
        "# 6054\r\n",
        "a, b = map(int, input().split())\r\n",
        "print(bool(a) and bool(b))"
      ],
      "execution_count": null,
      "outputs": []
    },
    {
      "cell_type": "code",
      "metadata": {
        "id": "4tUsyGlZmVsf"
      },
      "source": [
        "# 6055\r\n",
        "a, b = map(int, input().split())\r\n",
        "print(bool(a) or bool(b))"
      ],
      "execution_count": null,
      "outputs": []
    },
    {
      "cell_type": "code",
      "metadata": {
        "id": "8e9aJkQamiF_"
      },
      "source": [
        "# 6056\r\n",
        "a, b = map(int, input().split())\r\n",
        "print(bool(a)!=bool(b))"
      ],
      "execution_count": null,
      "outputs": []
    },
    {
      "cell_type": "code",
      "metadata": {
        "id": "q9gXGv_un15u"
      },
      "source": [
        "# 6057\r\n",
        "a, b = map(int, input().split())\r\n",
        "print(bool(a)==bool(b))"
      ],
      "execution_count": null,
      "outputs": []
    },
    {
      "cell_type": "code",
      "metadata": {
        "id": "P-f7PwRln5ot"
      },
      "source": [
        "# 6058\r\n",
        "a, b = map(int, input().split())\r\n",
        "print(not(bool(a) or bool(b)))"
      ],
      "execution_count": null,
      "outputs": []
    },
    {
      "cell_type": "code",
      "metadata": {
        "id": "BkTtN9UioNwu"
      },
      "source": [
        "# 6059\r\n",
        "n = int(input())\r\n",
        "print(~n)"
      ],
      "execution_count": null,
      "outputs": []
    },
    {
      "cell_type": "code",
      "metadata": {
        "id": "IA8-Aiuzqgwa"
      },
      "source": [
        "# 6060\r\n",
        "a, b = map(int, input().split())\r\n",
        "print(a&b) # & : and (둘 다 1이면 1)"
      ],
      "execution_count": null,
      "outputs": []
    },
    {
      "cell_type": "code",
      "metadata": {
        "id": "ctwC4kehraS9"
      },
      "source": [
        "# 6061\r\n",
        "a, b = map(int, input().split())\r\n",
        "print(a|b) # | : or (하나라도 1이면 1)"
      ],
      "execution_count": null,
      "outputs": []
    },
    {
      "cell_type": "code",
      "metadata": {
        "id": "GlHzjvEmsQk7"
      },
      "source": [
        "# 6062\r\n",
        "a, b = map(int, input().split())\r\n",
        "print(a^b) # ^ : xor (다르면 1, 같으면 0) "
      ],
      "execution_count": null,
      "outputs": []
    },
    {
      "cell_type": "code",
      "metadata": {
        "id": "UO5a7beFtuHR"
      },
      "source": [
        "# 6063\r\n",
        "a, b = map(int, input().split())\r\n",
        "print(max(a,b))"
      ],
      "execution_count": null,
      "outputs": []
    },
    {
      "cell_type": "code",
      "metadata": {
        "id": "bglduRAHt7tc"
      },
      "source": [
        "# 6064\r\n",
        "a, b, c = map(int, input().split())\r\n",
        "print(min(a,b,c))"
      ],
      "execution_count": null,
      "outputs": []
    },
    {
      "cell_type": "code",
      "metadata": {
        "id": "cHaH11r8uCbz"
      },
      "source": [
        "# 6065\r\n",
        "a, b, c = map(int, input().split())\r\n",
        "if a%2 == 0:\r\n",
        "    print(a)\r\n",
        "if b%2 == 0:\r\n",
        "    print(b)\r\n",
        "if c%2 == 0:\r\n",
        "    print(c)"
      ],
      "execution_count": null,
      "outputs": []
    },
    {
      "cell_type": "code",
      "metadata": {
        "id": "UGrm3ECzv4uD"
      },
      "source": [
        "# 6066\r\n",
        "a, b, c = map(int, input().split())\r\n",
        "mylist = [a,b,c]\r\n",
        "for i in mylist:\r\n",
        "    if i%2 == 0:\r\n",
        "        print('even')\r\n",
        "    else:\r\n",
        "        print('odd')"
      ],
      "execution_count": null,
      "outputs": []
    },
    {
      "cell_type": "code",
      "metadata": {
        "id": "9HuZP9gHxRvi"
      },
      "source": [
        "# 6067\r\n",
        "n = int(input())\r\n",
        "if n < 0:\r\n",
        "    if n % 2 == 0:\r\n",
        "        print('A')\r\n",
        "    else:\r\n",
        "        print('B')\r\n",
        "else:\r\n",
        "    if n % 2 == 0:\r\n",
        "        print('C')\r\n",
        "    else:\r\n",
        "        print('D')"
      ],
      "execution_count": null,
      "outputs": []
    },
    {
      "cell_type": "code",
      "metadata": {
        "id": "WhXx8BEw0XR4"
      },
      "source": [
        "# 6068\r\n",
        "n = int(input())\r\n",
        "if n >= 90:\r\n",
        "    print('A')\r\n",
        "elif n >= 70:\r\n",
        "    print('B')\r\n",
        "elif n >= 40:\r\n",
        "    print('C')\r\n",
        "else:\r\n",
        "    print('D')"
      ],
      "execution_count": null,
      "outputs": []
    },
    {
      "cell_type": "code",
      "metadata": {
        "id": "zCng35Ln184C"
      },
      "source": [
        "# 6069\r\n",
        "s = input()\r\n",
        "if s == 'A':\r\n",
        "    print('best!!!')\r\n",
        "elif s == 'B':\r\n",
        "    print('good!!')\r\n",
        "elif s == 'C':\r\n",
        "    print('run!')\r\n",
        "elif s == 'D':\r\n",
        "    print('slowly~')\r\n",
        "else:\r\n",
        "    print('what?')"
      ],
      "execution_count": null,
      "outputs": []
    },
    {
      "cell_type": "code",
      "metadata": {
        "id": "Fvt4-rl62x8h"
      },
      "source": [
        "# 6070\r\n",
        "n = int(input())\r\n",
        "if n>=3 and n<=5:\r\n",
        "    print('spring')\r\n",
        "elif n>=6 and n<=8:\r\n",
        "    print('summer')\r\n",
        "elif n>=9 and n<=11:\r\n",
        "    print('fall')\r\n",
        "else:\r\n",
        "    print('winter')"
      ],
      "execution_count": null,
      "outputs": []
    },
    {
      "cell_type": "code",
      "metadata": {
        "id": "noMMNKaF3q93"
      },
      "source": [
        "# 6071\r\n",
        "while True:\r\n",
        "    n = int(input())\r\n",
        "    if n == 0:\r\n",
        "        break\r\n",
        "    print(n)"
      ],
      "execution_count": null,
      "outputs": []
    },
    {
      "cell_type": "code",
      "metadata": {
        "id": "wW71X6-E798g"
      },
      "source": [
        "# 6072\r\n",
        "n = int(input())\r\n",
        "for i in range(n,0,-1):\r\n",
        "    print(i)"
      ],
      "execution_count": null,
      "outputs": []
    },
    {
      "cell_type": "code",
      "metadata": {
        "id": "y8NEiFHN8ZSM"
      },
      "source": [
        "# 6073\r\n",
        "n = int(input())\r\n",
        "for i in range(n-1,-1,-1):\r\n",
        "    print(i)"
      ],
      "execution_count": null,
      "outputs": []
    },
    {
      "cell_type": "code",
      "metadata": {
        "id": "RcYiwCvP8k03"
      },
      "source": [
        "# 6074\r\n",
        "ord('a')\r\n",
        "s = input()\r\n",
        "for i in range(ord('a'), ord(s)+1):\r\n",
        "    print(chr(i), end = ' ')"
      ],
      "execution_count": null,
      "outputs": []
    },
    {
      "cell_type": "code",
      "metadata": {
        "id": "a8IkcjPQ9iew"
      },
      "source": [
        "# 6075\r\n",
        "n = int(input())\r\n",
        "for i in range(n+1):\r\n",
        "    print(i)"
      ],
      "execution_count": null,
      "outputs": []
    },
    {
      "cell_type": "code",
      "metadata": {
        "id": "6lGpQ19-904k"
      },
      "source": [
        "# 6076\r\n",
        "n = int(input())\r\n",
        "for i in range(n+1):\r\n",
        "    print(i)"
      ],
      "execution_count": null,
      "outputs": []
    },
    {
      "cell_type": "code",
      "metadata": {
        "id": "zREIbhMV-EWd"
      },
      "source": [
        "# 6077\r\n",
        "n = int(input())\r\n",
        "sum = 0\r\n",
        "for i in range(2,n+1, 2):\r\n",
        "    sum += i\r\n",
        "print(sum)"
      ],
      "execution_count": null,
      "outputs": []
    },
    {
      "cell_type": "code",
      "metadata": {
        "id": "faNphu3v-luN"
      },
      "source": [
        "# 6078\r\n",
        "while 1:\r\n",
        "    s = input()\r\n",
        "    print(s)\r\n",
        "    if s == 'q':\r\n",
        "        break"
      ],
      "execution_count": null,
      "outputs": []
    },
    {
      "cell_type": "code",
      "metadata": {
        "id": "Hfm1JIic-91K"
      },
      "source": [
        "# 6079\r\n",
        "n = int(input())\r\n",
        "sum = 0\r\n",
        "i = 0\r\n",
        "while 1:\r\n",
        "    sum += i\r\n",
        "    if sum >= n:\r\n",
        "        break\r\n",
        "    i += 1\r\n",
        "print(i)"
      ],
      "execution_count": null,
      "outputs": []
    },
    {
      "cell_type": "code",
      "metadata": {
        "id": "ddlPzqcVCd8v"
      },
      "source": [
        "# 6080\r\n",
        "n, m = map(int, input().split())\r\n",
        "for i in range(1, n+1):\r\n",
        "    for j in range(1, m+1):\r\n",
        "        print(i,j)"
      ],
      "execution_count": null,
      "outputs": []
    },
    {
      "cell_type": "code",
      "metadata": {
        "id": "jSggEmlx-Vie"
      },
      "source": [
        "# 6081\r\n",
        "n = int(input(), 16)\r\n",
        "for i in range(1, 16):\r\n",
        "    print('%X*%X=%X' %(n, i, n*i))"
      ],
      "execution_count": null,
      "outputs": []
    },
    {
      "cell_type": "code",
      "metadata": {
        "id": "dG2Vok_x_zcg"
      },
      "source": [
        "# 6082\r\n",
        "n = int(input())\r\n",
        "for i in range(1,n+1):\r\n",
        "    if i%10 in (3, 6, 9):\r\n",
        "        print('X', end=' ')\r\n",
        "    else:\r\n",
        "        print(i, end=' ')"
      ],
      "execution_count": null,
      "outputs": []
    },
    {
      "cell_type": "code",
      "metadata": {
        "id": "MUfV2AQCBLKb"
      },
      "source": [
        "# 6083\r\n",
        "r, g, b = map(int, input().split())\r\n",
        "cnt = 0\r\n",
        "for i in range(r):\r\n",
        "    for j in range(g):\r\n",
        "        for k in range(b):\r\n",
        "            print(i,j,k)\r\n",
        "            cnt += 1\r\n",
        "print(cnt)"
      ],
      "execution_count": null,
      "outputs": []
    },
    {
      "cell_type": "code",
      "metadata": {
        "id": "mnEfqzKKBscB"
      },
      "source": [
        "# 6084\r\n",
        "h, b, c, s = map(int, input().split())\r\n",
        "print('{} MB'.format(round(h*b*c*s/8/1024/1024, 1)))"
      ],
      "execution_count": null,
      "outputs": []
    },
    {
      "cell_type": "code",
      "metadata": {
        "id": "9c6rIBJMGtRk"
      },
      "source": [
        "# 6085\r\n",
        "w, h, b = map(int, input().split())\r\n",
        "print('%.2f MB' %(w*h*b/8/1024/1024))"
      ],
      "execution_count": null,
      "outputs": []
    },
    {
      "cell_type": "code",
      "metadata": {
        "id": "udUERXxQH0x_"
      },
      "source": [
        "# 6086\r\n",
        "n = int(input())\r\n",
        "sum = 0\r\n",
        "i = 0\r\n",
        "while 1:\r\n",
        "    sum += i\r\n",
        "    i += 1\r\n",
        "    if sum >= n:\r\n",
        "        break\r\n",
        "print(sum)"
      ],
      "execution_count": null,
      "outputs": []
    },
    {
      "cell_type": "code",
      "metadata": {
        "id": "tVRIT2GpIUgA"
      },
      "source": [
        "# 6087\r\n",
        "n = int(input())\r\n",
        "for i in range(1, n+1):\r\n",
        "    if i % 3 == 0:\r\n",
        "        continue\r\n",
        "    else:\r\n",
        "        print(i, end=' ')"
      ],
      "execution_count": null,
      "outputs": []
    },
    {
      "cell_type": "code",
      "metadata": {
        "id": "dTkOILQOKA_i"
      },
      "source": [
        "# 6088\r\n",
        "a, d, n = map(int, input().split())\r\n",
        "i = a\r\n",
        "cnt = 1\r\n",
        "while 1:\r\n",
        "    i += d\r\n",
        "    cnt += 1\r\n",
        "    if cnt == n:\r\n",
        "        break\r\n",
        "print(i)"
      ],
      "execution_count": null,
      "outputs": []
    },
    {
      "cell_type": "code",
      "metadata": {
        "id": "uw-XKdXHMbfC"
      },
      "source": [
        "# 6089\r\n",
        "a, r, n = map(int, input().split())\r\n",
        "i = a\r\n",
        "cnt = 1\r\n",
        "while 1:\r\n",
        "    i *= r\r\n",
        "    cnt += 1\r\n",
        "    if cnt == n:\r\n",
        "        break\r\n",
        "print(i)"
      ],
      "execution_count": null,
      "outputs": []
    },
    {
      "cell_type": "code",
      "metadata": {
        "id": "llJGyUECMpDe"
      },
      "source": [
        "# 6090\r\n",
        "a, r, d, n = map(int, input().split())\r\n",
        "cnt = 1\r\n",
        "while cnt != n:\r\n",
        "    a = a*r+d\r\n",
        "    cnt += 1\r\n",
        "print(a)"
      ],
      "execution_count": null,
      "outputs": []
    },
    {
      "cell_type": "code",
      "metadata": {
        "id": "d-CJpR3l4y1u"
      },
      "source": [
        "# 6091\r\n",
        "a, b, c = map(int, input().split())\r\n",
        "d = 1\r\n",
        "while d%a != 0 or d%b != 0 or d%c != 0:\r\n",
        "    d += 1\r\n",
        "print(d)"
      ],
      "execution_count": null,
      "outputs": []
    },
    {
      "cell_type": "code",
      "metadata": {
        "id": "04hvxaQC7YhG"
      },
      "source": [
        "# 6092\r\n",
        "n = int(input())\r\n",
        "d = [0]*23\r\n",
        "a = list(map(int, input().split()))\r\n",
        "for i in range(n):\r\n",
        "    d[a[i]-1] += 1\r\n",
        "for i in d:\r\n",
        "    print(i, end=' ')"
      ],
      "execution_count": null,
      "outputs": []
    },
    {
      "cell_type": "code",
      "metadata": {
        "id": "4T4kQpTQ-YiV"
      },
      "source": [
        "# 6093\r\n",
        "n = int(input())\r\n",
        "d = list(map(int, input().split()))\r\n",
        "for i in range(1, n+1):\r\n",
        "    print(d[-i], end=' ')"
      ],
      "execution_count": null,
      "outputs": []
    },
    {
      "cell_type": "code",
      "metadata": {
        "id": "r8f9JCZG_HGM"
      },
      "source": [
        "# 6094\r\n",
        "n = int(input())\r\n",
        "d = list(map(int, input().split()))\r\n",
        "print(min(d))"
      ],
      "execution_count": null,
      "outputs": []
    },
    {
      "cell_type": "code",
      "metadata": {
        "id": "j305-tZb_bZm"
      },
      "source": [
        "# 6095\r\n",
        "n = int(input())\r\n",
        "#d=[[0]*20]*20\r\n",
        "d = [[0 for x in range(19)] for x in range(19)]\r\n",
        "\r\n",
        "for i in range(n):\r\n",
        "    r, c = map(int, input().split())\r\n",
        "    d[r-1][c-1] = 1\r\n",
        "\r\n",
        "for i in d:\r\n",
        "    for j in i:\r\n",
        "        print(j, end=' ')\r\n",
        "    print()"
      ],
      "execution_count": null,
      "outputs": []
    },
    {
      "cell_type": "code",
      "metadata": {
        "id": "Zo2zYSg7yWvv"
      },
      "source": [
        "[[0]*20]*20 == [[0 for x in range(20)] for x in range(20)]\r\n",
        "??????????????????????????????????????????????????????????????????????????"
      ],
      "execution_count": null,
      "outputs": []
    },
    {
      "cell_type": "code",
      "metadata": {
        "id": "7IgJTULV-cDY"
      },
      "source": [
        "# 6096\r\n",
        "b = []\r\n",
        "for i in range(19):\r\n",
        "    a = list(map(int, input().split()))\r\n",
        "    b.append(a)\r\n",
        "n = int(input())\r\n",
        "for i in range(n):\r\n",
        "    x, y = map(int, input().split())\r\n",
        "    for j in range(19):\r\n",
        "        if b[j][y-1] == 0:\r\n",
        "            b[j][y-1] = 1\r\n",
        "        else:\r\n",
        "            b[j][y-1] = 0\r\n",
        "        if b[x-1][j] == 0:\r\n",
        "            b[x-1][j] = 1\r\n",
        "        else:\r\n",
        "            b[x-1][j] = 0\r\n",
        "for i in b:\r\n",
        "    for j in i:\r\n",
        "        print(j, end=' ')\r\n",
        "    print()"
      ],
      "execution_count": null,
      "outputs": []
    },
    {
      "cell_type": "code",
      "metadata": {
        "id": "H-Rb_44GGO_c"
      },
      "source": [
        "# 6097\r\n",
        "h, w = map(int, input().split())\r\n",
        "#k = [[0]*w]*h?????????????????????\r\n",
        "k = [[0 for x in range(w)] for x in range(h)]\r\n",
        "n = int(input())\r\n",
        "for i in range(n):\r\n",
        "    l, d, x, y = map(int, input().split())\r\n",
        "    if d == 0:\r\n",
        "        for j in range(l):\r\n",
        "            k[x-1][y-1+j] = 1\r\n",
        "    else:\r\n",
        "        for m in range(l):\r\n",
        "            k[x-1+m][y-1] = 1\r\n",
        "for i in k:\r\n",
        "    for j in i:\r\n",
        "        print(j, end=' ')\r\n",
        "    print()"
      ],
      "execution_count": null,
      "outputs": []
    },
    {
      "cell_type": "code",
      "metadata": {
        "id": "j8w5ewg00BG8"
      },
      "source": [
        "# 6098\r\n",
        "a = []\r\n",
        "for i in range(10):\r\n",
        "    b = list(map(int, input().split()))\r\n",
        "    a.append(b)\r\n",
        "x,y = 1,1 \r\n",
        "while 1:\r\n",
        "    a[x][y] = 9\r\n",
        "    if (a[x][y+1] == 1) and (a[x+1][y] == 1):\r\n",
        "        break\r\n",
        "    elif (a[x][y+1] == 1) and (a[x+1][y] == 0):\r\n",
        "        x += 1\r\n",
        "    elif a[x][y+1] == 0:\r\n",
        "        y += 1\r\n",
        "    elif a[x][y+1] == 2:\r\n",
        "        a[x][y+1] = 9\r\n",
        "        break\r\n",
        "    elif a[x+1][y] ==2:\r\n",
        "        a[x+1][y] = 9\r\n",
        "        break\r\n",
        "    else:\r\n",
        "        break\r\n",
        "\r\n",
        "for i in a:\r\n",
        "    for j in i:\r\n",
        "        print(j, end=' ')\r\n",
        "    print()"
      ],
      "execution_count": null,
      "outputs": []
    }
  ]
}