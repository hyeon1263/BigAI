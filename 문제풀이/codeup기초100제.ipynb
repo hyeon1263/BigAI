{
  "nbformat": 4,
  "nbformat_minor": 0,
  "metadata": {
    "colab": {
      "name": "codeup기초100제.ipynb",
      "private_outputs": true,
      "provenance": [],
      "collapsed_sections": []
    },
    "kernelspec": {
      "name": "python3",
      "display_name": "Python 3"
    }
  },
  "cells": [
    {
      "cell_type": "code",
      "metadata": {
        "id": "zJGUnZYfG3-n"
      },
      "source": [
        "# 6001\r\n",
        "print(\"Hello\")"
      ],
      "execution_count": null,
      "outputs": []
    },
    {
      "cell_type": "code",
      "metadata": {
        "id": "27PebfPgINHv"
      },
      "source": [
        "# 6002\r\n",
        "print(\"Hello World\")"
      ],
      "execution_count": null,
      "outputs": []
    },
    {
      "cell_type": "code",
      "metadata": {
        "id": "oXMrampWIUf3"
      },
      "source": [
        "# 6003\r\n",
        "print(\"Hello\\nWorld\")"
      ],
      "execution_count": null,
      "outputs": []
    },
    {
      "cell_type": "code",
      "metadata": {
        "id": "Wzipx0CUId3f"
      },
      "source": [
        "# 6004\r\n",
        "print(\"'Hello'\")"
      ],
      "execution_count": null,
      "outputs": []
    },
    {
      "cell_type": "code",
      "metadata": {
        "id": "oWYD9IVHIkij"
      },
      "source": [
        "# 6005\r\n",
        "print('\"Hello World\"')"
      ],
      "execution_count": null,
      "outputs": []
    },
    {
      "cell_type": "code",
      "metadata": {
        "id": "PWxy2HKBI1EU"
      },
      "source": [
        "# 6006\r\n",
        "print('\"!@#$%^&*()\"')"
      ],
      "execution_count": null,
      "outputs": []
    },
    {
      "cell_type": "code",
      "metadata": {
        "id": "jDipA6J9I8_z"
      },
      "source": [
        "# 6007\r\n",
        "print('\"C:\\Download\\hello.cpp\"')"
      ],
      "execution_count": null,
      "outputs": []
    },
    {
      "cell_type": "code",
      "metadata": {
        "id": "nfJddK7xJFfQ"
      },
      "source": [
        "# 6008\r\n",
        "print('print(\"Hello\\\\nWorld\")')"
      ],
      "execution_count": null,
      "outputs": []
    },
    {
      "cell_type": "code",
      "metadata": {
        "id": "l9wM_z9jJNim"
      },
      "source": [
        "# 6009\r\n",
        "n = input()\r\n",
        "print(n)"
      ],
      "execution_count": null,
      "outputs": []
    },
    {
      "cell_type": "code",
      "metadata": {
        "id": "64PVKbDNJUMa"
      },
      "source": [
        "# 6010\r\n",
        "c = input()\r\n",
        "print(c)"
      ],
      "execution_count": null,
      "outputs": []
    },
    {
      "cell_type": "code",
      "metadata": {
        "id": "B14t_6aBJdME"
      },
      "source": [
        "# 6011\r\n",
        "n =(input())\r\n",
        "print(n)"
      ],
      "execution_count": null,
      "outputs": []
    },
    {
      "cell_type": "code",
      "metadata": {
        "id": "wztE172hKG0C"
      },
      "source": [
        "# 6012\r\n",
        "a = input()\r\n",
        "b = input()\r\n",
        "print(a)\r\n",
        "print(b)"
      ],
      "execution_count": null,
      "outputs": []
    },
    {
      "cell_type": "code",
      "metadata": {
        "id": "qoYENYTvKQyr"
      },
      "source": [
        "# 6013\r\n",
        "a = input()\r\n",
        "b = input()\r\n",
        "print(b)\r\n",
        "print(a)"
      ],
      "execution_count": null,
      "outputs": []
    },
    {
      "cell_type": "code",
      "metadata": {
        "id": "iBdnIwRzKcBQ"
      },
      "source": [
        "#6014\r\n",
        "n = input()\r\n",
        "print(n)\r\n",
        "print(n)\r\n",
        "print(n)"
      ],
      "execution_count": null,
      "outputs": []
    },
    {
      "cell_type": "code",
      "metadata": {
        "id": "mL_S7Gyy3BYm"
      },
      "source": [
        "# 6015\r\n",
        "n, m = map(int, input().split())\r\n",
        "print(n)\r\n",
        "print(m)"
      ],
      "execution_count": null,
      "outputs": []
    },
    {
      "cell_type": "code",
      "metadata": {
        "id": "xsjNR9-y3JdT"
      },
      "source": [
        "# 6016\r\n",
        "a, b = map(str, input().split())\r\n",
        "print(b,a)"
      ],
      "execution_count": null,
      "outputs": []
    },
    {
      "cell_type": "code",
      "metadata": {
        "id": "zLcFmO8m3WJi"
      },
      "source": [
        "# 6017\r\n",
        "n = input()\r\n",
        "print(n,n,n)"
      ],
      "execution_count": null,
      "outputs": []
    },
    {
      "cell_type": "code",
      "metadata": {
        "id": "AWX7YJ6H3vT5"
      },
      "source": [
        "# 6018\r\n",
        "s, m = input().split(':')\r\n",
        "print(s, m, sep=':')"
      ],
      "execution_count": null,
      "outputs": []
    },
    {
      "cell_type": "code",
      "metadata": {
        "id": "SbLYJPBm4hAK"
      },
      "source": [
        "# 6019\r\n",
        "y, m, d = input().split('.')\r\n",
        "print(d, m, y, sep='-')"
      ],
      "execution_count": null,
      "outputs": []
    },
    {
      "cell_type": "code",
      "metadata": {
        "id": "zqwhLswM4vso"
      },
      "source": [
        "# 6020\r\n",
        "f, b = input().split('-')\r\n",
        "print(f,b, sep='')"
      ],
      "execution_count": null,
      "outputs": []
    },
    {
      "cell_type": "code",
      "metadata": {
        "id": "zYnQl6B24-5g"
      },
      "source": [
        "# 6021\r\n",
        "s = input()\r\n",
        "for i in s:\r\n",
        "    print(i)"
      ],
      "execution_count": null,
      "outputs": []
    },
    {
      "cell_type": "code",
      "metadata": {
        "id": "8ZcDqiGh5HeV"
      },
      "source": [
        "# 6022\r\n",
        "s = input()\r\n",
        "print(s[0:2], s[2:4], s[4:6])"
      ],
      "execution_count": null,
      "outputs": []
    },
    {
      "cell_type": "code",
      "metadata": {
        "id": "wSa6rjz85uIc"
      },
      "source": [
        "# 6023\r\n",
        "a, b, c = input().split(':')\r\n",
        "print(b)"
      ],
      "execution_count": null,
      "outputs": []
    },
    {
      "cell_type": "code",
      "metadata": {
        "id": "bGUgAmeT51Ne"
      },
      "source": [
        "# 6024\r\n",
        "a, b = input().split()\r\n",
        "print(a, b, sep='')"
      ],
      "execution_count": null,
      "outputs": []
    },
    {
      "cell_type": "code",
      "metadata": {
        "id": "YpgnoYKd6BDj"
      },
      "source": [
        "# 6025\r\n",
        "a, b = map(int, input().split())\r\n",
        "print(a+b)"
      ],
      "execution_count": null,
      "outputs": []
    },
    {
      "cell_type": "code",
      "metadata": {
        "id": "t2V5Lq2w6NBd"
      },
      "source": [
        ""
      ],
      "execution_count": null,
      "outputs": []
    }
  ]
}