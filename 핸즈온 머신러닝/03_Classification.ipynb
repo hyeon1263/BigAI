{
  "nbformat": 4,
  "nbformat_minor": 0,
  "metadata": {
    "colab": {
      "name": "03_Classification",
      "provenance": []
    },
    "kernelspec": {
      "name": "python3",
      "display_name": "Python 3"
    },
    "language_info": {
      "name": "python"
    }
  },
  "cells": [
    {
      "cell_type": "markdown",
      "metadata": {
        "id": "3iHbI8uaiij0"
      },
      "source": [
        "# Chapter03 분류"
      ]
    },
    {
      "cell_type": "code",
      "metadata": {
        "id": "v2LDVS60gUnc"
      },
      "source": [
        "import numpy as np\n",
        "import matplotlib as mlp\n",
        "import matplotlib.pyplot as plt\n",
        "import pandas as pd"
      ],
      "execution_count": 16,
      "outputs": []
    },
    {
      "cell_type": "markdown",
      "metadata": {
        "id": "FH8_3PjYis9a"
      },
      "source": [
        "MNIST 데이터셋"
      ]
    },
    {
      "cell_type": "code",
      "metadata": {
        "colab": {
          "base_uri": "https://localhost:8080/"
        },
        "id": "-FRRMPvOiWQ6",
        "outputId": "1ed348fc-9f2e-49fb-b133-edbdefc50836"
      },
      "source": [
        "# MNIST 데이터셋을 내려받는 코드\n",
        "\n",
        "from sklearn.datasets import fetch_openml\n",
        "mnist = fetch_openml('mnist_784', version=1)\n",
        "mnist.keys()"
      ],
      "execution_count": 17,
      "outputs": [
        {
          "output_type": "execute_result",
          "data": {
            "text/plain": [
              "dict_keys(['data', 'target', 'frame', 'feature_names', 'target_names', 'DESCR', 'details', 'categories', 'url'])"
            ]
          },
          "metadata": {
            "tags": []
          },
          "execution_count": 17
        }
      ]
    },
    {
      "cell_type": "code",
      "metadata": {
        "colab": {
          "base_uri": "https://localhost:8080/"
        },
        "id": "GxYOIC6Us7_K",
        "outputId": "daba0ad8-6856-40b3-cadb-8490b953c847"
      },
      "source": [
        "X, y = mnist['data'], mnist['target']\n",
        "print(X.shape)  # 784=28*28, 이미지\n",
        "print(y.shape)  # 타깃값"
      ],
      "execution_count": 18,
      "outputs": [
        {
          "output_type": "stream",
          "text": [
            "(70000, 784)\n",
            "(70000,)\n"
          ],
          "name": "stdout"
        }
      ]
    },
    {
      "cell_type": "code",
      "metadata": {
        "colab": {
          "base_uri": "https://localhost:8080/",
          "height": 248
        },
        "id": "uTRJp-9ytJAj",
        "outputId": "0d22e62b-2e41-4ce3-cb40-1d33e02aaea3"
      },
      "source": [
        "some_digit = X[0]   # 첫 번째 샘플\n",
        "some_digit_image = some_digit.reshape(28, 28)\n",
        "\n",
        "plt.imshow(some_digit_image, cmap='binary')\n",
        "plt.axis('off')\n",
        "plt.show()"
      ],
      "execution_count": 19,
      "outputs": [
        {
          "output_type": "display_data",
          "data": {
            "image/png": "[encoded data removed]",
            "text/plain": [
              "<Figure size 432x288 with 1 Axes>"
            ]
          },
          "metadata": {
            "tags": [],
            "needs_background": "light"
          }
        }
      ]
    },
    {
      "cell_type": "code",
      "metadata": {
        "colab": {
          "base_uri": "https://localhost:8080/",
          "height": 36
        },
        "id": "JnuKufmigjC3",
        "outputId": "4e1a7e1c-96c1-46bf-b3df-9ec1b5a10214"
      },
      "source": [
        "y[0]   # 첫 번째 샘플의 타깃값"
      ],
      "execution_count": 20,
      "outputs": [
        {
          "output_type": "execute_result",
          "data": {
            "application/vnd.google.colaboratory.intrinsic+json": {
              "type": "string"
            },
            "text/plain": [
              "'5'"
            ]
          },
          "metadata": {
            "tags": []
          },
          "execution_count": 20
        }
      ]
    },
    {
      "cell_type": "code",
      "metadata": {
        "id": "mHPUTu5pg_47"
      },
      "source": [
        "y = y.astype(np.uint8)  # y를 정수로 변환"
      ],
      "execution_count": 21,
      "outputs": []
    },
    {
      "cell_type": "code",
      "metadata": {
        "id": "WXnhMzLRhJ12"
      },
      "source": [
        "# (잘 섞여진 데이터) 훈련세트, 테스트세트로 나누기\n",
        "X_train, X_test, y_train, y_test = X[:60000], X[60000:], y[:60000], y[60000:]"
      ],
      "execution_count": 22,
      "outputs": []
    },
    {
      "cell_type": "markdown",
      "metadata": {
        "id": "iJ3WkUdqhl1f"
      },
      "source": [
        "### 3.2 이진 분류기 훈련"
      ]
    },
    {
      "cell_type": "markdown",
      "metadata": {
        "id": "4WDFgp0Zh_qX"
      },
      "source": [
        "단순화해서 5인지 아닌지를 구분하는 '5-감지기'를 만들어보자"
      ]
    },
    {
      "cell_type": "code",
      "metadata": {
        "id": "uMmx-0Srhd6S"
      },
      "source": [
        "# 5이면 True, 아니면 False\n",
        "y_train_5 = (y_train == 5)\n",
        "y_test_5 = (y_test == 5)"
      ],
      "execution_count": 23,
      "outputs": []
    },
    {
      "cell_type": "code",
      "metadata": {
        "colab": {
          "base_uri": "https://localhost:8080/"
        },
        "id": "fWWjsw9Dh5X9",
        "outputId": "cfa8aeb5-5442-4ead-e196-1a91dc88d7e4"
      },
      "source": [
        "# 확률적경사하강법 (SGD) 분류기로 훈련\n",
        "from sklearn.linear_model import SGDClassifier\n",
        "\n",
        "sgd_clf = SGDClassifier(random_state=42)\n",
        "sgd_clf.fit(X_train, y_train_5)"
      ],
      "execution_count": 24,
      "outputs": [
        {
          "output_type": "execute_result",
          "data": {
            "text/plain": [
              "SGDClassifier(alpha=0.0001, average=False, class_weight=None,\n",
              "              early_stopping=False, epsilon=0.1, eta0=0.0, fit_intercept=True,\n",
              "              l1_ratio=0.15, learning_rate='optimal', loss='hinge',\n",
              "              max_iter=1000, n_iter_no_change=5, n_jobs=None, penalty='l2',\n",
              "              power_t=0.5, random_state=42, shuffle=True, tol=0.001,\n",
              "              validation_fraction=0.1, verbose=0, warm_start=False)"
            ]
          },
          "metadata": {
            "tags": []
          },
          "execution_count": 24
        }
      ]
    },
    {
      "cell_type": "code",
      "metadata": {
        "colab": {
          "base_uri": "https://localhost:8080/"
        },
        "id": "DjQc2GYkihx3",
        "outputId": "5732d720-ecc0-4e22-b488-d1fb30e77b9e"
      },
      "source": [
        "sgd_clf.predict([some_digit])   # 훈련한 SGD모델로 첫 번째 샘플 예측\n",
        "\n",
        "# True (5가 맞음)으로 예측"
      ],
      "execution_count": 25,
      "outputs": [
        {
          "output_type": "execute_result",
          "data": {
            "text/plain": [
              "array([ True])"
            ]
          },
          "metadata": {
            "tags": []
          },
          "execution_count": 25
        }
      ]
    },
    {
      "cell_type": "markdown",
      "metadata": {
        "id": "J1qKe4qk0e2n"
      },
      "source": [
        "### 3.3 성능 측정"
      ]
    },
    {
      "cell_type": "markdown",
      "metadata": {
        "id": "WYlGTWab1epg"
      },
      "source": [
        "교차검증으로 정확도 측정"
      ]
    },
    {
      "cell_type": "code",
      "metadata": {
        "colab": {
          "base_uri": "https://localhost:8080/"
        },
        "id": "L_T7vItP0Yb5",
        "outputId": "0c64aab8-9148-49a5-f3ea-7a8b4fe79f93"
      },
      "source": [
        "# 교차 검증 구현  (cross_val_score()함수와 거의 같음)\n",
        "from sklearn.model_selection import StratifiedKFold    # 계층적 샘플링이 적용된 K-폴드\n",
        "from sklearn.base import clone#  동일한 모수를 사용하여 새로운 적합하지 않은 추정량을 생성함\n",
        "\n",
        "skfolds = StratifiedKFold(n_splits=3, random_state=42, shuffle=True)\n",
        "\n",
        "# X_train을 y_train_5 의 클래스별 비율이 유지되도록 폴드를 만듦\n",
        "for train_index, test_index in skfolds.split(X_train, y_train_5):  # train_index: 훈련세트\n",
        "    clone_clf = clone(sgd_clf)                                     # test_index:  검증세트\n",
        "    X_train_folds = X_train[train_index]\n",
        "    y_train_folds = y_train_5[train_index]\n",
        "    X_test_fold = X_train[test_index]\n",
        "    y_test_fold = y_train_5[test_index]\n",
        "\n",
        "    clone_clf.fit(X_train_folds, y_train_folds)  # 훈련세트에서 훈련\n",
        "    y_pred = clone_clf.predict(X_test_fold)      # 검증세트에서 예측\n",
        "    n_correct = sum(y_pred == y_test_fold)\n",
        "    print(n_correct / len(y_pred))"
      ],
      "execution_count": 26,
      "outputs": [
        {
          "output_type": "stream",
          "text": [
            "0.9669\n",
            "0.91625\n",
            "0.96785\n"
          ],
          "name": "stdout"
        }
      ]
    },
    {
      "cell_type": "code",
      "metadata": {
        "colab": {
          "base_uri": "https://localhost:8080/"
        },
        "id": "oE1ttdhY46wa",
        "outputId": "ec989d29-98cf-44e4-d29e-b5f586af8128"
      },
      "source": [
        "from sklearn.model_selection import cross_val_score\n",
        "\n",
        "cross_val_score(sgd_clf, X_train, y_train_5, cv=3, scoring='accuracy')"
      ],
      "execution_count": 39,
      "outputs": [
        {
          "output_type": "execute_result",
          "data": {
            "text/plain": [
              "array([0.95035, 0.96035, 0.9604 ])"
            ]
          },
          "metadata": {
            "tags": []
          },
          "execution_count": 39
        }
      ]
    },
    {
      "cell_type": "code",
      "metadata": {
        "id": "XQ8Uqec65NJY"
      },
      "source": [
        "# 모든 이미지를 '5 아님' 클래스로 분류하는 더미 분류기\n",
        "\n",
        "# 사이킷런의 BaseEsimators를 활용하면 Customized된 Estimator 생성 가능\n",
        "from sklearn.base import BaseEstimator\n",
        "\n",
        "class Never5Classifier(BaseEstimator):\n",
        "    def fit(self, X, y=None):\n",
        "        return self\n",
        "    def predict(self, X):\n",
        "        return np.zeros((len(X), 1), dtype=bool)   # 모두 '5가 아니다'라고 예측"
      ],
      "execution_count": 40,
      "outputs": []
    },
    {
      "cell_type": "code",
      "metadata": {
        "colab": {
          "base_uri": "https://localhost:8080/"
        },
        "id": "HOo-jg0K5o0F",
        "outputId": "66f6af0a-5b06-4386-801b-dcfb0c92d522"
      },
      "source": [
        "never_5_clf = Never5Classifier()\n",
        "cross_val_score(never_5_clf, X_train, y_train_5, cv=3, scoring='accuracy')"
      ],
      "execution_count": 41,
      "outputs": [
        {
          "output_type": "execute_result",
          "data": {
            "text/plain": [
              "array([0.91125, 0.90855, 0.90915])"
            ]
          },
          "metadata": {
            "tags": []
          },
          "execution_count": 41
        }
      ]
    },
    {
      "cell_type": "markdown",
      "metadata": {
        "id": "9WoT0Xm68Z0d"
      },
      "source": [
        "더미 분류기를 사용했음에도 불구하고 정확도가 높게 나옴 --> 성능 측정 지표로 정확도는 부적절하다!!\n",
        "\n",
        "---"
      ]
    },
    {
      "cell_type": "markdown",
      "metadata": {
        "id": "ecaQUJh69KbV"
      },
      "source": [
        "- 오차 행렬 :\n",
        " \n",
        " 클래스 A의 샘플이 클래스 B로 분류된 횟수를 세는 것"
      ]
    },
    {
      "cell_type": "code",
      "metadata": {
        "id": "YmQWppIT8U0o"
      },
      "source": [
        "# 실제 타깃값과 비교할 수 있는 예측값 만들기\n",
        "from sklearn.model_selection import cross_val_predict\n",
        "\n",
        "# 각 검증 폴드에서 얻은 예측 반환\n",
        "y_train_pred = cross_val_predict(sgd_clf, X_train, y_train_5, cv=3)"
      ],
      "execution_count": 53,
      "outputs": []
    },
    {
      "cell_type": "code",
      "metadata": {
        "colab": {
          "base_uri": "https://localhost:8080/"
        },
        "id": "bruhKRmf9zbe",
        "outputId": "69effbc4-68c3-47f6-e62d-5a66553c27e0"
      },
      "source": [
        "# 오차 행렬 만들기\n",
        "from sklearn.metrics import confusion_matrix\n",
        "\n",
        "confusion_matrix(y_train_5, y_train_pred)"
      ],
      "execution_count": 54,
      "outputs": [
        {
          "output_type": "execute_result",
          "data": {
            "text/plain": [
              "array([[53892,   687],\n",
              "       [ 1891,  3530]])"
            ]
          },
          "metadata": {
            "tags": []
          },
          "execution_count": 54
        }
      ]
    },
    {
      "cell_type": "markdown",
      "metadata": {
        "id": "mTd71Ee7_Agc"
      },
      "source": [
        "- 행 : 실제 클래스\n",
        "\n",
        "- 열 : 예측한 클래스\n",
        "\n",
        " 첫 번째 : 음성 클래스, 두 번째 : 양성 클래스\n",
        "\n",
        "정밀도 (precision) = $\\frac{TP}{TP + FP}$ : 양성으로 예측한 것중 진짜 양성의 비율\n",
        "\n",
        "재현율 (recall) = $\\frac{TP}{TP + FN}$ : 실제 양성인 것중 제대로 예측한 것의 비율\n",
        "\n",
        "( $TP$ : 진짜 양성, $TN$ : 진짜 음성, $FP$ : 거짓 양성, $FN$ : 거짓 음성 )"
      ]
    },
    {
      "cell_type": "code",
      "metadata": {
        "colab": {
          "base_uri": "https://localhost:8080/"
        },
        "id": "wMKd70GQ-84p",
        "outputId": "a3e1af17-25f2-488f-d15c-80c137f9800f"
      },
      "source": [
        "from sklearn.metrics import precision_score, recall_score\n",
        "\n",
        "print(precision_score(y_train_5, y_train_pred))  # 정밀도\n",
        "print(recall_score(y_train_5, y_train_pred))     # 재현율"
      ],
      "execution_count": 55,
      "outputs": [
        {
          "output_type": "stream",
          "text": [
            "0.8370879772350012\n",
            "0.6511713705958311\n"
          ],
          "name": "stdout"
        }
      ]
    },
    {
      "cell_type": "markdown",
      "metadata": {
        "id": "Gc_nSQXNGy9c"
      },
      "source": [
        "- F1 점수 : 정밀도와 재현율의 조화 평균\n",
        "\n",
        " $F1 = \\frac{2}{\\frac{1}{정밀도}+ \\frac{1}{재현율}}$\n",
        "\n",
        " 정밀도와 재현율이 비슷한 분류기에서는 F1 점수가 높다.\n",
        "\n",
        " 하지만 상황에 따라 정밀도와 재현율의 중요도가 다를 수 있다."
      ]
    },
    {
      "cell_type": "code",
      "metadata": {
        "colab": {
          "base_uri": "https://localhost:8080/"
        },
        "id": "b9wrZO_KEciz",
        "outputId": "7b2ccd6e-0a7d-4370-c82e-ec1df07f3629"
      },
      "source": [
        "from sklearn.metrics import f1_score\n",
        "\n",
        "f1_score(y_train_5, y_train_pred)"
      ],
      "execution_count": 56,
      "outputs": [
        {
          "output_type": "execute_result",
          "data": {
            "text/plain": [
              "0.7325171197343846"
            ]
          },
          "metadata": {
            "tags": []
          },
          "execution_count": 56
        }
      ]
    },
    {
      "cell_type": "code",
      "metadata": {
        "id": "GevA7YKZLXiZ"
      },
      "source": [
        ""
      ],
      "execution_count": null,
      "outputs": []
    }
  ]
}