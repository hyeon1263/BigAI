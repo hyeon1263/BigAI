{
  "nbformat": 4,
  "nbformat_minor": 0,
  "metadata": {
    "colab": {
      "name": "03_Classification",
      "provenance": [],
      "collapsed_sections": []
    },
    "kernelspec": {
      "name": "python3",
      "display_name": "Python 3"
    },
    "language_info": {
      "name": "python"
    }
  },
  "cells": [
    {
      "cell_type": "markdown",
      "metadata": {
        "id": "3iHbI8uaiij0"
      },
      "source": [
        "# Chapter03 분류"
      ]
    },
    {
      "cell_type": "code",
      "metadata": {
        "id": "v2LDVS60gUnc"
      },
      "source": [
        "import numpy as np\n",
        "import matplotlib as mpl\n",
        "import matplotlib.pyplot as plt\n",
        "import pandas as pd"
      ],
      "execution_count": 1,
      "outputs": []
    },
    {
      "cell_type": "markdown",
      "metadata": {
        "id": "FH8_3PjYis9a"
      },
      "source": [
        "MNIST 데이터셋"
      ]
    },
    {
      "cell_type": "code",
      "metadata": {
        "colab": {
          "base_uri": "https://localhost:8080/"
        },
        "id": "-FRRMPvOiWQ6",
        "outputId": "c2108462-afd3-4471-9be4-1c3ad4a73cf0"
      },
      "source": [
        "# MNIST 데이터셋을 내려받는 코드\n",
        "\n",
        "from sklearn.datasets import fetch_openml\n",
        "mnist = fetch_openml('mnist_784', version=1)\n",
        "mnist.keys()"
      ],
      "execution_count": 2,
      "outputs": [
        {
          "output_type": "execute_result",
          "data": {
            "text/plain": [
              "dict_keys(['data', 'target', 'frame', 'feature_names', 'target_names', 'DESCR', 'details', 'categories', 'url'])"
            ]
          },
          "metadata": {
            "tags": []
          },
          "execution_count": 2
        }
      ]
    },
    {
      "cell_type": "code",
      "metadata": {
        "colab": {
          "base_uri": "https://localhost:8080/"
        },
        "id": "GxYOIC6Us7_K",
        "outputId": "d7f30561-fbcc-4e12-e7c3-a2d607c9f231"
      },
      "source": [
        "X, y = mnist['data'], mnist['target']\n",
        "print(X.shape)  # 784=28*28, 이미지\n",
        "print(y.shape)  # 타깃값"
      ],
      "execution_count": 3,
      "outputs": [
        {
          "output_type": "stream",
          "text": [
            "(70000, 784)\n",
            "(70000,)\n"
          ],
          "name": "stdout"
        }
      ]
    },
    {
      "cell_type": "code",
      "metadata": {
        "colab": {
          "base_uri": "https://localhost:8080/",
          "height": 248
        },
        "id": "uTRJp-9ytJAj",
        "outputId": "745de531-e9dc-486a-ad7a-a74dc4d6af09"
      },
      "source": [
        "some_digit = X[0]   # 첫 번째 샘플\n",
        "some_digit_image = some_digit.reshape(28, 28)\n",
        "\n",
        "plt.imshow(some_digit_image, cmap='binary')\n",
        "plt.axis('off')\n",
        "plt.show()"
      ],
      "execution_count": 4,
      "outputs": [
        {
          "output_type": "display_data",
          "data": {
            "image/png": "[encoded data removed]",
            "text/plain": [
              "<Figure size 432x288 with 1 Axes>"
            ]
          },
          "metadata": {
            "tags": [],
            "needs_background": "light"
          }
        }
      ]
    },
    {
      "cell_type": "code",
      "metadata": {
        "colab": {
          "base_uri": "https://localhost:8080/",
          "height": 36
        },
        "id": "JnuKufmigjC3",
        "outputId": "ac3972cf-d1b4-4fed-ec99-af6264378948"
      },
      "source": [
        "y[0]   # 첫 번째 샘플의 타깃값"
      ],
      "execution_count": 5,
      "outputs": [
        {
          "output_type": "execute_result",
          "data": {
            "application/vnd.google.colaboratory.intrinsic+json": {
              "type": "string"
            },
            "text/plain": [
              "'5'"
            ]
          },
          "metadata": {
            "tags": []
          },
          "execution_count": 5
        }
      ]
    },
    {
      "cell_type": "code",
      "metadata": {
        "id": "mHPUTu5pg_47"
      },
      "source": [
        "y = y.astype(np.uint8)  # y를 정수로 변환"
      ],
      "execution_count": 6,
      "outputs": []
    },
    {
      "cell_type": "code",
      "metadata": {
        "id": "WXnhMzLRhJ12"
      },
      "source": [
        "# (잘 섞여진 데이터) 훈련세트, 테스트세트로 나누기\n",
        "X_train, X_test, y_train, y_test = X[:60000], X[60000:], y[:60000], y[60000:]"
      ],
      "execution_count": 7,
      "outputs": []
    },
    {
      "cell_type": "markdown",
      "metadata": {
        "id": "iJ3WkUdqhl1f"
      },
      "source": [
        "### 3.2 이진 분류기 훈련"
      ]
    },
    {
      "cell_type": "markdown",
      "metadata": {
        "id": "4WDFgp0Zh_qX"
      },
      "source": [
        "단순화해서 5인지 아닌지를 구분하는 '5-감지기'를 만들어보자"
      ]
    },
    {
      "cell_type": "code",
      "metadata": {
        "id": "uMmx-0Srhd6S"
      },
      "source": [
        "# 5이면 True, 아니면 False\n",
        "y_train_5 = (y_train == 5)\n",
        "y_test_5 = (y_test == 5)"
      ],
      "execution_count": 8,
      "outputs": []
    },
    {
      "cell_type": "code",
      "metadata": {
        "colab": {
          "base_uri": "https://localhost:8080/"
        },
        "id": "fWWjsw9Dh5X9",
        "outputId": "77e543b6-8170-42af-f88e-10390075eda9"
      },
      "source": [
        "# 확률적경사하강법 (SGD) 분류기로 훈련\n",
        "from sklearn.linear_model import SGDClassifier\n",
        "\n",
        "sgd_clf = SGDClassifier(random_state=42)\n",
        "sgd_clf.fit(X_train, y_train_5)"
      ],
      "execution_count": 9,
      "outputs": [
        {
          "output_type": "execute_result",
          "data": {
            "text/plain": [
              "SGDClassifier(alpha=0.0001, average=False, class_weight=None,\n",
              "              early_stopping=False, epsilon=0.1, eta0=0.0, fit_intercept=True,\n",
              "              l1_ratio=0.15, learning_rate='optimal', loss='hinge',\n",
              "              max_iter=1000, n_iter_no_change=5, n_jobs=None, penalty='l2',\n",
              "              power_t=0.5, random_state=42, shuffle=True, tol=0.001,\n",
              "              validation_fraction=0.1, verbose=0, warm_start=False)"
            ]
          },
          "metadata": {
            "tags": []
          },
          "execution_count": 9
        }
      ]
    },
    {
      "cell_type": "code",
      "metadata": {
        "colab": {
          "base_uri": "https://localhost:8080/"
        },
        "id": "DjQc2GYkihx3",
        "outputId": "0cf3bc45-520f-452d-e603-11741d7ad779"
      },
      "source": [
        "sgd_clf.predict([some_digit])   # 훈련한 SGD모델로 첫 번째 샘플 예측\n",
        "\n",
        "# True (5가 맞음)으로 예측"
      ],
      "execution_count": 10,
      "outputs": [
        {
          "output_type": "execute_result",
          "data": {
            "text/plain": [
              "array([ True])"
            ]
          },
          "metadata": {
            "tags": []
          },
          "execution_count": 10
        }
      ]
    },
    {
      "cell_type": "markdown",
      "metadata": {
        "id": "J1qKe4qk0e2n"
      },
      "source": [
        "### 3.3 성능 측정"
      ]
    },
    {
      "cell_type": "markdown",
      "metadata": {
        "id": "WYlGTWab1epg"
      },
      "source": [
        "교차검증으로 정확도 측정"
      ]
    },
    {
      "cell_type": "code",
      "metadata": {
        "colab": {
          "base_uri": "https://localhost:8080/"
        },
        "id": "L_T7vItP0Yb5",
        "outputId": "610ad581-f309-447b-cdef-e66977ab9b0e"
      },
      "source": [
        "# 교차 검증 구현  (cross_val_score()함수와 거의 같음)\n",
        "from sklearn.model_selection import StratifiedKFold    # 계층적 샘플링이 적용된 K-폴드\n",
        "from sklearn.base import clone#  동일한 모수를 사용하여 새로운 적합하지 않은 추정량을 생성함\n",
        "\n",
        "skfolds = StratifiedKFold(n_splits=3, random_state=42, shuffle=True)\n",
        "\n",
        "# X_train을 y_train_5 의 클래스별 비율이 유지되도록 폴드를 만듦\n",
        "for train_index, test_index in skfolds.split(X_train, y_train_5):  # train_index: 훈련세트\n",
        "    clone_clf = clone(sgd_clf)                                     # test_index:  검증세트\n",
        "    X_train_folds = X_train[train_index]\n",
        "    y_train_folds = y_train_5[train_index]\n",
        "    X_test_fold = X_train[test_index]\n",
        "    y_test_fold = y_train_5[test_index]\n",
        "\n",
        "    clone_clf.fit(X_train_folds, y_train_folds)  # 훈련세트에서 훈련\n",
        "    y_pred = clone_clf.predict(X_test_fold)      # 검증세트에서 예측\n",
        "    n_correct = sum(y_pred == y_test_fold)\n",
        "    print(n_correct / len(y_pred))"
      ],
      "execution_count": 11,
      "outputs": [
        {
          "output_type": "stream",
          "text": [
            "0.9669\n",
            "0.91625\n",
            "0.96785\n"
          ],
          "name": "stdout"
        }
      ]
    },
    {
      "cell_type": "code",
      "metadata": {
        "colab": {
          "base_uri": "https://localhost:8080/"
        },
        "id": "oE1ttdhY46wa",
        "outputId": "425c9263-9b14-47c7-bb61-3b502bd2855d"
      },
      "source": [
        "from sklearn.model_selection import cross_val_score\n",
        "\n",
        "cross_val_score(sgd_clf, X_train, y_train_5, cv=3, scoring='accuracy')"
      ],
      "execution_count": 12,
      "outputs": [
        {
          "output_type": "execute_result",
          "data": {
            "text/plain": [
              "array([0.95035, 0.96035, 0.9604 ])"
            ]
          },
          "metadata": {
            "tags": []
          },
          "execution_count": 12
        }
      ]
    },
    {
      "cell_type": "code",
      "metadata": {
        "id": "XQ8Uqec65NJY"
      },
      "source": [
        "# 모든 이미지를 '5 아님' 클래스로 분류하는 더미 분류기\n",
        "\n",
        "# 사이킷런의 BaseEsimators를 활용하면 Customized된 Estimator 생성 가능\n",
        "from sklearn.base import BaseEstimator\n",
        "\n",
        "class Never5Classifier(BaseEstimator):\n",
        "    def fit(self, X, y=None):\n",
        "        return self\n",
        "    def predict(self, X):\n",
        "        return np.zeros((len(X), 1), dtype=bool)   # 모두 '5가 아니다'라고 예측"
      ],
      "execution_count": 13,
      "outputs": []
    },
    {
      "cell_type": "code",
      "metadata": {
        "colab": {
          "base_uri": "https://localhost:8080/"
        },
        "id": "HOo-jg0K5o0F",
        "outputId": "51b08d14-e0a0-4163-b7c8-b2af12e0b040"
      },
      "source": [
        "never_5_clf = Never5Classifier()\n",
        "cross_val_score(never_5_clf, X_train, y_train_5, cv=3, scoring='accuracy')"
      ],
      "execution_count": 14,
      "outputs": [
        {
          "output_type": "execute_result",
          "data": {
            "text/plain": [
              "array([0.91125, 0.90855, 0.90915])"
            ]
          },
          "metadata": {
            "tags": []
          },
          "execution_count": 14
        }
      ]
    },
    {
      "cell_type": "markdown",
      "metadata": {
        "id": "9WoT0Xm68Z0d"
      },
      "source": [
        "더미 분류기를 사용했음에도 불구하고 정확도가 높게 나옴 --> 성능 측정 지표로 정확도는 부적절하다!!\n",
        "\n",
        "---"
      ]
    },
    {
      "cell_type": "markdown",
      "metadata": {
        "id": "ecaQUJh69KbV"
      },
      "source": [
        "- 오차 행렬 :\n",
        " \n",
        " 클래스 A의 샘플이 클래스 B로 분류된 횟수를 세는 것"
      ]
    },
    {
      "cell_type": "markdown",
      "metadata": {
        "id": "oABoLTJ39UZJ"
      },
      "source": [
        "![image.jpg](http://jcsites.juniata.edu/faculty/rhodes/ml/images/confmat)![image.png](data:image/png;base64,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)"
      ]
    },
    {
      "cell_type": "code",
      "metadata": {
        "id": "YmQWppIT8U0o"
      },
      "source": [
        "# 실제 타깃값과 비교할 수 있는 예측값 만들기\n",
        "from sklearn.model_selection import cross_val_predict\n",
        "\n",
        "# 각 검증 폴드에서 얻은 예측 반환\n",
        "y_train_pred = cross_val_predict(sgd_clf, X_train, y_train_5, cv=3)"
      ],
      "execution_count": 15,
      "outputs": []
    },
    {
      "cell_type": "code",
      "metadata": {
        "colab": {
          "base_uri": "https://localhost:8080/"
        },
        "id": "bruhKRmf9zbe",
        "outputId": "30c8d012-7862-44d5-e791-92f9bb077b98"
      },
      "source": [
        "# 오차 행렬 만들기\n",
        "from sklearn.metrics import confusion_matrix\n",
        "\n",
        "confusion_matrix(y_train_5, y_train_pred)"
      ],
      "execution_count": 16,
      "outputs": [
        {
          "output_type": "execute_result",
          "data": {
            "text/plain": [
              "array([[53892,   687],\n",
              "       [ 1891,  3530]])"
            ]
          },
          "metadata": {
            "tags": []
          },
          "execution_count": 16
        }
      ]
    },
    {
      "cell_type": "markdown",
      "metadata": {
        "id": "mTd71Ee7_Agc"
      },
      "source": [
        "- 행 : 실제 클래스\n",
        "\n",
        "- 열 : 예측한 클래스\n",
        "\n",
        " 첫 번째 : 음성 클래스, 두 번째 : 양성 클래스\n",
        "\n",
        "정밀도 (precision) = $\\frac{TP}{TP + FP}$ : 양성으로 예측한 것중 진짜 양성의 비율\n",
        "\n",
        "재현율 (recall) = $\\frac{TP}{TP + FN}$ : 실제 양성인 것중 제대로 예측한 것의 비율\n",
        "\n",
        "( $TP$ : 진짜 양성, $TN$ : 진짜 음성, $FP$ : 거짓 양성, $FN$ : 거짓 음성 )"
      ]
    },
    {
      "cell_type": "code",
      "metadata": {
        "colab": {
          "base_uri": "https://localhost:8080/"
        },
        "id": "wMKd70GQ-84p",
        "outputId": "862d714f-9d9b-4bbf-a2d9-fb76470dfb37"
      },
      "source": [
        "from sklearn.metrics import precision_score, recall_score\n",
        "\n",
        "print(precision_score(y_train_5, y_train_pred))  # 정밀도\n",
        "print(recall_score(y_train_5, y_train_pred))     # 재현율"
      ],
      "execution_count": 17,
      "outputs": [
        {
          "output_type": "stream",
          "text": [
            "0.8370879772350012\n",
            "0.6511713705958311\n"
          ],
          "name": "stdout"
        }
      ]
    },
    {
      "cell_type": "markdown",
      "metadata": {
        "id": "Gc_nSQXNGy9c"
      },
      "source": [
        "- F1 점수 : 정밀도와 재현율의 조화 평균\n",
        "\n",
        " $F1 = \\frac{2}{\\frac{1}{정밀도}+ \\frac{1}{재현율}}$\n",
        "\n",
        " 정밀도와 재현율이 비슷한 분류기에서는 F1 점수가 높다.\n",
        "\n",
        " 하지만 상황에 따라 정밀도와 재현율의 중요도가 다를 수 있다."
      ]
    },
    {
      "cell_type": "code",
      "metadata": {
        "colab": {
          "base_uri": "https://localhost:8080/"
        },
        "id": "b9wrZO_KEciz",
        "outputId": "f80e62c8-d99d-4e05-8ffd-54c83152b036"
      },
      "source": [
        "from sklearn.metrics import f1_score\n",
        "\n",
        "f1_score(y_train_5, y_train_pred)"
      ],
      "execution_count": 18,
      "outputs": [
        {
          "output_type": "execute_result",
          "data": {
            "text/plain": [
              "0.7325171197343846"
            ]
          },
          "metadata": {
            "tags": []
          },
          "execution_count": 18
        }
      ]
    },
    {
      "cell_type": "markdown",
      "metadata": {
        "id": "A9yYmiW1ts5B"
      },
      "source": [
        "정밀도 / 재현율 트레이드오프\n",
        "\n",
        "**결정 함수** (decision function) 로 각 샘플의 점수를 계산하여 점수가 임곗값보다 크면 양성클래스로, 작으면 음성클래스에 할당\n",
        "\n",
        "- 결정 임곗값을 높이면 : 재현율↓ , 정밀도↑\n",
        "\n",
        "- 결정 임곗값을 내리면 : 재현율↑ , 정밀도↓"
      ]
    },
    {
      "cell_type": "code",
      "metadata": {
        "id": "GevA7YKZLXiZ",
        "colab": {
          "base_uri": "https://localhost:8080/"
        },
        "outputId": "74dd70a5-be5b-4003-fe19-048c8bf5c0c5"
      },
      "source": [
        "y_scores = sgd_clf.decision_function([some_digit])  # 해당 샘플의 결정함수\n",
        "y_scores"
      ],
      "execution_count": 19,
      "outputs": [
        {
          "output_type": "execute_result",
          "data": {
            "text/plain": [
              "array([2164.22030239])"
            ]
          },
          "metadata": {
            "tags": []
          },
          "execution_count": 19
        }
      ]
    },
    {
      "cell_type": "code",
      "metadata": {
        "colab": {
          "base_uri": "https://localhost:8080/"
        },
        "id": "ndsGiP2quc64",
        "outputId": "6720b160-244b-4e09-c22a-43aaed4077e7"
      },
      "source": [
        "threshold = 0  # 임곗값 지정\n",
        "y_some_digit_pred = (y_scores > threshold)\n",
        "y_some_digit_pred"
      ],
      "execution_count": 20,
      "outputs": [
        {
          "output_type": "execute_result",
          "data": {
            "text/plain": [
              "array([ True])"
            ]
          },
          "metadata": {
            "tags": []
          },
          "execution_count": 20
        }
      ]
    },
    {
      "cell_type": "code",
      "metadata": {
        "colab": {
          "base_uri": "https://localhost:8080/"
        },
        "id": "QYmCwrUNvR66",
        "outputId": "50e2bb71-9406-48ba-c391-627e992c0b6f"
      },
      "source": [
        "threshold = 4000   # 임곗값을 올려보자\n",
        "y_some_digit_pred = (y_scores > threshold)\n",
        "y_some_digit_pred"
      ],
      "execution_count": 21,
      "outputs": [
        {
          "output_type": "execute_result",
          "data": {
            "text/plain": [
              "array([False])"
            ]
          },
          "metadata": {
            "tags": []
          },
          "execution_count": 21
        }
      ]
    },
    {
      "cell_type": "markdown",
      "metadata": {
        "id": "D5pmCYF4wOQc"
      },
      "source": [
        "적절한 임곗값 구하기"
      ]
    },
    {
      "cell_type": "code",
      "metadata": {
        "id": "DBlHzSnxvqvu"
      },
      "source": [
        "# 우선 cross_val_predict()로 훈련 세트에 있는 결정함수를 구한다.\n",
        "y_scores = cross_val_predict(sgd_clf, X_train, y_train_5, cv=3, method='decision_function')"
      ],
      "execution_count": 22,
      "outputs": []
    },
    {
      "cell_type": "code",
      "metadata": {
        "id": "gJabJeKzwHgC"
      },
      "source": [
        "# precision_recall_curve()로 가능한 모든 임곗값에 대해 정밀도와 재현율을 계산할 수 있다\n",
        "from sklearn.metrics import precision_recall_curve\n",
        "\n",
        "precisions, recalls, thresholds =  precision_recall_curve(y_train_5, y_scores)"
      ],
      "execution_count": 23,
      "outputs": []
    },
    {
      "cell_type": "code",
      "metadata": {
        "colab": {
          "base_uri": "https://localhost:8080/",
          "height": 288
        },
        "id": "L0Ww2jsxwhUy",
        "outputId": "b7cfeab7-657f-4c77-d594-4bf39b0c0e4d"
      },
      "source": [
        "# 임곗값의 함수로 정밀도와 재현율을 그려보자\n",
        "def plot_precision_recall_vs_threshold(precisions, recalls, thresholds):\n",
        "    plt.plot(thresholds, precisions[:-1], 'b--', label='precisions')\n",
        "    plt.plot(thresholds, recalls[:-1], 'g-', label='recalls')\n",
        "    plt.legend(loc=\"center right\", fontsize=16)\n",
        "    plt.xlabel(\"Threshold\", fontsize=16)\n",
        "    plt.grid(True)\n",
        "    plt.axis([-50000, 50000, 0, 1])\n",
        "\n",
        "# np.argmax() : 최댓값의 첫 번째 인덱스를 반환\n",
        "recall_90_precision = recalls[np.argmax(precisions >= 0.90)]       # precisions가 0.9 보다 크게 하는 최대한의 recalls로 지정\n",
        "threshold_90_precision = thresholds[np.argmax(precisions >= 0.90)] # precisions를 0.9 보다 크게 하는 최소한의 임곗값으로 지정\n",
        "\n",
        "plt.figure(figsize=(8, 4))\n",
        "plot_precision_recall_vs_threshold(precisions, recalls, thresholds)\n",
        "plt.plot([threshold_90_precision, threshold_90_precision], [0., 0.9], \"r:\")       # 빨간 세로줄\n",
        "plt.plot([-50000, threshold_90_precision], [0.9, 0.9], \"r:\")                      # 빨간 가로줄 위에꺼\n",
        "plt.plot([-50000, threshold_90_precision], [recall_90_precision, recall_90_precision], \"r:\") # 빨간 가로줄 밑에꺼\n",
        "plt.plot([threshold_90_precision], [0.9], \"ro\")\n",
        "plt.plot([threshold_90_precision], [recall_90_precision], \"ro\")\n",
        "\n",
        "plt.show()"
      ],
      "execution_count": 24,
      "outputs": [
        {
          "output_type": "display_data",
          "data": {
            "image/png": "[encoded data removed]",
            "text/plain": [
              "<Figure size 576x288 with 1 Axes>"
            ]
          },
          "metadata": {
            "tags": [],
            "needs_background": "light"
          }
        }
      ]
    },
    {
      "cell_type": "code",
      "metadata": {
        "colab": {
          "base_uri": "https://localhost:8080/"
        },
        "id": "QC6LhTnCwvGX",
        "outputId": "5e1d4c18-272f-436e-b4ce-46ec79bbf02c"
      },
      "source": [
        "(y_train_pred == (y_scores > 0)).all()  # all(): 모두 True이면 True, 하나라도 False가 있으면 False\n",
        "\n",
        "# y_scores가 0보다 크면 모두 5라고 예상"
      ],
      "execution_count": 25,
      "outputs": [
        {
          "output_type": "execute_result",
          "data": {
            "text/plain": [
              "True"
            ]
          },
          "metadata": {
            "tags": []
          },
          "execution_count": 25
        }
      ]
    },
    {
      "cell_type": "markdown",
      "metadata": {
        "id": "cskQ9l9r6lJN"
      },
      "source": [
        "정밀도 90%를 달성하는 것이 목표라고 가정해보자."
      ]
    },
    {
      "cell_type": "code",
      "metadata": {
        "colab": {
          "base_uri": "https://localhost:8080/",
          "height": 397
        },
        "id": "njWn9c8j4ZlC",
        "outputId": "37cd8d08-3f10-49e6-c28c-f602d947805d"
      },
      "source": [
        "# 재현율에 대한 정밀도 곡선 (PR 곡선)\n",
        "def plot_precision_vs_recall(precisions, recalls):\n",
        "    plt.plot(recalls, precisions, \"b-\", linewidth=2)\n",
        "    plt.xlabel(\"Recall\", fontsize=16)\n",
        "    plt.ylabel(\"Precision\", fontsize=16)\n",
        "    plt.axis([0, 1, 0, 1])\n",
        "    plt.grid(True)\n",
        "\n",
        "plt.figure(figsize=(8, 6))\n",
        "plot_precision_vs_recall(precisions, recalls)\n",
        "plt.plot([recall_90_precision, recall_90_precision], [0., 0.9], \"r:\")\n",
        "plt.plot([0.0, recall_90_precision], [0.9, 0.9], \"r:\")\n",
        "plt.plot([recall_90_precision], [0.9], \"ro\")\n",
        "\n",
        "plt.show()"
      ],
      "execution_count": 26,
      "outputs": [
        {
          "output_type": "display_data",
          "data": {
            "image/png": "[encoded data removed]",
            "text/plain": [
              "<Figure size 576x432 with 1 Axes>"
            ]
          },
          "metadata": {
            "tags": [],
            "needs_background": "light"
          }
        }
      ]
    },
    {
      "cell_type": "markdown",
      "metadata": {
        "id": "FGIvwTUy5qC8"
      },
      "source": [
        "- 재현율 80% 근처에서 정밀도가 급격히 줄기 시작하는데, 이 하강점 직전을 ' 정밀도 / 재현율 트레이드오프 ' 로 선택하는 것이 좋다.\n",
        "\n",
        "- 그래프 아래의 면적이 클수록 좋은 그래프이다."
      ]
    },
    {
      "cell_type": "code",
      "metadata": {
        "id": "g3KxBhmR5AXy"
      },
      "source": [
        "# threshold_90_precision : 정밀도를 0.90 보다 크게 하는 최소한의 임곗값\n",
        "\n",
        "y_train_pred_90 = (y_scores >= threshold_90_precision)"
      ],
      "execution_count": 27,
      "outputs": []
    },
    {
      "cell_type": "code",
      "metadata": {
        "colab": {
          "base_uri": "https://localhost:8080/"
        },
        "id": "aCFMt-0A6Qzg",
        "outputId": "bfbe01e1-317c-4844-d20d-6f004c19439d"
      },
      "source": [
        "print(f\"정밀도: {precision_score(y_train_5, y_train_pred_90)}\")  # 정밀도 계산\n",
        "print(f\"재현율: {recall_score(y_train_5, y_train_pred_90)}\")     # 재현율 계산"
      ],
      "execution_count": 28,
      "outputs": [
        {
          "output_type": "stream",
          "text": [
            "정밀도: 0.9000345901072293\n",
            "재현율: 0.4799852425751706\n"
          ],
          "name": "stdout"
        }
      ]
    },
    {
      "cell_type": "markdown",
      "metadata": {
        "id": "wAeQpLgW7t4_"
      },
      "source": [
        "정밀도 90%를 달성한 분류기를 만들었다\n",
        "\n",
        "- 정밀도와 재현율에 대해서 분류기를 만들려면 임곗값을 조정하면 된다!!\n",
        "\n",
        "---"
      ]
    },
    {
      "cell_type": "markdown",
      "metadata": {
        "id": "5uucoygA8N72"
      },
      "source": [
        "- 수신기 조작 특성 ( **ROC** ) 곡선 : $\\frac{TP \\space(재현율)}{FPR}$\n",
        "\n",
        " $FPR = \\frac{FP}{FP + TN}$ : 실제 음성 중, 양성으로 예측한 비율\n",
        "\n",
        " $TPR = \\frac{TP}{TP + FN}$ : 실제 양성 중, 음성으로 예측한 비율 (== 재현율)"
      ]
    },
    {
      "cell_type": "code",
      "metadata": {
        "id": "fdYxTEEB66jw"
      },
      "source": [
        "# 여러 임곗값에서 TPR, FPR을 계산해주는 메서드\n",
        "from sklearn.metrics import roc_curve\n",
        "\n",
        "fpr, tpr, thresholds = roc_curve(y_train_5, y_scores)   # 매개변수에 타깃값, 예측값을 전달"
      ],
      "execution_count": 29,
      "outputs": []
    },
    {
      "cell_type": "code",
      "metadata": {
        "colab": {
          "base_uri": "https://localhost:8080/",
          "height": 397
        },
        "id": "u866CWwDAcCI",
        "outputId": "c81c5813-5b89-407b-c0e2-c74442cb8017"
      },
      "source": [
        "# ROC (TPR에 대한 FPR) 곡선을 그려주는 메서드 정의\n",
        "def plot_roc_curve(fpr, tpr, label=None):\n",
        "    plt.plot(fpr, tpr, linewidth=2, label=label)\n",
        "    plt.plot([0,1], [0,1], 'k--')   # 대각 점선 그리기\n",
        "    plt.axis([0, 1, 0, 1])\n",
        "    plt.xlabel('False Positive Rate (Fall-Out)', fontsize=16)\n",
        "    plt.ylabel('True Positive Rate (Recall)', fontsize=16)\n",
        "    plt.grid(True)\n",
        "\n",
        "plt.figure(figsize=(8, 6))\n",
        "plot_roc_curve(fpr, tpr)\n",
        "fpr_90 = fpr[np.argmax(tpr >= recall_90_precision)]   # fpr_90 : tpr이 정밀도가 최소 90% 되는 재현율보다 큰거중에 최소의 fpr\n",
        "plt.plot([fpr_90, fpr_90], [0., recall_90_precision], \"r:\")\n",
        "plt.plot([0.0, fpr_90], [recall_90_precision, recall_90_precision], \"r\")\n",
        "plt.plot([fpr_90], [recall_90_precision], \"ro\")\n",
        "\n",
        "plt.show()\n",
        "\n",
        "# 빨간 점은 최소 90%의 정밀도를 가진 재현율을 뜻함"
      ],
      "execution_count": 30,
      "outputs": [
        {
          "output_type": "display_data",
          "data": {
            "image/png": "[encoded data removed]",
            "text/plain": [
              "<Figure size 576x432 with 1 Axes>"
            ]
          },
          "metadata": {
            "tags": [],
            "needs_background": "light"
          }
        }
      ]
    },
    {
      "cell_type": "markdown",
      "metadata": {
        "id": "4ixlXgCuCi5e"
      },
      "source": [
        "재현율(TPR)이 높을수록 FPR이 늘어난다.\n",
        "\n",
        "점선은 완전한 랜덤 분류기 (더미 분류기)의 ROC 곡선을 의미한다.\n",
        "\n",
        "좋은 분류기는 이 점선에서 최대한 멀리 떨어져 있어야 한다. (왼쪽 위 모서리)\n",
        "\n",
        "- --> 곡선 아래의 면적 (AUC) : Area Under the Curve 을 측정하면 분류기들을 비교할 수 있다!!\n",
        " \n",
        " 완벽한 분류기는 AUC가 1이고, 완전한 랜덤분류기의 AUC는 0.5이다.\n"
      ]
    },
    {
      "cell_type": "code",
      "metadata": {
        "colab": {
          "base_uri": "https://localhost:8080/"
        },
        "id": "BMW0D8ioDu_K",
        "outputId": "4b621ff1-4a85-4714-f37b-58cfeea75173"
      },
      "source": [
        "# 사이킷런의 ROC의 AUC를 계산하는 함수\n",
        "from sklearn.metrics import roc_auc_score\n",
        "\n",
        "roc_auc_score(y_train_5, y_scores)  # 매개변수에 타깃값, 예측값을 전달\n",
        "\n",
        "# 1 에 가까울수록 좋은 분류기이다"
      ],
      "execution_count": 31,
      "outputs": [
        {
          "output_type": "execute_result",
          "data": {
            "text/plain": [
              "0.9604938554008616"
            ]
          },
          "metadata": {
            "tags": []
          },
          "execution_count": 31
        }
      ]
    },
    {
      "cell_type": "markdown",
      "metadata": {
        "id": "2rz1YK02Emd0"
      },
      "source": [
        "RandomForestClassifier를 훈련시켜 SGDClassifier의 ROC곡선과 AUC를 비교해보자"
      ]
    },
    {
      "cell_type": "code",
      "metadata": {
        "id": "LWPAhZrmD2lo"
      },
      "source": [
        "# 우선, 훈련 세트에 대한 점수를 얻는다\n",
        "from sklearn.ensemble import RandomForestClassifier\n",
        "\n",
        "forest_clf = RandomForestClassifier(random_state=42)\n",
        "y_probas_forest = cross_val_predict(forest_clf, X_train, y_train_5, cv=3, method='predict_proba')\n",
        "# 각 샘플마다 [음성일 확률, 양성일 확률] 반환"
      ],
      "execution_count": 32,
      "outputs": []
    },
    {
      "cell_type": "code",
      "metadata": {
        "colab": {
          "base_uri": "https://localhost:8080/"
        },
        "id": "50PDQ_w6EkAI",
        "outputId": "3d8668c4-f29e-48f3-db90-c0b1c9589e02"
      },
      "source": [
        "y_probas_forest[35]  # [음성일 확률, 양성일 확률] 반환"
      ],
      "execution_count": 33,
      "outputs": [
        {
          "output_type": "execute_result",
          "data": {
            "text/plain": [
              "array([0.07, 0.93])"
            ]
          },
          "metadata": {
            "tags": []
          },
          "execution_count": 33
        }
      ]
    },
    {
      "cell_type": "code",
      "metadata": {
        "colab": {
          "base_uri": "https://localhost:8080/",
          "height": 159
        },
        "id": "J9RCHo-2FElu",
        "outputId": "0ceacc52-d6dc-4b3b-a2c3-2166e24bcc3e"
      },
      "source": [
        "plt.figure(figsize=(2,2))\n",
        "plt.imshow(X_train[35].reshape(28,28), cmap='gray_r')\n",
        "plt.show()"
      ],
      "execution_count": 34,
      "outputs": [
        {
          "output_type": "display_data",
          "data": {
            "image/png": "[encoded data removed]",
            "text/plain": [
              "<Figure size 144x144 with 1 Axes>"
            ]
          },
          "metadata": {
            "tags": [],
            "needs_background": "light"
          }
        }
      ]
    },
    {
      "cell_type": "code",
      "metadata": {
        "id": "BlI7VcRKHm1D"
      },
      "source": [
        "y_scores_forest = y_probas_forest[:, 1]  # 양성 클래스에 대한 확률을 점수로 사용\n",
        "fpr_forest, tpr_forest, thresholds_forest = roc_curve(y_train_5, y_scores_forest)"
      ],
      "execution_count": 35,
      "outputs": []
    },
    {
      "cell_type": "code",
      "metadata": {
        "colab": {
          "base_uri": "https://localhost:8080/",
          "height": 415
        },
        "id": "v8ppeyuJH7p3",
        "outputId": "05c093c6-06b1-4e79-853b-8bb74a6cce60"
      },
      "source": [
        "recall_for_forest = tpr_forest[np.argmax(fpr_forest >= fpr_90)]\n",
        "print(recall_for_forest, recall_90_precision, fpr_90)\n",
        "\n",
        "plt.figure(figsize=(8, 6))\n",
        "plt.plot(fpr, tpr, \"b:\", linewidth=2, label=\"SGD\")\n",
        "plot_roc_curve(fpr_forest, tpr_forest, \"Random Forest\")\n",
        "plt.plot([fpr_90, fpr_90], [0., recall_90_precision], \"r:\")\n",
        "plt.plot([0.0, fpr_90], [recall_90_precision, recall_90_precision], \"r:\")\n",
        "plt.plot([fpr_90], [recall_90_precision], \"ro\")\n",
        "plt.plot([fpr_90, fpr_90], [0., recall_for_forest], \"r:\")\n",
        "plt.plot([fpr_90], [recall_for_forest], \"ro\")\n",
        "plt.grid(True)\n",
        "plt.legend(loc=\"lower right\", fontsize=16)\n",
        "\n",
        "plt.show()"
      ],
      "execution_count": 36,
      "outputs": [
        {
          "output_type": "stream",
          "text": [
            "0.9511160302527208 0.4799852425751706 0.005295076861063779\n"
          ],
          "name": "stdout"
        },
        {
          "output_type": "display_data",
          "data": {
            "image/png": "[encoded data removed]",
            "text/plain": [
              "<Figure size 576x432 with 1 Axes>"
            ]
          },
          "metadata": {
            "tags": [],
            "needs_background": "light"
          }
        }
      ]
    },
    {
      "cell_type": "markdown",
      "metadata": {
        "id": "2YfWvzmZKufc"
      },
      "source": [
        "RandomForest분류기가 SGD분류기보다 AUC 값이 크므로 더 좋은 모델이다!\n",
        "\n",
        "- 임곗값에 따라 빨간점의 위치가 달라지고, 모델의 성능에 따라 ROC곡선의 휨 정도가 달라진다."
      ]
    },
    {
      "cell_type": "code",
      "metadata": {
        "colab": {
          "base_uri": "https://localhost:8080/"
        },
        "id": "iv98NF-cIzZY",
        "outputId": "32dc1c5c-a06c-43b4-904e-e1823039c85e"
      },
      "source": [
        "print(f\"랜덤포레스트 분류기 AUC : {roc_auc_score(y_train_5, y_scores_forest)}\")\n",
        "print(f\"SGD 분류기 AUC :\\t  {roc_auc_score(y_train_5, y_scores)}\")"
      ],
      "execution_count": 37,
      "outputs": [
        {
          "output_type": "stream",
          "text": [
            "랜덤포레스트 분류기 AUC : 0.9983436731328145\n",
            "SGD 분류기 AUC :\t  0.9604938554008616\n"
          ],
          "name": "stdout"
        }
      ]
    },
    {
      "cell_type": "code",
      "metadata": {
        "colab": {
          "base_uri": "https://localhost:8080/"
        },
        "id": "6RFdoOVdMN9W",
        "outputId": "1d851ef4-7f0f-4372-940c-a6b9d20e9392"
      },
      "source": [
        "y_train_pred_forest = cross_val_predict(forest_clf, X_train, y_train_5, cv=3)\n",
        "print(\"Random Forest 분류기의 정밀도와 재현율\")\n",
        "print(f\"정밀도: {precision_score(y_train_5, y_train_pred_forest)}\")\n",
        "print(f\"재현율: {recall_score(y_train_5, y_train_pred_forest)}\")"
      ],
      "execution_count": 38,
      "outputs": [
        {
          "output_type": "stream",
          "text": [
            "Random Forest 분류기의 정밀도와 재현율\n",
            "정밀도: 0.9905083315756169\n",
            "재현율: 0.8662608374838591\n"
          ],
          "name": "stdout"
        }
      ]
    },
    {
      "cell_type": "markdown",
      "metadata": {
        "id": "FfL0vVi7PfYr"
      },
      "source": [
        "### 3.4 다중 분류"
      ]
    },
    {
      "cell_type": "markdown",
      "metadata": {
        "id": "ub-l9q8FRC2u"
      },
      "source": [
        "SGD, randomforest 등의 분류기는 다중 분류가 가능하지만 로지스틱 회귀나 서포트 벡터 머신 분류기같은 알고리즘은 이진 분류만 가능하다.\n",
        "\n",
        "- OvR(OvA) : one-versus-the rest, 클래스마다 이진 분류기를 만들어서 가장 높은 결정점수를 낸 클래스를 선택\n",
        "\n",
        "- OvO : one-versus-one, 모든 가능한 두 개의 클래스 조합 $\\frac{n(n-1)}{2}$에 대해 이진 분류기를 만듦. 가장 많이 양성으로  분류된 클래스 선택\n",
        "\n",
        "다중 클래스 분류 작업에 이진 분류 알고리즘을 선택하면 사이킷런이 알고리즘에 따라 자동으로 OvR 또는 OvO를 실행한다."
      ]
    },
    {
      "cell_type": "code",
      "metadata": {
        "id": "Oe9GA0HYUMtS"
      },
      "source": [
        "# 훈련 시간이 많이 걸려 1000개의 데이터만 해보자\n",
        "X_train = X_train[:1000]\n",
        "y_train = y_train[:1000]\n",
        "X_test = X_test[:1000]\n",
        "y_test = y_test[:1000]"
      ],
      "execution_count": 83,
      "outputs": []
    },
    {
      "cell_type": "code",
      "metadata": {
        "colab": {
          "base_uri": "https://localhost:8080/"
        },
        "id": "2yKoHinAPhQK",
        "outputId": "5b5bd001-2f99-497c-8518-0d36c6cf7d87"
      },
      "source": [
        "# 서포트 벡터 머신 분류기 테스트\n",
        "from sklearn.svm import SVC\n",
        "\n",
        "svm_clf = SVC()\n",
        "svm_clf.fit(X_train, y_train)\n",
        "svm_clf.predict([some_digit])   # 첫 번째 샘플 예측"
      ],
      "execution_count": 40,
      "outputs": [
        {
          "output_type": "execute_result",
          "data": {
            "text/plain": [
              "array([5], dtype=uint8)"
            ]
          },
          "metadata": {
            "tags": []
          },
          "execution_count": 40
        }
      ]
    },
    {
      "cell_type": "markdown",
      "metadata": {
        "id": "w3O08Sx3SlhR"
      },
      "source": [
        "사이킷런 내부에서 OvO로, 45개의 이진분류기를 훈련 후 각각의 결정점수로 가장 높은 클래스 선택한다."
      ]
    },
    {
      "cell_type": "code",
      "metadata": {
        "colab": {
          "base_uri": "https://localhost:8080/"
        },
        "id": "YHqGxXI-R8dk",
        "outputId": "68fda15b-aa62-4ef4-9bd3-55a0547a1f00"
      },
      "source": [
        "some_digit_scores = svm_clf.decision_function([some_digit]) # 샘플당 10개의 점수를 반환\n",
        "print(some_digit_scores)\n",
        "\n",
        "print(np.argmax(some_digit_scores))\n",
        "# 5가 가장 높다 --> 5로 예측"
      ],
      "execution_count": 65,
      "outputs": [
        {
          "output_type": "stream",
          "text": [
            "[[ 0.74425472  2.744763    6.1874606   8.29544346 -0.3001552   9.30508656\n",
            "   1.74544703  4.79018461  7.19991924  3.84775475]]\n",
            "5\n"
          ],
          "name": "stdout"
        }
      ]
    },
    {
      "cell_type": "code",
      "metadata": {
        "colab": {
          "base_uri": "https://localhost:8080/"
        },
        "id": "0EZCGnyhD7QI",
        "outputId": "06236e77-ce2b-4173-ea21-220d20d5ff02"
      },
      "source": [
        "print(svm_clf.classes_)   # classes_ 속성에 타깃 클래스의 리스트를 값으로 정렬하여 저장\n",
        "svm_clf.classes_[np.argmax(some_digit_scores)]"
      ],
      "execution_count": 42,
      "outputs": [
        {
          "output_type": "stream",
          "text": [
            "[0 1 2 3 4 5 6 7 8 9]\n"
          ],
          "name": "stdout"
        },
        {
          "output_type": "execute_result",
          "data": {
            "text/plain": [
              "5"
            ]
          },
          "metadata": {
            "tags": []
          },
          "execution_count": 42
        }
      ]
    },
    {
      "cell_type": "code",
      "metadata": {
        "colab": {
          "base_uri": "https://localhost:8080/"
        },
        "id": "ega7UCajP5Ea",
        "outputId": "ee6c971a-b89f-4f3f-eca8-57ee5ff0a20f"
      },
      "source": [
        "# 사이킷런에서 OvR을 사용하도록 강제\n",
        "from sklearn.multiclass import OneVsRestClassifier\n",
        "\n",
        "ovr_clf = OneVsRestClassifier(SVC())  # SVC 기반으로 OvR 전략을 사용하도록 다중분류기를 만듦\n",
        "ovr_clf.fit(X_train, y_train)\n",
        "ovr_clf.predict([some_digit])"
      ],
      "execution_count": 43,
      "outputs": [
        {
          "output_type": "execute_result",
          "data": {
            "text/plain": [
              "array([5], dtype=uint8)"
            ]
          },
          "metadata": {
            "tags": []
          },
          "execution_count": 43
        }
      ]
    },
    {
      "cell_type": "code",
      "metadata": {
        "colab": {
          "base_uri": "https://localhost:8080/"
        },
        "id": "7YYOQ_-MVIY5",
        "outputId": "eb7e8c7a-dd3c-4113-c9bc-2d1fd04ef1b4"
      },
      "source": [
        "len(ovr_clf.estimators_)"
      ],
      "execution_count": 44,
      "outputs": [
        {
          "output_type": "execute_result",
          "data": {
            "text/plain": [
              "10"
            ]
          },
          "metadata": {
            "tags": []
          },
          "execution_count": 44
        }
      ]
    },
    {
      "cell_type": "code",
      "metadata": {
        "colab": {
          "base_uri": "https://localhost:8080/"
        },
        "id": "SHSKViYz-mTb",
        "outputId": "22aab9e4-3dd5-4286-a00c-58ba4d2dd95d"
      },
      "source": [
        "# 확률적경사하강법 (SGD) 분류기로 훈련\n",
        "from sklearn.linear_model import SGDClassifier\n",
        "\n",
        "sgd_clf = SGDClassifier(random_state=42)\n",
        "sgd_clf.fit(X_train, y_train)"
      ],
      "execution_count": 45,
      "outputs": [
        {
          "output_type": "execute_result",
          "data": {
            "text/plain": [
              "SGDClassifier(alpha=0.0001, average=False, class_weight=None,\n",
              "              early_stopping=False, epsilon=0.1, eta0=0.0, fit_intercept=True,\n",
              "              l1_ratio=0.15, learning_rate='optimal', loss='hinge',\n",
              "              max_iter=1000, n_iter_no_change=5, n_jobs=None, penalty='l2',\n",
              "              power_t=0.5, random_state=42, shuffle=True, tol=0.001,\n",
              "              validation_fraction=0.1, verbose=0, warm_start=False)"
            ]
          },
          "metadata": {
            "tags": []
          },
          "execution_count": 45
        }
      ]
    },
    {
      "cell_type": "code",
      "metadata": {
        "colab": {
          "base_uri": "https://localhost:8080/"
        },
        "id": "vLMIvqtP-1kl",
        "outputId": "a36c50df-7822-4525-f7ed-ad5a90c313c4"
      },
      "source": [
        "sgd_clf.decision_function([some_digit])  # 클래스마다 부여한 점수 확인"
      ],
      "execution_count": 46,
      "outputs": [
        {
          "output_type": "execute_result",
          "data": {
            "text/plain": [
              "array([[-1319644.0334316 , -1094450.22293128,  -477415.20666682,\n",
              "          -13106.10131312, -1269452.57717759,    82661.50523942,\n",
              "         -695502.52263771,  -781968.57959698,  -366826.32000484,\n",
              "         -461749.07969019]])"
            ]
          },
          "metadata": {
            "tags": []
          },
          "execution_count": 46
        }
      ]
    },
    {
      "cell_type": "code",
      "metadata": {
        "colab": {
          "base_uri": "https://localhost:8080/"
        },
        "id": "32LnBZeD_jbL",
        "outputId": "13450831-bf9d-4066-d38a-3b95dceb3fa0"
      },
      "source": [
        "# 분류기 평가 (일반적으로 교차검증 사용)\n",
        "cross_val_score(sgd_clf, X_train, y_train, cv=3, scoring='accuracy')"
      ],
      "execution_count": 47,
      "outputs": [
        {
          "output_type": "execute_result",
          "data": {
            "text/plain": [
              "array([0.83863227, 0.86262747, 0.84993998])"
            ]
          },
          "metadata": {
            "tags": []
          },
          "execution_count": 47
        }
      ]
    },
    {
      "cell_type": "code",
      "metadata": {
        "colab": {
          "base_uri": "https://localhost:8080/"
        },
        "id": "puYtSW0R_u_M",
        "outputId": "30a72c62-26dd-4ea3-8164-fb49b76053ea"
      },
      "source": [
        "# 성능을 더 높이기 위해 정규화 적용\n",
        "from sklearn.preprocessing import StandardScaler\n",
        "\n",
        "scaler = StandardScaler()\n",
        "X_train_scaled = scaler.fit_transform(X_train.astype(np.float64))\n",
        "cross_val_score(sgd_clf, X_train_scaled, y_train, cv=3, scoring='accuracy')"
      ],
      "execution_count": 66,
      "outputs": [
        {
          "output_type": "execute_result",
          "data": {
            "text/plain": [
              "array([0.83532934, 0.81681682, 0.82882883])"
            ]
          },
          "metadata": {
            "tags": []
          },
          "execution_count": 66
        }
      ]
    },
    {
      "cell_type": "markdown",
      "metadata": {
        "id": "ViornyWgAcsN"
      },
      "source": [
        "### 3.5 에러 분석"
      ]
    },
    {
      "cell_type": "markdown",
      "metadata": {
        "id": "U1P1xnayWjES"
      },
      "source": [
        "먼저 오차행렬을 살펴보자"
      ]
    },
    {
      "cell_type": "code",
      "metadata": {
        "colab": {
          "base_uri": "https://localhost:8080/"
        },
        "id": "cyPKgkCeAVfK",
        "outputId": "624b845e-c2ab-4ef2-ea0d-8a506b299f08"
      },
      "source": [
        "# SGD분류기의 오차행렬\n",
        "y_train_pred = cross_val_predict(sgd_clf, X_train_scaled, y_train, cv=3)\n",
        "conf_mx = confusion_matrix(y_train, y_train_pred)\n",
        "conf_mx\n",
        "\n",
        "# 행이 실제클래스, 열이 예측한 클래스를 의미"
      ],
      "execution_count": 49,
      "outputs": [
        {
          "output_type": "execute_result",
          "data": {
            "text/plain": [
              "array([[461,   0,   2,   2,   2,   7,   3,   0,   2,   0],\n",
              "       [  0, 535,   5,   2,   1,   5,   0,   1,  13,   1],\n",
              "       [  4,  11, 408,  12,  16,   4,  10,   7,  16,   0],\n",
              "       [  2,   4,  19, 404,   0,  33,   2,  11,  13,   5],\n",
              "       [  2,   2,   7,   2, 485,   0,   6,   3,  10,  18],\n",
              "       [  6,   6,   3,  19,  10, 348,   9,   1,  20,  12],\n",
              "       [  4,   4,   9,   0,   6,  10, 464,   0,   4,   0],\n",
              "       [  3,   3,   3,   5,   8,   0,   0, 494,   1,  33],\n",
              "       [  0,  15,  14,  16,   2,   8,   9,   5, 383,  10],\n",
              "       [  6,   4,   4,   6,  20,   3,   0,  23,   7, 422]])"
            ]
          },
          "metadata": {
            "tags": []
          },
          "execution_count": 49
        }
      ]
    },
    {
      "cell_type": "code",
      "metadata": {
        "colab": {
          "base_uri": "https://localhost:8080/",
          "height": 275
        },
        "id": "0AQiO5G_CYZI",
        "outputId": "4b85698d-8ead-4067-a795-3507468b3a5f"
      },
      "source": [
        "# 오차행렬 그리기\n",
        "plt.matshow(conf_mx, cmap=plt.cm.gray)\n",
        "plt.show()"
      ],
      "execution_count": 50,
      "outputs": [
        {
          "output_type": "display_data",
          "data": {
            "image/png": "[encoded data removed]",
            "text/plain": [
              "<Figure size 288x288 with 1 Axes>"
            ]
          },
          "metadata": {
            "tags": [],
            "needs_background": "light"
          }
        }
      ]
    },
    {
      "cell_type": "code",
      "metadata": {
        "colab": {
          "base_uri": "https://localhost:8080/"
        },
        "id": "ty3dNuvbQpM9",
        "outputId": "5db15b7e-cc59-4784-8006-605acccec093"
      },
      "source": [
        "print(conf_mx.shape)\n",
        "row_sums = conf_mx.sum(axis=1, keepdims=True)   # keepdims=True로 지정하면 차원을 유지시켜줌\n",
        "print(row_sums.shape)\n",
        "norm_conf_mx = conf_mx / row_sums   # (에러의 절대 개수가 아니라) 에러비율을 비교하기 위해"
      ],
      "execution_count": 51,
      "outputs": [
        {
          "output_type": "stream",
          "text": [
            "(10, 10)\n",
            "(10, 1)\n"
          ],
          "name": "stdout"
        }
      ]
    },
    {
      "cell_type": "code",
      "metadata": {
        "colab": {
          "base_uri": "https://localhost:8080/",
          "height": 275
        },
        "id": "iwXzBPFOVleG",
        "outputId": "a6e9cf3b-c2b4-4c7d-8de4-5294bd99933e"
      },
      "source": [
        "np.fill_diagonal(norm_conf_mx, 0)   # 주대각선만 0으로 채운다\n",
        "plt.matshow(norm_conf_mx, cmap=plt.cm.gray)\n",
        "plt.show()"
      ],
      "execution_count": 52,
      "outputs": [
        {
          "output_type": "display_data",
          "data": {
            "image/png": "[encoded data removed]",
            "text/plain": [
              "<Figure size 288x288 with 1 Axes>"
            ]
          },
          "metadata": {
            "tags": [],
            "needs_background": "light"
          }
        }
      ]
    },
    {
      "cell_type": "markdown",
      "metadata": {
        "id": "CNmeePkyXIab"
      },
      "source": [
        "위 그림에서 9행 7열이 상당히 밝으므로, 9를 7로 잘못 예측한 데이터가 많다는 것을 의미한다.\n",
        "\n",
        "- 오차 행렬을 분석하면 분류기의 성능 향상 방안에 대한 통찰을 얻을 수 있다.\n"
      ]
    },
    {
      "cell_type": "code",
      "metadata": {
        "id": "JUiXA3XEe4_E"
      },
      "source": [
        "def plot_digit(data):\n",
        "    image = data.reshape(28, 28)\n",
        "    plt.imshow(image, cmap = mpl.cm.binary, interpolation=\"nearest\")\n",
        "    plt.axis(\"off\")"
      ],
      "execution_count": 53,
      "outputs": []
    },
    {
      "cell_type": "code",
      "metadata": {
        "id": "ysZl9p9uYTa-"
      },
      "source": [
        "# 숫자 그림을 위한 추가 함수\n",
        "def plot_digits(instances, images_per_row=10, **options):\n",
        "    size = 28\n",
        "    images_per_row = min(len(instances), images_per_row)\n",
        "    images = [instance.reshape(size,size) for instance in instances]\n",
        "    n_rows = (len(instances) - 1) // images_per_row + 1\n",
        "    row_images = []\n",
        "    n_empty = n_rows * images_per_row - len(instances)\n",
        "    images.append(np.zeros((size, size * n_empty)))\n",
        "    for row in range(n_rows):\n",
        "        rimages = images[row * images_per_row : (row + 1) * images_per_row]\n",
        "        row_images.append(np.concatenate(rimages, axis=1))\n",
        "    image = np.concatenate(row_images, axis=0)\n",
        "    plt.imshow(image, cmap = mpl.cm.binary, **options)\n",
        "    plt.axis(\"off\")"
      ],
      "execution_count": 54,
      "outputs": []
    },
    {
      "cell_type": "code",
      "metadata": {
        "colab": {
          "base_uri": "https://localhost:8080/",
          "height": 466
        },
        "id": "ykBo_eVDWGXM",
        "outputId": "b302d510-cabb-403f-e5b5-7758aa8f9c37"
      },
      "source": [
        "# 7과 9의 샘플 그려보자\n",
        "\n",
        "cl_a, cl_b = 7, 9\n",
        "X_aa = X_train[(y_train == cl_a) & (y_train_pred == cl_a)]\n",
        "X_ab = X_train[(y_train == cl_a) & (y_train_pred == cl_b)]\n",
        "X_ba = X_train[(y_train == cl_b) & (y_train_pred == cl_a)]\n",
        "X_bb = X_train[(y_train == cl_b) & (y_train_pred == cl_b)]\n",
        "\n",
        "plt.figure(figsize=(8,8))\n",
        "plt.subplot(221); plot_digits(X_aa[:25], images_per_row=5)\n",
        "plt.subplot(222); plot_digits(X_ab[:25], images_per_row=5)\n",
        "plt.subplot(223); plot_digits(X_ba[:25], images_per_row=5)\n",
        "plt.subplot(224); plot_digits(X_bb[:25], images_per_row=5)\n",
        "\n",
        "plt.show()"
      ],
      "execution_count": 55,
      "outputs": [
        {
          "output_type": "display_data",
          "data": {
            "image/png": "[encoded data removed]",
            "text/plain": [
              "<Figure size 576x576 with 4 Axes>"
            ]
          },
          "metadata": {
            "tags": [],
            "needs_background": "light"
          }
        }
      ]
    },
    {
      "cell_type": "markdown",
      "metadata": {
        "id": "zZfhDHjwZFMv"
      },
      "source": [
        "9를 7으로 잘못 에측한 데이터가 많다!\n",
        "\n",
        "- 에러를 줄이는 한가지 방법은 이미지를 중앙에 위치시키고 회전되어 있지 않도록 전처리하는 것이다."
      ]
    },
    {
      "cell_type": "markdown",
      "metadata": {
        "id": "hViy2a3MZtAh"
      },
      "source": [
        "### 3.6 다중 레이블 분류"
      ]
    },
    {
      "cell_type": "markdown",
      "metadata": {
        "id": "nz-Yi_PxZ-Ul"
      },
      "source": [
        "- 다중 레이블 분류 :\n",
        "\n",
        " 각 샘플당 레이블이 2개 이상인 분류"
      ]
    },
    {
      "cell_type": "code",
      "metadata": {
        "colab": {
          "base_uri": "https://localhost:8080/"
        },
        "id": "k1T1sbflYU04",
        "outputId": "5a5a0e82-ce9d-4a6b-f3a8-703abdf2e511"
      },
      "source": [
        "from sklearn.neighbors import KNeighborsClassifier\n",
        "\n",
        "y_train_large = (y_train >= 7)    # 7보다 크거나 같으면 True\n",
        "y_train_odd = (y_train % 2 == 1)  # 홀수면 True\n",
        "y_multilabel = np.c_[y_train_large, y_train_odd]  # 위 두 레이블을 합친다 (리스트로 묶음)\n",
        "\n",
        "knn_clf = KNeighborsClassifier()\n",
        "knn_clf.fit(X_train, y_multilabel)"
      ],
      "execution_count": 56,
      "outputs": [
        {
          "output_type": "execute_result",
          "data": {
            "text/plain": [
              "KNeighborsClassifier(algorithm='auto', leaf_size=30, metric='minkowski',\n",
              "                     metric_params=None, n_jobs=None, n_neighbors=5, p=2,\n",
              "                     weights='uniform')"
            ]
          },
          "metadata": {
            "tags": []
          },
          "execution_count": 56
        }
      ]
    },
    {
      "cell_type": "code",
      "metadata": {
        "colab": {
          "base_uri": "https://localhost:8080/"
        },
        "id": "7fDh_iOYbJIL",
        "outputId": "55c5bdeb-7bed-4460-dae5-c9ebb7059fc9"
      },
      "source": [
        "knn_clf.predict([some_digit])\n",
        "\n",
        "# [7보다 크지않고 (False), 홀수이다 (True)]"
      ],
      "execution_count": 57,
      "outputs": [
        {
          "output_type": "execute_result",
          "data": {
            "text/plain": [
              "array([[False,  True]])"
            ]
          },
          "metadata": {
            "tags": []
          },
          "execution_count": 57
        }
      ]
    },
    {
      "cell_type": "code",
      "metadata": {
        "colab": {
          "base_uri": "https://localhost:8080/"
        },
        "id": "EgWWbFddbU4M",
        "outputId": "4f8a73b3-25bc-48df-b172-b77535d22d29"
      },
      "source": [
        "# 다중 레이블 분류기 평가\n",
        "\n",
        "y_train_knn_pred = cross_val_predict(knn_clf, X_train, y_multilabel, cv=3)\n",
        "f1_score(y_multilabel, y_train_knn_pred, average='macro')   # 각 레이블의 f1 점수 평균\n",
        "\n",
        "# average='weighted'로 지정하면 지지도(타깃 레이블에 속한 샘플 수)를 레이블의 가중치로 두고 계산한다"
      ],
      "execution_count": 58,
      "outputs": [
        {
          "output_type": "execute_result",
          "data": {
            "text/plain": [
              "0.9459349842547329"
            ]
          },
          "metadata": {
            "tags": []
          },
          "execution_count": 58
        }
      ]
    },
    {
      "cell_type": "markdown",
      "metadata": {
        "id": "_AzZQJdMdeA8"
      },
      "source": [
        "### 3.7 다중 출력 분류"
      ]
    },
    {
      "cell_type": "markdown",
      "metadata": {
        "id": "EVUUe6sGdh_c"
      },
      "source": [
        "- 다중 출력 분류 :\n",
        "\n",
        " 다중 레이블 분류에서 한 레이블이 다중 클래스가 될 수 있도록 일반화한 것"
      ]
    },
    {
      "cell_type": "markdown",
      "metadata": {
        "id": "aAqoenQViBf-"
      },
      "source": [
        "이미지에서 잡음을 제거하는 시스템을 만들어보자"
      ]
    },
    {
      "cell_type": "code",
      "metadata": {
        "id": "uNV2mIvpddCQ"
      },
      "source": [
        "# randint() 함수를 사용하여 훈련세트와 테스트세트에 잡음을 추가\n",
        "\n",
        "noise = np.random.randint(0, 100, (len(X_train), 784))\n",
        "X_train_mod = X_train + noise\n",
        "noise = np.random.randint(0, 100, (len(X_test), 784))\n",
        "X_test_mod = X_test + noise\n",
        "y_train_mod = X_train\n",
        "y_test_mod = X_test"
      ],
      "execution_count": 59,
      "outputs": []
    },
    {
      "cell_type": "code",
      "metadata": {
        "colab": {
          "base_uri": "https://localhost:8080/",
          "height": 183
        },
        "id": "X66_NKhLexQt",
        "outputId": "c4a4af29-0d51-4cf8-e33d-66b623380f5d"
      },
      "source": [
        "some_index = 0\n",
        "plt.subplot(121); plot_digit(X_test_mod[some_index])\n",
        "plt.subplot(122); plot_digit(y_test_mod[some_index])\n",
        "plt.show()\n",
        "\n",
        "# 왼쪽은 잡음이 섞인 이미지, 오른쪽은 깨끗한 원본 이미지"
      ],
      "execution_count": 60,
      "outputs": [
        {
          "output_type": "display_data",
          "data": {
            "image/png": "[encoded data removed]",
            "text/plain": [
              "<Figure size 432x288 with 2 Axes>"
            ]
          },
          "metadata": {
            "tags": [],
            "needs_background": "light"
          }
        }
      ]
    },
    {
      "cell_type": "code",
      "metadata": {
        "colab": {
          "base_uri": "https://localhost:8080/"
        },
        "id": "zdxvgJmsfJ1j",
        "outputId": "60c72dd5-3dca-4c11-e166-e338b6fc3ba5"
      },
      "source": [
        "# 타깃값이 원본이미지, 훈련세트는 잡음 추가한 이미지이다\n",
        "knn_clf.fit(X_train_mod, y_train_mod)\n",
        "clean_digit = knn_clf.predict([X_test_mod[some_index]])\n",
        "clean_digit.shape"
      ],
      "execution_count": 61,
      "outputs": [
        {
          "output_type": "execute_result",
          "data": {
            "text/plain": [
              "(1, 784)"
            ]
          },
          "metadata": {
            "tags": []
          },
          "execution_count": 61
        }
      ]
    },
    {
      "cell_type": "markdown",
      "metadata": {
        "id": "OFfbgsVAgHWQ"
      },
      "source": [
        "원본 이미지와 매우 비슷하다!"
      ]
    },
    {
      "cell_type": "markdown",
      "metadata": {
        "id": "_Kq1xS4DkFAC"
      },
      "source": [
        "## 연습문제"
      ]
    },
    {
      "cell_type": "markdown",
      "metadata": {
        "id": "xDVlgSD_kIGH"
      },
      "source": [
        "#### 1. MNIST 데이터셋으로 분류기를 만들어 테스트세트에서 97% 정확도 달성하기"
      ]
    },
    {
      "cell_type": "code",
      "metadata": {
        "id": "qf3Yp76KkGfI"
      },
      "source": [
        "from sklearn.neighbors import KNeighborsClassifier\n",
        "from sklearn.model_selection import GridSearchCV\n",
        "\n",
        "knn_clf = KNeighborsClassifier()"
      ],
      "execution_count": 67,
      "outputs": []
    },
    {
      "cell_type": "code",
      "metadata": {
        "colab": {
          "base_uri": "https://localhost:8080/"
        },
        "id": "o6dQYXdrpQVA",
        "outputId": "0e6e5b40-f5b4-4e4c-dcac-71023dcd89fa"
      },
      "source": [
        "knn_clf.fit(X_train, y_train)"
      ],
      "execution_count": 85,
      "outputs": [
        {
          "output_type": "execute_result",
          "data": {
            "text/plain": [
              "KNeighborsClassifier(algorithm='auto', leaf_size=30, metric='minkowski',\n",
              "                     metric_params=None, n_jobs=None, n_neighbors=5, p=2,\n",
              "                     weights='uniform')"
            ]
          },
          "metadata": {
            "tags": []
          },
          "execution_count": 85
        }
      ]
    },
    {
      "cell_type": "code",
      "metadata": {
        "colab": {
          "base_uri": "https://localhost:8080/"
        },
        "id": "W01WZzi6lFCo",
        "outputId": "e85766c7-3765-4f92-e2dc-7a260daa0879"
      },
      "source": [
        "params = [{'weights': ['uniform', 'distance'], 'n_neighbors': [3, 5, 7, 9]}]\n",
        "\n",
        "grid_search = GridSearchCV(knn_clf, params, cv=5,    # 5-겹 교차검증 사용\n",
        "                            scoring='neg_mean_squared_error', return_train_score=True)\n",
        "\n",
        "grid_search.fit(X_train_scaled, y_train)"
      ],
      "execution_count": 73,
      "outputs": [
        {
          "output_type": "execute_result",
          "data": {
            "text/plain": [
              "GridSearchCV(cv=5, error_score=nan,\n",
              "             estimator=KNeighborsClassifier(algorithm='auto', leaf_size=30,\n",
              "                                            metric='minkowski',\n",
              "                                            metric_params=None, n_jobs=None,\n",
              "                                            n_neighbors=5, p=2,\n",
              "                                            weights='uniform'),\n",
              "             iid='deprecated', n_jobs=None,\n",
              "             param_grid=[{'n_neighbors': [3, 5, 7, 9],\n",
              "                          'weights': ['uniform', 'distance']}],\n",
              "             pre_dispatch='2*n_jobs', refit=True, return_train_score=True,\n",
              "             scoring='neg_mean_squared_error', verbose=0)"
            ]
          },
          "metadata": {
            "tags": []
          },
          "execution_count": 73
        }
      ]
    },
    {
      "cell_type": "code",
      "metadata": {
        "colab": {
          "base_uri": "https://localhost:8080/"
        },
        "id": "VZ-FEUdnlfy7",
        "outputId": "4fd9b1ff-764f-4d7b-fd70-9f853d312cad"
      },
      "source": [
        "grid_search.best_params_"
      ],
      "execution_count": 76,
      "outputs": [
        {
          "output_type": "execute_result",
          "data": {
            "text/plain": [
              "{'n_neighbors': 7, 'weights': 'distance'}"
            ]
          },
          "metadata": {
            "tags": []
          },
          "execution_count": 76
        }
      ]
    },
    {
      "cell_type": "code",
      "metadata": {
        "colab": {
          "base_uri": "https://localhost:8080/"
        },
        "id": "qJ5wSwMIp1Ax",
        "outputId": "3f4ed417-9726-4a4b-8292-03423cc3e4d9"
      },
      "source": [
        "grid_search.best_score_"
      ],
      "execution_count": 89,
      "outputs": [
        {
          "output_type": "execute_result",
          "data": {
            "text/plain": [
              "-2.91"
            ]
          },
          "metadata": {
            "tags": []
          },
          "execution_count": 89
        }
      ]
    },
    {
      "cell_type": "code",
      "metadata": {
        "id": "fy2HcsTRnZX6"
      },
      "source": [
        "grid_knn = grid_search.best_estimator_"
      ],
      "execution_count": 77,
      "outputs": []
    },
    {
      "cell_type": "code",
      "metadata": {
        "colab": {
          "base_uri": "https://localhost:8080/"
        },
        "id": "9zrzqxUjoFl0",
        "outputId": "e772faa5-f344-444e-d1fa-a19785560cbc"
      },
      "source": [
        "scaler.transform(X_test)"
      ],
      "execution_count": 79,
      "outputs": [
        {
          "output_type": "execute_result",
          "data": {
            "text/plain": [
              "array([[0., 0., 0., ..., 0., 0., 0.],\n",
              "       [0., 0., 0., ..., 0., 0., 0.],\n",
              "       [0., 0., 0., ..., 0., 0., 0.],\n",
              "       ...,\n",
              "       [0., 0., 0., ..., 0., 0., 0.],\n",
              "       [0., 0., 0., ..., 0., 0., 0.],\n",
              "       [0., 0., 0., ..., 0., 0., 0.]])"
            ]
          },
          "metadata": {
            "tags": []
          },
          "execution_count": 79
        }
      ]
    },
    {
      "cell_type": "code",
      "metadata": {
        "id": "5tlPSJkKoVPo"
      },
      "source": [
        "grid_knn_pred = grid_knn.predict(X_test)"
      ],
      "execution_count": 81,
      "outputs": []
    },
    {
      "cell_type": "code",
      "metadata": {
        "colab": {
          "base_uri": "https://localhost:8080/"
        },
        "id": "tB78ZrzXoaff",
        "outputId": "f28f3a43-1837-4f2a-dde2-3d24d541b4ae"
      },
      "source": [
        "from sklearn.metrics import accuracy_score\n",
        "\n",
        "accuracy_score(y_test, grid_knn_pred)"
      ],
      "execution_count": 84,
      "outputs": [
        {
          "output_type": "execute_result",
          "data": {
            "text/plain": [
              "0.772"
            ]
          },
          "metadata": {
            "tags": []
          },
          "execution_count": 84
        }
      ]
    },
    {
      "cell_type": "code",
      "metadata": {
        "colab": {
          "base_uri": "https://localhost:8080/"
        },
        "id": "Q0b8lBfjpLdt",
        "outputId": "cd0e6c30-77a0-494c-ed02-99be4830fcd8"
      },
      "source": [
        "knn_clf_pred = knn_clf.predict(X_test)\n",
        "accuracy_score(y_test, knn_clf_pred)"
      ],
      "execution_count": 87,
      "outputs": [
        {
          "output_type": "execute_result",
          "data": {
            "text/plain": [
              "0.815"
            ]
          },
          "metadata": {
            "tags": []
          },
          "execution_count": 87
        }
      ]
    },
    {
      "cell_type": "code",
      "metadata": {
        "colab": {
          "base_uri": "https://localhost:8080/"
        },
        "id": "MS3CqbFhpi2Q",
        "outputId": "7df5a298-50bf-47e1-d345-fc4445b1c779"
      },
      "source": [
        "accuracy_score(y_test, grid_knn_pred)"
      ],
      "execution_count": 88,
      "outputs": [
        {
          "output_type": "execute_result",
          "data": {
            "text/plain": [
              "0.772"
            ]
          },
          "metadata": {
            "tags": []
          },
          "execution_count": 88
        }
      ]
    }
  ]
}