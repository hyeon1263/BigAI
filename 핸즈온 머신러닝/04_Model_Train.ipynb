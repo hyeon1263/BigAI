{
  "nbformat": 4,
  "nbformat_minor": 0,
  "metadata": {
    "colab": {
      "name": "04_Model_Train",
      "provenance": [],
      "collapsed_sections": []
    },
    "kernelspec": {
      "name": "python3",
      "display_name": "Python 3"
    },
    "language_info": {
      "name": "python"
    }
  },
  "cells": [
    {
      "cell_type": "markdown",
      "metadata": {
        "id": "yM7peuEao3R7"
      },
      "source": [
        "# Chapter04 모델 훈련"
      ]
    },
    {
      "cell_type": "code",
      "metadata": {
        "id": "tD4NF1dn7_TA"
      },
      "source": [
        "import numpy as np\n",
        "import matplotlib.pyplot as plt\n",
        "import pandas as pd\n",
        "import os\n",
        "import sys"
      ],
      "execution_count": 1,
      "outputs": []
    },
    {
      "cell_type": "markdown",
      "metadata": {
        "id": "-8Tsjj8opTGs"
      },
      "source": [
        "### 4.1 선형 회귀"
      ]
    },
    {
      "cell_type": "markdown",
      "metadata": {
        "id": "c8FEIEwf0OGq"
      },
      "source": [
        "선형회귀 모델의 예측 ( $\\hat{y}$ )\n",
        "\n",
        "$\\hat{y} = h_\\theta(x) = \\theta \\space \\cdot x = \\theta^T \\cdot x$\n",
        "\n",
        "- $\\theta$ : 가중치\n",
        "\n",
        "- $x$ : 특성"
      ]
    },
    {
      "cell_type": "markdown",
      "metadata": {
        "id": "y_OGvhql2Ve9"
      },
      "source": [
        "$MSE(X, h_\\theta) = \\frac{1}{m} \\Sigma^m_{i=1} ( \\theta^T x^{(i)} - y^{(i)})^2 = \\frac{1}{m} \\Sigma^m_{i=1} ( X \\cdot \\hat{\\theta} - y^{(i)})^2$\n",
        "\n",
        "미분 계산 : $\\frac{\\partial L}{\\partial \\hat{\\theta}}$ = 0 $\\space$  (기울기 0)\n",
        "\n",
        "--> $\\hat{\\theta} = (X^T X)^{-1} X^T y$ ( **정규 방정식** )"
      ]
    },
    {
      "cell_type": "code",
      "metadata": {
        "id": "G3u2vKvkofKS"
      },
      "source": [
        "# (선형 데이터셋) 무작위로 생성\n",
        "X = 2 * np.random.rand(100, 1)\n",
        "y = 4 + 3 * X + np.random.randn(100, 1)  # y = 3x + 4 + (가우시안 잡음)"
      ],
      "execution_count": 2,
      "outputs": []
    },
    {
      "cell_type": "code",
      "metadata": {
        "colab": {
          "base_uri": "https://localhost:8080/",
          "height": 287
        },
        "id": "zKqv-PXG8NS2",
        "outputId": "85b0f917-d1a4-48e6-d3d9-42147690a580"
      },
      "source": [
        "plt.plot(X, y, 'b.')\n",
        "plt.axis([0, 2, 0, 15])\n",
        "plt.xlabel('$X1$', fontsize=18)\n",
        "plt.ylabel('$y$', rotation=0, fontsize=18)\n",
        "plt.show()"
      ],
      "execution_count": 3,
      "outputs": [
        {
          "output_type": "display_data",
          "data": {
            "image/png": "[encoded data removed]",
            "text/plain": [
              "<Figure size 432x288 with 1 Axes>"
            ]
          },
          "metadata": {
            "tags": [],
            "needs_background": "light"
          }
        }
      ]
    },
    {
      "cell_type": "markdown",
      "metadata": {
        "id": "phEsM5uvEdGV"
      },
      "source": [
        "위 정규방정식을 사용하여 $\\hat{\\theta}$ 를 구해보자"
      ]
    },
    {
      "cell_type": "code",
      "metadata": {
        "colab": {
          "base_uri": "https://localhost:8080/"
        },
        "id": "0q8BUfQDDOJo",
        "outputId": "bb98da10-29b8-4ce0-bc10-8aa502902b5c"
      },
      "source": [
        "X_b = np.c_[np.ones((100, 1)), X]   # X에 편향계수 추가\n",
        "theta_best = np.linalg.inv(X_b.T.dot(X_b)).dot(X_b.T).dot(y)  # 정규 방정식\n",
        "theta_best"
      ],
      "execution_count": 4,
      "outputs": [
        {
          "output_type": "execute_result",
          "data": {
            "text/plain": [
              "array([[3.88641118],\n",
              "       [3.05877276]])"
            ]
          },
          "metadata": {
            "tags": []
          },
          "execution_count": 4
        }
      ]
    },
    {
      "cell_type": "code",
      "metadata": {
        "colab": {
          "base_uri": "https://localhost:8080/"
        },
        "id": "3TMHQ60eKfQW",
        "outputId": "b94e79dd-a9ea-4b94-95ac-bce4a5629f2d"
      },
      "source": [
        "# theta_best로 예측하기\n",
        "X_new = np.array([[0], [2]])\n",
        "X_new_b = np.c_[np.ones((2,1)), X_new]  # 펀향 계수 추가\n",
        "y_predict = X_new_b.dot(theta_best)\n",
        "y_predict"
      ],
      "execution_count": 5,
      "outputs": [
        {
          "output_type": "execute_result",
          "data": {
            "text/plain": [
              "array([[ 3.88641118],\n",
              "       [10.0039567 ]])"
            ]
          },
          "metadata": {
            "tags": []
          },
          "execution_count": 5
        }
      ]
    },
    {
      "cell_type": "code",
      "metadata": {
        "colab": {
          "base_uri": "https://localhost:8080/",
          "height": 265
        },
        "id": "YN_etLKDT1tM",
        "outputId": "3dc9e9d5-2357-4b65-e67f-56f19e775fb3"
      },
      "source": [
        "plt.plot(X_new, y_predict, 'r-')\n",
        "plt.plot(X, y, 'b.')\n",
        "plt.axis([0, 2, 0, 15])\n",
        "plt.show()"
      ],
      "execution_count": 6,
      "outputs": [
        {
          "output_type": "display_data",
          "data": {
            "image/png": "[encoded data removed]",
            "text/plain": [
              "<Figure size 432x288 with 1 Axes>"
            ]
          },
          "metadata": {
            "tags": [],
            "needs_background": "light"
          }
        }
      ]
    },
    {
      "cell_type": "code",
      "metadata": {
        "colab": {
          "base_uri": "https://localhost:8080/"
        },
        "id": "bWPY5hS-WV6F",
        "outputId": "89981130-be41-4bc0-e80d-d972b91d8cf8"
      },
      "source": [
        "# 사이킷런에서의 선형 회귀 수행\n",
        "from sklearn.linear_model import LinearRegression\n",
        "lin_reg = LinearRegression()\n",
        "lin_reg.fit(X, y)\n",
        "print(lin_reg.intercept_, lin_reg.coef_)\n",
        "lin_reg.predict(X_new)"
      ],
      "execution_count": 7,
      "outputs": [
        {
          "output_type": "stream",
          "text": [
            "[3.88641118] [[3.05877276]]\n"
          ],
          "name": "stdout"
        },
        {
          "output_type": "execute_result",
          "data": {
            "text/plain": [
              "array([[ 3.88641118],\n",
              "       [10.0039567 ]])"
            ]
          },
          "metadata": {
            "tags": []
          },
          "execution_count": 7
        }
      ]
    },
    {
      "cell_type": "code",
      "metadata": {
        "colab": {
          "base_uri": "https://localhost:8080/"
        },
        "id": "sVPF6JUSWkXf",
        "outputId": "ae468500-a63d-4a21-9780-82bd6acf6532"
      },
      "source": [
        "# LinearRegression()은 np.linalg.lstsq이 기반이 된다\n",
        "\n",
        "# residuals: 실제데이터와의 차이\n",
        "theta_best_svd, residuals, rank, s = np.linalg.lstsq(X_b, y, rcond=1e-6)   # Least Square\n",
        "print(theta_best_svd)\n",
        "print(f'residuals: {residuals}')"
      ],
      "execution_count": 46,
      "outputs": [
        {
          "output_type": "stream",
          "text": [
            "[[3.88641118]\n",
            " [3.05877276]]\n",
            "residuals: [101.74044299]\n"
          ],
          "name": "stdout"
        }
      ]
    },
    {
      "cell_type": "code",
      "metadata": {
        "colab": {
          "base_uri": "https://localhost:8080/"
        },
        "id": "Uv5uGC097xSI",
        "outputId": "512c3cad-92b7-4a81-c192-c8145628fc1e"
      },
      "source": [
        "np.linalg.pinv(X_b).dot(y)  # 유사 역행렬 (pseudo inverse)"
      ],
      "execution_count": 47,
      "outputs": [
        {
          "output_type": "execute_result",
          "data": {
            "text/plain": [
              "array([[3.88641118],\n",
              "       [3.05877276]])"
            ]
          },
          "metadata": {
            "tags": []
          },
          "execution_count": 47
        }
      ]
    },
    {
      "cell_type": "markdown",
      "metadata": {
        "id": "kBLSrxsW8vYD"
      },
      "source": [
        "유사역행렬은 **SVD 분해** 기법을 사용하여 계산된다.\n",
        "\n",
        "- 정규방정식은 $X^T X$ 의 역행렬이 없으면 작동하지 않지만, 유사역행렬은 항상 구할 수 있다.\n",
        "\n",
        "- SVD 방법의 계산복잡도는 정규방정식보다 4배 가량 더 빠르다.\n",
        "\n",
        "---"
      ]
    },
    {
      "cell_type": "markdown",
      "metadata": {
        "id": "vPT8dmRQ9s1v"
      },
      "source": [
        "### 4.2 경사 하강법"
      ]
    },
    {
      "cell_type": "markdown",
      "metadata": {
        "id": "uRVVX2rO91Wj"
      },
      "source": [
        "GD : 비용 함수를 최소화하기 위해 반복해서 파라미터를 조정해가는 것\n",
        "\n",
        "- 경사 하강법을 사용할 때는 반드시 모든 특성이 같은 스케일을 갖도록 만들어야 한다. (특성 스케일링)\n",
        "\n",
        "$$\\theta^{(next \\space step)_i} = \\theta_{(i)} - \\eta \\frac{\\partial L}{\\partial \\theta_{(i)}}$$"
      ]
    },
    {
      "cell_type": "markdown",
      "metadata": {
        "id": "2krKWkIXojHP"
      },
      "source": [
        "- 배치 경사 하강법 (BGD)"
      ]
    },
    {
      "cell_type": "code",
      "metadata": {
        "colab": {
          "base_uri": "https://localhost:8080/"
        },
        "id": "JeoOR5ld8jy6",
        "outputId": "72e3fb72-d28d-40c7-a727-c9a53101af8f"
      },
      "source": [
        "# 배치 경사하강법 구현\n",
        "\n",
        "eta = 0.1   # 학습률\n",
        "n_iterations = 1000  # 반복 수\n",
        "m = 100     # 샘플 수\n",
        "\n",
        "theta = np.random.randn(2,1)  # 무작위 초기화\n",
        "print(f\"초기 theta 값: \\n{theta}\\n\")\n",
        "\n",
        "for iteration in range(n_iterations):\n",
        "    gradients = 2/m * X_b.T.dot(X_b.dot(theta) - y)\n",
        "    theta = theta - eta * gradients\n",
        "    \n",
        "print(f\"학습 후 theta 값: \\n{theta}\")"
      ],
      "execution_count": 108,
      "outputs": [
        {
          "output_type": "stream",
          "text": [
            "초기 theta 값: \n",
            "[[-0.3139951 ]\n",
            " [ 0.31437353]]\n",
            "\n",
            "학습 후 theta 값: \n",
            "[[3.88641118]\n",
            " [3.05877276]]\n"
          ],
          "name": "stdout"
        }
      ]
    },
    {
      "cell_type": "code",
      "metadata": {
        "colab": {
          "base_uri": "https://localhost:8080/",
          "height": 253
        },
        "id": "FWnvZ-y4ZruS",
        "outputId": "e1af7dc4-298f-4b02-8b0a-cda6524db9f0"
      },
      "source": [
        "# 학습률에 따른 학습 상태\n",
        "theta_path_bgd = []\n",
        "\n",
        "def plot_gradient_descent(theta, eta, theta_path=None):\n",
        "    m = len(X_b)\n",
        "    plt.plot(X, y, \"b.\")\n",
        "    n_iterations = 1000\n",
        "    for iteration in range(n_iterations):\n",
        "        if iteration < 10:\n",
        "            y_predict = X_new_b.dot(theta)\n",
        "            style = \"b-\" if iteration > 0 else \"r--\"\n",
        "            plt.plot(X_new, y_predict, style)\n",
        "        gradients = 2/m * X_b.T.dot(X_b.dot(theta) - y)\n",
        "        theta = theta - eta * gradients\n",
        "        if theta_path is not None:\n",
        "            theta_path.append(theta)\n",
        "    plt.xlabel(\"$x_1$\", fontsize=18)\n",
        "    plt.axis([0, 2, 0, 15])\n",
        "    plt.title(r\"$\\eta = {}$\".format(eta), fontsize=16)\n",
        "\n",
        "np.random.seed(42)\n",
        "theta = np.random.randn(2,1)  # random initialization\n",
        "\n",
        "plt.figure(figsize=(10,3))\n",
        "plt.subplot(131); plot_gradient_descent(theta, eta=0.02)\n",
        "plt.ylabel(\"$y$\", rotation=0, fontsize=18)\n",
        "plt.subplot(132); plot_gradient_descent(theta, eta=0.1, theta_path=theta_path_bgd)\n",
        "plt.subplot(133); plot_gradient_descent(theta, eta=0.5)\n",
        "plt.show()"
      ],
      "execution_count": 71,
      "outputs": [
        {
          "output_type": "display_data",
          "data": {
            "image/png": "[encoded data removed]",
            "text/plain": [
              "<Figure size 720x216 with 3 Axes>"
            ]
          },
          "metadata": {
            "tags": [],
            "needs_background": "light"
          }
        }
      ]
    },
    {
      "cell_type": "markdown",
      "metadata": {
        "id": "M-UPn-H9aAYM"
      },
      "source": [
        "적절한 학습률을 적용해주어야 학습이 잘된다. --> 그리드 탐색으로 최적의 학습률 찾기"
      ]
    },
    {
      "cell_type": "markdown",
      "metadata": {
        "id": "-6uYMaduoaQG"
      },
      "source": [
        "- 확률적 경사 하강법 (SGD)"
      ]
    },
    {
      "cell_type": "code",
      "metadata": {
        "colab": {
          "base_uri": "https://localhost:8080/",
          "height": 287
        },
        "id": "3UUOba4AaceQ",
        "outputId": "028b5db1-07ed-426f-ede3-330382b374b0"
      },
      "source": [
        "# SGD 구현\n",
        "\n",
        "theta_path_sgd = []\n",
        "m = len(X_b)\n",
        "np.random.seed(42)\n",
        "\n",
        "n_epochs = 50   # 에포크\n",
        "t0, t1 = 5, 50  # 학습 스케줄 하이퍼파라미터\n",
        "# 학습 스케줄: 매 반복에서 학습률을 결정하는 함수\n",
        "\n",
        "def learning_schedule(t):   # 학습률을 점진적으로 감소시키는 학습 스케줄\n",
        "    return t0 / (t + t1)\n",
        "\n",
        "theta = np.random.randn(2,1)  # 무작위로 초기화\n",
        "\n",
        "for epoch in range(n_epochs):   # 에포크만큼 반복\n",
        "    for i in range(m):          # 훈련 샘플 수 만큼 반복\n",
        "\n",
        "        # 첫 에포크일때 스텝 그리기\n",
        "        if epoch == 0 and i < 20:\n",
        "            y_predict = X_new_b.dot(theta)  \n",
        "            style = \"b-\" if i > 0 else \"r--\"\n",
        "            plt.plot(X_new, y_predict, style)\n",
        "\n",
        "        random_index = np.random.randint(m)     # 랜덤으로\n",
        "        xi = X_b[random_index:random_index+1]   # 하나씩만 따로 훈련\n",
        "        yi = y[random_index:random_index+1]\n",
        "        gradients = 2 * xi.T.dot(xi.dot(theta) - yi)\n",
        "        eta = learning_schedule(epoch * m + i)\n",
        "        theta = theta - eta * gradients\n",
        "\n",
        "        theta_path_sgd.append(theta)      \n",
        "\n",
        "plt.plot(X, y, \"b.\")\n",
        "plt.xlabel(\"$x_1$\", fontsize=18)\n",
        "plt.ylabel(\"$y$\", rotation=0, fontsize=18)\n",
        "plt.axis([0, 2, 0, 15])                   \n",
        "plt.show()     "
      ],
      "execution_count": 183,
      "outputs": [
        {
          "output_type": "display_data",
          "data": {
            "image/png": "[encoded data removed]",
            "text/plain": [
              "<Figure size 432x288 with 1 Axes>"
            ]
          },
          "metadata": {
            "tags": [],
            "needs_background": "light"
          }
        }
      ]
    },
    {
      "cell_type": "code",
      "metadata": {
        "colab": {
          "base_uri": "https://localhost:8080/"
        },
        "id": "t4tWO-FygyTy",
        "outputId": "c82a23bd-0c34-4bea-c8ba-1b519798d8c8"
      },
      "source": [
        "from sklearn.linear_model import SGDRegressor\n",
        "\n",
        "# max_iter: 에포크 횟수\n",
        "# tol: 한 에포크에서 tol 보다 적게 손실이 줄어들 때까지 실행된다는 의미\n",
        "sgd_reg = SGDRegressor(max_iter=1000, tol=1e-3, penalty=None, eta0=0.1)\n",
        "sgd_reg.fit(X, y.ravel())   # ravel() == flatten()"
      ],
      "execution_count": 167,
      "outputs": [
        {
          "output_type": "execute_result",
          "data": {
            "text/plain": [
              "SGDRegressor(alpha=0.0001, average=False, early_stopping=False, epsilon=0.1,\n",
              "             eta0=0.1, fit_intercept=True, l1_ratio=0.15,\n",
              "             learning_rate='invscaling', loss='squared_loss', max_iter=1000,\n",
              "             n_iter_no_change=5, penalty=None, power_t=0.25, random_state=None,\n",
              "             shuffle=True, tol=0.001, validation_fraction=0.1, verbose=0,\n",
              "             warm_start=False)"
            ]
          },
          "metadata": {
            "tags": []
          },
          "execution_count": 167
        }
      ]
    },
    {
      "cell_type": "code",
      "metadata": {
        "colab": {
          "base_uri": "https://localhost:8080/"
        },
        "id": "h03KMDNsm9MP",
        "outputId": "6e1e90dc-9b6c-4cb0-da8b-caba5ca0d456"
      },
      "source": [
        "sgd_reg.intercept_, sgd_reg.coef_"
      ],
      "execution_count": 169,
      "outputs": [
        {
          "output_type": "execute_result",
          "data": {
            "text/plain": [
              "(array([3.89613578]), array([3.107683]))"
            ]
          },
          "metadata": {
            "tags": []
          },
          "execution_count": 169
        }
      ]
    },
    {
      "cell_type": "markdown",
      "metadata": {
        "id": "QqQxdZejoqwI"
      },
      "source": [
        "- 미니배치 경사 하강법 (MGD = BGD + SGD)"
      ]
    },
    {
      "cell_type": "code",
      "metadata": {
        "colab": {
          "base_uri": "https://localhost:8080/"
        },
        "id": "-B7qXs77nxiO",
        "outputId": "debd6e85-e78b-47d7-80c5-9d2158c860e4"
      },
      "source": [
        "# 미니배치 경사하강법 구현\n",
        "\n",
        "theta_path_mgd = []\n",
        "\n",
        "n_iterations = 50    # 에포크\n",
        "minibatch_size = 20  # 미니배치 크기\n",
        "\n",
        "np.random.seed(42)\n",
        "theta = np.random.randn(2,1)  # 랜덤 초기화\n",
        "\n",
        "t0, t1 = 200, 1000\n",
        "def learning_schedule(t):\n",
        "    return t0 / (t + t1)\n",
        "\n",
        "t = 0\n",
        "for epoch in range(n_iterations):\n",
        "    shuffled_indices = np.random.permutation(m)\n",
        "    X_b_shuffled = X_b[shuffled_indices]\n",
        "    y_shuffled = y[shuffled_indices]\n",
        "    for i in range(0, m, minibatch_size):\n",
        "        t += 1\n",
        "        xi = X_b_shuffled[i:i+minibatch_size]   # 미니배치로 사이즈로 묶어서 학습\n",
        "        yi = y_shuffled[i:i+minibatch_size]\n",
        "        gradients = 2/minibatch_size * xi.T.dot(xi.dot(theta) - yi)\n",
        "        eta = learning_schedule(t)\n",
        "        theta = theta - eta * gradients\n",
        "        theta_path_mgd.append(theta)\n",
        "\n",
        "theta"
      ],
      "execution_count": 180,
      "outputs": [
        {
          "output_type": "execute_result",
          "data": {
            "text/plain": [
              "array([[3.90127139],\n",
              "       [3.06319431]])"
            ]
          },
          "metadata": {
            "tags": []
          },
          "execution_count": 180
        }
      ]
    },
    {
      "cell_type": "code",
      "metadata": {
        "colab": {
          "base_uri": "https://localhost:8080/",
          "height": 292
        },
        "id": "_yVDEw13p5Dz",
        "outputId": "12dba0dd-9914-426b-ee14-faeab3ea259b"
      },
      "source": [
        "theta_path_bgd = np.array(theta_path_bgd)\n",
        "theta_path_sgd = np.array(theta_path_sgd)\n",
        "theta_path_mgd = np.array(theta_path_mgd)\n",
        "\n",
        "plt.figure(figsize=(7,4))\n",
        "plt.plot(theta_path_sgd[:, 0], theta_path_sgd[:, 1], \"r-s\", linewidth=1, label=\"Stochastic\")\n",
        "plt.plot(theta_path_mgd[:, 0], theta_path_mgd[:, 1], \"g-+\", linewidth=2, label=\"Mini-batch\")\n",
        "plt.plot(theta_path_bgd[:, 0], theta_path_bgd[:, 1], \"b-o\", linewidth=3, label=\"Batch\")\n",
        "plt.legend(loc=\"upper left\", fontsize=16)\n",
        "plt.xlabel(r\"$\\theta_0$\", fontsize=20)\n",
        "plt.ylabel(r\"$\\theta_1$   \", fontsize=20, rotation=0)\n",
        "plt.axis([2.5, 4.5, 2.3, 3.9])\n",
        "plt.show()"
      ],
      "execution_count": 184,
      "outputs": [
        {
          "output_type": "display_data",
          "data": {
            "image/png": "[encoded data removed]",
            "text/plain": [
              "<Figure size 504x288 with 1 Axes>"
            ]
          },
          "metadata": {
            "tags": [],
            "needs_background": "light"
          }
        }
      ]
    },
    {
      "cell_type": "markdown",
      "metadata": {
        "id": "1UuiheYlqagS"
      },
      "source": [
        "- 미니배치의 크기를 크게 하면 : SGD보다 덜 불규칙적으로 움직이나 local minimum에 빠질 확률이 조금 높아짐\n",
        "\n",
        "---"
      ]
    },
    {
      "cell_type": "markdown",
      "metadata": {
        "id": "1ox_wltlq06j"
      },
      "source": [
        "### 4.3 다항 회귀"
      ]
    },
    {
      "cell_type": "markdown",
      "metadata": {
        "id": "RFDRdqzKq708"
      },
      "source": [
        "(각 특성의 거듭제곱이라던지) 확장된 특성을 포함한 데이터셋에 선형 모델을 훈련시키는 것"
      ]
    },
    {
      "cell_type": "markdown",
      "metadata": {
        "id": "bNNTMvmUrdk9"
      },
      "source": [
        "간단한 2차방정식으로 비선형 데이터를 만들어보자\n",
        "\n",
        ": $y = 0.5x_1^2 + 1.0x_1 + 2.0$"
      ]
    },
    {
      "cell_type": "code",
      "metadata": {
        "id": "zn71bMTqqEQe"
      },
      "source": [
        "m = 100\n",
        "X = 6 * np.random.rand(m, 1) - 3\n",
        "y = 0.5 * X **2 + X + 2 + np.random.randn(m, 1)"
      ],
      "execution_count": 220,
      "outputs": []
    },
    {
      "cell_type": "code",
      "metadata": {
        "colab": {
          "base_uri": "https://localhost:8080/",
          "height": 291
        },
        "id": "m1fe8Z4PrNso",
        "outputId": "bd44fa78-ee2f-40ae-ea66-ae7d8c5a0144"
      },
      "source": [
        "plt.plot(X, y, \"b.\")\n",
        "plt.xlabel(\"$x_1$\", fontsize=18)\n",
        "plt.ylabel(\"$y$\", rotation=0, fontsize=18)\n",
        "plt.axis([-3, 3, 0, 10])\n",
        "plt.show()"
      ],
      "execution_count": 221,
      "outputs": [
        {
          "output_type": "display_data",
          "data": {
            "image/png": "[encoded data removed]",
            "text/plain": [
              "<Figure size 432x288 with 1 Axes>"
            ]
          },
          "metadata": {
            "tags": [],
            "needs_background": "light"
          }
        }
      ]
    },
    {
      "cell_type": "code",
      "metadata": {
        "colab": {
          "base_uri": "https://localhost:8080/"
        },
        "id": "rVVJeonGvTOs",
        "outputId": "363a43ca-d634-4c15-b5c5-2bed7fb87ea5"
      },
      "source": [
        "# 각 특성을 제곱하여 새로운 특성 추가\n",
        "from sklearn.preprocessing import PolynomialFeatures\n",
        "poly_features = PolynomialFeatures(degree=2, include_bias=False)\n",
        "X_poly = poly_features.fit_transform(X)\n",
        "X[0], X_poly[0]"
      ],
      "execution_count": 222,
      "outputs": [
        {
          "output_type": "execute_result",
          "data": {
            "text/plain": [
              "(array([-0.65643835]), array([-0.65643835,  0.43091131]))"
            ]
          },
          "metadata": {
            "tags": []
          },
          "execution_count": 222
        }
      ]
    },
    {
      "cell_type": "code",
      "metadata": {
        "colab": {
          "base_uri": "https://localhost:8080/"
        },
        "id": "MKHnjTdlvyAB",
        "outputId": "9d34207a-5c2f-43c2-c0e7-0fab50a61d4a"
      },
      "source": [
        "lin_reg = LinearRegression()\n",
        "lin_reg.fit(X_poly, y)\n",
        "lin_reg.intercept_, lin_reg.coef_"
      ],
      "execution_count": 223,
      "outputs": [
        {
          "output_type": "execute_result",
          "data": {
            "text/plain": [
              "(array([2.35749568]), array([[0.99408314, 0.42635081]]))"
            ]
          },
          "metadata": {
            "tags": []
          },
          "execution_count": 223
        }
      ]
    },
    {
      "cell_type": "code",
      "metadata": {
        "colab": {
          "base_uri": "https://localhost:8080/",
          "height": 291
        },
        "id": "rGutO9rawDoM",
        "outputId": "aa4311d4-ee4e-457f-be28-5fb5eac17f99"
      },
      "source": [
        "X_new=np.linspace(-3, 3, 100).reshape(100, 1)\n",
        "X_new_poly = poly_features.transform(X_new)\n",
        "y_new = lin_reg.predict(X_new_poly)\n",
        "plt.plot(X, y, \"b.\")\n",
        "plt.plot(X_new, y_new, \"r-\", linewidth=2, label=\"Predictions\")\n",
        "plt.xlabel(\"$x_1$\", fontsize=18)\n",
        "plt.ylabel(\"$y$\", rotation=0, fontsize=18)\n",
        "plt.legend(loc=\"upper left\", fontsize=14)\n",
        "plt.axis([-3, 3, 0, 10])\n",
        "plt.show()"
      ],
      "execution_count": 224,
      "outputs": [
        {
          "output_type": "display_data",
          "data": {
            "image/png": "[encoded data removed]",
            "text/plain": [
              "<Figure size 432x288 with 1 Axes>"
            ]
          },
          "metadata": {
            "tags": [],
            "needs_background": "light"
          }
        }
      ]
    },
    {
      "cell_type": "markdown",
      "metadata": {
        "id": "4RDIYYw1xQ8l"
      },
      "source": [
        "### 4.4 학습 곡선"
      ]
    },
    {
      "cell_type": "code",
      "metadata": {
        "id": "Gy8sys8Lxr4b"
      },
      "source": [
        "# 훈련세트의 크기에 따른 학습 곡선\n",
        "\n",
        "from sklearn.metrics import mean_squared_error\n",
        "from sklearn.model_selection import train_test_split\n",
        "\n",
        "def plot_learning_curves(model, X, y):\n",
        "    X_train, X_val, y_train, y_val = train_test_split(X, y, test_size=0.2, random_state=10)  # 검증세트 떼어내기\n",
        "    train_errors, val_errors = [], []  # 그래프를 그려주기 위한 각 저장공간\n",
        "    for m in range(1, len(X_train)):\n",
        "        model.fit(X_train[:m], y_train[:m])   # 훈련세트의 크기를 점점 늘려가면서 훈련\n",
        "        y_train_predict = model.predict(X_train[:m])\n",
        "        y_val_predict = model.predict(X_val)\n",
        "        train_errors.append(mean_squared_error(y_train[:m], y_train_predict))   # 훈련세트 MSE\n",
        "        val_errors.append(mean_squared_error(y_val, y_val_predict))             # 검증세트 MSE\n",
        "\n",
        "    plt.plot(np.sqrt(train_errors), \"r-+\", linewidth=2, label=\"train\")\n",
        "    plt.plot(np.sqrt(val_errors), \"b-\", linewidth=3, label=\"val\")\n",
        "    plt.legend(loc=\"upper right\", fontsize=14)  \n",
        "    plt.xlabel(\"Training set size\", fontsize=14)\n",
        "    plt.ylabel(\"RMSE\", fontsize=14)             "
      ],
      "execution_count": 225,
      "outputs": []
    },
    {
      "cell_type": "code",
      "metadata": {
        "colab": {
          "base_uri": "https://localhost:8080/",
          "height": 287
        },
        "id": "_xI53194xtLK",
        "outputId": "2e3c98bf-b823-47dd-9360-fdaf1b003bc5"
      },
      "source": [
        "lin_reg = LinearRegression()\n",
        "plot_learning_curves(lin_reg, X, y)\n",
        "plt.axis([0, 80, 0, 3])            \n",
        "plt.show()  "
      ],
      "execution_count": 226,
      "outputs": [
        {
          "output_type": "display_data",
          "data": {
            "image/png": "[encoded data removed]",
            "text/plain": [
              "<Figure size 432x288 with 1 Axes>"
            ]
          },
          "metadata": {
            "tags": [],
            "needs_background": "light"
          }
        }
      ]
    },
    {
      "cell_type": "markdown",
      "metadata": {
        "id": "yeFffUNny-bl"
      },
      "source": [
        "과소적합의 전형적인 모습이다."
      ]
    },
    {
      "cell_type": "code",
      "metadata": {
        "colab": {
          "base_uri": "https://localhost:8080/",
          "height": 287
        },
        "id": "OlibDBE_xvdL",
        "outputId": "5e789ef2-3e69-4178-b734-70253159ee17"
      },
      "source": [
        "from sklearn.pipeline import Pipeline\n",
        "\n",
        "polynomial_regression = Pipeline([\n",
        "        ('poly_features', PolynomialFeatures(degree=10, include_bias=False)),\n",
        "        ('lin_reg', LinearRegression())\n",
        "    ])\n",
        "plot_learning_curves(polynomial_regression, X, y)\n",
        "plt.axis([0, 80, 0, 3])\n",
        "plt.show()"
      ],
      "execution_count": 235,
      "outputs": [
        {
          "output_type": "display_data",
          "data": {
            "image/png": "[encoded data removed]",
            "text/plain": [
              "<Figure size 432x288 with 1 Axes>"
            ]
          },
          "metadata": {
            "tags": [],
            "needs_background": "light"
          }
        }
      ]
    },
    {
      "cell_type": "markdown",
      "metadata": {
        "id": "03bLHXpO0BCg"
      },
      "source": [
        "과대적합 모델의 모습\n",
        "\n",
        "더 많은 훈련 데이터를 추가하는 것이 과대적합을 개선하는 방법 중 하나이다.\n",
        "\n",
        "---"
      ]
    },
    {
      "cell_type": "markdown",
      "metadata": {
        "id": "qLkwNTyS0pps"
      },
      "source": [
        "### 4.5 규제가 있는 선형 모델"
      ]
    },
    {
      "cell_type": "markdown",
      "metadata": {
        "id": "o0WJLQee1BIo"
      },
      "source": [
        "과대적합을 감소시키려면 모델에 규제를 가해야 한다."
      ]
    },
    {
      "cell_type": "markdown",
      "metadata": {
        "id": "4h78m0C41GJv"
      },
      "source": [
        "- 릿지 회귀"
      ]
    },
    {
      "cell_type": "code",
      "metadata": {
        "id": "qKofw40b0Lp8"
      },
      "source": [
        ""
      ],
      "execution_count": null,
      "outputs": []
    }
  ]
}