{
  "nbformat": 4,
  "nbformat_minor": 0,
  "metadata": {
    "colab": {
      "name": "백준10870.py",
      "private_outputs": true,
      "provenance": [],
      "collapsed_sections": [],
      "authorship_tag": "ABX9TyO9ByQqp4az3QkmNV5q+UAt",
      "include_colab_link": true
    },
    "kernelspec": {
      "name": "python3",
      "display_name": "Python 3"
    }
  },
  "cells": [
    {
      "cell_type": "markdown",
      "metadata": {
        "id": "view-in-github",
        "colab_type": "text"
      },
      "source": [
        "<a href=\"https://colab.research.google.com/github/hyeon1263/BigAI/blob/main/%EB%B0%B1%EC%A4%8010870_py.ipynb\" target=\"_parent\"><img src=\"https://colab.research.google.com/assets/colab-badge.svg\" alt=\"Open In Colab\"/></a>"
      ]
    },
    {
      "cell_type": "code",
      "metadata": {
        "id": "Tu1Ctdd2sc8I"
      },
      "source": [
        "# 피보나치 수 5\r\n",
        "\r\n",
        "n = int(input())\r\n",
        "f = [0, 1]\r\n",
        "\r\n",
        "for x in range(n):\r\n",
        "    a = f[x] + f[x+1]\r\n",
        "    f.append(a)\r\n",
        "\r\n",
        "print(f[n])"
      ],
      "execution_count": null,
      "outputs": []
    }
  ]
}