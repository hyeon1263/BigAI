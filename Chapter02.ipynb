{
  "nbformat": 4,
  "nbformat_minor": 0,
  "metadata": {
    "colab": {
      "name": "Chapter02",
      "provenance": [],
      "collapsed_sections": []
    },
    "kernelspec": {
      "name": "python3",
      "display_name": "Python 3"
    },
    "language_info": {
      "name": "python"
    }
  },
  "cells": [
    {
      "cell_type": "markdown",
      "metadata": {
        "id": "LUOuUXTboMR-"
      },
      "source": [
        "# Chapter 02 퍼셉트론"
      ]
    },
    {
      "cell_type": "markdown",
      "metadata": {
        "id": "npk3EC6GI_ks"
      },
      "source": [
        "다수의 **신호**를 입력으로 받아 하나의 **신호**를 출력한다.\n",
        "\n",
        "- 신호 : 흐름이 있는 것 --> 흐른다 (1) or 안흐른다 (0)\n",
        "\n",
        "입력 신호, 가중치, 출력 신호, 뉴런(노드)로 이루어져 있다"
      ]
    },
    {
      "cell_type": "markdown",
      "metadata": {
        "id": "TyaPgqgnteRf"
      },
      "source": [
        "입력 신호에 가중치가 곱해져서 뉴런에 보내지는데, \n",
        "\n",
        "뉴런에서 보내온 신호의 총합이 정해진 한계 (임계값 θ)을 넘어서면 1을 출력한다 --> '뉴런이 활성화한다' 라고 한다.\n",
        "\n",
        "- **(식 2-1)** w1,w2 = 가중치, x1,x2 = 입력신호\n",
        "\n",
        "\n",
        "``` \n",
        "y = 0 (w1x1 + w2x2 + ... <= θ)\n",
        "\n",
        "  = 1 (w1x1 + w2x2 + ... > θ)\n",
        "```\n",
        "\n",
        "가중치가 클수록 해당 신호가 그만큼 더 중요하다!\n",
        "\n",
        "\n",
        "---\n",
        "\n"
      ]
    },
    {
      "cell_type": "markdown",
      "metadata": {
        "id": "xWF0Iy-Et4rs"
      },
      "source": [
        "1. AND 게이트\n",
        "\n",
        " x1과 x2 모두가 1일 때만 가중 신호의 총합이 θ를 넘는다 --> 1\n",
        "\n",
        " *ex) (w1, w2, θ) = (0.5, 0.5, 0.7) or (1.0, 1.0, 1.0) ...*\n",
        "\n",
        "2. NAND 게이트 (Not AND)\n",
        "\n",
        " AND 게이트 출력값을 뒤집은 것\n",
        " \n",
        " x1과 x2모두가 1일 때만 0 출력, 아니면 1 출력\n",
        "\n",
        " *ex) (w1, w2, θ) = (-0.5, -0.5, -0.7) ...*  <--- AND 게이트 매개변수 부호 반전하면 됨\n",
        "\n",
        "3. OR 게이트\n",
        "\n",
        " x1, x2 중 하나 이상이 1이면 1 출력\n",
        "\n",
        " *ex) (w1, w2, θ) = (0.5, 0.5, 0.3) or (1.0, 1.0, 0.8) ...*\n",
        "\n",
        "퍼셉트론 구조는 AND, NAND, OR 게이트 모두 똑같다.\n",
        "\n",
        "---\n"
      ]
    },
    {
      "cell_type": "markdown",
      "metadata": {
        "id": "aIxPA5qCSNjo"
      },
      "source": [
        "### 2.3 퍼셉트론 구현하기"
      ]
    },
    {
      "cell_type": "code",
      "metadata": {
        "id": "tQueDweV9J2d",
        "colab": {
          "base_uri": "https://localhost:8080/"
        },
        "outputId": "bb1a290c-db15-41af-f1a4-221e27745bfa"
      },
      "source": [
        "# AND 게이트 구현\n",
        "def AND(x1, x2):\n",
        "    w1, w2, theta = 0.5, 0.5, 0.7\n",
        "    tmp = x1*w1 + x2*w2\n",
        "    if tmp <= theta:    \n",
        "        return 0\n",
        "    elif tmp > theta:   # 총합이 임계값을 넘으면 1 반환\n",
        "        return 1\n",
        "\n",
        "print(AND(0,0), AND(0,1), AND(1,0), AND(1,1))"
      ],
      "execution_count": null,
      "outputs": [
        {
          "output_type": "stream",
          "text": [
            "0 0 0 1\n"
          ],
          "name": "stdout"
        }
      ]
    },
    {
      "cell_type": "markdown",
      "metadata": {
        "id": "QtdssyibTGAi"
      },
      "source": [
        "(식 2-1)에서 θ를 -b (편향)으로 치환하면:\n",
        "\n",
        "y = 0 , (b + w1x1 + w2x2 <= 0)\n",
        "\n",
        " = 1 , (b + w1x1 + w2x2 > 0)\n",
        "\n",
        " 으로 볼 수 있다. --> 입력 신호에 가중치를 곱한 값과 편향을 합한 것이 0을 넘으면 1, 아니면 0 출력"
      ]
    },
    {
      "cell_type": "code",
      "metadata": {
        "id": "1FQiMOBaUHYg",
        "colab": {
          "base_uri": "https://localhost:8080/"
        },
        "outputId": "901d9fd2-8de3-46f2-fd6c-6bf2e386287a"
      },
      "source": [
        "import numpy as np\n",
        "\n",
        "x = np.array([0,1])       # 입력신호\n",
        "w = np.array([0.5, 0.5])  # 가중치\n",
        "b = -0.7                  # 편향 (bias)\n",
        "print(w*x)\n",
        "print(np.sum(w*x))\n",
        "print(np.sum(w*x) + b)"
      ],
      "execution_count": null,
      "outputs": [
        {
          "output_type": "stream",
          "text": [
            "[0.  0.5]\n",
            "0.5\n",
            "-0.19999999999999996\n"
          ],
          "name": "stdout"
        }
      ]
    },
    {
      "cell_type": "code",
      "metadata": {
        "id": "ia1BcfIPVEJ6",
        "colab": {
          "base_uri": "https://localhost:8080/"
        },
        "outputId": "5d129dd6-50df-4481-f9aa-d0f3685e628f"
      },
      "source": [
        "# 가중치와 편향 구현하기\n",
        "def AND(x1, x2):\n",
        "    x = np.array([x1, x2])\n",
        "    w = np.array([0.5, 0.5])\n",
        "    b = -0.7\n",
        "    tmp = np.sum(w*x) + b\n",
        "    if tmp <= 0:\n",
        "        return 0\n",
        "    elif tmp > 0:\n",
        "        return 1\n",
        "\n",
        "'''\n",
        "가중치 w1,w2 는 입력신호가 결과에 주는 영향력을 조절하는 매개변수이고,\n",
        "편향 b는 뉴런이 얼마나 쉽게 활성화하느냐를 조정하는 매개변수이다\n",
        "'''\n",
        "print(AND(1,0), AND(1,1))"
      ],
      "execution_count": null,
      "outputs": [
        {
          "output_type": "stream",
          "text": [
            "0 1\n"
          ],
          "name": "stdout"
        }
      ]
    },
    {
      "cell_type": "code",
      "metadata": {
        "id": "v_RZUAeVWFDV",
        "colab": {
          "base_uri": "https://localhost:8080/"
        },
        "outputId": "f354dc53-6e10-4f67-8617-ff3d238c7356"
      },
      "source": [
        "# NAND 게이트, OR 게이트 구현\n",
        "def NAND(x1, x2):\n",
        "    x = np.array([x1, x2])\n",
        "    w = np.array([-0.5, -0.5])\n",
        "    b = 0.7\n",
        "    tmp = np.sum(x*w) + b\n",
        "    if tmp <= 0:\n",
        "        return 0\n",
        "    else:\n",
        "        return 1\n",
        "\n",
        "def OR(x1, x2):\n",
        "    x = np.array([x1, x2])\n",
        "    w = np.array([0.5, 0.5])\n",
        "    b = -0.2\n",
        "    tmp = np.sum(x*w) + b\n",
        "    if tmp <= 0:\n",
        "        return 0\n",
        "    else:\n",
        "        return 1\n",
        "\n",
        "print(NAND(0,0), NAND(1,1))\n",
        "print(OR(0,0), OR(0,1), OR(1,1))"
      ],
      "execution_count": null,
      "outputs": [
        {
          "output_type": "stream",
          "text": [
            "1 0\n",
            "0 1 1\n"
          ],
          "name": "stdout"
        }
      ]
    },
    {
      "cell_type": "markdown",
      "metadata": {
        "id": "UdHIhUkJYdCU"
      },
      "source": [
        "4. **XOR 게이트 (배타적 논리합)**\n",
        "\n",
        " 한쪽이 1일 때만 1을 출력, 아니면 0출력 , ( 같으면 0, 다르면 1 출력 )\n",
        "\n",
        " XOR 게이트는 단층 퍼셉트론으로 표현할 수 없다. (비선형 영역이기 때문)\n",
        "\n",
        " 다시 말해 단층 퍼셉트론으로는 비선형 영역을 분리할 수 없다!\n",
        "\n",
        " --> '층을 쌓아' **다층 퍼셉트론**을 만들기\n",
        "\n",
        "---\n"
      ]
    },
    {
      "cell_type": "markdown",
      "metadata": {
        "id": "wYsZ-WClKXA9"
      },
      "source": [
        "- AND, NAND, OR 게이트를 조합해서 XOR 게이트 만들자:\n",
        "\n",
        " x1과 x2에 대한 NAND와 OR의 출력이 AND 게이트의 입력으로 받게 하면 된다"
      ]
    },
    {
      "cell_type": "code",
      "metadata": {
        "id": "aH2J-FwAJ1hi",
        "colab": {
          "base_uri": "https://localhost:8080/"
        },
        "outputId": "bced5f12-3b32-496f-bc83-8d652ff67bee"
      },
      "source": [
        "# XOR 게이트 구현하기 --> 2층 퍼셉트론이다\n",
        "def XOR(x1, x2):\n",
        "    s1 = NAND(x1,x2)\n",
        "    s2 = OR(x1,x2)\n",
        "    y = AND(s1,s2)\n",
        "    return y\n",
        "\n",
        "print(XOR(0,0), XOR(0,1), XOR(1,0), XOR(1,1))\n",
        "\n",
        "# XOR의 동작:\n",
        "# 1. 0층의 두 뉴런이 입력 신호를 받아(NAND, OR) 1층의 뉴런으로 신호를 보낸다\n",
        "# 2. 1층의 뉴런이 2층으로 신호를 보내고,(AND) 2층의 뉴런은 y를 출력한다"
      ],
      "execution_count": null,
      "outputs": [
        {
          "output_type": "stream",
          "text": [
            "0 1 1 0\n"
          ],
          "name": "stdout"
        }
      ]
    },
    {
      "cell_type": "markdown",
      "metadata": {
        "id": "Bg-FIL-mCTlB"
      },
      "source": [
        "퍼셉트론은 층을 거듭 쌓으면 비선형적인 표현이 가능하고, 이론상 컴퓨터가 수행하는 처리도 모두 표현할 수 있다!\n",
        "\n",
        "단층 퍼셉트론 : 직선형 영역 (선형)만 표현할 수 있고, \n",
        "\n",
        "다층 퍼셉트론 ( MLP ) : 비선형 영역도 표현할 수 있다."
      ]
    }
  ]
}