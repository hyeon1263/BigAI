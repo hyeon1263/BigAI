{
  "nbformat": 4,
  "nbformat_minor": 0,
  "metadata": {
    "colab": {
      "name": "ch07_DeepLearning",
      "provenance": [],
      "collapsed_sections": []
    },
    "kernelspec": {
      "name": "python3",
      "display_name": "Python 3"
    },
    "language_info": {
      "name": "python"
    }
  },
  "cells": [
    {
      "cell_type": "markdown",
      "metadata": {
        "id": "U2M-zXStNqUf"
      },
      "source": [
        "# Chapter 07 딥러닝"
      ]
    },
    {
      "cell_type": "markdown",
      "metadata": {
        "id": "kQLRlxpnNt2P"
      },
      "source": [
        "### 07-1 인공 신경망"
      ]
    },
    {
      "cell_type": "markdown",
      "metadata": {
        "id": "2BdtV59rNxGO"
      },
      "source": [
        "패션 MNIST"
      ]
    },
    {
      "cell_type": "code",
      "metadata": {
        "id": "d1c_11Q8Nnd5",
        "colab": {
          "base_uri": "https://localhost:8080/"
        },
        "outputId": "a985f9f8-ac2e-49c0-fe5b-b4c57950286c"
      },
      "source": [
        "from tensorflow import keras\n",
        "(train_input, train_target), (test_input, test_target) = keras.datasets.fashion_mnist.load_data()"
      ],
      "execution_count": 1,
      "outputs": [
        {
          "output_type": "stream",
          "text": [
            "Downloading data from https://storage.googleapis.com/tensorflow/tf-keras-datasets/train-labels-idx1-ubyte.gz\n",
            "32768/29515 [=================================] - 0s 0us/step\n",
            "Downloading data from https://storage.googleapis.com/tensorflow/tf-keras-datasets/train-images-idx3-ubyte.gz\n",
            "26427392/26421880 [==============================] - 0s 0us/step\n",
            "Downloading data from https://storage.googleapis.com/tensorflow/tf-keras-datasets/t10k-labels-idx1-ubyte.gz\n",
            "8192/5148 [===============================================] - 0s 0us/step\n",
            "Downloading data from https://storage.googleapis.com/tensorflow/tf-keras-datasets/t10k-images-idx3-ubyte.gz\n",
            "4423680/4422102 [==============================] - 0s 0us/step\n"
          ],
          "name": "stdout"
        }
      ]
    },
    {
      "cell_type": "code",
      "metadata": {
        "colab": {
          "base_uri": "https://localhost:8080/"
        },
        "id": "aEfmkEEgn97f",
        "outputId": "fac69876-b7bd-40f1-bb3f-49d70f033fca"
      },
      "source": [
        "print(train_input.shape, train_target.shape)\n",
        "print(test_input.shape, test_target.shape)\n",
        "\n",
        "# 각 데이터는 28 x 28크기로 이루어져있다."
      ],
      "execution_count": 2,
      "outputs": [
        {
          "output_type": "stream",
          "text": [
            "(60000, 28, 28) (60000,)\n",
            "(10000, 28, 28) (10000,)\n"
          ],
          "name": "stdout"
        }
      ]
    },
    {
      "cell_type": "code",
      "metadata": {
        "colab": {
          "base_uri": "https://localhost:8080/",
          "height": 78
        },
        "id": "osJMA7wlooHr",
        "outputId": "29960c20-ed68-46eb-dcf8-6efbbfcbae18"
      },
      "source": [
        "# 10개의 샘플 그림으로 출력\n",
        "import matplotlib.pyplot as plt\n",
        "fig, axs = plt.subplots(1, 10, figsize=(10,10))\n",
        "for i in range(10):\n",
        "    axs[i].imshow(train_input[i], cmap='gray_r')\n",
        "    axs[i].axis('off')\n",
        "plt.show()"
      ],
      "execution_count": 3,
      "outputs": [
        {
          "output_type": "display_data",
          "data": {
            "image/png": "[encoded data removed]",
            "text/plain": [
              "<Figure size 720x720 with 10 Axes>"
            ]
          },
          "metadata": {
            "tags": [],
            "needs_background": "light"
          }
        }
      ]
    },
    {
      "cell_type": "code",
      "metadata": {
        "colab": {
          "base_uri": "https://localhost:8080/"
        },
        "id": "-MgkdvzVpUAj",
        "outputId": "e1d6fe6c-3d80-4a1f-e77e-6523a433cc4c"
      },
      "source": [
        "print([train_target[i] for i in range(10)])"
      ],
      "execution_count": 4,
      "outputs": [
        {
          "output_type": "stream",
          "text": [
            "[9, 0, 0, 3, 0, 2, 7, 2, 5, 5]\n"
          ],
          "name": "stdout"
        }
      ]
    },
    {
      "cell_type": "code",
      "metadata": {
        "colab": {
          "base_uri": "https://localhost:8080/",
          "height": 80
        },
        "id": "1gAXiK6puBaE",
        "outputId": "e311b711-d0b4-4260-d4ae-3cc21b6f2894"
      },
      "source": [
        "from pandas import DataFrame as df\n",
        "col = list(range(10))\n",
        "ind = ['패션 아이템']\n",
        "data = [['티셔츠','바지','스웨터','드레스','코트','샌달','셔츠','스니커즈','가방','앵클 부츠']]\n",
        "df(data, columns=col, index=ind)"
      ],
      "execution_count": 5,
      "outputs": [
        {
          "output_type": "execute_result",
          "data": {
            "text/html": [
              "<div>\n",
              "<style scoped>\n",
              "    .dataframe tbody tr th:only-of-type {\n",
              "        vertical-align: middle;\n",
              "    }\n",
              "\n",
              "    .dataframe tbody tr th {\n",
              "        vertical-align: top;\n",
              "    }\n",
              "\n",
              "    .dataframe thead th {\n",
              "        text-align: right;\n",
              "    }\n",
              "</style>\n",
              "<table border=\"1\" class=\"dataframe\">\n",
              "  <thead>\n",
              "    <tr style=\"text-align: right;\">\n",
              "      <th></th>\n",
              "      <th>0</th>\n",
              "      <th>1</th>\n",
              "      <th>2</th>\n",
              "      <th>3</th>\n",
              "      <th>4</th>\n",
              "      <th>5</th>\n",
              "      <th>6</th>\n",
              "      <th>7</th>\n",
              "      <th>8</th>\n",
              "      <th>9</th>\n",
              "    </tr>\n",
              "  </thead>\n",
              "  <tbody>\n",
              "    <tr>\n",
              "      <th>패션 아이템</th>\n",
              "      <td>티셔츠</td>\n",
              "      <td>바지</td>\n",
              "      <td>스웨터</td>\n",
              "      <td>드레스</td>\n",
              "      <td>코트</td>\n",
              "      <td>샌달</td>\n",
              "      <td>셔츠</td>\n",
              "      <td>스니커즈</td>\n",
              "      <td>가방</td>\n",
              "      <td>앵클 부츠</td>\n",
              "    </tr>\n",
              "  </tbody>\n",
              "</table>\n",
              "</div>"
            ],
            "text/plain": [
              "          0   1    2    3   4   5   6     7   8      9\n",
              "패션 아이템  티셔츠  바지  스웨터  드레스  코트  샌달  셔츠  스니커즈  가방  앵클 부츠"
            ]
          },
          "metadata": {
            "tags": []
          },
          "execution_count": 5
        }
      ]
    },
    {
      "cell_type": "code",
      "metadata": {
        "colab": {
          "base_uri": "https://localhost:8080/"
        },
        "id": "ge9jTxB6xEMX",
        "outputId": "cbe81f64-0bce-4513-879e-d8a834d73f28"
      },
      "source": [
        "import numpy as np\n",
        "print(np.unique(train_target, return_counts=True))\n",
        "\n",
        "# 각 레이블마다 6000개가 있음"
      ],
      "execution_count": 6,
      "outputs": [
        {
          "output_type": "stream",
          "text": [
            "(array([0, 1, 2, 3, 4, 5, 6, 7, 8, 9], dtype=uint8), array([6000, 6000, 6000, 6000, 6000, 6000, 6000, 6000, 6000, 6000]))\n"
          ],
          "name": "stdout"
        }
      ]
    },
    {
      "cell_type": "markdown",
      "metadata": {
        "id": "A-R5df5pyrCQ"
      },
      "source": [
        "로지스틱 회귀로 패션 아이템 분류하기\n",
        "\n",
        "- 훈련 데이터가 많기 때문에 한꺼번에 모델을 훈련하는 것보다 SGDClassifier 클래스 사용\n",
        "\n",
        "- loss 매개변수에 'log'로 지정하여 로지스틱 손실함수를 최소화하는 확률적 경사 하강법 모델을 만들자!"
      ]
    },
    {
      "cell_type": "code",
      "metadata": {
        "colab": {
          "base_uri": "https://localhost:8080/"
        },
        "id": "AvRpClf0xLZs",
        "outputId": "47950ad3-3edc-4a63-b1af-d12c38264839"
      },
      "source": [
        "# 정규화\n",
        "train_scaled = train_input / 255.0\n",
        "train_scaled = train_scaled.reshape(-1, 28*28)\n",
        "\n",
        "print(train_scaled.shape)"
      ],
      "execution_count": 7,
      "outputs": [
        {
          "output_type": "stream",
          "text": [
            "(60000, 784)\n"
          ],
          "name": "stdout"
        }
      ]
    },
    {
      "cell_type": "code",
      "metadata": {
        "colab": {
          "base_uri": "https://localhost:8080/"
        },
        "id": "sx90Srhl1f1t",
        "outputId": "f6f2a6bc-4204-470f-9d39-3e9043f3d7df"
      },
      "source": [
        "from sklearn.model_selection import cross_validate\n",
        "from sklearn.linear_model import SGDClassifier\n",
        "sc = SGDClassifier(loss='log', max_iter=5, random_state=42)\n",
        "scores = cross_validate(sc, train_scaled, train_target, n_jobs=-1)\n",
        "print(np.mean(scores['test_score']))"
      ],
      "execution_count": 8,
      "outputs": [
        {
          "output_type": "stream",
          "text": [
            "0.8195666666666668\n"
          ],
          "name": "stdout"
        }
      ]
    },
    {
      "cell_type": "markdown",
      "metadata": {
        "id": "UcvqeBz3j0Rs"
      },
      "source": [
        "**인공 신경망**\n",
        "\n",
        "- 텐서플로 : 인기가 가장 높은 딥러닝 라이브러리\n",
        " \n",
        " - 케라스 : 텐서플로의 고수준 API"
      ]
    },
    {
      "cell_type": "code",
      "metadata": {
        "id": "OlCwjDWfmDA8"
      },
      "source": [
        "import tensorflow as tf\n",
        "from tensorflow import keras"
      ],
      "execution_count": 9,
      "outputs": []
    },
    {
      "cell_type": "markdown",
      "metadata": {
        "id": "FGQ7Dj7BmzZA"
      },
      "source": [
        "인공 신경망에서는 교차검증을 잘 사용하지 않고 검증세트를 별도로 덜어내어 사용한다.\n",
        "\n",
        "1. 딥러닝 분야에서는 데이터셋이 충분이 크기 때문\n",
        "\n",
        "2. 교차검증을 수행하기에는 훈련 시간이 너무 오래 걸리기 때문"
      ]
    },
    {
      "cell_type": "code",
      "metadata": {
        "id": "crZKLS6rnB8N"
      },
      "source": [
        "# 검증세트 나누기\n",
        "from sklearn.model_selection import train_test_split\n",
        "train_scaled, val_scaled, train_target, val_target = train_test_split(\n",
        "        train_scaled, train_target, test_size=0.2, random_state=42)"
      ],
      "execution_count": 10,
      "outputs": []
    },
    {
      "cell_type": "code",
      "metadata": {
        "colab": {
          "base_uri": "https://localhost:8080/"
        },
        "id": "COKJllExnVYM",
        "outputId": "0cf4bd30-8049-4239-d02b-a51a58cc6d0f"
      },
      "source": [
        "print(train_scaled.shape, train_target.shape)\n",
        "print(val_scaled.shape, val_target.shape)"
      ],
      "execution_count": 11,
      "outputs": [
        {
          "output_type": "stream",
          "text": [
            "(48000, 784) (48000,)\n",
            "(12000, 784) (12000,)\n"
          ],
          "name": "stdout"
        }
      ]
    },
    {
      "cell_type": "code",
      "metadata": {
        "id": "bLY6-cnZoGZM"
      },
      "source": [
        "# 밀집층 만들기\n",
        "dense = keras.layers.Dense(10, activation='softmax', input_shape=(784,))    # 10: 뉴런의 개수\n",
        "#  activation: 뉴런의 출력에 적용할 함수(활성화 함수), input_shape: 입력층의 크기\n",
        "# 이진 분류의 경우는 activation='sigmoid'로 설정"
      ],
      "execution_count": 12,
      "outputs": []
    },
    {
      "cell_type": "code",
      "metadata": {
        "id": "ukZS5hEJpycK"
      },
      "source": [
        "model = keras.Sequential(dense)  # 위 'dense'밀집층을 가진 신경망 모델 생성\n",
        "# Sequential() 객체를 생성할 때, 모델에 추가할 층을 지정할 수 있다"
      ],
      "execution_count": 13,
      "outputs": []
    },
    {
      "cell_type": "code",
      "metadata": {
        "id": "eFSyt5P3p9bQ"
      },
      "source": [
        "# 케라스 모델의 훈련하기 전 설정 단계 : compile()메서드에서 수행\n",
        "model.compile(loss='sparse_categorical_crossentropy', metrics='accuracy')\n",
        "# 손실함수의 종류를 지정해주어야 함 (loss에), metrics: 훈련 과정에서 계산할 측정값 (정확도도 함께 출력)"
      ],
      "execution_count": 14,
      "outputs": []
    },
    {
      "cell_type": "markdown",
      "metadata": {
        "id": "8nvXiy7lsfef"
      },
      "source": [
        "- 이진 분류 : loss = 'binary_crossentropy' ( 이진 크로스 엔트로피 손실 함수 사용 )\n",
        "\n",
        "- 다중 분류 : loss = 'categorical_crossentropy' ( 크로스 엔트로피 손실 함수 사용 )"
      ]
    },
    {
      "cell_type": "code",
      "metadata": {
        "colab": {
          "base_uri": "https://localhost:8080/"
        },
        "id": "9UjIpHcNsJfL",
        "outputId": "43e86bfe-4afd-4ce2-9459-9538ec217176"
      },
      "source": [
        "print(train_target[:10])"
      ],
      "execution_count": 15,
      "outputs": [
        {
          "output_type": "stream",
          "text": [
            "[7 3 5 8 6 9 3 3 9 9]\n"
          ],
          "name": "stdout"
        }
      ]
    },
    {
      "cell_type": "markdown",
      "metadata": {
        "id": "t24FlSFYugeo"
      },
      "source": [
        "'sparse_categorical_crossentropy'를 사용하는 이유는 \n",
        "\n",
        "타깃값이 원-핫 인코딩으로 안되있기 때문에 sparse가 붙어서 loss 매개변수에 들어가면 원-핫 인코딩으로 자동으로 바꾸어 크로스 엔트로피 손실함수에 적용시킨다!\n",
        "\n",
        "타깃값이 원-핫 인코딩으로 준비되었다면, loss='categorical_crossentropy'로 지정"
      ]
    },
    {
      "cell_type": "code",
      "metadata": {
        "colab": {
          "base_uri": "https://localhost:8080/"
        },
        "id": "enP-mHosuwnS",
        "outputId": "163d70d7-341e-42cc-ce4e-bca14cf70aeb"
      },
      "source": [
        "model.fit(train_scaled, train_target, epochs=5)  # 5번 반복\n",
        "\n",
        "# fit()메서드에서 batch_size의 기본값 == 32 , --> 변경가능\n",
        "print(32 * 1500)   # train_scaled의 크기(48000)"
      ],
      "execution_count": 16,
      "outputs": [
        {
          "output_type": "stream",
          "text": [
            "Epoch 1/5\n",
            "1500/1500 [==============================] - 2s 1ms/step - loss: 0.6039 - accuracy: 0.7950\n",
            "Epoch 2/5\n",
            "1500/1500 [==============================] - 2s 1ms/step - loss: 0.4797 - accuracy: 0.8403\n",
            "Epoch 3/5\n",
            "1500/1500 [==============================] - 2s 1ms/step - loss: 0.4561 - accuracy: 0.8484\n",
            "Epoch 4/5\n",
            "1500/1500 [==============================] - 2s 1ms/step - loss: 0.4455 - accuracy: 0.8530\n",
            "Epoch 5/5\n",
            "1500/1500 [==============================] - 2s 1ms/step - loss: 0.4364 - accuracy: 0.8554\n",
            "48000\n"
          ],
          "name": "stdout"
        }
      ]
    },
    {
      "cell_type": "code",
      "metadata": {
        "colab": {
          "base_uri": "https://localhost:8080/"
        },
        "id": "8WLLe9V0w8Zs",
        "outputId": "629c9437-722f-47ea-bb72-19142a14572d"
      },
      "source": [
        "model.evaluate(val_scaled, val_target)  # evaluate(): 모델의 성능을 평가하는 메서드"
      ],
      "execution_count": 17,
      "outputs": [
        {
          "output_type": "stream",
          "text": [
            "375/375 [==============================] - 0s 1ms/step - loss: 0.4519 - accuracy: 0.8447\n"
          ],
          "name": "stdout"
        },
        {
          "output_type": "execute_result",
          "data": {
            "text/plain": [
              "[0.4519186317920685, 0.8446666598320007]"
            ]
          },
          "metadata": {
            "tags": []
          },
          "execution_count": 17
        }
      ]
    },
    {
      "cell_type": "markdown",
      "metadata": {
        "id": "a5rRvwi91kaC"
      },
      "source": [
        "###07-2 심층 신경망\n",
        "\n",
        "2개의 층"
      ]
    },
    {
      "cell_type": "code",
      "metadata": {
        "id": "wMNxO8Ty1mo3"
      },
      "source": [
        "from tensorflow import keras\n",
        "(train_input, train_target), (test_input, test_target) = keras.datasets.fashion_mnist.load_data()"
      ],
      "execution_count": 18,
      "outputs": []
    },
    {
      "cell_type": "code",
      "metadata": {
        "id": "Z64em45Q3z1I"
      },
      "source": [
        "from sklearn.model_selection import train_test_split\n",
        "train_scaled = train_input / 255.0\n",
        "train_scaled = train_scaled.reshape(-1, 28*28)\n",
        "train_scaled, val_scaled, train_target, val_target = train_test_split(\n",
        "        train_scaled, train_target, test_size=0.2, random_state=42)"
      ],
      "execution_count": 19,
      "outputs": []
    },
    {
      "cell_type": "markdown",
      "metadata": {
        "id": "2ro42rri7c7o"
      },
      "source": [
        "- 입력층\n",
        "\n",
        "- 은닉층 : 출력층에 비해 활성화 함수가 비교적 자유롭다.\n",
        "\n",
        "- 출력층 : 이진 분류일 경우 시그모이드, 다중 분류일 경우 소프트맥스 함수로 활성화함수가 제한적\n",
        "\n",
        "분류문제는 클래스에 대한 확률을 출력하기 위해 활성화 함수 사용, but 회귀에서는 사용 X  --> 활성화함수가 항등함수와 같음\n",
        "\n",
        "- 모든 은닉층에서 활성화 함수를 사용하는 이유 :\n",
        "\n",
        " 선형을 여러 층 쌓아도 쓸모없기 때문에 비선형적으로 비틀어주기 위함"
      ]
    },
    {
      "cell_type": "code",
      "metadata": {
        "id": "178xBhDv4SpQ"
      },
      "source": [
        "dense1 = keras.layers.Dense(100, activation='sigmoid', input_shape=(784,))  # 은닉층의 뉴런 개수는 사람이 판단 (적어도 출력층보다는 많게)\n",
        "dense2 = keras.layers.Dense(10, activation='softmax')   # 은닉층 --> 출력층 사이의 밀집층"
      ],
      "execution_count": 20,
      "outputs": []
    },
    {
      "cell_type": "code",
      "metadata": {
        "id": "mi2BJRb39ppJ"
      },
      "source": [
        "# 심층 신경망 만들기\n",
        "model = keras.Sequential([dense1, dense2])  # 가장 처음 등장하는 은닉층부터 마지막 출력층 순으로 나열"
      ],
      "execution_count": 21,
      "outputs": []
    },
    {
      "cell_type": "code",
      "metadata": {
        "colab": {
          "base_uri": "https://localhost:8080/"
        },
        "id": "PqQ0ptmW9tDD",
        "outputId": "62a7f7e7-245d-418f-a79b-b70805717513"
      },
      "source": [
        "model.summary()   # 층에 대한 유용한 정보를 얻을 수 있음"
      ],
      "execution_count": 22,
      "outputs": [
        {
          "output_type": "stream",
          "text": [
            "Model: \"sequential_1\"\n",
            "_________________________________________________________________\n",
            "Layer (type)                 Output Shape              Param #   \n",
            "=================================================================\n",
            "dense_1 (Dense)              (None, 100)               78500     \n",
            "_________________________________________________________________\n",
            "dense_2 (Dense)              (None, 10)                1010      \n",
            "=================================================================\n",
            "Total params: 79,510\n",
            "Trainable params: 79,510\n",
            "Non-trainable params: 0\n",
            "_________________________________________________________________\n"
          ],
          "name": "stdout"
        }
      ]
    },
    {
      "cell_type": "code",
      "metadata": {
        "id": "4w12stjd_YbH",
        "colab": {
          "base_uri": "https://localhost:8080/"
        },
        "outputId": "eee31ce1-c588-4769-ef2f-09672dfb5a49"
      },
      "source": [
        "# 층을 추가하는 다른 방법\n",
        "model = keras.Sequential([keras.layers.Dense(100, activation='sigmoid', input_shape=(784,), name='hidden'),  # 위의 dense1\n",
        "                          keras.layers.Dense(10, activation='softmax', name='output')],                      #      dense2\n",
        "                          name='패션 MNIST 모델')\n",
        "# Sequential 클래스의 생성자 안에서 바로 Dense 클래스의 객체 만들기\n",
        "\n",
        "model.summary()"
      ],
      "execution_count": 23,
      "outputs": [
        {
          "output_type": "stream",
          "text": [
            "Model: \"패션 MNIST 모델\"\n",
            "_________________________________________________________________\n",
            "Layer (type)                 Output Shape              Param #   \n",
            "=================================================================\n",
            "hidden (Dense)               (None, 100)               78500     \n",
            "_________________________________________________________________\n",
            "output (Dense)               (None, 10)                1010      \n",
            "=================================================================\n",
            "Total params: 79,510\n",
            "Trainable params: 79,510\n",
            "Non-trainable params: 0\n",
            "_________________________________________________________________\n"
          ],
          "name": "stdout"
        }
      ]
    },
    {
      "cell_type": "code",
      "metadata": {
        "colab": {
          "base_uri": "https://localhost:8080/"
        },
        "id": "ngQkghRl-PvB",
        "outputId": "5e06b5e0-ea62-4ffa-8f01-61811007ef14"
      },
      "source": [
        "# Sequential 클래스에서 층을 추가할 때 가장 널리 사용하는 방법 : add() 메서드 사용\n",
        "model = keras.Sequential()\n",
        "model.add(keras.layers.Dense(100, activation='sigmoid', input_shape=(784,)))  # dense1 추가\n",
        "model.add(keras.layers.Dense(10, activation='softmax'))      # dense2 추가\n",
        "\n",
        "model.summary()  # 같다"
      ],
      "execution_count": 24,
      "outputs": [
        {
          "output_type": "stream",
          "text": [
            "Model: \"sequential_2\"\n",
            "_________________________________________________________________\n",
            "Layer (type)                 Output Shape              Param #   \n",
            "=================================================================\n",
            "dense_3 (Dense)              (None, 100)               78500     \n",
            "_________________________________________________________________\n",
            "dense_4 (Dense)              (None, 10)                1010      \n",
            "=================================================================\n",
            "Total params: 79,510\n",
            "Trainable params: 79,510\n",
            "Non-trainable params: 0\n",
            "_________________________________________________________________\n"
          ],
          "name": "stdout"
        }
      ]
    },
    {
      "cell_type": "code",
      "metadata": {
        "colab": {
          "base_uri": "https://localhost:8080/"
        },
        "id": "S0Awma9B-oom",
        "outputId": "fa9b066f-e1b3-4595-bc8c-207e6dfb0b4d"
      },
      "source": [
        "model.compile(loss='sparse_categorical_crossentropy', metrics='accuracy')\n",
        "model.fit(train_scaled, train_target, epochs=5)     # 생성한 모델 훈련\n",
        "\n",
        "# 인공 신경망에 몇 개의 층을 추가하더라도 compile(), fit()메서드의 사용법은 동일! --> 케라스 API의 장점"
      ],
      "execution_count": 25,
      "outputs": [
        {
          "output_type": "stream",
          "text": [
            "Epoch 1/5\n",
            "1500/1500 [==============================] - 4s 2ms/step - loss: 0.5634 - accuracy: 0.8086\n",
            "Epoch 2/5\n",
            "1500/1500 [==============================] - 3s 2ms/step - loss: 0.4072 - accuracy: 0.8543\n",
            "Epoch 3/5\n",
            "1500/1500 [==============================] - 3s 2ms/step - loss: 0.3729 - accuracy: 0.8646\n",
            "Epoch 4/5\n",
            "1500/1500 [==============================] - 3s 2ms/step - loss: 0.3511 - accuracy: 0.8743\n",
            "Epoch 5/5\n",
            "1500/1500 [==============================] - 3s 2ms/step - loss: 0.3339 - accuracy: 0.8796\n"
          ],
          "name": "stdout"
        },
        {
          "output_type": "execute_result",
          "data": {
            "text/plain": [
              "<tensorflow.python.keras.callbacks.History at 0x7f41dafa8390>"
            ]
          },
          "metadata": {
            "tags": []
          },
          "execution_count": 25
        }
      ]
    },
    {
      "cell_type": "markdown",
      "metadata": {
        "id": "tUfvhalD_8ut"
      },
      "source": [
        "- **렐루 함수 (ReLU)** :\n",
        "\n",
        " 입력이 양수일 경우 그냥 입력을 통과시키고, 음수일 경우에는 0으로 만든다.\n",
        "\n",
        " 특히 이미지 분류 문제에서 높은 성능을 냄"
      ]
    },
    {
      "cell_type": "code",
      "metadata": {
        "colab": {
          "base_uri": "https://localhost:8080/",
          "height": 281
        },
        "id": "qGEZaHBnBjzL",
        "outputId": "af8c4a54-dc0c-40f8-cf0b-bba8cba26e22"
      },
      "source": [
        "# ReLU 함수 그리기\n",
        "import matplotlib.pyplot as plt\n",
        "import numpy as np\n",
        "x = np.arange(-5, 5, 0.1)\n",
        "y = np.maximum(x,0)\n",
        "plt.plot(x,y)\n",
        "plt.title('ReLU')\n",
        "plt.show()"
      ],
      "execution_count": 26,
      "outputs": [
        {
          "output_type": "display_data",
          "data": {
            "image/png": "[encoded data removed]",
            "text/plain": [
              "<Figure size 432x288 with 1 Axes>"
            ]
          },
          "metadata": {
            "tags": [],
            "needs_background": "light"
          }
        }
      ]
    },
    {
      "cell_type": "code",
      "metadata": {
        "colab": {
          "base_uri": "https://localhost:8080/"
        },
        "id": "bJ9-9wZ7DFAn",
        "outputId": "88b82fd2-6045-470c-a480-0049cd876a5c"
      },
      "source": [
        "model = keras.Sequential()\n",
        "model.add(keras.layers.Flatten(input_shape=(28,28)))    # Flatten()층을 추가하면 reshape()로 1차원으로 전처리하지 않아도 된다\n",
        "#                                                         입력 차원을 모두 일렬로 펼치는 역할, 학습하는 층은 아님.\n",
        "model.add(keras.layers.Dense(100, activation='relu'))\n",
        "model.add(keras.layers.Dense(10, activation='softmax'))\n",
        "\n",
        "model.summary()"
      ],
      "execution_count": 27,
      "outputs": [
        {
          "output_type": "stream",
          "text": [
            "Model: \"sequential_3\"\n",
            "_________________________________________________________________\n",
            "Layer (type)                 Output Shape              Param #   \n",
            "=================================================================\n",
            "flatten (Flatten)            (None, 784)               0         \n",
            "_________________________________________________________________\n",
            "dense_5 (Dense)              (None, 100)               78500     \n",
            "_________________________________________________________________\n",
            "dense_6 (Dense)              (None, 10)                1010      \n",
            "=================================================================\n",
            "Total params: 79,510\n",
            "Trainable params: 79,510\n",
            "Non-trainable params: 0\n",
            "_________________________________________________________________\n"
          ],
          "name": "stdout"
        }
      ]
    },
    {
      "cell_type": "code",
      "metadata": {
        "id": "ftychy3TEFeS"
      },
      "source": [
        "(train_input, train_target), (test_input, test_target) = keras.datasets.fashion_mnist.load_data()\n",
        "train_scaled = train_input / 255.0\n",
        "# reshape()로 전처리하는 대신, add() 할 때 Flatten()층을 추가했음\n",
        "train_scaled, val_scaled, train_target, val_target = train_test_split(\n",
        "    train_scaled, train_target, test_size=0.2, random_state=42)"
      ],
      "execution_count": 28,
      "outputs": []
    },
    {
      "cell_type": "code",
      "metadata": {
        "colab": {
          "base_uri": "https://localhost:8080/"
        },
        "id": "i52q0vLQEeZw",
        "outputId": "49693726-d963-44d7-fb05-e209fb66923a"
      },
      "source": [
        "model.compile(loss='sparse_categorical_crossentropy', metrics='accuracy')\n",
        "model.fit(train_scaled, train_target, epochs=5)"
      ],
      "execution_count": 29,
      "outputs": [
        {
          "output_type": "stream",
          "text": [
            "Epoch 1/5\n",
            "1500/1500 [==============================] - 4s 2ms/step - loss: 0.5354 - accuracy: 0.8122\n",
            "Epoch 2/5\n",
            "1500/1500 [==============================] - 3s 2ms/step - loss: 0.3957 - accuracy: 0.8589\n",
            "Epoch 3/5\n",
            "1500/1500 [==============================] - 3s 2ms/step - loss: 0.3547 - accuracy: 0.8704\n",
            "Epoch 4/5\n",
            "1500/1500 [==============================] - 3s 2ms/step - loss: 0.3315 - accuracy: 0.8815\n",
            "Epoch 5/5\n",
            "1500/1500 [==============================] - 3s 2ms/step - loss: 0.3170 - accuracy: 0.8864\n"
          ],
          "name": "stdout"
        },
        {
          "output_type": "execute_result",
          "data": {
            "text/plain": [
              "<tensorflow.python.keras.callbacks.History at 0x7f41d9dbdd50>"
            ]
          },
          "metadata": {
            "tags": []
          },
          "execution_count": 29
        }
      ]
    },
    {
      "cell_type": "code",
      "metadata": {
        "colab": {
          "base_uri": "https://localhost:8080/"
        },
        "id": "9flwOxOkFXn3",
        "outputId": "597c5fff-1744-4a5c-b1f8-300058d6550e"
      },
      "source": [
        "model.evaluate(val_scaled, val_target)\n",
        "\n",
        "# 은닉층을 추가하니 성능이 조금 향상되었다!"
      ],
      "execution_count": 30,
      "outputs": [
        {
          "output_type": "stream",
          "text": [
            "375/375 [==============================] - 1s 1ms/step - loss: 0.3680 - accuracy: 0.8792\n"
          ],
          "name": "stdout"
        },
        {
          "output_type": "execute_result",
          "data": {
            "text/plain": [
              "[0.3680174648761749, 0.8791666626930237]"
            ]
          },
          "metadata": {
            "tags": []
          },
          "execution_count": 30
        }
      ]
    },
    {
      "cell_type": "markdown",
      "metadata": {
        "id": "pRqeh3mGHVhx"
      },
      "source": [
        "신경망의 하이퍼파라미터 ( 지정해 주어야 하는 매개변수 ) :\n",
        "\n",
        "은닉층의 뉴런개수, 활성화 함수종류, 층의 종류, 미니배치 개수 등등...\n",
        "\n",
        "케라스는 다양한 종류의 경사 하강법을 제공하는데, 이들을 **'옵티마이저'**라고 부른다."
      ]
    },
    {
      "cell_type": "code",
      "metadata": {
        "id": "TZrlk3hJFoWE"
      },
      "source": [
        "model.compile(optimizer='sgd', loss='sparse_categorical_entropy', metrics='accuracy')\n",
        "# 기본 optimizer= 'rmsprop'"
      ],
      "execution_count": 31,
      "outputs": []
    },
    {
      "cell_type": "code",
      "metadata": {
        "id": "j5DKV2MHHfnu"
      },
      "source": [
        "sgd = keras.optimizers.SGD()\n",
        "model.compile(optimizer=sgd, loss='sparse_categorical_entropy', metrics='accuracy')\n",
        "# 바로 위 코드와 정확히 동일한 코드\n",
        "\n",
        "# 여기서 sgd는 기본적으로 미니배치를 사용한다"
      ],
      "execution_count": 32,
      "outputs": []
    },
    {
      "cell_type": "code",
      "metadata": {
        "id": "u8pnjoxhHuTO"
      },
      "source": [
        "sgd = keras.optimizers.SGD(learning_rate=0.1)   # 학습률을 따로 지정"
      ],
      "execution_count": 33,
      "outputs": []
    },
    {
      "cell_type": "markdown",
      "metadata": {
        "id": "UM_OJookM-IP"
      },
      "source": [
        "**모멘텀** : 운동량을 의미하며 Momentum Optimizer는 매개변수의 이동에 속도를 부여하는 것을 의미한다.\n",
        "\n",
        "예를 들어 구슬을 떨어트리면 급한 경사에서는 더 빨라지듯이 매개변수의 변화에도 속도를 부여하는 것처럼 생각 ( 관성 )\n",
        "\n",
        "- 모멘텀 최적화 : 마치 이전의 그레이디언트를 가속도처럼 사용\n",
        "\n",
        "- 네스테로프 모멘텀 최적화 : 모멘텀 최적화를 2번 반복하여 구현\n",
        "\n",
        "- 적응적 학습률 : 모델이 최적점에 가까이 갈수록 학습률을 낮추는 방법\n",
        "\n",
        " - 적응적 학습률을 사용하는 대표적인 옵티마이저는 Adagrad과 RMSprop이 있다."
      ]
    },
    {
      "cell_type": "code",
      "metadata": {
        "id": "9xbZt53HMelh"
      },
      "source": [
        "sgd  = keras.optimizers.SGD(momentum=0.9, nesterov=True)  # momentum=0.9가 국룰"
      ],
      "execution_count": 34,
      "outputs": []
    },
    {
      "cell_type": "code",
      "metadata": {
        "id": "gfBDlCCbMvBw"
      },
      "source": [
        "# Adagrad\n",
        "adagrad = keras.optimizers.Adagrad()\n",
        "model.compile(optimizer=adagrad, loss='sparse_categorical_crossentropy', metrics='accuracy')"
      ],
      "execution_count": 35,
      "outputs": []
    },
    {
      "cell_type": "code",
      "metadata": {
        "id": "ATFkQI7jNDIm"
      },
      "source": [
        "# RMSprop\n",
        "rmsprop = keras.optimizers.RMSprop()\n",
        "model.compile(optimizer=rmsprop, loss='sparse_categorical_crossentropy', metrics='accuracy')"
      ],
      "execution_count": 36,
      "outputs": []
    },
    {
      "cell_type": "code",
      "metadata": {
        "id": "ezrblkNvNPe2"
      },
      "source": [
        "# Adam : 모멘텀 최적화와 RMSprop의 장점을 접목한 것\n",
        "adam = keras.optimizers.Adam()\n",
        "model.compile(optimizer=adam, loss='sparse_categorical_crossentropy', metrics='accuracy')"
      ],
      "execution_count": 37,
      "outputs": []
    },
    {
      "cell_type": "markdown",
      "metadata": {
        "id": "fymPlD9ENnxU"
      },
      "source": [
        "적응적 학습률을 사용하는 위 3개의 클래스는 learning_rate가 기본적으로 0.001이다."
      ]
    },
    {
      "cell_type": "code",
      "metadata": {
        "id": "r4NbWnF3Nu53"
      },
      "source": [
        "model = keras.Sequential()\n",
        "model.add(keras.layers.Flatten(input_shape=(28,28)))\n",
        "model.add(keras.layers.Dense(100, activation='relu'))\n",
        "model.add(keras.layers.Dense(10, activation='softmax'))"
      ],
      "execution_count": 38,
      "outputs": []
    },
    {
      "cell_type": "code",
      "metadata": {
        "colab": {
          "base_uri": "https://localhost:8080/"
        },
        "id": "MOSjjlbLOJ3F",
        "outputId": "ead9e16c-6e9c-4558-83be-897d386d969e"
      },
      "source": [
        "# Adam으로 패션 MNIST 모델 훈련하기\n",
        "model.compile(optimizer='adam', loss='sparse_categorical_crossentropy', metrics='accuracy')\n",
        "model.fit(train_scaled, train_target, epochs=5)\n",
        "\n",
        "# 기본 RMSprop을 사용했을 때와 거의 같은 성능"
      ],
      "execution_count": 39,
      "outputs": [
        {
          "output_type": "stream",
          "text": [
            "Epoch 1/5\n",
            "1500/1500 [==============================] - 3s 2ms/step - loss: 0.5252 - accuracy: 0.8163\n",
            "Epoch 2/5\n",
            "1500/1500 [==============================] - 3s 2ms/step - loss: 0.3894 - accuracy: 0.8608\n",
            "Epoch 3/5\n",
            "1500/1500 [==============================] - 3s 2ms/step - loss: 0.3483 - accuracy: 0.8739\n",
            "Epoch 4/5\n",
            "1500/1500 [==============================] - 3s 2ms/step - loss: 0.3234 - accuracy: 0.8825\n",
            "Epoch 5/5\n",
            "1500/1500 [==============================] - 3s 2ms/step - loss: 0.3033 - accuracy: 0.8891\n"
          ],
          "name": "stdout"
        },
        {
          "output_type": "execute_result",
          "data": {
            "text/plain": [
              "<tensorflow.python.keras.callbacks.History at 0x7f41dafd3910>"
            ]
          },
          "metadata": {
            "tags": []
          },
          "execution_count": 39
        }
      ]
    },
    {
      "cell_type": "code",
      "metadata": {
        "colab": {
          "base_uri": "https://localhost:8080/"
        },
        "id": "SiF7Dv-zOYmM",
        "outputId": "4fd6ebdd-645a-4bf0-f158-b75552294c80"
      },
      "source": [
        "model.evaluate(val_scaled, val_target)"
      ],
      "execution_count": 40,
      "outputs": [
        {
          "output_type": "stream",
          "text": [
            "375/375 [==============================] - 1s 1ms/step - loss: 0.3663 - accuracy: 0.8670\n"
          ],
          "name": "stdout"
        },
        {
          "output_type": "execute_result",
          "data": {
            "text/plain": [
              "[0.36625394225120544, 0.8669999837875366]"
            ]
          },
          "metadata": {
            "tags": []
          },
          "execution_count": 40
        }
      ]
    },
    {
      "cell_type": "markdown",
      "metadata": {
        "id": "ygc23jinPMYn"
      },
      "source": [
        "### 07-3 신경망 모델 훈련"
      ]
    },
    {
      "cell_type": "markdown",
      "metadata": {
        "id": "C4i01PBrPO0v"
      },
      "source": [
        "fit( ) 메서드는 History( )클래스 객체를 반환한다.\n",
        "\n",
        "History객체에는 훈련과정에서 계산한 지표, 즉 손실과 정확도 값이 저장되어 있다 --> 이 값으로 그래프 그리기 가능"
      ]
    },
    {
      "cell_type": "code",
      "metadata": {
        "id": "ZMiwr1p6O7SN"
      },
      "source": [
        "from tensorflow import keras\n",
        "from sklearn.model_selection import train_test_split\n",
        "(train_input, train_target), (test_input, test_target) = keras.datasets.fashion_mnist.load_data()\n",
        "train_scaled = train_input / 255.0\n",
        "train_scaled, val_scaled, train_target, val_target = train_test_split(\n",
        "    train_scaled, train_target, test_size=0.2, random_state=42)"
      ],
      "execution_count": 41,
      "outputs": []
    },
    {
      "cell_type": "code",
      "metadata": {
        "id": "dlUeY38VUR6Y"
      },
      "source": [
        "# 모델을 만드는 함수 정의\n",
        "def model_fn(a_layer=None):\n",
        "    model = keras.Sequential()\n",
        "    model.add(keras.layers.Flatten(input_shape=(28,28)))\n",
        "    model.add(keras.layers.Dense(100, activation='relu'))\n",
        "    if a_layer:        # 더 추가하려는 층이 있다면:\n",
        "        model.add(a_layer)\n",
        "    model.add(keras.layers.Dense(10, activation='softmax'))\n",
        "    \n",
        "    return model"
      ],
      "execution_count": 42,
      "outputs": []
    },
    {
      "cell_type": "code",
      "metadata": {
        "colab": {
          "base_uri": "https://localhost:8080/"
        },
        "id": "E7ZVUHeTVn6D",
        "outputId": "38a53179-a8e0-4946-ea6b-a5793e6705a9"
      },
      "source": [
        "model = model_fn()\n",
        "model.summary()"
      ],
      "execution_count": 43,
      "outputs": [
        {
          "output_type": "stream",
          "text": [
            "Model: \"sequential_5\"\n",
            "_________________________________________________________________\n",
            "Layer (type)                 Output Shape              Param #   \n",
            "=================================================================\n",
            "flatten_2 (Flatten)          (None, 784)               0         \n",
            "_________________________________________________________________\n",
            "dense_9 (Dense)              (None, 100)               78500     \n",
            "_________________________________________________________________\n",
            "dense_10 (Dense)             (None, 10)                1010      \n",
            "=================================================================\n",
            "Total params: 79,510\n",
            "Trainable params: 79,510\n",
            "Non-trainable params: 0\n",
            "_________________________________________________________________\n"
          ],
          "name": "stdout"
        }
      ]
    },
    {
      "cell_type": "code",
      "metadata": {
        "id": "9du0D3j9VvUM"
      },
      "source": [
        "model.compile(loss='sparse_categorical_crossentropy', metrics='accuracy')\n",
        "history = model.fit(train_scaled, train_target, epochs=5, verbose=0)  # fit()메서드의 반환값을 history에 저장\n",
        "# verbose : 훈련 과정 출력을 조절\n",
        "#           기본값은 1로, 훈련과정을 진행막대와 손실등의 지표가 모두 출력, 0이면 출력x, 2이면 진행막대 빼고 출력"
      ],
      "execution_count": 44,
      "outputs": []
    },
    {
      "cell_type": "code",
      "metadata": {
        "colab": {
          "base_uri": "https://localhost:8080/"
        },
        "id": "YkNUDCOl9ybz",
        "outputId": "5de9e3dd-80d7-4e74-dd5a-f1fbc8c6379d"
      },
      "source": [
        "print(history.history.keys())\n",
        "print(history.history['loss'])"
      ],
      "execution_count": 45,
      "outputs": [
        {
          "output_type": "stream",
          "text": [
            "dict_keys(['loss', 'accuracy'])\n",
            "[0.5304573774337769, 0.39075231552124023, 0.3544592559337616, 0.3315703272819519, 0.3196038007736206]\n"
          ],
          "name": "stdout"
        }
      ]
    },
    {
      "cell_type": "code",
      "metadata": {
        "colab": {
          "base_uri": "https://localhost:8080/",
          "height": 279
        },
        "id": "ASG3xKml-XCo",
        "outputId": "6ed8ad3f-b6ff-4f15-fd77-4da9352237ab"
      },
      "source": [
        "# 에포크당 loss, accuracy 그래프\n",
        "import matplotlib.pyplot as plt\n",
        "plt.plot(history.history['accuracy'], label='accuracy')\n",
        "plt.plot(history.history['loss'], label='loss')\n",
        "plt.xlabel('epoch')\n",
        "plt.legend()\n",
        "plt.show()\n",
        "\n",
        "# 에포그마다 손실이 감소하고, 성능이 향상된다!"
      ],
      "execution_count": 46,
      "outputs": [
        {
          "output_type": "display_data",
          "data": {
            "image/png": "[encoded data removed]",
            "text/plain": [
              "<Figure size 432x288 with 1 Axes>"
            ]
          },
          "metadata": {
            "tags": [],
            "needs_background": "light"
          }
        }
      ]
    },
    {
      "cell_type": "code",
      "metadata": {
        "colab": {
          "base_uri": "https://localhost:8080/",
          "height": 279
        },
        "id": "fplRnBlbA9Xp",
        "outputId": "0db163c3-a001-4d1d-e0f6-368af16c951c"
      },
      "source": [
        "model = model_fn()\n",
        "model.compile(loss='sparse_categorical_crossentropy', metrics='accuracy')\n",
        "history = model.fit(train_scaled, train_target, epochs=20, verbose=0)   # 에포크를 20으로 늘려서 훈련\n",
        "plt.plot(history.history['accuracy'], label='accuracy')\n",
        "plt.plot(history.history['loss'], label='loss')\n",
        "plt.xlabel('epoch')\n",
        "plt.legend()\n",
        "plt.show()\n",
        "\n",
        "# 에포크를 늘리니까 더 향상되는것 같지만 과대적합일 우려가 있으니 검증세트의 평가를 보자"
      ],
      "execution_count": 47,
      "outputs": [
        {
          "output_type": "display_data",
          "data": {
            "image/png": "[encoded data removed]",
            "text/plain": [
              "<Figure size 432x288 with 1 Axes>"
            ]
          },
          "metadata": {
            "tags": [],
            "needs_background": "light"
          }
        }
      ]
    },
    {
      "cell_type": "code",
      "metadata": {
        "id": "4aG4K04HBvi4"
      },
      "source": [
        "model = model_fn()\n",
        "model.compile(loss='sparse_categorical_crossentropy', metrics='accuracy')\n",
        "history = model.fit(train_scaled, train_target, epochs=20, verbose=0,\n",
        "                    validation_data=(val_scaled, val_target))\n",
        "\n",
        "# 검증 손실을 계산하려면 validation_data에 검증세트의 입력과 타깃값을 전달해준다"
      ],
      "execution_count": 48,
      "outputs": []
    },
    {
      "cell_type": "code",
      "metadata": {
        "colab": {
          "base_uri": "https://localhost:8080/"
        },
        "id": "fUR3q1pzC3pq",
        "outputId": "6541dd7e-15ff-4095-a061-ebff13700d2a"
      },
      "source": [
        "print(history.history.keys())"
      ],
      "execution_count": 49,
      "outputs": [
        {
          "output_type": "stream",
          "text": [
            "dict_keys(['loss', 'accuracy', 'val_loss', 'val_accuracy'])\n"
          ],
          "name": "stdout"
        }
      ]
    },
    {
      "cell_type": "code",
      "metadata": {
        "colab": {
          "base_uri": "https://localhost:8080/",
          "height": 279
        },
        "id": "H1kFlgVTC8vj",
        "outputId": "a7da45ea-7ec4-4396-bc0b-099af6d5d6f0"
      },
      "source": [
        "plt.plot(history.history['loss'])\n",
        "plt.plot(history.history['val_loss'])\n",
        "plt.xlabel('epoch')\n",
        "plt.ylabel('loss')\n",
        "plt.legend(['train', 'val'])\n",
        "plt.show()\n",
        "\n",
        "# 5번째 에포크에서 val_loss가 증가하기 시작 --> 과대적합"
      ],
      "execution_count": 50,
      "outputs": [
        {
          "output_type": "display_data",
          "data": {
            "image/png": "[encoded data removed]",
            "text/plain": [
              "<Figure size 432x288 with 1 Axes>"
            ]
          },
          "metadata": {
            "tags": [],
            "needs_background": "light"
          }
        }
      ]
    },
    {
      "cell_type": "code",
      "metadata": {
        "colab": {
          "base_uri": "https://localhost:8080/",
          "height": 279
        },
        "id": "ZxTAmIs8DMfi",
        "outputId": "e28d69a7-115e-4f8f-a2c5-e11f7c938e81"
      },
      "source": [
        "# RMSprop 대신 Adam으로 훈련\n",
        "model = model_fn()\n",
        "model.compile(optimizer='adam', loss='sparse_categorical_crossentropy', metrics='accuracy')\n",
        "history = model.fit(train_scaled, train_target, epochs=20, verbose=0,\n",
        "                    validation_data=(val_scaled, val_target))\n",
        "plt.plot(history.history['loss'])\n",
        "plt.plot(history.history['val_loss'])\n",
        "plt.xlabel('epoch')\n",
        "plt.ylabel('loss')\n",
        "plt.legend(['train','val'])\n",
        "plt.show()\n",
        "\n",
        "# RMSprop보다는 Adam이 이 데이터셋에 잘 맞는다!"
      ],
      "execution_count": 51,
      "outputs": [
        {
          "output_type": "display_data",
          "data": {
            "image/png": "[encoded data removed]",
            "text/plain": [
              "<Figure size 432x288 with 1 Axes>"
            ]
          },
          "metadata": {
            "tags": [],
            "needs_background": "light"
          }
        }
      ]
    },
    {
      "cell_type": "markdown",
      "metadata": {
        "id": "lBVUQilyI5DY"
      },
      "source": [
        "**드롭 아웃** :\n",
        "\n",
        "훈련과정에서 층에 있는 일부 뉴런을 랜덤하게 꺼서 (뉴런출력을 0으로 만들어) 과대적합을 막는다.\n",
        "\n",
        "- 얼마나 많은 뉴런을 드롭할지는 우리가 정해야 할 하이퍼파라미터이다.\n",
        "\n",
        "- 훈련이 끝나고 평가난 예측을 할때는 드롭아웃을 적용하면 안된다. --> 케라스에서 자동으로 적용하지 않는다. (따로 뺄 필요 X)"
      ]
    },
    {
      "cell_type": "code",
      "metadata": {
        "colab": {
          "base_uri": "https://localhost:8080/"
        },
        "id": "Z1q4sGnqGRHN",
        "outputId": "4852e7fa-7d6b-40e3-8aa4-4591137f296c"
      },
      "source": [
        "model = model_fn(keras.layers.Dropout(0.3))  # 30% 정도를 드롭아웃 하겠다\n",
        "model.summary()"
      ],
      "execution_count": 52,
      "outputs": [
        {
          "output_type": "stream",
          "text": [
            "Model: \"sequential_9\"\n",
            "_________________________________________________________________\n",
            "Layer (type)                 Output Shape              Param #   \n",
            "=================================================================\n",
            "flatten_6 (Flatten)          (None, 784)               0         \n",
            "_________________________________________________________________\n",
            "dense_17 (Dense)             (None, 100)               78500     \n",
            "_________________________________________________________________\n",
            "dropout (Dropout)            (None, 100)               0         \n",
            "_________________________________________________________________\n",
            "dense_18 (Dense)             (None, 10)                1010      \n",
            "=================================================================\n",
            "Total params: 79,510\n",
            "Trainable params: 79,510\n",
            "Non-trainable params: 0\n",
            "_________________________________________________________________\n"
          ],
          "name": "stdout"
        }
      ]
    },
    {
      "cell_type": "code",
      "metadata": {
        "colab": {
          "base_uri": "https://localhost:8080/",
          "height": 279
        },
        "id": "GNTW0FjKKnrh",
        "outputId": "4aa73945-e46c-49bd-ee6c-1df154bd1524"
      },
      "source": [
        "model.compile(optimizer='adam', loss='sparse_categorical_crossentropy', metrics='accuracy')\n",
        "history = model.fit(train_scaled, train_target, epochs=20, verbose=0,\n",
        "                    validation_data=(val_scaled, val_target))\n",
        "plt.plot(history.history['loss'])\n",
        "plt.plot(history.history['val_loss'])\n",
        "plt.xlabel('epoch')\n",
        "plt.ylabel('loss')\n",
        "plt.legend(['train','val'])\n",
        "plt.show()"
      ],
      "execution_count": 53,
      "outputs": [
        {
          "output_type": "display_data",
          "data": {
            "image/png": "[encoded data removed]",
            "text/plain": [
              "<Figure size 432x288 with 1 Axes>"
            ]
          },
          "metadata": {
            "tags": [],
            "needs_background": "light"
          }
        }
      ]
    },
    {
      "cell_type": "markdown",
      "metadata": {
        "id": "ufMHRnejOE5l"
      },
      "source": [
        "모델 저장과 복원"
      ]
    },
    {
      "cell_type": "code",
      "metadata": {
        "id": "LThBmYIrKvWd"
      },
      "source": [
        "model = model_fn(keras.layers.Dropout(0.3))\n",
        "model.compile(optimizer='adam', loss='sparse_categorical_crossentropy', metrics='accuracy')\n",
        "history = model.fit(train_scaled, train_target, epochs=10, verbose=0,\n",
        "                    validation_data=(val_scaled, val_target))"
      ],
      "execution_count": 54,
      "outputs": []
    },
    {
      "cell_type": "code",
      "metadata": {
        "id": "z3rxRCFOLTDt"
      },
      "source": [
        "model.save_weights('model-weights.h5')  # svae_weights(): 훈련된 모델의 파라미터를 저장한다"
      ],
      "execution_count": 55,
      "outputs": []
    },
    {
      "cell_type": "code",
      "metadata": {
        "id": "5u2GhYmaLlBZ"
      },
      "source": [
        "model.save('model-whole.h5')   # save(): 모델 구조와 모델 파라미터를 함께 저장"
      ],
      "execution_count": 56,
      "outputs": []
    },
    {
      "cell_type": "code",
      "metadata": {
        "colab": {
          "base_uri": "https://localhost:8080/"
        },
        "id": "UzBvO5mQLn7H",
        "outputId": "a9c5a6a2-8f2a-4794-f8b1-3dfab11ee3a3"
      },
      "source": [
        "!ls -al *.h5    # 셀 명령을 실행할 때 '!' 사용"
      ],
      "execution_count": 57,
      "outputs": [
        {
          "output_type": "stream",
          "text": [
            "-rw-r--r-- 1 root root 332480 Jul 31 05:31 model-weights.h5\n",
            "-rw-r--r-- 1 root root 981736 Jul 31 05:31 model-whole.h5\n"
          ],
          "name": "stdout"
        }
      ]
    },
    {
      "cell_type": "markdown",
      "metadata": {
        "id": "TdYU2pFqPHh1"
      },
      "source": [
        "1. 훈련되지 않은 새로운 모델만 생성하고, 저장한 모델 파라미터 가져오기\n",
        "\n",
        "save_weights( )와 load_wegiths( )는 쌍을 이룬다."
      ]
    },
    {
      "cell_type": "code",
      "metadata": {
        "id": "NtKxGL5BL_F7"
      },
      "source": [
        "model = model_fn(keras.layers.Dropout(0.3))\n",
        "model.load_weights('model-weights.h5')  # load_weights(): 저장했던 모델 파라미터를 그대로 가져온다"
      ],
      "execution_count": 58,
      "outputs": []
    },
    {
      "cell_type": "code",
      "metadata": {
        "colab": {
          "base_uri": "https://localhost:8080/"
        },
        "id": "SwxjVQDuMI_w",
        "outputId": "302bee39-42b0-4b06-9f00-5a4dceb7abac"
      },
      "source": [
        "import numpy as np\n",
        "val_labels = np.argmax(model.predict(val_scaled), axis=-1)\n",
        "# predict()메서드는 각 클래스에 대한 확률을 반환하기 때문에 argmax를 사용해 가장 큰 확률을 반환해줌\n",
        "print(np.mean(val_labels == val_target))\n",
        "# (타깃과 맞으면 1, 아니면 0)의 평균 ==> 정확도"
      ],
      "execution_count": 59,
      "outputs": [
        {
          "output_type": "stream",
          "text": [
            "0.8816666666666667\n"
          ],
          "name": "stdout"
        }
      ]
    },
    {
      "cell_type": "markdown",
      "metadata": {
        "id": "Q5JZp8-qP3xX"
      },
      "source": [
        "2. 저장된 모델을 파일에서 불러오기\n",
        "\n",
        "save( )와 load_model( )는 쌍을 이룬다."
      ]
    },
    {
      "cell_type": "code",
      "metadata": {
        "colab": {
          "base_uri": "https://localhost:8080/"
        },
        "id": "ZVbs0WbSPjOi",
        "outputId": "1cef90b9-e5b8-4a07-a5c7-7fe5121cf5fa"
      },
      "source": [
        "model = keras.models.load_model('model-whole.h5')\n",
        "model.evaluate(val_scaled, val_target)\n",
        "\n",
        "# 같은 모델을 저장하고 다시 불러들였기 때문에 결과가 위와 동일하다"
      ],
      "execution_count": 60,
      "outputs": [
        {
          "output_type": "stream",
          "text": [
            "375/375 [==============================] - 1s 1ms/step - loss: 0.3321 - accuracy: 0.8817\n"
          ],
          "name": "stdout"
        },
        {
          "output_type": "execute_result",
          "data": {
            "text/plain": [
              "[0.33208245038986206, 0.8816666603088379]"
            ]
          },
          "metadata": {
            "tags": []
          },
          "execution_count": 60
        }
      ]
    },
    {
      "cell_type": "markdown",
      "metadata": {
        "id": "uFpjEC1NSzjY"
      },
      "source": [
        "**콜백** :\n",
        "\n",
        "훈련 과정 중간에 어떤 작업을 수행할 수 있게 하는 객체\n",
        "\n",
        "fit( )메서드의 callbacks 매개변수에 리스트로 전달하여 사용"
      ]
    },
    {
      "cell_type": "code",
      "metadata": {
        "colab": {
          "base_uri": "https://localhost:8080/"
        },
        "id": "QccrLDwOP2_O",
        "outputId": "e902edfe-1753-4baf-d33b-34703e74c9df"
      },
      "source": [
        "model = model_fn(keras.layers.Dropout(0.3))\n",
        "model.compile(optimizer='adam', loss='sparse_categorical_crossentropy', metrics='accuracy')\n",
        "checkpoint_cb = keras.callbacks.ModelCheckpoint('best-model.h5')  # 'best-model.h5'에 모델 저장\n",
        "# ModelCheckpoint: 최상의 검증 점수를 만드는 모델을 저장\n",
        "\n",
        "model.fit(train_scaled, train_target, epochs=20, verbose=0,\n",
        "          validation_data=(val_scaled, val_target), callbacks=[checkpoint_cb])"
      ],
      "execution_count": 61,
      "outputs": [
        {
          "output_type": "execute_result",
          "data": {
            "text/plain": [
              "<tensorflow.python.keras.callbacks.History at 0x7f41d22f9f50>"
            ]
          },
          "metadata": {
            "tags": []
          },
          "execution_count": 61
        }
      ]
    },
    {
      "cell_type": "code",
      "metadata": {
        "colab": {
          "base_uri": "https://localhost:8080/"
        },
        "id": "u9D_kHq6Tsm2",
        "outputId": "a36499be-9cfe-447d-dc34-e5d06cba4446"
      },
      "source": [
        "model = keras.models.load_model('best-model.h5')\n",
        "model.evaluate(val_scaled, val_target)"
      ],
      "execution_count": 62,
      "outputs": [
        {
          "output_type": "stream",
          "text": [
            "375/375 [==============================] - 1s 1ms/step - loss: 0.3315 - accuracy: 0.8800\n"
          ],
          "name": "stdout"
        },
        {
          "output_type": "execute_result",
          "data": {
            "text/plain": [
              "[0.3315064013004303, 0.8799999952316284]"
            ]
          },
          "metadata": {
            "tags": []
          },
          "execution_count": 62
        }
      ]
    },
    {
      "cell_type": "markdown",
      "metadata": {
        "id": "ed_DybIoV7oA"
      },
      "source": [
        "조기종료 : 과대적합이 시작되기 전에 훈련을 미리 중지하는 것"
      ]
    },
    {
      "cell_type": "code",
      "metadata": {
        "id": "_BS58MR1UHni"
      },
      "source": [
        "model = model_fn(keras.layers.Dropout(0.3))\n",
        "model.compile(optimizer='adam', loss='sparse_categorical_crossentropy', metrics='accuracy')\n",
        "checkpoint_cb = keras.callbacks.ModelCheckpoint('best-model.h5')\n",
        "early_stopping_cb = keras.callbacks.EarlyStopping(patience=2, restore_best_weights=True)\n",
        "# EarlyStopping: 조기종료를 위한 콜백,\n",
        "# patience=2 라면 검증점수가 2번 연속 향상되지 않으면 훈련 중지,\n",
        "# restore_best_weights=True : 가장 낮은 검증 손실을 낸 모델 파라미터로 되돌린다\n",
        "\n",
        "histroy = model.fit(train_scaled, train_target, epochs=20, verbose=0, \n",
        "                     validation_data=(val_scaled, val_target),\n",
        "                     callbacks=[checkpoint_cb, early_stopping_cb])  # 두 콜백을 함께 사용"
      ],
      "execution_count": 63,
      "outputs": []
    },
    {
      "cell_type": "code",
      "metadata": {
        "colab": {
          "base_uri": "https://localhost:8080/"
        },
        "id": "d27Ad2hBXI5f",
        "outputId": "6d71c848-b267-4dab-c43a-ec8e22cdf2aa"
      },
      "source": [
        "print(early_stopping_cb.stopped_epoch)\n",
        "# 10번째 에포크에서 훈련이 중지되었다는 것을 의미, \n",
        "# patience가 2였으므로 최상의 모델은 9번째일 것이다"
      ],
      "execution_count": 64,
      "outputs": [
        {
          "output_type": "stream",
          "text": [
            "10\n"
          ],
          "name": "stdout"
        }
      ]
    },
    {
      "cell_type": "code",
      "metadata": {
        "colab": {
          "base_uri": "https://localhost:8080/",
          "height": 282
        },
        "id": "s9TB8fLcXWsN",
        "outputId": "befa7772-7afd-4ec2-e9f5-b458b321747a"
      },
      "source": [
        "plt.plot(history.history['loss'])\n",
        "plt.plot(history.history['val_loss'])\n",
        "plt.xlabel('epoch')\n",
        "plt.ylabel('loss')\n",
        "plt.legend(['train', 'val'])\n",
        "plt.show()"
      ],
      "execution_count": 65,
      "outputs": [
        {
          "output_type": "display_data",
          "data": {
            "image/png": "[encoded data removed]",
            "text/plain": [
              "<Figure size 432x288 with 1 Axes>"
            ]
          },
          "metadata": {
            "tags": [],
            "needs_background": "light"
          }
        }
      ]
    },
    {
      "cell_type": "markdown",
      "metadata": {
        "id": "xJPI2CE8YAT0"
      },
      "source": [
        "조기종료를 사용하면 안심하고 에포크 횟수를 크게 지정해도 괜찮음\n",
        "\n",
        "컴퓨터 자원과 시간을 아낄 수 있고, ModelCheckpoint 콜백을 사용하면 최상의 모델을 자동으로 저장해 주므로 편리함"
      ]
    },
    {
      "cell_type": "code",
      "metadata": {
        "colab": {
          "base_uri": "https://localhost:8080/"
        },
        "id": "gYonhwg5X0MZ",
        "outputId": "c4078e40-9ec1-4769-ec71-805411918d07"
      },
      "source": [
        "model.evaluate(val_scaled, val_target)"
      ],
      "execution_count": 66,
      "outputs": [
        {
          "output_type": "stream",
          "text": [
            "375/375 [==============================] - 0s 1ms/step - loss: 0.3204 - accuracy: 0.8830\n"
          ],
          "name": "stdout"
        },
        {
          "output_type": "execute_result",
          "data": {
            "text/plain": [
              "[0.3204330503940582, 0.8830000162124634]"
            ]
          },
          "metadata": {
            "tags": []
          },
          "execution_count": 66
        }
      ]
    }
  ]
}