{
  "nbformat": 4,
  "nbformat_minor": 0,
  "metadata": {
    "colab": {
      "name": "ch04_ClassificationAlgorithm",
      "provenance": [],
      "collapsed_sections": []
    },
    "kernelspec": {
      "name": "python3",
      "display_name": "Python 3"
    },
    "language_info": {
      "name": "python"
    }
  },
  "cells": [
    {
      "cell_type": "markdown",
      "metadata": {
        "id": "iI9CVV6RSJ1o"
      },
      "source": [
        "# CHAPTER 04 다양한 분류 알고리즘"
      ]
    },
    {
      "cell_type": "markdown",
      "metadata": {
        "id": "qvkclHWCScUU"
      },
      "source": [
        "## 04-1 로지스틱 회귀\n",
        "\n"
      ]
    },
    {
      "cell_type": "code",
      "metadata": {
        "id": "EAtM6qM7R9dY",
        "outputId": "4f07ff17-1c98-464c-8685-e824238e80fd",
        "colab": {
          "base_uri": "https://localhost:8080/",
          "height": 205
        }
      },
      "source": [
        "import pandas as pd\n",
        "\n",
        "fish = pd.read_csv('https://bit.ly/fish_csv_data')\n",
        "fish.head()  # head() : 처음 n개 행을 출력 (default: n=5)"
      ],
      "execution_count": 1,
      "outputs": [
        {
          "output_type": "execute_result",
          "data": {
            "text/html": [
              "<div>\n",
              "<style scoped>\n",
              "    .dataframe tbody tr th:only-of-type {\n",
              "        vertical-align: middle;\n",
              "    }\n",
              "\n",
              "    .dataframe tbody tr th {\n",
              "        vertical-align: top;\n",
              "    }\n",
              "\n",
              "    .dataframe thead th {\n",
              "        text-align: right;\n",
              "    }\n",
              "</style>\n",
              "<table border=\"1\" class=\"dataframe\">\n",
              "  <thead>\n",
              "    <tr style=\"text-align: right;\">\n",
              "      <th></th>\n",
              "      <th>Species</th>\n",
              "      <th>Weight</th>\n",
              "      <th>Length</th>\n",
              "      <th>Diagonal</th>\n",
              "      <th>Height</th>\n",
              "      <th>Width</th>\n",
              "    </tr>\n",
              "  </thead>\n",
              "  <tbody>\n",
              "    <tr>\n",
              "      <th>0</th>\n",
              "      <td>Bream</td>\n",
              "      <td>242.0</td>\n",
              "      <td>25.4</td>\n",
              "      <td>30.0</td>\n",
              "      <td>11.5200</td>\n",
              "      <td>4.0200</td>\n",
              "    </tr>\n",
              "    <tr>\n",
              "      <th>1</th>\n",
              "      <td>Bream</td>\n",
              "      <td>290.0</td>\n",
              "      <td>26.3</td>\n",
              "      <td>31.2</td>\n",
              "      <td>12.4800</td>\n",
              "      <td>4.3056</td>\n",
              "    </tr>\n",
              "    <tr>\n",
              "      <th>2</th>\n",
              "      <td>Bream</td>\n",
              "      <td>340.0</td>\n",
              "      <td>26.5</td>\n",
              "      <td>31.1</td>\n",
              "      <td>12.3778</td>\n",
              "      <td>4.6961</td>\n",
              "    </tr>\n",
              "    <tr>\n",
              "      <th>3</th>\n",
              "      <td>Bream</td>\n",
              "      <td>363.0</td>\n",
              "      <td>29.0</td>\n",
              "      <td>33.5</td>\n",
              "      <td>12.7300</td>\n",
              "      <td>4.4555</td>\n",
              "    </tr>\n",
              "    <tr>\n",
              "      <th>4</th>\n",
              "      <td>Bream</td>\n",
              "      <td>430.0</td>\n",
              "      <td>29.0</td>\n",
              "      <td>34.0</td>\n",
              "      <td>12.4440</td>\n",
              "      <td>5.1340</td>\n",
              "    </tr>\n",
              "  </tbody>\n",
              "</table>\n",
              "</div>"
            ],
            "text/plain": [
              "  Species  Weight  Length  Diagonal   Height   Width\n",
              "0   Bream   242.0    25.4      30.0  11.5200  4.0200\n",
              "1   Bream   290.0    26.3      31.2  12.4800  4.3056\n",
              "2   Bream   340.0    26.5      31.1  12.3778  4.6961\n",
              "3   Bream   363.0    29.0      33.5  12.7300  4.4555\n",
              "4   Bream   430.0    29.0      34.0  12.4440  5.1340"
            ]
          },
          "metadata": {
            "tags": []
          },
          "execution_count": 1
        }
      ]
    },
    {
      "cell_type": "code",
      "metadata": {
        "id": "0iOyR-FIVx2Q",
        "outputId": "a4058aff-1717-41d3-88f1-79c0a0f2c5fb",
        "colab": {
          "base_uri": "https://localhost:8080/"
        }
      },
      "source": [
        "print(pd.unique(fish['Species']))  # unique('Feature') : 'Feature'열에서 고유한 값을 추출\n",
        "# 타깃값들"
      ],
      "execution_count": 2,
      "outputs": [
        {
          "output_type": "stream",
          "text": [
            "['Bream' 'Roach' 'Whitefish' 'Parkki' 'Perch' 'Pike' 'Smelt']\n"
          ],
          "name": "stdout"
        }
      ]
    },
    {
      "cell_type": "code",
      "metadata": {
        "id": "eET8AIHiWXc8",
        "outputId": "376218c2-375c-4569-99b7-099e0d3de003",
        "colab": {
          "base_uri": "https://localhost:8080/"
        }
      },
      "source": [
        "fish_input = fish[['Weight', 'Length', 'Diagonal', 'Height', 'Width']].to_numpy()  # 5개 열을 입력데이터로 사용\n",
        "print(fish_input[:5])\n",
        "\n",
        "fish_target = fish['Species'].to_numpy()  # 타깃 데이터 설정"
      ],
      "execution_count": 3,
      "outputs": [
        {
          "output_type": "stream",
          "text": [
            "[[242.      25.4     30.      11.52     4.02  ]\n",
            " [290.      26.3     31.2     12.48     4.3056]\n",
            " [340.      26.5     31.1     12.3778   4.6961]\n",
            " [363.      29.      33.5     12.73     4.4555]\n",
            " [430.      29.      34.      12.444    5.134 ]]\n"
          ],
          "name": "stdout"
        }
      ]
    },
    {
      "cell_type": "code",
      "metadata": {
        "id": "j_vIjQ_TXXUL"
      },
      "source": [
        "# 훈련세트와 테스트세트로 나누어줌\n",
        "from sklearn.model_selection import train_test_split\n",
        "\n",
        "train_input, test_input, train_target, test_target = train_test_split(fish_input, fish_target, random_state=42)"
      ],
      "execution_count": 4,
      "outputs": []
    },
    {
      "cell_type": "code",
      "metadata": {
        "id": "rVFw5bg0du-1"
      },
      "source": [
        "# 데이터 표준화\n",
        "from sklearn.preprocessing import StandardScaler\n",
        "\n",
        "ss = StandardScaler()\n",
        "ss.fit(train_input)\n",
        "train_scaled = ss.transform(train_input)\n",
        "test_scaled = ss.transform(test_input)"
      ],
      "execution_count": 5,
      "outputs": []
    },
    {
      "cell_type": "code",
      "metadata": {
        "id": "vqKTcU7AeZgC",
        "outputId": "b1fe8cdc-971c-4677-c09f-4321c9d69e27",
        "colab": {
          "base_uri": "https://localhost:8080/"
        }
      },
      "source": [
        "# k-최근접 이웃 분류기\n",
        "from sklearn.neighbors import KNeighborsClassifier\n",
        "\n",
        "kn = KNeighborsClassifier(n_neighbors=3)\n",
        "kn.fit(train_scaled, train_target)\n",
        "print(kn.score(train_scaled, train_target))\n",
        "print(kn.score(test_scaled, test_target))"
      ],
      "execution_count": 6,
      "outputs": [
        {
          "output_type": "stream",
          "text": [
            "0.8907563025210085\n",
            "0.85\n"
          ],
          "name": "stdout"
        }
      ]
    },
    {
      "cell_type": "markdown",
      "metadata": {
        "id": "4m6aqfBPffYO"
      },
      "source": [
        "**다중 분류** : 타깃 데이터에 2개 이상의 클래스가 포함된 문제"
      ]
    },
    {
      "cell_type": "code",
      "metadata": {
        "id": "EnWlMKYXgKUH",
        "outputId": "739932f5-3325-466c-ac23-de2b8f576cd6",
        "colab": {
          "base_uri": "https://localhost:8080/"
        }
      },
      "source": [
        "print(kn.classes_)  # classes_ 속성: 정렬된 타깃값 (알파벳 순)\n",
        "\n",
        "print(kn.predict(test_scaled[:5]))  # 테스트세트의 첫 5개 샘플에 대한 예측"
      ],
      "execution_count": 7,
      "outputs": [
        {
          "output_type": "stream",
          "text": [
            "['Bream' 'Parkki' 'Perch' 'Pike' 'Roach' 'Smelt' 'Whitefish']\n",
            "['Perch' 'Smelt' 'Pike' 'Perch' 'Perch']\n"
          ],
          "name": "stdout"
        }
      ]
    },
    {
      "cell_type": "code",
      "metadata": {
        "id": "wo6VEKQNgyQx",
        "outputId": "852a1710-9fd5-4cca-f104-063897c13ae3",
        "colab": {
          "base_uri": "https://localhost:8080/"
        }
      },
      "source": [
        "import numpy as np\n",
        "proba = kn.predict_proba(test_scaled[:5])  # 클래스별로 확률값을 반환\n",
        "print(np.round(proba, decimals=4))  # 소수점 4번째 자리까지 표기"
      ],
      "execution_count": 8,
      "outputs": [
        {
          "output_type": "stream",
          "text": [
            "[[0.     0.     1.     0.     0.     0.     0.    ]\n",
            " [0.     0.     0.     0.     0.     1.     0.    ]\n",
            " [0.     0.     0.     1.     0.     0.     0.    ]\n",
            " [0.     0.     0.6667 0.     0.3333 0.     0.    ]\n",
            " [0.     0.     0.6667 0.     0.3333 0.     0.    ]]\n"
          ],
          "name": "stdout"
        }
      ]
    },
    {
      "cell_type": "code",
      "metadata": {
        "id": "yuqwHG8_hVOQ",
        "outputId": "f640f966-f375-407b-9107-4698bf5ce6f0",
        "colab": {
          "base_uri": "https://localhost:8080/"
        }
      },
      "source": [
        "distances, indexes = kn.kneighbors(test_scaled[3:4]) # 2차원 배열을 만들기 위해 슬라이싱 연산자 사용 (슬라이싱 사용 시 항상 2차원배열이 됨)\n",
        "print(train_target[indexes])\n",
        "# Roach 1개, Perch 2개 --> 2/3 확률 == 0.6667\n",
        "\n",
        "# k-최근접 이웃을 사용하기 때문에 3개만 봐서 약함.."
      ],
      "execution_count": 9,
      "outputs": [
        {
          "output_type": "stream",
          "text": [
            "[['Roach' 'Perch' 'Perch']]\n"
          ],
          "name": "stdout"
        }
      ]
    },
    {
      "cell_type": "markdown",
      "metadata": {
        "id": "THq5Q52yi12b"
      },
      "source": [
        "###**로지스틱 회귀** :\n",
        " 이름은 회귀이지만 분류 모델임\n",
        "\n",
        "*z* = *a* x (Weight) + *b* x (Length) + *c* x (Diagonal) + *d* x (Height) + *e* x (Width) + *f*\n",
        "\n",
        "- 시그모이드 함수 (로지스틱 회귀)\n",
        " \n",
        " *Φ* = 1 / ( 1 + e^(-z) )\n",
        "\n",
        " 0 ~ 1 사이의 범위를 가지는 함수 --> 0 ~ 1 사이 값을 0~100% 확률로 해석"
      ]
    },
    {
      "cell_type": "code",
      "metadata": {
        "id": "tlG2M4mWi0JF",
        "outputId": "f4261630-94aa-4f2c-ba35-4a875c190279",
        "colab": {
          "base_uri": "https://localhost:8080/",
          "height": 279
        }
      },
      "source": [
        "import numpy as np\n",
        "import matplotlib.pyplot as plt\n",
        "\n",
        "z = np.arange(-5,5,0.1)\n",
        "phi = 1 / (1 + np.exp(-z))\n",
        "plt.plot(z, phi)\n",
        "plt.xlabel('z')\n",
        "plt.ylabel('phi')\n",
        "plt.show()"
      ],
      "execution_count": 10,
      "outputs": [
        {
          "output_type": "display_data",
          "data": {
            "image/png": "[encoded data removed]",
            "text/plain": [
              "<Figure size 432x288 with 1 Axes>"
            ]
          },
          "metadata": {
            "tags": [],
            "needs_background": "light"
          }
        }
      ]
    },
    {
      "cell_type": "code",
      "metadata": {
        "id": "LDBS2W-QnEyg",
        "outputId": "9647a4bf-e6f0-46d6-ac4b-672b9df28422",
        "colab": {
          "base_uri": "https://localhost:8080/"
        }
      },
      "source": [
        "char_arr = np.array(['A','B','C','D','E'])\n",
        "print(char_arr[[True, False, True, False, False]])  # 1번째, 3번째 원소만 골라냄 (True인 index만)"
      ],
      "execution_count": 11,
      "outputs": [
        {
          "output_type": "stream",
          "text": [
            "['A' 'C']\n"
          ],
          "name": "stdout"
        }
      ]
    },
    {
      "cell_type": "code",
      "metadata": {
        "id": "0ZlVQSx1nlhH"
      },
      "source": [
        "# 이진 분류를 위해 로지스틱 회귀 적용\n",
        "\n",
        "# 'Bream'과 'Smelt'행만 골라내는 작업\n",
        "bream_smelt_indexes = (train_target == 'Bream') | (train_target == 'Smelt')\n",
        "train_bream_smelt = train_scaled[bream_smelt_indexes]   # 'Bream'과 'Smelt' 만 있는 train_input\n",
        "target_bream_smelt = train_target[bream_smelt_indexes]"
      ],
      "execution_count": 12,
      "outputs": []
    },
    {
      "cell_type": "code",
      "metadata": {
        "id": "S1fey6DGpGxz",
        "outputId": "c76b9a7d-0825-41d7-e910-d6e60d79aafe",
        "colab": {
          "base_uri": "https://localhost:8080/"
        }
      },
      "source": [
        "from sklearn.linear_model import LogisticRegression\n",
        "\n",
        "lr = LogisticRegression()\n",
        "lr.fit(train_bream_smelt, target_bream_smelt)\n",
        "\n",
        "print(lr.predict(train_bream_smelt[:5]))"
      ],
      "execution_count": 13,
      "outputs": [
        {
          "output_type": "stream",
          "text": [
            "['Bream' 'Smelt' 'Bream' 'Bream' 'Bream']\n"
          ],
          "name": "stdout"
        }
      ]
    },
    {
      "cell_type": "code",
      "metadata": {
        "id": "a8BDJgfkphgW",
        "outputId": "0b7b56d0-d85b-4944-e1ed-dc2e61d6cce1",
        "colab": {
          "base_uri": "https://localhost:8080/"
        }
      },
      "source": [
        "print(lr.predict_proba(train_bream_smelt[:5]))  # 첫 번째 열 : 음성클래스(0)\n",
        "                                                # 두 번째 열 : 양성클래스(1)\n",
        "print(lr.classes_)  # 알파벳순으로 정렬됨\n",
        "                    # 'Bream' : 음성, 'Smelt' : 양성"
      ],
      "execution_count": 14,
      "outputs": [
        {
          "output_type": "stream",
          "text": [
            "[[0.99759855 0.00240145]\n",
            " [0.02735183 0.97264817]\n",
            " [0.99486072 0.00513928]\n",
            " [0.98584202 0.01415798]\n",
            " [0.99767269 0.00232731]]\n",
            "['Bream' 'Smelt']\n"
          ],
          "name": "stdout"
        }
      ]
    },
    {
      "cell_type": "code",
      "metadata": {
        "id": "VxQzJ-KOqYtO",
        "outputId": "47068807-2e24-49fd-ce32-840aa7b6e7c6",
        "colab": {
          "base_uri": "https://localhost:8080/"
        }
      },
      "source": [
        "print(lr.coef_, lr.intercept_)  # 로지스틱 회귀가 학습한 계수\n",
        "# 각 클래스마다 다른 coef와 intercept를 구한다\n",
        "\n",
        "# z = -0.404 x (Weight) - 0.576 x (Length) - 0.663 x (Diagonal) - 1.013 x (Height) - 0.732 x (Weight) - 2.161"
      ],
      "execution_count": 15,
      "outputs": [
        {
          "output_type": "stream",
          "text": [
            "[[-0.4037798  -0.57620209 -0.66280298 -1.01290277 -0.73168947]] [-2.16155132]\n"
          ],
          "name": "stdout"
        }
      ]
    },
    {
      "cell_type": "code",
      "metadata": {
        "id": "hHOsDgQdqxQH",
        "outputId": "6fbf04b2-6690-448c-ae91-b4ff43c7ea69",
        "colab": {
          "base_uri": "https://localhost:8080/"
        }
      },
      "source": [
        "decisions = lr.decision_function(train_bream_smelt[:5])  # '양성 클래스'에 대한 z값 반환\n",
        "print(decisions)   # z 값들\n",
        "# z 값들은 각 샘플마다 클래스 수만큼 있다"
      ],
      "execution_count": 16,
      "outputs": [
        {
          "output_type": "stream",
          "text": [
            "[-6.02927744  3.57123907 -5.26568906 -4.24321775 -6.0607117 ]\n"
          ],
          "name": "stdout"
        }
      ]
    },
    {
      "cell_type": "code",
      "metadata": {
        "id": "R6a9aVryrnPP",
        "outputId": "232765e2-9bdc-42d3-de84-9c99af582a8d",
        "colab": {
          "base_uri": "https://localhost:8080/"
        }
      },
      "source": [
        "from scipy.special import expit  # expit() : 사이파이 라이브러리 안의 시그모이드 함수\n",
        "print(expit(decisions))"
      ],
      "execution_count": 17,
      "outputs": [
        {
          "output_type": "stream",
          "text": [
            "[0.00240145 0.97264817 0.00513928 0.01415798 0.00232731]\n"
          ],
          "name": "stdout"
        }
      ]
    },
    {
      "cell_type": "markdown",
      "metadata": {
        "id": "lUv_2mvYUqWa"
      },
      "source": [
        "**로지스틱 회귀로 다중 분류 수행하기**\n",
        "\n",
        "LogisticRegression 클래스는 기본적으로 반복적인 알고리즘을 사용한다.\n",
        "\n",
        "충분하게 훈련시키기 위해 반복 횟수를 적당히 늘린다 (밑에서는 max_iter=1000으로).\n",
        "\n",
        "기본적으로 릿지 회귀와 같이 계수의 제곱을 규제 (L2 규제)\n",
        "\n",
        "LogisticRegression에서 규제를 제어하는 매개변수는 *C* 이다 --> alpha와 반대로 작을수록 규제가 커진다. (기본값: 1)"
      ]
    },
    {
      "cell_type": "code",
      "metadata": {
        "id": "YvGrfRKlUto2",
        "outputId": "412cba61-7ffb-4411-ca67-85c67741b06a",
        "colab": {
          "base_uri": "https://localhost:8080/"
        }
      },
      "source": [
        "lr = LogisticRegression(C=20, max_iter=1000)  # default: max_iter=100\n",
        "lr.fit(train_scaled, train_target)\n",
        "print(lr.score(train_scaled, train_target))\n",
        "print(lr.score(test_scaled, test_target))"
      ],
      "execution_count": 18,
      "outputs": [
        {
          "output_type": "stream",
          "text": [
            "0.9327731092436975\n",
            "0.925\n"
          ],
          "name": "stdout"
        }
      ]
    },
    {
      "cell_type": "code",
      "metadata": {
        "id": "hhl7pie5Wjj0",
        "outputId": "faa8dfd1-d804-4b57-e5a4-1068371cbe43",
        "colab": {
          "base_uri": "https://localhost:8080/"
        }
      },
      "source": [
        "print(lr.predict(test_scaled[:5]))"
      ],
      "execution_count": 19,
      "outputs": [
        {
          "output_type": "stream",
          "text": [
            "['Perch' 'Smelt' 'Pike' 'Roach' 'Perch']\n"
          ],
          "name": "stdout"
        }
      ]
    },
    {
      "cell_type": "code",
      "metadata": {
        "id": "8BMrt0lGWrig",
        "outputId": "90ab0db7-17f3-4b51-8d4b-b8648fd4b6cf",
        "colab": {
          "base_uri": "https://localhost:8080/"
        }
      },
      "source": [
        "proba = lr.predict_proba(test_scaled[:5])  # 테스트세트의 처음 5개 샘플에 대한 예측 확률\n",
        "print(np.round(proba, decimals=3))\n",
        "print()\n",
        "print(lr.classes_)"
      ],
      "execution_count": 20,
      "outputs": [
        {
          "output_type": "stream",
          "text": [
            "[[0.    0.014 0.841 0.    0.136 0.007 0.003]\n",
            " [0.    0.003 0.044 0.    0.007 0.946 0.   ]\n",
            " [0.    0.    0.034 0.935 0.015 0.016 0.   ]\n",
            " [0.011 0.034 0.306 0.007 0.567 0.    0.076]\n",
            " [0.    0.    0.904 0.002 0.089 0.002 0.001]]\n",
            "\n",
            "['Bream' 'Parkki' 'Perch' 'Pike' 'Roach' 'Smelt' 'Whitefish']\n"
          ],
          "name": "stdout"
        }
      ]
    },
    {
      "cell_type": "code",
      "metadata": {
        "id": "5yVhJY-PXNaZ",
        "outputId": "20d38833-65d0-470c-99bd-9cb23e8b9424",
        "colab": {
          "base_uri": "https://localhost:8080/"
        }
      },
      "source": [
        "print(lr.coef_.shape, lr.intercept_.shape)\n",
        "\n",
        "# 다중 분류는 클래스마다 z값을 하나씩 계산하여, 가장 높은 z값을 출력하는 클래스가 예측 클래스가 된다."
      ],
      "execution_count": 21,
      "outputs": [
        {
          "output_type": "stream",
          "text": [
            "(7, 5) (7,)\n"
          ],
          "name": "stdout"
        }
      ]
    },
    {
      "cell_type": "markdown",
      "metadata": {
        "id": "aEkbKYCsYKry"
      },
      "source": [
        "시그모이드 함수는 하나의 선형 방정식의 출력값을 0~1 사이로 압축하는 반면에, --> 이진분류할 때\n",
        "\n",
        "**소프트맥스 함수**는 여러 개의 선형 방정식의 출력값을 0~1 사이로 압축하고 전체 합이 1이 되도록 만든다. --> 다중분류할 때\n",
        "\n",
        "'정규화된 지수함수' 라고도 불린다.\n"
      ]
    },
    {
      "cell_type": "code",
      "metadata": {
        "id": "qZRdUZDFY6Ov",
        "outputId": "bd708daf-f5bf-449e-e2f4-185a7d2d68f0",
        "colab": {
          "base_uri": "https://localhost:8080/"
        }
      },
      "source": [
        "decision = lr.decision_function(test_scaled[:5])\n",
        "print(np.round(decision, decimals=2))\n",
        "# 각 행은 z1 ~ z7 으로 되있으며, 각 행마다 지수함수의 합은 1이다 (e^zi들의 합 = 1)"
      ],
      "execution_count": 22,
      "outputs": [
        {
          "output_type": "stream",
          "text": [
            "[[ -6.5    1.03   5.16  -2.73   3.34   0.33  -0.63]\n",
            " [-10.86   1.93   4.77  -2.4    2.98   7.84  -4.26]\n",
            " [ -4.34  -6.23   3.17   6.49   2.36   2.42  -3.87]\n",
            " [ -0.68   0.45   2.65  -1.19   3.26  -5.75   1.26]\n",
            " [ -6.4   -1.99   5.82  -0.11   3.5   -0.11  -0.71]]\n"
          ],
          "name": "stdout"
        }
      ]
    },
    {
      "cell_type": "code",
      "metadata": {
        "id": "DF_rz75lZ5Bf",
        "outputId": "ee870a20-ba3b-4a7f-968f-41edbf9b5e0c",
        "colab": {
          "base_uri": "https://localhost:8080/"
        }
      },
      "source": [
        "from scipy.special import softmax   # 사이파이에서 제공하는 소프트맥스 함수\n",
        "proba = softmax(decision, axis=1)\n",
        "print(np.round(proba, decimals=3))\n",
        "\n",
        "# 출력결과가 lr.predict_proba() 배열과 일치한다"
      ],
      "execution_count": 23,
      "outputs": [
        {
          "output_type": "stream",
          "text": [
            "[[0.    0.014 0.841 0.    0.136 0.007 0.003]\n",
            " [0.    0.003 0.044 0.    0.007 0.946 0.   ]\n",
            " [0.    0.    0.034 0.935 0.015 0.016 0.   ]\n",
            " [0.011 0.034 0.306 0.007 0.567 0.    0.076]\n",
            " [0.    0.    0.904 0.002 0.089 0.002 0.001]]\n"
          ],
          "name": "stdout"
        }
      ]
    },
    {
      "cell_type": "markdown",
      "metadata": {
        "id": "72Jbz-DpbRLV"
      },
      "source": [
        "## 04.2 확률적 경사 하강법\n",
        "\n",
        "가장 가파른 경사를 따라 원하는 지점에 도달하는 것이 목표 (천천히 조금씩)\n",
        "\n",
        "점진적인 학습이 가능하다!\n",
        "\n",
        "(손실 함수 줄이기)"
      ]
    },
    {
      "cell_type": "markdown",
      "metadata": {
        "id": "tqyv3imqLBBF"
      },
      "source": [
        "**손실함수 ( 비용함수 )** :\n",
        "\n",
        "머신러닝 알고리즘이 얼마나 엉터리인지를 측정하는 기준 --> 최솟값을 찾아야 함\n",
        "\n",
        "손실함수는 연속적이어야 한다 ( 미분 가능해야 함)"
      ]
    },
    {
      "cell_type": "markdown",
      "metadata": {
        "id": "sB-Lq_0XLtUt"
      },
      "source": [
        "**로지스틱 손실 함수** ( 이진 크로스엔트로피 손실 함숫 )\n",
        "\n",
        "- 타깃 = 1 일 때 --> - log(예측확률)\n",
        "\n",
        "- 타깃 = 2 일 때 --> - log(1 - 예측확률)\n",
        "\n",
        "확률이 1에서 멀어질수록 손실은 아주 큰 양수가 된다."
      ]
    },
    {
      "cell_type": "markdown",
      "metadata": {
        "id": "Y6LcFT7CPkKs"
      },
      "source": [
        "SGDClassifier"
      ]
    },
    {
      "cell_type": "code",
      "metadata": {
        "id": "QLJHKH3Xaaxe"
      },
      "source": [
        "# 데이터 프레임 만들기\n",
        "import pandas as pd\n",
        "fish = pd.read_csv('https://bit.ly/fish_csv_data')"
      ],
      "execution_count": 24,
      "outputs": []
    },
    {
      "cell_type": "code",
      "metadata": {
        "id": "kJClphgPPuO6"
      },
      "source": [
        "fish_input = fish[['Weight', 'Length', 'Diagonal', 'Height', 'Width']].to_numpy()\n",
        "fish_target = fish['Species'].to_numpy()"
      ],
      "execution_count": 25,
      "outputs": []
    },
    {
      "cell_type": "code",
      "metadata": {
        "id": "D1IdjhTQP9sa"
      },
      "source": [
        "from sklearn.model_selection import train_test_split\n",
        "train_input, test_input, train_target, test_target = train_test_split(fish_input, fish_target, random_state=42)"
      ],
      "execution_count": 26,
      "outputs": []
    },
    {
      "cell_type": "code",
      "metadata": {
        "id": "wLUbKwBCQK2O"
      },
      "source": [
        "# 특성 표준화 전처리\n",
        "from sklearn.preprocessing import StandardScaler\n",
        "ss = StandardScaler()\n",
        "ss.fit(train_input)\n",
        "train_scaled = ss.transform(train_input)\n",
        "test_scaled = ss.transform(test_input)"
      ],
      "execution_count": 27,
      "outputs": []
    },
    {
      "cell_type": "code",
      "metadata": {
        "id": "V6xnR3e0QiF6",
        "outputId": "acd4d39a-f56c-4df1-de2a-5dcf08216604",
        "colab": {
          "base_uri": "https://localhost:8080/"
        }
      },
      "source": [
        "from sklearn.linear_model import SGDClassifier  # 사이킷런에서 확률적 경사 하강법을 제공하는 클래스\n",
        "\n",
        "sc = SGDClassifier(loss='log', max_iter=10, random_state=42)  # loss='log': 손실함수 지정, max_iter=10: 에포크 횟수 지정\n",
        "sc.fit(train_scaled, train_target)\n",
        "print(sc.score(train_scaled, train_target))\n",
        "print(sc.score(test_scaled, test_target))\n",
        "\n",
        "# 점수가 낮다 -> 반복 횟수가 적다?"
      ],
      "execution_count": 28,
      "outputs": [
        {
          "output_type": "stream",
          "text": [
            "0.773109243697479\n",
            "0.775\n"
          ],
          "name": "stdout"
        },
        {
          "output_type": "stream",
          "text": [
            "/usr/local/lib/python3.7/dist-packages/sklearn/linear_model/_stochastic_gradient.py:557: ConvergenceWarning: Maximum number of iteration reached before convergence. Consider increasing max_iter to improve the fit.\n",
            "  ConvergenceWarning)\n"
          ],
          "name": "stderr"
        }
      ]
    },
    {
      "cell_type": "code",
      "metadata": {
        "id": "sXnqIZHXRd7K",
        "outputId": "9cd38dcd-0146-486c-c3a8-256e44cc0cc0",
        "colab": {
          "base_uri": "https://localhost:8080/"
        }
      },
      "source": [
        "# 확률적 경사 하강법은 점진적 학습이 가능하므로 객체를 다시 만들지 않고 추가로 더 훈련하기로 하자\n",
        "sc.partial_fit(train_scaled, train_target)\n",
        "print(sc.score(train_scaled, train_target))\n",
        "print(sc.score(test_scaled, test_target))"
      ],
      "execution_count": 29,
      "outputs": [
        {
          "output_type": "stream",
          "text": [
            "0.8151260504201681\n",
            "0.825\n"
          ],
          "name": "stdout"
        }
      ]
    },
    {
      "cell_type": "markdown",
      "metadata": {
        "id": "v6nAWHjsSQjP"
      },
      "source": [
        "적은 에포크 --> 과소적합일 확률 농후\n",
        "\n",
        "많은 에포크 --> 과대적합일 확률 농후\n",
        "\n",
        "과대적합이 시작하기 전에 훈련을 멈춰야 한다 ( 조기 종료 )"
      ]
    },
    {
      "cell_type": "code",
      "metadata": {
        "id": "bF7uQaNwR4Ik"
      },
      "source": [
        "import numpy as np\n",
        "sc = SGDClassifier(loss='log', random_state=42)\n",
        "train_score = []\n",
        "test_score = []\n",
        "classes = np.unique(train_target)"
      ],
      "execution_count": 30,
      "outputs": []
    },
    {
      "cell_type": "code",
      "metadata": {
        "id": "sPFE1aMMS198"
      },
      "source": [
        "for _ in range(0, 300):   # 300번의 에포크 동안 훈련 반복\n",
        "    sc.partial_fit(train_scaled, train_target, classes=classes)\n",
        "    train_score.append(sc.score(train_scaled, train_target))\n",
        "    test_score.append(sc.score(test_scaled, test_target))"
      ],
      "execution_count": 31,
      "outputs": []
    },
    {
      "cell_type": "code",
      "metadata": {
        "id": "41KsQQvrTFzc",
        "outputId": "ed4615ec-a697-4cab-ac3b-030b318f029d",
        "colab": {
          "base_uri": "https://localhost:8080/",
          "height": 279
        }
      },
      "source": [
        "import matplotlib.pyplot as plt\n",
        "\n",
        "plt.plot(train_score)\n",
        "plt.plot(test_score)\n",
        "plt.xlabel('epoch')\n",
        "plt.ylabel('accuracy')\n",
        "plt.show()\n",
        "\n",
        "# 이 모델의 경우 100번째 에포크가 적절해 보인다!"
      ],
      "execution_count": 32,
      "outputs": [
        {
          "output_type": "display_data",
          "data": {
            "image/png": "[encoded data removed]",
            "text/plain": [
              "<Figure size 432x288 with 1 Axes>"
            ]
          },
          "metadata": {
            "tags": [],
            "needs_background": "light"
          }
        }
      ]
    },
    {
      "cell_type": "code",
      "metadata": {
        "id": "9oqg4JFFTh9W",
        "outputId": "ac38382e-1e04-4299-e350-fbb094998672",
        "colab": {
          "base_uri": "https://localhost:8080/"
        }
      },
      "source": [
        "# max_iter=100으로 맞추고 다시 훈련\n",
        "sc = SGDClassifier(loss='log', max_iter=100, tol=None, random_state=42)\n",
        "# 일정 에포크 동안 성능이 향상되지 않으면 자동으로 멈추는데 tol=None으로 지정하여 멈추지 않고 무조건 max_iter만큼 반복된다.\n",
        "\n",
        "sc.fit(train_scaled, train_target)"
      ],
      "execution_count": 33,
      "outputs": [
        {
          "output_type": "execute_result",
          "data": {
            "text/plain": [
              "SGDClassifier(alpha=0.0001, average=False, class_weight=None,\n",
              "              early_stopping=False, epsilon=0.1, eta0=0.0, fit_intercept=True,\n",
              "              l1_ratio=0.15, learning_rate='optimal', loss='log', max_iter=100,\n",
              "              n_iter_no_change=5, n_jobs=None, penalty='l2', power_t=0.5,\n",
              "              random_state=42, shuffle=True, tol=None, validation_fraction=0.1,\n",
              "              verbose=0, warm_start=False)"
            ]
          },
          "metadata": {
            "tags": []
          },
          "execution_count": 33
        }
      ]
    },
    {
      "cell_type": "code",
      "metadata": {
        "id": "mQy5RPu_TvpT",
        "outputId": "ae44e145-ae7f-4d36-fc42-fd064275b5ec",
        "colab": {
          "base_uri": "https://localhost:8080/"
        }
      },
      "source": [
        "print(sc.score(train_scaled, train_target))\n",
        "print(sc.score(test_scaled, test_target))   # 결과 not bad"
      ],
      "execution_count": 34,
      "outputs": [
        {
          "output_type": "stream",
          "text": [
            "0.957983193277311\n",
            "0.925\n"
          ],
          "name": "stdout"
        }
      ]
    },
    {
      "cell_type": "markdown",
      "metadata": {
        "id": "Q1xLN9E3URqa"
      },
      "source": [
        "loss 매개변수의 기본값은 'hinge' ( \"서포트 벡터 머신\"의 손실 함수 )이다"
      ]
    },
    {
      "cell_type": "code",
      "metadata": {
        "id": "aoyhP-pgUpIM",
        "outputId": "d9d3df2f-a521-4465-d2f1-726efe96068a",
        "colab": {
          "base_uri": "https://localhost:8080/"
        }
      },
      "source": [
        "# 힌지 손실을 사용하여 훈련\n",
        "sc = SGDClassifier(loss='hinge', max_iter=100, tol=None, random_state=42)\n",
        "sc.fit(train_scaled, train_target)\n",
        "print(sc.score(train_scaled, train_target))\n",
        "print(sc.score(test_scaled, test_target))"
      ],
      "execution_count": 35,
      "outputs": [
        {
          "output_type": "stream",
          "text": [
            "0.9495798319327731\n",
            "0.925\n"
          ],
          "name": "stdout"
        }
      ]
    }
  ]
}