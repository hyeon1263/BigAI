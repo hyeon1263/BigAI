{
  "nbformat": 4,
  "nbformat_minor": 0,
  "metadata": {
    "colab": {
      "name": "ch09_NN_Text",
      "provenance": [],
      "collapsed_sections": []
    },
    "kernelspec": {
      "name": "python3",
      "display_name": "Python 3"
    },
    "language_info": {
      "name": "python"
    }
  },
  "cells": [
    {
      "cell_type": "markdown",
      "metadata": {
        "id": "iTvkAL1x7W_i"
      },
      "source": [
        "# Chapter09 텍스트를 위한 인공 신경망"
      ]
    },
    {
      "cell_type": "markdown",
      "metadata": {
        "id": "k0KWw9zk7a8o"
      },
      "source": [
        "### 09-1 순차 데이터와 순환 신경망"
      ]
    },
    {
      "cell_type": "markdown",
      "metadata": {
        "id": "KQfSrzr-7e8O"
      },
      "source": [
        "- 순차 데이터 : 텍스트나 시계열 데이터와 같이 순서에 의미가 있는 데이터\n",
        "\n",
        " - 시계열 데이터 : 일정간 시간 간격으로 기록된 데이터\n",
        "\n",
        " 순서가 중요하므로 '이전에' 입력한 데이터를 기억하는 기능이 필요하다\n",
        "\n",
        "---"
      ]
    },
    {
      "cell_type": "markdown",
      "metadata": {
        "id": "Oi36GGwr9ff3"
      },
      "source": [
        "- 피드포워드 신경망 : 입력 데이터의 흐름이 앞으로만 전달되는 신경망\n",
        "\n",
        "- **순환 신경망** : 이전 데이터가 신경망 층에 순환되는 신경망 (완전 연결 신경망에 순환하는 고리가 추가됨)\n",
        "\n",
        " --> '이전 샘플에 대한 기억을 가지고 있다'"
      ]
    },
    {
      "cell_type": "markdown",
      "metadata": {
        "id": "3gsbmSCqjrjY"
      },
      "source": [
        "### 09-2 순환 신경망으로 IMDB 리뷰 분류하기"
      ]
    },
    {
      "cell_type": "markdown",
      "metadata": {
        "id": "RWPShqwV_0fE"
      },
      "source": [
        "IMDB 리뷰 분류 :\n",
        "\n",
        "댓글을 긍정과 부정으로 분류하는 이진 분류"
      ]
    },
    {
      "cell_type": "code",
      "metadata": {
        "id": "Fim5-Cj97Qsl",
        "colab": {
          "base_uri": "https://localhost:8080/"
        },
        "outputId": "ef06c850-74e8-4e25-d9e3-34ea5f060d5b"
      },
      "source": [
        "# IMDB 리뷰 데이터셋 적재\n",
        "\n",
        "from tensorflow.keras.datasets import imdb\n",
        "(train_input, train_target), (test_input, test_target) = imdb.load_data(num_words=500)\n",
        "# num_words: 어휘사전에 저장할 단어의 개수 (500개의 단어만 저장할거다..)\n",
        "# 어휘사전에 단어가 없으면 2로 표현 (0은 패딩, 1은 문장의 시작을 의미)"
      ],
      "execution_count": 1,
      "outputs": [
        {
          "output_type": "stream",
          "text": [
            "Downloading data from https://storage.googleapis.com/tensorflow/tf-keras-datasets/imdb.npz\n",
            "17465344/17464789 [==============================] - 0s 0us/step\n"
          ],
          "name": "stdout"
        },
        {
          "output_type": "stream",
          "text": [
            "<string>:6: VisibleDeprecationWarning: Creating an ndarray from ragged nested sequences (which is a list-or-tuple of lists-or-tuples-or ndarrays with different lengths or shapes) is deprecated. If you meant to do this, you must specify 'dtype=object' when creating the ndarray\n",
            "/usr/local/lib/python3.7/dist-packages/tensorflow/python/keras/datasets/imdb.py:155: VisibleDeprecationWarning: Creating an ndarray from ragged nested sequences (which is a list-or-tuple of lists-or-tuples-or ndarrays with different lengths or shapes) is deprecated. If you meant to do this, you must specify 'dtype=object' when creating the ndarray\n",
            "  x_train, y_train = np.array(xs[:idx]), np.array(labels[:idx])\n",
            "/usr/local/lib/python3.7/dist-packages/tensorflow/python/keras/datasets/imdb.py:156: VisibleDeprecationWarning: Creating an ndarray from ragged nested sequences (which is a list-or-tuple of lists-or-tuples-or ndarrays with different lengths or shapes) is deprecated. If you meant to do this, you must specify 'dtype=object' when creating the ndarray\n",
            "  x_test, y_test = np.array(xs[idx:]), np.array(labels[idx:])\n"
          ],
          "name": "stderr"
        }
      ]
    },
    {
      "cell_type": "code",
      "metadata": {
        "colab": {
          "base_uri": "https://localhost:8080/"
        },
        "id": "HYkgexp47jTB",
        "outputId": "4fa390c0-cada-467e-ad63-ad166379e152"
      },
      "source": [
        "print(train_input.shape, test_input.shape)\n",
        "\n",
        "# 텍스트 길이가 제각각이기 때문에 리뷰마다 리스트로 담았다"
      ],
      "execution_count": 2,
      "outputs": [
        {
          "output_type": "stream",
          "text": [
            "(25000,) (25000,)\n"
          ],
          "name": "stdout"
        }
      ]
    },
    {
      "cell_type": "code",
      "metadata": {
        "colab": {
          "base_uri": "https://localhost:8080/"
        },
        "id": "v860C9ZL7mVO",
        "outputId": "3ffa850a-4b93-4f57-8df5-6933d7bc7d5d"
      },
      "source": [
        "print(len(train_input[0]))   # 218개의 토큰으로 이루어져 있다\n",
        "print(len(train_input[1]))   # 189개 '' --> 각각 리뷰의 길이가 다름"
      ],
      "execution_count": 3,
      "outputs": [
        {
          "output_type": "stream",
          "text": [
            "218\n",
            "189\n"
          ],
          "name": "stdout"
        }
      ]
    },
    {
      "cell_type": "code",
      "metadata": {
        "colab": {
          "base_uri": "https://localhost:8080/"
        },
        "id": "biwJaoqS-FDl",
        "outputId": "6e156eaa-d6e2-4dce-f923-d5671f7d7b02"
      },
      "source": [
        "print(train_target[:20])   # 타깃값 0(부정), 1(긍정)"
      ],
      "execution_count": 4,
      "outputs": [
        {
          "output_type": "stream",
          "text": [
            "[1 0 0 1 0 0 1 0 1 0 1 0 0 0 0 0 1 1 0 1]\n"
          ],
          "name": "stdout"
        }
      ]
    },
    {
      "cell_type": "code",
      "metadata": {
        "id": "GZ9gmBND_EP-"
      },
      "source": [
        "# 훈련세트, 검증세트 분리\n",
        "from sklearn.model_selection import train_test_split\n",
        "train_input, val_input, train_target, val_target = train_test_split(\n",
        "    train_input, train_target, test_size=0.2, random_state=42)"
      ],
      "execution_count": 5,
      "outputs": []
    },
    {
      "cell_type": "code",
      "metadata": {
        "id": "8SWawUWM_1gp"
      },
      "source": [
        "import numpy as np\n",
        "lengths = np.array([len(x) for x in train_input])"
      ],
      "execution_count": 6,
      "outputs": []
    },
    {
      "cell_type": "code",
      "metadata": {
        "colab": {
          "base_uri": "https://localhost:8080/"
        },
        "id": "liclciU4ABfO",
        "outputId": "80b92435-fed3-4e27-cf49-8c380f545cd7"
      },
      "source": [
        "print(np.mean(lengths), np.median(lengths))   # 리뷰길이의 평균과 중간값"
      ],
      "execution_count": 7,
      "outputs": [
        {
          "output_type": "stream",
          "text": [
            "239.00925 178.0\n"
          ],
          "name": "stdout"
        }
      ]
    },
    {
      "cell_type": "code",
      "metadata": {
        "colab": {
          "base_uri": "https://localhost:8080/",
          "height": 279
        },
        "id": "joDONeX3COz8",
        "outputId": "c846f5b9-8cec-4009-cf8a-210e55ccc0de"
      },
      "source": [
        "import matplotlib.pyplot as plt\n",
        "plt.hist(lengths)\n",
        "plt.xlabel('length')\n",
        "plt.ylabel('frequency')\n",
        "plt.show()"
      ],
      "execution_count": 8,
      "outputs": [
        {
          "output_type": "display_data",
          "data": {
            "image/png": "[encoded data removed]",
            "text/plain": [
              "<Figure size 432x288 with 1 Axes>"
            ]
          },
          "metadata": {
            "tags": [],
            "needs_background": "light"
          }
        }
      ]
    },
    {
      "cell_type": "markdown",
      "metadata": {
        "id": "Yof5RThCDgN7"
      },
      "source": [
        "이 예제에서는 100개의 단어만 사용할 것이다.\n",
        "\n",
        "--> 100개보다 작은 리뷰들의 길이를 맞추기 위해 '패딩'이 필요, ( 0으로 )\n",
        "\n",
        "100개보다 큰 리뷰들을 길이가 100이 되도록 잘라내야함"
      ]
    },
    {
      "cell_type": "code",
      "metadata": {
        "id": "SedcH9zHCYll"
      },
      "source": [
        "from tensorflow.keras.preprocessing.sequence import pad_sequences  # 시퀀스 데이터의 길이를 맞춰준다\n",
        "train_seq = pad_sequences(train_input, maxlen=100)  # 기본적으로 앞부분을 자르거나 추가"
      ],
      "execution_count": 9,
      "outputs": []
    },
    {
      "cell_type": "code",
      "metadata": {
        "colab": {
          "base_uri": "https://localhost:8080/"
        },
        "id": "nrNOw24eDXBE",
        "outputId": "5e31b5d0-7860-4614-a5b4-f04ceb08ddf0"
      },
      "source": [
        "print(train_seq.shape)  # 모든 데이터의 리뷰길이가 100이 되었다 --> 2차원 배열이 됨"
      ],
      "execution_count": 10,
      "outputs": [
        {
          "output_type": "stream",
          "text": [
            "(20000, 100)\n"
          ],
          "name": "stdout"
        }
      ]
    },
    {
      "cell_type": "code",
      "metadata": {
        "colab": {
          "base_uri": "https://localhost:8080/"
        },
        "id": "ojC5EqREEEFh",
        "outputId": "70155024-445f-45ca-c7d5-5d2cbb9b301a"
      },
      "source": [
        "print(train_seq[0])"
      ],
      "execution_count": 11,
      "outputs": [
        {
          "output_type": "stream",
          "text": [
            "[ 10   4  20   9   2 364 352   5  45   6   2   2  33 269   8   2 142   2\n",
            "   5   2  17  73  17 204   5   2  19  55   2   2  92  66 104  14  20  93\n",
            "  76   2 151  33   4  58  12 188   2 151  12 215  69 224 142  73 237   6\n",
            "   2   7   2   2 188   2 103  14  31  10  10 451   7   2   5   2  80  91\n",
            "   2  30   2  34  14  20 151  50  26 131  49   2  84  46  50  37  80  79\n",
            "   6   2  46   7  14  20  10  10 470 158]\n"
          ],
          "name": "stdout"
        }
      ]
    },
    {
      "cell_type": "code",
      "metadata": {
        "colab": {
          "base_uri": "https://localhost:8080/"
        },
        "id": "wvVzVCkJEwL2",
        "outputId": "359d749b-1fe0-4ccb-b055-06224b2d7ee7"
      },
      "source": [
        "print(train_input[0][-10:])  # train_input[0]은 앞부분이 잘렸다"
      ],
      "execution_count": 12,
      "outputs": [
        {
          "output_type": "stream",
          "text": [
            "[6, 2, 46, 7, 14, 20, 10, 10, 470, 158]\n"
          ],
          "name": "stdout"
        }
      ]
    },
    {
      "cell_type": "code",
      "metadata": {
        "colab": {
          "base_uri": "https://localhost:8080/"
        },
        "id": "hnvGvrYiFJpj",
        "outputId": "871fc7db-05a7-4781-f5c2-9baaa6775b5d"
      },
      "source": [
        "print(train_seq[5])  # train_seq[5]은 앞부분이 패딩되었다"
      ],
      "execution_count": 13,
      "outputs": [
        {
          "output_type": "stream",
          "text": [
            "[  0   0   0   0   1   2 195  19  49   2   2 190   4   2 352   2 183  10\n",
            "  10  13  82  79   4   2  36  71 269   8   2  25  19  49   7   4   2   2\n",
            "   2   2   2  10  10  48  25  40   2  11   2   2  40   2   2   5   4   2\n",
            "   2  95  14 238  56 129   2  10  10  21   2  94 364 352   2   2  11 190\n",
            "  24 484   2   7  94 205 405  10  10  87   2  34  49   2   7   2   2   2\n",
            "   2   2 290   2  46  48  64  18   4   2]\n"
          ],
          "name": "stdout"
        }
      ]
    },
    {
      "cell_type": "code",
      "metadata": {
        "id": "tq252j0IFUIo"
      },
      "source": [
        "# 검증세트에도 길이 100으로 맞춰줘야 함\n",
        "val_seq = pad_sequences(val_input, maxlen=100)"
      ],
      "execution_count": 14,
      "outputs": []
    },
    {
      "cell_type": "code",
      "metadata": {
        "id": "84vLwb5zFXvg"
      },
      "source": [
        "# 순환 신경망 만들기\n",
        "from tensorflow import keras\n",
        "model = keras.Sequential()\n",
        "model.add(keras.layers.SimpleRNN(8, input_shape=(100, 500)))  # 각 리뷰의 길이가 100이고, 500개의 단어만 저장하니까 (100, 500)으로 받음\n",
        "                                                              # 원-핫 인코딩으로 바꿔 input에 넣어줘야 함\n",
        "                                                              # -> 단어와 그에 대응하는 정수에는 아무 관련이 없기 때문\n",
        "model.add(keras.layers.Dense(1, activation='sigmoid'))"
      ],
      "execution_count": 15,
      "outputs": []
    },
    {
      "cell_type": "code",
      "metadata": {
        "id": "tzSdlo7jno56"
      },
      "source": [
        "train_oh = keras.utils.to_categorical(train_seq)\n",
        "val_oh = keras.utils.to_categorical(val_seq)\n",
        "\n",
        "# keras.utils.to_categorical()에 정수형 배열을 입력하면 자동으로 원-핫 인코딩으로 변환해줌"
      ],
      "execution_count": 16,
      "outputs": []
    },
    {
      "cell_type": "code",
      "metadata": {
        "colab": {
          "base_uri": "https://localhost:8080/"
        },
        "id": "x5GaY_dMhFo-",
        "outputId": "51e88d24-3d40-44b4-8948-275974852bfb"
      },
      "source": [
        "print(train_oh.shape)\n",
        "print(train_oh[0][0][:12])\n",
        "print(np.sum(train_oh[0][0]))\n",
        "# 인코딩 잘됨"
      ],
      "execution_count": 17,
      "outputs": [
        {
          "output_type": "stream",
          "text": [
            "(20000, 100, 500)\n",
            "[0. 0. 0. 0. 0. 0. 0. 0. 0. 0. 1. 0.]\n",
            "1.0\n"
          ],
          "name": "stdout"
        }
      ]
    },
    {
      "cell_type": "code",
      "metadata": {
        "colab": {
          "base_uri": "https://localhost:8080/"
        },
        "id": "FEgN1RXYhZeY",
        "outputId": "d331f263-21c9-44cc-9e1d-1530e4b56feb"
      },
      "source": [
        "model.summary()"
      ],
      "execution_count": 18,
      "outputs": [
        {
          "output_type": "stream",
          "text": [
            "Model: \"sequential\"\n",
            "_________________________________________________________________\n",
            "Layer (type)                 Output Shape              Param #   \n",
            "=================================================================\n",
            "simple_rnn (SimpleRNN)       (None, 8)                 4072      \n",
            "_________________________________________________________________\n",
            "dense (Dense)                (None, 1)                 9         \n",
            "=================================================================\n",
            "Total params: 4,081\n",
            "Trainable params: 4,081\n",
            "Non-trainable params: 0\n",
            "_________________________________________________________________\n"
          ],
          "name": "stdout"
        }
      ]
    },
    {
      "cell_type": "code",
      "metadata": {
        "colab": {
          "base_uri": "https://localhost:8080/"
        },
        "id": "uUFwUBMwiNoL",
        "outputId": "d2999f69-7204-4d5d-f4a6-a558d97cdcfe"
      },
      "source": [
        "# 순환신경망 학습하기\n",
        "rmsprop = keras.optimizers.RMSprop(learning_rate=1e-4)\n",
        "model.compile(optimizer=rmsprop, loss='binary_crossentropy', metrics=['accuracy'])\n",
        "checkpoint_cb = keras.callbacks.ModelCheckpoint('best-simplernn-model.h5')\n",
        "early_stopping_cb = keras.callbacks.EarlyStopping(patience=3, restore_best_weights=True)\n",
        "history = model.fit(train_oh, train_target, epochs=100, batch_size=64,\n",
        "                    validation_data=(val_oh, val_target),\n",
        "                    callbacks=[checkpoint_cb, early_stopping_cb])"
      ],
      "execution_count": 19,
      "outputs": [
        {
          "output_type": "stream",
          "text": [
            "Epoch 1/100\n",
            "313/313 [==============================] - 15s 43ms/step - loss: 0.6984 - accuracy: 0.4963 - val_loss: 0.6950 - val_accuracy: 0.5120\n",
            "Epoch 2/100\n",
            "313/313 [==============================] - 13s 42ms/step - loss: 0.6932 - accuracy: 0.5152 - val_loss: 0.6920 - val_accuracy: 0.5196\n",
            "Epoch 3/100\n",
            "313/313 [==============================] - 13s 42ms/step - loss: 0.6902 - accuracy: 0.5342 - val_loss: 0.6888 - val_accuracy: 0.5366\n",
            "Epoch 4/100\n",
            "313/313 [==============================] - 13s 42ms/step - loss: 0.6867 - accuracy: 0.5513 - val_loss: 0.6849 - val_accuracy: 0.5570\n",
            "Epoch 5/100\n",
            "313/313 [==============================] - 13s 42ms/step - loss: 0.6813 - accuracy: 0.5752 - val_loss: 0.6775 - val_accuracy: 0.5900\n",
            "Epoch 6/100\n",
            "313/313 [==============================] - 13s 41ms/step - loss: 0.6672 - accuracy: 0.6157 - val_loss: 0.6487 - val_accuracy: 0.6570\n",
            "Epoch 7/100\n",
            "313/313 [==============================] - 13s 42ms/step - loss: 0.6268 - accuracy: 0.6771 - val_loss: 0.6182 - val_accuracy: 0.6806\n",
            "Epoch 8/100\n",
            "313/313 [==============================] - 13s 42ms/step - loss: 0.6107 - accuracy: 0.6952 - val_loss: 0.6080 - val_accuracy: 0.6890\n",
            "Epoch 9/100\n",
            "313/313 [==============================] - 13s 42ms/step - loss: 0.5999 - accuracy: 0.7046 - val_loss: 0.5969 - val_accuracy: 0.7016\n",
            "Epoch 10/100\n",
            "313/313 [==============================] - 13s 42ms/step - loss: 0.5886 - accuracy: 0.7138 - val_loss: 0.5893 - val_accuracy: 0.7106\n",
            "Epoch 11/100\n",
            "313/313 [==============================] - 13s 42ms/step - loss: 0.5782 - accuracy: 0.7258 - val_loss: 0.5782 - val_accuracy: 0.7164\n",
            "Epoch 12/100\n",
            "313/313 [==============================] - 13s 42ms/step - loss: 0.5692 - accuracy: 0.7317 - val_loss: 0.5708 - val_accuracy: 0.7262\n",
            "Epoch 13/100\n",
            "313/313 [==============================] - 13s 42ms/step - loss: 0.5592 - accuracy: 0.7412 - val_loss: 0.5639 - val_accuracy: 0.7260\n",
            "Epoch 14/100\n",
            "313/313 [==============================] - 13s 42ms/step - loss: 0.5519 - accuracy: 0.7452 - val_loss: 0.5539 - val_accuracy: 0.7350\n",
            "Epoch 15/100\n",
            "313/313 [==============================] - 13s 42ms/step - loss: 0.5431 - accuracy: 0.7526 - val_loss: 0.5495 - val_accuracy: 0.7392\n",
            "Epoch 16/100\n",
            "313/313 [==============================] - 13s 42ms/step - loss: 0.5341 - accuracy: 0.7577 - val_loss: 0.5446 - val_accuracy: 0.7408\n",
            "Epoch 17/100\n",
            "313/313 [==============================] - 13s 42ms/step - loss: 0.5280 - accuracy: 0.7607 - val_loss: 0.5413 - val_accuracy: 0.7422\n",
            "Epoch 18/100\n",
            "313/313 [==============================] - 13s 42ms/step - loss: 0.5220 - accuracy: 0.7647 - val_loss: 0.5313 - val_accuracy: 0.7474\n",
            "Epoch 19/100\n",
            "313/313 [==============================] - 13s 42ms/step - loss: 0.5151 - accuracy: 0.7674 - val_loss: 0.5265 - val_accuracy: 0.7514\n",
            "Epoch 20/100\n",
            "313/313 [==============================] - 13s 42ms/step - loss: 0.5089 - accuracy: 0.7713 - val_loss: 0.5234 - val_accuracy: 0.7528\n",
            "Epoch 21/100\n",
            "313/313 [==============================] - 13s 42ms/step - loss: 0.5030 - accuracy: 0.7751 - val_loss: 0.5162 - val_accuracy: 0.7584\n",
            "Epoch 22/100\n",
            "313/313 [==============================] - 13s 42ms/step - loss: 0.4980 - accuracy: 0.7763 - val_loss: 0.5142 - val_accuracy: 0.7586\n",
            "Epoch 23/100\n",
            "313/313 [==============================] - 13s 42ms/step - loss: 0.4926 - accuracy: 0.7796 - val_loss: 0.5109 - val_accuracy: 0.7570\n",
            "Epoch 24/100\n",
            "313/313 [==============================] - 13s 42ms/step - loss: 0.4881 - accuracy: 0.7830 - val_loss: 0.5072 - val_accuracy: 0.7592\n",
            "Epoch 25/100\n",
            "313/313 [==============================] - 13s 42ms/step - loss: 0.4829 - accuracy: 0.7843 - val_loss: 0.5003 - val_accuracy: 0.7660\n",
            "Epoch 26/100\n",
            "313/313 [==============================] - 13s 42ms/step - loss: 0.4787 - accuracy: 0.7854 - val_loss: 0.5002 - val_accuracy: 0.7666\n",
            "Epoch 27/100\n",
            "313/313 [==============================] - 13s 42ms/step - loss: 0.4740 - accuracy: 0.7880 - val_loss: 0.4934 - val_accuracy: 0.7720\n",
            "Epoch 28/100\n",
            "313/313 [==============================] - 13s 42ms/step - loss: 0.4711 - accuracy: 0.7886 - val_loss: 0.4904 - val_accuracy: 0.7720\n",
            "Epoch 29/100\n",
            "313/313 [==============================] - 13s 42ms/step - loss: 0.4668 - accuracy: 0.7929 - val_loss: 0.4852 - val_accuracy: 0.7754\n",
            "Epoch 30/100\n",
            "313/313 [==============================] - 13s 42ms/step - loss: 0.4629 - accuracy: 0.7943 - val_loss: 0.4839 - val_accuracy: 0.7744\n",
            "Epoch 31/100\n",
            "313/313 [==============================] - 13s 42ms/step - loss: 0.4592 - accuracy: 0.7958 - val_loss: 0.4806 - val_accuracy: 0.7776\n",
            "Epoch 32/100\n",
            "313/313 [==============================] - 13s 42ms/step - loss: 0.4553 - accuracy: 0.7976 - val_loss: 0.4765 - val_accuracy: 0.7790\n",
            "Epoch 33/100\n",
            "313/313 [==============================] - 13s 42ms/step - loss: 0.4506 - accuracy: 0.8016 - val_loss: 0.4734 - val_accuracy: 0.7796\n",
            "Epoch 34/100\n",
            "313/313 [==============================] - 13s 42ms/step - loss: 0.4482 - accuracy: 0.8011 - val_loss: 0.4710 - val_accuracy: 0.7824\n",
            "Epoch 35/100\n",
            "313/313 [==============================] - 13s 42ms/step - loss: 0.4448 - accuracy: 0.8041 - val_loss: 0.4686 - val_accuracy: 0.7822\n",
            "Epoch 36/100\n",
            "313/313 [==============================] - 13s 43ms/step - loss: 0.4415 - accuracy: 0.8060 - val_loss: 0.4660 - val_accuracy: 0.7830\n",
            "Epoch 37/100\n",
            "313/313 [==============================] - 13s 42ms/step - loss: 0.4386 - accuracy: 0.8077 - val_loss: 0.4663 - val_accuracy: 0.7834\n",
            "Epoch 38/100\n",
            "313/313 [==============================] - 13s 42ms/step - loss: 0.4372 - accuracy: 0.8065 - val_loss: 0.4660 - val_accuracy: 0.7800\n",
            "Epoch 39/100\n",
            "313/313 [==============================] - 13s 42ms/step - loss: 0.4342 - accuracy: 0.8087 - val_loss: 0.4646 - val_accuracy: 0.7824\n",
            "Epoch 40/100\n",
            "313/313 [==============================] - 13s 42ms/step - loss: 0.4323 - accuracy: 0.8102 - val_loss: 0.4566 - val_accuracy: 0.7858\n",
            "Epoch 41/100\n",
            "313/313 [==============================] - 13s 42ms/step - loss: 0.4302 - accuracy: 0.8097 - val_loss: 0.4562 - val_accuracy: 0.7870\n",
            "Epoch 42/100\n",
            "313/313 [==============================] - 13s 42ms/step - loss: 0.4276 - accuracy: 0.8114 - val_loss: 0.4542 - val_accuracy: 0.7874\n",
            "Epoch 43/100\n",
            "313/313 [==============================] - 13s 42ms/step - loss: 0.4261 - accuracy: 0.8116 - val_loss: 0.4547 - val_accuracy: 0.7872\n",
            "Epoch 44/100\n",
            "313/313 [==============================] - 13s 42ms/step - loss: 0.4245 - accuracy: 0.8120 - val_loss: 0.4515 - val_accuracy: 0.7874\n",
            "Epoch 45/100\n",
            "313/313 [==============================] - 13s 42ms/step - loss: 0.4233 - accuracy: 0.8119 - val_loss: 0.4511 - val_accuracy: 0.7878\n",
            "Epoch 46/100\n",
            "313/313 [==============================] - 13s 42ms/step - loss: 0.4213 - accuracy: 0.8141 - val_loss: 0.4493 - val_accuracy: 0.7896\n",
            "Epoch 47/100\n",
            "313/313 [==============================] - 13s 42ms/step - loss: 0.4200 - accuracy: 0.8159 - val_loss: 0.4495 - val_accuracy: 0.7912\n",
            "Epoch 48/100\n",
            "313/313 [==============================] - 13s 42ms/step - loss: 0.4188 - accuracy: 0.8153 - val_loss: 0.4484 - val_accuracy: 0.7904\n",
            "Epoch 49/100\n",
            "313/313 [==============================] - 13s 42ms/step - loss: 0.4172 - accuracy: 0.8155 - val_loss: 0.4470 - val_accuracy: 0.7934\n",
            "Epoch 50/100\n",
            "313/313 [==============================] - 13s 42ms/step - loss: 0.4169 - accuracy: 0.8161 - val_loss: 0.4470 - val_accuracy: 0.7928\n",
            "Epoch 51/100\n",
            "313/313 [==============================] - 13s 42ms/step - loss: 0.4157 - accuracy: 0.8155 - val_loss: 0.4467 - val_accuracy: 0.7912\n",
            "Epoch 52/100\n",
            "313/313 [==============================] - 13s 42ms/step - loss: 0.4152 - accuracy: 0.8173 - val_loss: 0.4477 - val_accuracy: 0.7902\n",
            "Epoch 53/100\n",
            "313/313 [==============================] - 13s 43ms/step - loss: 0.4135 - accuracy: 0.8167 - val_loss: 0.4464 - val_accuracy: 0.7900\n",
            "Epoch 54/100\n",
            "313/313 [==============================] - 13s 43ms/step - loss: 0.4128 - accuracy: 0.8200 - val_loss: 0.4481 - val_accuracy: 0.7894\n",
            "Epoch 55/100\n",
            "313/313 [==============================] - 13s 43ms/step - loss: 0.4116 - accuracy: 0.8189 - val_loss: 0.4449 - val_accuracy: 0.7906\n",
            "Epoch 56/100\n",
            "313/313 [==============================] - 13s 42ms/step - loss: 0.4116 - accuracy: 0.8177 - val_loss: 0.4497 - val_accuracy: 0.7892\n",
            "Epoch 57/100\n",
            "313/313 [==============================] - 13s 43ms/step - loss: 0.4105 - accuracy: 0.8203 - val_loss: 0.4439 - val_accuracy: 0.7910\n",
            "Epoch 58/100\n",
            "313/313 [==============================] - 13s 43ms/step - loss: 0.4100 - accuracy: 0.8185 - val_loss: 0.4437 - val_accuracy: 0.7932\n",
            "Epoch 59/100\n",
            "313/313 [==============================] - 13s 43ms/step - loss: 0.4085 - accuracy: 0.8188 - val_loss: 0.4452 - val_accuracy: 0.7936\n",
            "Epoch 60/100\n",
            "313/313 [==============================] - 13s 43ms/step - loss: 0.4087 - accuracy: 0.8179 - val_loss: 0.4434 - val_accuracy: 0.7924\n",
            "Epoch 61/100\n",
            "313/313 [==============================] - 13s 43ms/step - loss: 0.4069 - accuracy: 0.8199 - val_loss: 0.4427 - val_accuracy: 0.7924\n",
            "Epoch 62/100\n",
            "313/313 [==============================] - 13s 43ms/step - loss: 0.4070 - accuracy: 0.8196 - val_loss: 0.4421 - val_accuracy: 0.7920\n",
            "Epoch 63/100\n",
            "313/313 [==============================] - 13s 42ms/step - loss: 0.4065 - accuracy: 0.8202 - val_loss: 0.4436 - val_accuracy: 0.7914\n",
            "Epoch 64/100\n",
            "313/313 [==============================] - 13s 43ms/step - loss: 0.4058 - accuracy: 0.8209 - val_loss: 0.4423 - val_accuracy: 0.7936\n",
            "Epoch 65/100\n",
            "313/313 [==============================] - 13s 42ms/step - loss: 0.4049 - accuracy: 0.8216 - val_loss: 0.4468 - val_accuracy: 0.7908\n"
          ],
          "name": "stdout"
        }
      ]
    },
    {
      "cell_type": "code",
      "metadata": {
        "colab": {
          "base_uri": "https://localhost:8080/",
          "height": 279
        },
        "id": "FZALXQ21kVa-",
        "outputId": "fee6f6ea-88ed-4dd2-97e8-0562e25cb486"
      },
      "source": [
        "plt.plot(history.history['loss'])\n",
        "plt.plot(history.history['val_loss'])\n",
        "plt.xlabel('epoch')\n",
        "plt.ylabel('loss')\n",
        "plt.legend(['train','val'])\n",
        "plt.show()"
      ],
      "execution_count": 20,
      "outputs": [
        {
          "output_type": "display_data",
          "data": {
            "image/png": "[encoded data removed]",
            "text/plain": [
              "<Figure size 432x288 with 1 Axes>"
            ]
          },
          "metadata": {
            "tags": [],
            "needs_background": "light"
          }
        }
      ]
    },
    {
      "cell_type": "code",
      "metadata": {
        "colab": {
          "base_uri": "https://localhost:8080/"
        },
        "id": "O8pt4SQlm-6i",
        "outputId": "44ff119b-5893-4227-f760-05b2ee25157f"
      },
      "source": [
        "print(train_seq.nbytes, train_oh.nbytes)\n",
        "print(train_oh.nbytes / train_seq.nbytes) # 원-핫 인코딩으로 변환한 데이터약 500정도 크다 --> 낭비"
      ],
      "execution_count": 21,
      "outputs": [
        {
          "output_type": "stream",
          "text": [
            "8000000 4000000000\n",
            "500.0\n"
          ],
          "name": "stdout"
        }
      ]
    },
    {
      "cell_type": "markdown",
      "metadata": {
        "id": "k61yWbYAnWrb"
      },
      "source": [
        "단어 임베딩 :\n",
        "\n",
        "각 단어를 고정된 크기의 실수 벡터로 바꾸어준다.\n",
        "\n",
        "--> 원-핫 인코딩과는 달리 훨씬 작은 크기로도 단어를 잘 표현할 수 있다."
      ]
    },
    {
      "cell_type": "code",
      "metadata": {
        "id": "NsjGLrZKnEJx"
      },
      "source": [
        "model2 = keras.Sequential()\n",
        "model2.add(keras.layers.Embedding(500, 16, input_length=100))\n",
        "model2.add(keras.layers.SimpleRNN(8))\n",
        "model2.add(keras.layers.Dense(1, activation='sigmoid'))"
      ],
      "execution_count": 22,
      "outputs": []
    },
    {
      "cell_type": "code",
      "metadata": {
        "colab": {
          "base_uri": "https://localhost:8080/"
        },
        "id": "aVKgOazpqHRX",
        "outputId": "6fb1e53d-f8d5-4dcc-cb25-952b9fd3a3d9"
      },
      "source": [
        "model2.summary()"
      ],
      "execution_count": 23,
      "outputs": [
        {
          "output_type": "stream",
          "text": [
            "Model: \"sequential_1\"\n",
            "_________________________________________________________________\n",
            "Layer (type)                 Output Shape              Param #   \n",
            "=================================================================\n",
            "embedding (Embedding)        (None, 100, 16)           8000      \n",
            "_________________________________________________________________\n",
            "simple_rnn_1 (SimpleRNN)     (None, 8)                 200       \n",
            "_________________________________________________________________\n",
            "dense_1 (Dense)              (None, 1)                 9         \n",
            "=================================================================\n",
            "Total params: 8,209\n",
            "Trainable params: 8,209\n",
            "Non-trainable params: 0\n",
            "_________________________________________________________________\n"
          ],
          "name": "stdout"
        }
      ]
    },
    {
      "cell_type": "code",
      "metadata": {
        "colab": {
          "base_uri": "https://localhost:8080/"
        },
        "id": "QAHxJA0tqODc",
        "outputId": "c2a6bca9-d219-4838-84d4-dae252e1febb"
      },
      "source": [
        "rmsprop = keras.optimizers.RMSprop(learning_rate=1e-4)\n",
        "model2.compile(optimizer=rmsprop, loss='binary_crossentropy', metrics=['accuracy'])\n",
        "checkpoint_cb = keras.callbacks.ModelCheckpoint('best-embedding-model.h5')\n",
        "early_stopping_cb = keras.callbacks.EarlyStopping(patience=3, restore_best_weights=True)\n",
        "history = model2.fit(train_seq, train_target, epochs=100, batch_size=64,\n",
        "                     validation_data=(val_seq, val_target),\n",
        "                     callbacks=[checkpoint_cb, early_stopping_cb])"
      ],
      "execution_count": 24,
      "outputs": [
        {
          "output_type": "stream",
          "text": [
            "Epoch 1/100\n",
            "313/313 [==============================] - 8s 24ms/step - loss: 0.6973 - accuracy: 0.5042 - val_loss: 0.6952 - val_accuracy: 0.5072\n",
            "Epoch 2/100\n",
            "313/313 [==============================] - 7s 23ms/step - loss: 0.6922 - accuracy: 0.5193 - val_loss: 0.6933 - val_accuracy: 0.5126\n",
            "Epoch 3/100\n",
            "313/313 [==============================] - 7s 23ms/step - loss: 0.6887 - accuracy: 0.5375 - val_loss: 0.6919 - val_accuracy: 0.5152\n",
            "Epoch 4/100\n",
            "313/313 [==============================] - 7s 23ms/step - loss: 0.6855 - accuracy: 0.5530 - val_loss: 0.6910 - val_accuracy: 0.5212\n",
            "Epoch 5/100\n",
            "313/313 [==============================] - 7s 23ms/step - loss: 0.6823 - accuracy: 0.5661 - val_loss: 0.6909 - val_accuracy: 0.5230\n",
            "Epoch 6/100\n",
            "313/313 [==============================] - 7s 23ms/step - loss: 0.6791 - accuracy: 0.5791 - val_loss: 0.6903 - val_accuracy: 0.5236\n",
            "Epoch 7/100\n",
            "313/313 [==============================] - 7s 23ms/step - loss: 0.6758 - accuracy: 0.5875 - val_loss: 0.6903 - val_accuracy: 0.5254\n",
            "Epoch 8/100\n",
            "313/313 [==============================] - 7s 23ms/step - loss: 0.6725 - accuracy: 0.5929 - val_loss: 0.6904 - val_accuracy: 0.5300\n",
            "Epoch 9/100\n",
            "313/313 [==============================] - 7s 23ms/step - loss: 0.6690 - accuracy: 0.6005 - val_loss: 0.6906 - val_accuracy: 0.5268\n"
          ],
          "name": "stdout"
        }
      ]
    },
    {
      "cell_type": "code",
      "metadata": {
        "colab": {
          "base_uri": "https://localhost:8080/",
          "height": 279
        },
        "id": "iHOEXVYNrLgN",
        "outputId": "78ce0068-0683-415f-e718-88d289daa042"
      },
      "source": [
        "plt.plot(history.history['loss'])\n",
        "plt.plot(history.history['val_loss'])\n",
        "plt.xlabel('epoch')\n",
        "plt.ylabel('loss')\n",
        "plt.legend(['train', 'val'])\n",
        "plt.show()"
      ],
      "execution_count": 25,
      "outputs": [
        {
          "output_type": "display_data",
          "data": {
            "image/png": "[encoded data removed]",
            "text/plain": [
              "<Figure size 432x288 with 1 Axes>"
            ]
          },
          "metadata": {
            "tags": [],
            "needs_background": "light"
          }
        }
      ]
    },
    {
      "cell_type": "markdown",
      "metadata": {
        "id": "nIrqpaKusdrj"
      },
      "source": [
        "### 09-3 LSTM과 GRU 셀"
      ]
    },
    {
      "cell_type": "markdown",
      "metadata": {
        "id": "jZSim319z8Rp"
      },
      "source": [
        "기본 RNN은 긴 시퀀스를 학습하기 어렵다. --> ( 시퀀스가 갈수록 순환되는 은닉 상태에 담긴 정보가 점차 희석되기 때문 )\n",
        "\n",
        "- LSTM : 단기 기억을 오래 기억하기 위해 고안되었음\n",
        "\n",
        " 1. 은닉 상태\n",
        " \n",
        " 2. 셀 상태 : 다음 층으로 전달되지 않고 LSTM 셀에서 순환만 되는 값"
      ]
    },
    {
      "cell_type": "code",
      "metadata": {
        "colab": {
          "base_uri": "https://localhost:8080/"
        },
        "id": "ysSUclJarsjB",
        "outputId": "a5660bca-41f1-40b2-e9ec-fb59e339b88d"
      },
      "source": [
        "# LSTM 신경망 훈련하기\n",
        "from tensorflow.keras.datasets import imdb\n",
        "from sklearn.model_selection import train_test_split\n",
        "(train_input, train_target), (test_input, test_target) = imdb.load_data(num_words=500)\n",
        "train_input, val_input, train_target, val_target = train_test_split(\n",
        "     train_input, train_target, test_size=0.2, random_state=42)"
      ],
      "execution_count": 28,
      "outputs": [
        {
          "output_type": "stream",
          "text": [
            "<string>:6: VisibleDeprecationWarning: Creating an ndarray from ragged nested sequences (which is a list-or-tuple of lists-or-tuples-or ndarrays with different lengths or shapes) is deprecated. If you meant to do this, you must specify 'dtype=object' when creating the ndarray\n",
            "/usr/local/lib/python3.7/dist-packages/tensorflow/python/keras/datasets/imdb.py:155: VisibleDeprecationWarning: Creating an ndarray from ragged nested sequences (which is a list-or-tuple of lists-or-tuples-or ndarrays with different lengths or shapes) is deprecated. If you meant to do this, you must specify 'dtype=object' when creating the ndarray\n",
            "  x_train, y_train = np.array(xs[:idx]), np.array(labels[:idx])\n",
            "/usr/local/lib/python3.7/dist-packages/tensorflow/python/keras/datasets/imdb.py:156: VisibleDeprecationWarning: Creating an ndarray from ragged nested sequences (which is a list-or-tuple of lists-or-tuples-or ndarrays with different lengths or shapes) is deprecated. If you meant to do this, you must specify 'dtype=object' when creating the ndarray\n",
            "  x_test, y_test = np.array(xs[idx:]), np.array(labels[idx:])\n"
          ],
          "name": "stderr"
        }
      ]
    },
    {
      "cell_type": "code",
      "metadata": {
        "id": "_etHGu0t1a-A"
      },
      "source": [
        "# 샘플 길이 100으로 맞추기\n",
        "from tensorflow.keras.preprocessing.sequence import pad_sequences\n",
        "train_seq = pad_sequences(train_input, maxlen=100)\n",
        "val_seq = pad_sequences(val_input, maxlen=100)"
      ],
      "execution_count": 29,
      "outputs": []
    },
    {
      "cell_type": "code",
      "metadata": {
        "id": "T96vaDkz1ueT"
      },
      "source": [
        "# 순환층 생성\n",
        "from tensorflow import keras\n",
        "model = keras.Sequential()\n",
        "model.add(keras.layers.Embedding(500, 16, input_length=100))\n",
        "model.add(keras.layers.LSTM(8))\n",
        "model.add(keras.layers.Dense(1, activation='sigmoid'))"
      ],
      "execution_count": 30,
      "outputs": []
    },
    {
      "cell_type": "code",
      "metadata": {
        "colab": {
          "base_uri": "https://localhost:8080/"
        },
        "id": "li0DftVX2Fl0",
        "outputId": "ce329616-5267-4a95-f0b2-8f781a9fbb99"
      },
      "source": [
        "model.summary()"
      ],
      "execution_count": 31,
      "outputs": [
        {
          "output_type": "stream",
          "text": [
            "Model: \"sequential_2\"\n",
            "_________________________________________________________________\n",
            "Layer (type)                 Output Shape              Param #   \n",
            "=================================================================\n",
            "embedding_1 (Embedding)      (None, 100, 16)           8000      \n",
            "_________________________________________________________________\n",
            "lstm (LSTM)                  (None, 8)                 800       \n",
            "_________________________________________________________________\n",
            "dense_2 (Dense)              (None, 1)                 9         \n",
            "=================================================================\n",
            "Total params: 8,809\n",
            "Trainable params: 8,809\n",
            "Non-trainable params: 0\n",
            "_________________________________________________________________\n"
          ],
          "name": "stdout"
        }
      ]
    },
    {
      "cell_type": "code",
      "metadata": {
        "colab": {
          "base_uri": "https://localhost:8080/"
        },
        "id": "zf7kTUvA2Gnj",
        "outputId": "a38b6178-9d43-48b4-9e1d-bd2b086e5c20"
      },
      "source": [
        "# 모델 컴파일, 훈련\n",
        "rmsprop = keras.optimizers.RMSprop(learning_rate=1e-4)\n",
        "model.compile(optimizer=rmsprop, loss='binary_crossentropy', metrics=['accuracy'])\n",
        "checkpoint_cb = keras.callbacks.ModelCheckpoint('best-lstm-model.h5')\n",
        "early_stopping_cb = keras.callbacks.EarlyStopping(patience=3, restore_best_weights=True)\n",
        "history = model.fit(train_seq, train_target, epochs=100, batch_size=64,\n",
        "                    validation_data=(val_seq, val_target),\n",
        "                    callbacks=[checkpoint_cb, early_stopping_cb])\n",
        "\n",
        "# 기본 RNN보다 LSTM이 과대적합을 억제하면서 훈련을 잘 수행한 것으로 보임"
      ],
      "execution_count": 32,
      "outputs": [
        {
          "output_type": "stream",
          "text": [
            "Epoch 1/100\n",
            "313/313 [==============================] - 16s 44ms/step - loss: 0.6926 - accuracy: 0.5258 - val_loss: 0.6919 - val_accuracy: 0.5616\n",
            "Epoch 2/100\n",
            "313/313 [==============================] - 13s 42ms/step - loss: 0.6897 - accuracy: 0.6065 - val_loss: 0.6874 - val_accuracy: 0.6304\n",
            "Epoch 3/100\n",
            "313/313 [==============================] - 13s 43ms/step - loss: 0.6770 - accuracy: 0.6615 - val_loss: 0.6572 - val_accuracy: 0.6724\n",
            "Epoch 4/100\n",
            "313/313 [==============================] - 13s 42ms/step - loss: 0.6229 - accuracy: 0.7186 - val_loss: 0.6085 - val_accuracy: 0.7246\n",
            "Epoch 5/100\n",
            "313/313 [==============================] - 13s 42ms/step - loss: 0.5951 - accuracy: 0.7311 - val_loss: 0.5902 - val_accuracy: 0.7320\n",
            "Epoch 6/100\n",
            "313/313 [==============================] - 13s 42ms/step - loss: 0.5761 - accuracy: 0.7452 - val_loss: 0.5722 - val_accuracy: 0.7464\n",
            "Epoch 7/100\n",
            "313/313 [==============================] - 13s 42ms/step - loss: 0.5580 - accuracy: 0.7552 - val_loss: 0.5554 - val_accuracy: 0.7614\n",
            "Epoch 8/100\n",
            "313/313 [==============================] - 13s 42ms/step - loss: 0.5400 - accuracy: 0.7651 - val_loss: 0.5381 - val_accuracy: 0.7642\n",
            "Epoch 9/100\n",
            "313/313 [==============================] - 13s 42ms/step - loss: 0.5235 - accuracy: 0.7735 - val_loss: 0.5236 - val_accuracy: 0.7760\n",
            "Epoch 10/100\n",
            "313/313 [==============================] - 13s 42ms/step - loss: 0.5081 - accuracy: 0.7821 - val_loss: 0.5091 - val_accuracy: 0.7796\n",
            "Epoch 11/100\n",
            "313/313 [==============================] - 13s 43ms/step - loss: 0.4945 - accuracy: 0.7875 - val_loss: 0.5000 - val_accuracy: 0.7790\n",
            "Epoch 12/100\n",
            "313/313 [==============================] - 13s 42ms/step - loss: 0.4823 - accuracy: 0.7909 - val_loss: 0.4873 - val_accuracy: 0.7868\n",
            "Epoch 13/100\n",
            "313/313 [==============================] - 13s 42ms/step - loss: 0.4719 - accuracy: 0.7986 - val_loss: 0.4808 - val_accuracy: 0.7856\n",
            "Epoch 14/100\n",
            "313/313 [==============================] - 13s 42ms/step - loss: 0.4625 - accuracy: 0.8011 - val_loss: 0.4706 - val_accuracy: 0.7942\n",
            "Epoch 15/100\n",
            "313/313 [==============================] - 13s 42ms/step - loss: 0.4543 - accuracy: 0.8043 - val_loss: 0.4658 - val_accuracy: 0.7902\n",
            "Epoch 16/100\n",
            "313/313 [==============================] - 13s 42ms/step - loss: 0.4473 - accuracy: 0.8059 - val_loss: 0.4585 - val_accuracy: 0.7938\n",
            "Epoch 17/100\n",
            "313/313 [==============================] - 13s 42ms/step - loss: 0.4414 - accuracy: 0.8084 - val_loss: 0.4549 - val_accuracy: 0.7980\n",
            "Epoch 18/100\n",
            "313/313 [==============================] - 13s 42ms/step - loss: 0.4360 - accuracy: 0.8108 - val_loss: 0.4510 - val_accuracy: 0.7946\n",
            "Epoch 19/100\n",
            "313/313 [==============================] - 13s 42ms/step - loss: 0.4315 - accuracy: 0.8106 - val_loss: 0.4483 - val_accuracy: 0.7994\n",
            "Epoch 20/100\n",
            "313/313 [==============================] - 13s 42ms/step - loss: 0.4274 - accuracy: 0.8131 - val_loss: 0.4442 - val_accuracy: 0.7988\n",
            "Epoch 21/100\n",
            "313/313 [==============================] - 13s 42ms/step - loss: 0.4238 - accuracy: 0.8138 - val_loss: 0.4454 - val_accuracy: 0.8026\n",
            "Epoch 22/100\n",
            "313/313 [==============================] - 13s 42ms/step - loss: 0.4210 - accuracy: 0.8128 - val_loss: 0.4400 - val_accuracy: 0.8036\n",
            "Epoch 23/100\n",
            "313/313 [==============================] - 13s 42ms/step - loss: 0.4186 - accuracy: 0.8127 - val_loss: 0.4395 - val_accuracy: 0.7968\n",
            "Epoch 24/100\n",
            "313/313 [==============================] - 13s 42ms/step - loss: 0.4165 - accuracy: 0.8140 - val_loss: 0.4366 - val_accuracy: 0.8018\n",
            "Epoch 25/100\n",
            "313/313 [==============================] - 13s 42ms/step - loss: 0.4143 - accuracy: 0.8141 - val_loss: 0.4343 - val_accuracy: 0.7998\n",
            "Epoch 26/100\n",
            "313/313 [==============================] - 13s 42ms/step - loss: 0.4128 - accuracy: 0.8137 - val_loss: 0.4339 - val_accuracy: 0.7992\n",
            "Epoch 27/100\n",
            "313/313 [==============================] - 13s 43ms/step - loss: 0.4114 - accuracy: 0.8152 - val_loss: 0.4334 - val_accuracy: 0.7980\n",
            "Epoch 28/100\n",
            "313/313 [==============================] - 13s 42ms/step - loss: 0.4102 - accuracy: 0.8145 - val_loss: 0.4342 - val_accuracy: 0.7996\n",
            "Epoch 29/100\n",
            "313/313 [==============================] - 13s 42ms/step - loss: 0.4092 - accuracy: 0.8153 - val_loss: 0.4354 - val_accuracy: 0.7960\n",
            "Epoch 30/100\n",
            "313/313 [==============================] - 13s 42ms/step - loss: 0.4082 - accuracy: 0.8141 - val_loss: 0.4310 - val_accuracy: 0.7986\n",
            "Epoch 31/100\n",
            "313/313 [==============================] - 13s 42ms/step - loss: 0.4072 - accuracy: 0.8167 - val_loss: 0.4311 - val_accuracy: 0.8016\n",
            "Epoch 32/100\n",
            "313/313 [==============================] - 13s 43ms/step - loss: 0.4060 - accuracy: 0.8165 - val_loss: 0.4315 - val_accuracy: 0.8030\n",
            "Epoch 33/100\n",
            "313/313 [==============================] - 13s 42ms/step - loss: 0.4048 - accuracy: 0.8173 - val_loss: 0.4310 - val_accuracy: 0.8018\n"
          ],
          "name": "stdout"
        }
      ]
    },
    {
      "cell_type": "code",
      "metadata": {
        "colab": {
          "base_uri": "https://localhost:8080/",
          "height": 279
        },
        "id": "jw1ni2iR29le",
        "outputId": "2faf0054-a4cf-4ea6-d0dc-575d73bffaad"
      },
      "source": [
        "import matplotlib.pyplot as plt\n",
        "plt.plot(history.history['loss'])\n",
        "plt.plot(history.history['val_loss'])\n",
        "plt.xlabel('epoch')\n",
        "plt.ylabel('loss')\n",
        "plt.legend(['train', 'val'])\n",
        "plt.show()"
      ],
      "execution_count": 33,
      "outputs": [
        {
          "output_type": "display_data",
          "data": {
            "image/png": "[encoded data removed]",
            "text/plain": [
              "<Figure size 432x288 with 1 Axes>"
            ]
          },
          "metadata": {
            "tags": [],
            "needs_background": "light"
          }
        }
      ]
    },
    {
      "cell_type": "markdown",
      "metadata": {
        "id": "PADbNZop3543"
      },
      "source": [
        "순환층에 드롭아웃 적용하기\n",
        "\n",
        "- dropout : 셀의 입력에 드롭아웃 적용\n",
        "\n",
        "- recurrent_dropout : 순환되는 은닉상태에 드롭아웃 적용"
      ]
    },
    {
      "cell_type": "code",
      "metadata": {
        "id": "c0G4XBSC3LvG"
      },
      "source": [
        "model2 = keras.Sequential()\n",
        "model2.add(keras.layers.Embedding(500, 16, input_length=100))\n",
        "model2.add(keras.layers.LSTM(8, dropout=0.3))\n",
        "model2.add(keras.layers.Dense(1, activation='sigmoid'))"
      ],
      "execution_count": 34,
      "outputs": []
    },
    {
      "cell_type": "code",
      "metadata": {
        "colab": {
          "base_uri": "https://localhost:8080/"
        },
        "id": "cGgwnovK4evM",
        "outputId": "00823266-be04-4460-db19-00dc629f56d9"
      },
      "source": [
        "# 모델 컴파일, 훈련\n",
        "rmsprop = keras.optimizers.RMSprop(learning_rate=1e-4)\n",
        "model2.compile(optimizer=rmsprop, loss='binary_crossentropy', metrics=['accuracy'])\n",
        "checkpoint_cb = keras.callbacks.ModelCheckpoint('best-dropout-model.h5')\n",
        "early_stopping_cb = keras.callbacks.EarlyStopping(patience=3, restore_best_weights=True)\n",
        "history = model2.fit(train_seq, train_target, epochs=100, batch_size=64,\n",
        "                    validation_data=(val_seq, val_target),\n",
        "                    callbacks=[checkpoint_cb, early_stopping_cb])\n",
        "\n",
        "# 드롭아웃이 효과를 잘 발휘해서 과대적합을 억제했다 (검증손실이 조금 향상되었음)"
      ],
      "execution_count": 35,
      "outputs": [
        {
          "output_type": "stream",
          "text": [
            "Epoch 1/100\n",
            "313/313 [==============================] - 16s 46ms/step - loss: 0.6923 - accuracy: 0.5419 - val_loss: 0.6910 - val_accuracy: 0.6168\n",
            "Epoch 2/100\n",
            "313/313 [==============================] - 14s 45ms/step - loss: 0.6883 - accuracy: 0.6265 - val_loss: 0.6849 - val_accuracy: 0.6570\n",
            "Epoch 3/100\n",
            "313/313 [==============================] - 14s 44ms/step - loss: 0.6774 - accuracy: 0.6687 - val_loss: 0.6668 - val_accuracy: 0.6874\n",
            "Epoch 4/100\n",
            "313/313 [==============================] - 14s 44ms/step - loss: 0.6357 - accuracy: 0.7070 - val_loss: 0.5915 - val_accuracy: 0.7344\n",
            "Epoch 5/100\n",
            "313/313 [==============================] - 14s 44ms/step - loss: 0.5721 - accuracy: 0.7299 - val_loss: 0.5591 - val_accuracy: 0.7422\n",
            "Epoch 6/100\n",
            "313/313 [==============================] - 14s 44ms/step - loss: 0.5447 - accuracy: 0.7467 - val_loss: 0.5321 - val_accuracy: 0.7522\n",
            "Epoch 7/100\n",
            "313/313 [==============================] - 14s 44ms/step - loss: 0.5225 - accuracy: 0.7595 - val_loss: 0.5096 - val_accuracy: 0.7682\n",
            "Epoch 8/100\n",
            "313/313 [==============================] - 14s 44ms/step - loss: 0.5021 - accuracy: 0.7704 - val_loss: 0.4943 - val_accuracy: 0.7748\n",
            "Epoch 9/100\n",
            "313/313 [==============================] - 14s 44ms/step - loss: 0.4836 - accuracy: 0.7804 - val_loss: 0.4783 - val_accuracy: 0.7790\n",
            "Epoch 10/100\n",
            "313/313 [==============================] - 14s 44ms/step - loss: 0.4713 - accuracy: 0.7873 - val_loss: 0.4695 - val_accuracy: 0.7872\n",
            "Epoch 11/100\n",
            "313/313 [==============================] - 14s 44ms/step - loss: 0.4628 - accuracy: 0.7914 - val_loss: 0.4643 - val_accuracy: 0.7868\n",
            "Epoch 12/100\n",
            "313/313 [==============================] - 14s 44ms/step - loss: 0.4569 - accuracy: 0.7946 - val_loss: 0.4591 - val_accuracy: 0.7906\n",
            "Epoch 13/100\n",
            "313/313 [==============================] - 14s 44ms/step - loss: 0.4534 - accuracy: 0.7957 - val_loss: 0.4541 - val_accuracy: 0.7888\n",
            "Epoch 14/100\n",
            "313/313 [==============================] - 14s 44ms/step - loss: 0.4485 - accuracy: 0.7955 - val_loss: 0.4516 - val_accuracy: 0.7922\n",
            "Epoch 15/100\n",
            "313/313 [==============================] - 14s 44ms/step - loss: 0.4434 - accuracy: 0.8010 - val_loss: 0.4487 - val_accuracy: 0.7942\n",
            "Epoch 16/100\n",
            "313/313 [==============================] - 14s 44ms/step - loss: 0.4409 - accuracy: 0.8001 - val_loss: 0.4492 - val_accuracy: 0.7946\n",
            "Epoch 17/100\n",
            "313/313 [==============================] - 14s 44ms/step - loss: 0.4381 - accuracy: 0.7999 - val_loss: 0.4453 - val_accuracy: 0.7944\n",
            "Epoch 18/100\n",
            "313/313 [==============================] - 14s 44ms/step - loss: 0.4351 - accuracy: 0.8043 - val_loss: 0.4434 - val_accuracy: 0.7958\n",
            "Epoch 19/100\n",
            "313/313 [==============================] - 14s 45ms/step - loss: 0.4326 - accuracy: 0.8047 - val_loss: 0.4473 - val_accuracy: 0.7982\n",
            "Epoch 20/100\n",
            "313/313 [==============================] - 14s 44ms/step - loss: 0.4306 - accuracy: 0.8051 - val_loss: 0.4421 - val_accuracy: 0.7958\n",
            "Epoch 21/100\n",
            "313/313 [==============================] - 14s 44ms/step - loss: 0.4301 - accuracy: 0.8044 - val_loss: 0.4400 - val_accuracy: 0.8002\n",
            "Epoch 22/100\n",
            "313/313 [==============================] - 14s 44ms/step - loss: 0.4284 - accuracy: 0.8047 - val_loss: 0.4380 - val_accuracy: 0.7978\n",
            "Epoch 23/100\n",
            "313/313 [==============================] - 14s 44ms/step - loss: 0.4268 - accuracy: 0.8055 - val_loss: 0.4378 - val_accuracy: 0.7954\n",
            "Epoch 24/100\n",
            "313/313 [==============================] - 14s 44ms/step - loss: 0.4250 - accuracy: 0.8055 - val_loss: 0.4360 - val_accuracy: 0.7972\n",
            "Epoch 25/100\n",
            "313/313 [==============================] - 14s 44ms/step - loss: 0.4252 - accuracy: 0.8067 - val_loss: 0.4356 - val_accuracy: 0.7964\n",
            "Epoch 26/100\n",
            "313/313 [==============================] - 14s 44ms/step - loss: 0.4234 - accuracy: 0.8070 - val_loss: 0.4351 - val_accuracy: 0.7962\n",
            "Epoch 27/100\n",
            "313/313 [==============================] - 14s 44ms/step - loss: 0.4221 - accuracy: 0.8072 - val_loss: 0.4344 - val_accuracy: 0.7972\n",
            "Epoch 28/100\n",
            "313/313 [==============================] - 14s 44ms/step - loss: 0.4222 - accuracy: 0.8058 - val_loss: 0.4334 - val_accuracy: 0.7996\n",
            "Epoch 29/100\n",
            "313/313 [==============================] - 14s 44ms/step - loss: 0.4205 - accuracy: 0.8087 - val_loss: 0.4330 - val_accuracy: 0.8018\n",
            "Epoch 30/100\n",
            "313/313 [==============================] - 14s 44ms/step - loss: 0.4177 - accuracy: 0.8110 - val_loss: 0.4337 - val_accuracy: 0.8038\n",
            "Epoch 31/100\n",
            "313/313 [==============================] - 14s 45ms/step - loss: 0.4187 - accuracy: 0.8087 - val_loss: 0.4330 - val_accuracy: 0.8026\n",
            "Epoch 32/100\n",
            "313/313 [==============================] - 14s 44ms/step - loss: 0.4168 - accuracy: 0.8102 - val_loss: 0.4323 - val_accuracy: 0.8018\n",
            "Epoch 33/100\n",
            "313/313 [==============================] - 14s 45ms/step - loss: 0.4171 - accuracy: 0.8097 - val_loss: 0.4363 - val_accuracy: 0.7974\n",
            "Epoch 34/100\n",
            "313/313 [==============================] - 14s 45ms/step - loss: 0.4152 - accuracy: 0.8108 - val_loss: 0.4334 - val_accuracy: 0.7986\n",
            "Epoch 35/100\n",
            "313/313 [==============================] - 14s 45ms/step - loss: 0.4147 - accuracy: 0.8105 - val_loss: 0.4331 - val_accuracy: 0.8006\n"
          ],
          "name": "stdout"
        }
      ]
    },
    {
      "cell_type": "code",
      "metadata": {
        "colab": {
          "base_uri": "https://localhost:8080/",
          "height": 279
        },
        "id": "Qdirp4Ud4mAO",
        "outputId": "2bbb7da7-3de5-4aa9-df69-b22c34648b6b"
      },
      "source": [
        "plt.plot(history.history['loss'])\n",
        "plt.plot(history.history['val_loss'])\n",
        "plt.xlabel('epoch')\n",
        "plt.ylabel('loss')\n",
        "plt.legend(['train', 'val'])\n",
        "plt.show()"
      ],
      "execution_count": 36,
      "outputs": [
        {
          "output_type": "display_data",
          "data": {
            "image/png": "[encoded data removed]",
            "text/plain": [
              "<Figure size 432x288 with 1 Axes>"
            ]
          },
          "metadata": {
            "tags": [],
            "needs_background": "light"
          }
        }
      ]
    },
    {
      "cell_type": "markdown",
      "metadata": {
        "id": "4H_0VTEg5SPI"
      },
      "source": [
        "2개의 층 연결하기"
      ]
    },
    {
      "cell_type": "code",
      "metadata": {
        "id": "2Yi_P2MP48z2"
      },
      "source": [
        "model3 = keras.Sequential()\n",
        "model3.add(keras.layers.Embedding(500, 16, input_length=100))\n",
        "model3.add(keras.layers.LSTM(8, dropout=0.3, return_sequences=True))\n",
        "model3.add(keras.layers.LSTM(8, dropout=0.3))   # 순환층 2개 연결하기\n",
        "model3.add(keras.layers.Dense(1, activation='sigmoid'))"
      ],
      "execution_count": 37,
      "outputs": []
    },
    {
      "cell_type": "code",
      "metadata": {
        "colab": {
          "base_uri": "https://localhost:8080/"
        },
        "id": "QuXghZMD6L7h",
        "outputId": "8dd3c3b0-604c-41d0-ea9d-84363eeab02f"
      },
      "source": [
        "model3.summary()"
      ],
      "execution_count": 38,
      "outputs": [
        {
          "output_type": "stream",
          "text": [
            "Model: \"sequential_4\"\n",
            "_________________________________________________________________\n",
            "Layer (type)                 Output Shape              Param #   \n",
            "=================================================================\n",
            "embedding_3 (Embedding)      (None, 100, 16)           8000      \n",
            "_________________________________________________________________\n",
            "lstm_2 (LSTM)                (None, 100, 8)            800       \n",
            "_________________________________________________________________\n",
            "lstm_3 (LSTM)                (None, 8)                 544       \n",
            "_________________________________________________________________\n",
            "dense_4 (Dense)              (None, 1)                 9         \n",
            "=================================================================\n",
            "Total params: 9,353\n",
            "Trainable params: 9,353\n",
            "Non-trainable params: 0\n",
            "_________________________________________________________________\n"
          ],
          "name": "stdout"
        }
      ]
    },
    {
      "cell_type": "code",
      "metadata": {
        "colab": {
          "base_uri": "https://localhost:8080/"
        },
        "id": "y2cTNqvd6M07",
        "outputId": "56d5c2cd-c668-4fef-b064-65a47413273e"
      },
      "source": [
        "# 모델 컴파일, 훈련\n",
        "rmsprop = keras.optimizers.RMSprop(learning_rate=1e-4)\n",
        "model3.compile(optimizer=rmsprop, loss='binary_crossentropy', metrics=['accuracy'])\n",
        "checkpoint_cb = keras.callbacks.ModelCheckpoint('best-2rnn-model.h5')\n",
        "early_stopping_cb = keras.callbacks.EarlyStopping(patience=3, restore_best_weights=True)\n",
        "history = model3.fit(train_seq, train_target, epochs=100, batch_size=64,\n",
        "                    validation_data=(val_seq, val_target),\n",
        "                    callbacks=[checkpoint_cb, early_stopping_cb])"
      ],
      "execution_count": 39,
      "outputs": [
        {
          "output_type": "stream",
          "text": [
            "Epoch 1/100\n",
            "313/313 [==============================] - 31s 87ms/step - loss: 0.6928 - accuracy: 0.5077 - val_loss: 0.6924 - val_accuracy: 0.5056\n",
            "Epoch 2/100\n",
            "313/313 [==============================] - 26s 84ms/step - loss: 0.6898 - accuracy: 0.5796 - val_loss: 0.6864 - val_accuracy: 0.6488\n",
            "Epoch 3/100\n",
            "313/313 [==============================] - 26s 84ms/step - loss: 0.6702 - accuracy: 0.6570 - val_loss: 0.6422 - val_accuracy: 0.6742\n",
            "Epoch 4/100\n",
            "313/313 [==============================] - 26s 84ms/step - loss: 0.5899 - accuracy: 0.7023 - val_loss: 0.5544 - val_accuracy: 0.7238\n",
            "Epoch 5/100\n",
            "313/313 [==============================] - 26s 84ms/step - loss: 0.5392 - accuracy: 0.7349 - val_loss: 0.5175 - val_accuracy: 0.7460\n",
            "Epoch 6/100\n",
            "313/313 [==============================] - 26s 84ms/step - loss: 0.5135 - accuracy: 0.7533 - val_loss: 0.4986 - val_accuracy: 0.7632\n",
            "Epoch 7/100\n",
            "313/313 [==============================] - 26s 84ms/step - loss: 0.4954 - accuracy: 0.7663 - val_loss: 0.4844 - val_accuracy: 0.7770\n",
            "Epoch 8/100\n",
            "313/313 [==============================] - 26s 84ms/step - loss: 0.4854 - accuracy: 0.7710 - val_loss: 0.4756 - val_accuracy: 0.7790\n",
            "Epoch 9/100\n",
            "313/313 [==============================] - 26s 84ms/step - loss: 0.4718 - accuracy: 0.7811 - val_loss: 0.4662 - val_accuracy: 0.7864\n",
            "Epoch 10/100\n",
            "313/313 [==============================] - 26s 84ms/step - loss: 0.4683 - accuracy: 0.7806 - val_loss: 0.4612 - val_accuracy: 0.7876\n",
            "Epoch 11/100\n",
            "313/313 [==============================] - 26s 83ms/step - loss: 0.4635 - accuracy: 0.7829 - val_loss: 0.4608 - val_accuracy: 0.7862\n",
            "Epoch 12/100\n",
            "313/313 [==============================] - 26s 84ms/step - loss: 0.4571 - accuracy: 0.7885 - val_loss: 0.4541 - val_accuracy: 0.7880\n",
            "Epoch 13/100\n",
            "313/313 [==============================] - 26s 84ms/step - loss: 0.4529 - accuracy: 0.7926 - val_loss: 0.4513 - val_accuracy: 0.7886\n",
            "Epoch 14/100\n",
            "313/313 [==============================] - 26s 83ms/step - loss: 0.4493 - accuracy: 0.7933 - val_loss: 0.4542 - val_accuracy: 0.7888\n",
            "Epoch 15/100\n",
            "313/313 [==============================] - 26s 83ms/step - loss: 0.4479 - accuracy: 0.7916 - val_loss: 0.4479 - val_accuracy: 0.7942\n",
            "Epoch 16/100\n",
            "313/313 [==============================] - 26s 84ms/step - loss: 0.4443 - accuracy: 0.7951 - val_loss: 0.4454 - val_accuracy: 0.7952\n",
            "Epoch 17/100\n",
            "313/313 [==============================] - 26s 84ms/step - loss: 0.4441 - accuracy: 0.7971 - val_loss: 0.4473 - val_accuracy: 0.7882\n",
            "Epoch 18/100\n",
            "313/313 [==============================] - 27s 85ms/step - loss: 0.4399 - accuracy: 0.7983 - val_loss: 0.4428 - val_accuracy: 0.7934\n",
            "Epoch 19/100\n",
            "313/313 [==============================] - 26s 84ms/step - loss: 0.4390 - accuracy: 0.7962 - val_loss: 0.4412 - val_accuracy: 0.7944\n",
            "Epoch 20/100\n",
            "313/313 [==============================] - 26s 83ms/step - loss: 0.4358 - accuracy: 0.7997 - val_loss: 0.4433 - val_accuracy: 0.7896\n",
            "Epoch 21/100\n",
            "313/313 [==============================] - 26s 84ms/step - loss: 0.4371 - accuracy: 0.7990 - val_loss: 0.4408 - val_accuracy: 0.7980\n",
            "Epoch 22/100\n",
            "313/313 [==============================] - 26s 83ms/step - loss: 0.4344 - accuracy: 0.8008 - val_loss: 0.4392 - val_accuracy: 0.7964\n",
            "Epoch 23/100\n",
            "313/313 [==============================] - 26s 84ms/step - loss: 0.4317 - accuracy: 0.8025 - val_loss: 0.4379 - val_accuracy: 0.7980\n",
            "Epoch 24/100\n",
            "313/313 [==============================] - 26s 83ms/step - loss: 0.4307 - accuracy: 0.8036 - val_loss: 0.4372 - val_accuracy: 0.7998\n",
            "Epoch 25/100\n",
            "313/313 [==============================] - 26s 83ms/step - loss: 0.4305 - accuracy: 0.8055 - val_loss: 0.4376 - val_accuracy: 0.8000\n",
            "Epoch 26/100\n",
            "313/313 [==============================] - 26s 84ms/step - loss: 0.4302 - accuracy: 0.8041 - val_loss: 0.4365 - val_accuracy: 0.8014\n",
            "Epoch 27/100\n",
            "313/313 [==============================] - 26s 84ms/step - loss: 0.4285 - accuracy: 0.8029 - val_loss: 0.4409 - val_accuracy: 0.7918\n",
            "Epoch 28/100\n",
            "313/313 [==============================] - 26s 84ms/step - loss: 0.4286 - accuracy: 0.8067 - val_loss: 0.4363 - val_accuracy: 0.7986\n",
            "Epoch 29/100\n",
            "313/313 [==============================] - 26s 83ms/step - loss: 0.4277 - accuracy: 0.8036 - val_loss: 0.4345 - val_accuracy: 0.8012\n",
            "Epoch 30/100\n",
            "313/313 [==============================] - 27s 85ms/step - loss: 0.4264 - accuracy: 0.8058 - val_loss: 0.4375 - val_accuracy: 0.7972\n",
            "Epoch 31/100\n",
            "313/313 [==============================] - 26s 84ms/step - loss: 0.4262 - accuracy: 0.8062 - val_loss: 0.4341 - val_accuracy: 0.8004\n",
            "Epoch 32/100\n",
            "313/313 [==============================] - 26s 84ms/step - loss: 0.4238 - accuracy: 0.8071 - val_loss: 0.4362 - val_accuracy: 0.7964\n",
            "Epoch 33/100\n",
            "313/313 [==============================] - 26s 84ms/step - loss: 0.4242 - accuracy: 0.8074 - val_loss: 0.4338 - val_accuracy: 0.8010\n",
            "Epoch 34/100\n",
            "313/313 [==============================] - 27s 85ms/step - loss: 0.4239 - accuracy: 0.8065 - val_loss: 0.4329 - val_accuracy: 0.8014\n",
            "Epoch 35/100\n",
            "313/313 [==============================] - 27s 85ms/step - loss: 0.4212 - accuracy: 0.8074 - val_loss: 0.4333 - val_accuracy: 0.8018\n",
            "Epoch 36/100\n",
            "313/313 [==============================] - 26s 84ms/step - loss: 0.4209 - accuracy: 0.8079 - val_loss: 0.4363 - val_accuracy: 0.7950\n",
            "Epoch 37/100\n",
            "313/313 [==============================] - 26s 84ms/step - loss: 0.4226 - accuracy: 0.8087 - val_loss: 0.4326 - val_accuracy: 0.8022\n",
            "Epoch 38/100\n",
            "313/313 [==============================] - 26s 84ms/step - loss: 0.4210 - accuracy: 0.8086 - val_loss: 0.4328 - val_accuracy: 0.8006\n",
            "Epoch 39/100\n",
            "313/313 [==============================] - 27s 85ms/step - loss: 0.4200 - accuracy: 0.8091 - val_loss: 0.4318 - val_accuracy: 0.8020\n",
            "Epoch 40/100\n",
            "313/313 [==============================] - 26s 84ms/step - loss: 0.4189 - accuracy: 0.8093 - val_loss: 0.4337 - val_accuracy: 0.8004\n",
            "Epoch 41/100\n",
            "313/313 [==============================] - 26s 84ms/step - loss: 0.4184 - accuracy: 0.8101 - val_loss: 0.4309 - val_accuracy: 0.8042\n",
            "Epoch 42/100\n",
            "313/313 [==============================] - 26s 84ms/step - loss: 0.4180 - accuracy: 0.8106 - val_loss: 0.4312 - val_accuracy: 0.8034\n",
            "Epoch 43/100\n",
            "313/313 [==============================] - 26s 84ms/step - loss: 0.4185 - accuracy: 0.8094 - val_loss: 0.4315 - val_accuracy: 0.8042\n",
            "Epoch 44/100\n",
            "313/313 [==============================] - 26s 84ms/step - loss: 0.4185 - accuracy: 0.8087 - val_loss: 0.4308 - val_accuracy: 0.8052\n",
            "Epoch 45/100\n",
            "313/313 [==============================] - 26s 83ms/step - loss: 0.4166 - accuracy: 0.8125 - val_loss: 0.4320 - val_accuracy: 0.8020\n",
            "Epoch 46/100\n",
            "313/313 [==============================] - 26s 84ms/step - loss: 0.4175 - accuracy: 0.8088 - val_loss: 0.4307 - val_accuracy: 0.8030\n",
            "Epoch 47/100\n",
            "313/313 [==============================] - 26s 84ms/step - loss: 0.4151 - accuracy: 0.8107 - val_loss: 0.4372 - val_accuracy: 0.8024\n",
            "Epoch 48/100\n",
            "313/313 [==============================] - 26s 84ms/step - loss: 0.4157 - accuracy: 0.8112 - val_loss: 0.4292 - val_accuracy: 0.8036\n",
            "Epoch 49/100\n",
            "313/313 [==============================] - 27s 85ms/step - loss: 0.4164 - accuracy: 0.8101 - val_loss: 0.4286 - val_accuracy: 0.8026\n",
            "Epoch 50/100\n",
            "313/313 [==============================] - 26s 84ms/step - loss: 0.4155 - accuracy: 0.8107 - val_loss: 0.4287 - val_accuracy: 0.8048\n",
            "Epoch 51/100\n",
            "313/313 [==============================] - 26s 84ms/step - loss: 0.4151 - accuracy: 0.8099 - val_loss: 0.4354 - val_accuracy: 0.8028\n",
            "Epoch 52/100\n",
            "313/313 [==============================] - 26s 84ms/step - loss: 0.4131 - accuracy: 0.8124 - val_loss: 0.4274 - val_accuracy: 0.8060\n",
            "Epoch 53/100\n",
            "313/313 [==============================] - 26s 84ms/step - loss: 0.4130 - accuracy: 0.8123 - val_loss: 0.4275 - val_accuracy: 0.8044\n",
            "Epoch 54/100\n",
            "313/313 [==============================] - 26s 85ms/step - loss: 0.4149 - accuracy: 0.8092 - val_loss: 0.4295 - val_accuracy: 0.8052\n",
            "Epoch 55/100\n",
            "313/313 [==============================] - 26s 84ms/step - loss: 0.4128 - accuracy: 0.8115 - val_loss: 0.4265 - val_accuracy: 0.8064\n",
            "Epoch 56/100\n",
            "313/313 [==============================] - 26s 84ms/step - loss: 0.4122 - accuracy: 0.8138 - val_loss: 0.4295 - val_accuracy: 0.8076\n",
            "Epoch 57/100\n",
            "313/313 [==============================] - 27s 85ms/step - loss: 0.4114 - accuracy: 0.8141 - val_loss: 0.4264 - val_accuracy: 0.8058\n",
            "Epoch 58/100\n",
            "313/313 [==============================] - 26s 84ms/step - loss: 0.4122 - accuracy: 0.8128 - val_loss: 0.4271 - val_accuracy: 0.8032\n",
            "Epoch 59/100\n",
            "313/313 [==============================] - 26s 84ms/step - loss: 0.4103 - accuracy: 0.8129 - val_loss: 0.4262 - val_accuracy: 0.8058\n",
            "Epoch 60/100\n",
            "313/313 [==============================] - 26s 84ms/step - loss: 0.4079 - accuracy: 0.8133 - val_loss: 0.4253 - val_accuracy: 0.8074\n",
            "Epoch 61/100\n",
            "313/313 [==============================] - 26s 84ms/step - loss: 0.4095 - accuracy: 0.8140 - val_loss: 0.4250 - val_accuracy: 0.8088\n",
            "Epoch 62/100\n",
            "313/313 [==============================] - 27s 85ms/step - loss: 0.4097 - accuracy: 0.8120 - val_loss: 0.4283 - val_accuracy: 0.8062\n",
            "Epoch 63/100\n",
            "313/313 [==============================] - 27s 85ms/step - loss: 0.4092 - accuracy: 0.8136 - val_loss: 0.4261 - val_accuracy: 0.8088\n",
            "Epoch 64/100\n",
            "313/313 [==============================] - 26s 85ms/step - loss: 0.4098 - accuracy: 0.8145 - val_loss: 0.4261 - val_accuracy: 0.8040\n"
          ],
          "name": "stdout"
        }
      ]
    },
    {
      "cell_type": "code",
      "metadata": {
        "colab": {
          "base_uri": "https://localhost:8080/",
          "height": 279
        },
        "id": "D30HAciE6mzo",
        "outputId": "f219e64d-4c99-4dd0-c5a2-895391d1583f"
      },
      "source": [
        "plt.plot(history.history['loss'])\n",
        "plt.plot(history.history['val_loss'])\n",
        "plt.xlabel('epoch')\n",
        "plt.ylabel('loss')\n",
        "plt.legend(['train', 'val'])\n",
        "plt.show()"
      ],
      "execution_count": 40,
      "outputs": [
        {
          "output_type": "display_data",
          "data": {
            "image/png": "[encoded data removed]",
            "text/plain": [
              "<Figure size 432x288 with 1 Axes>"
            ]
          },
          "metadata": {
            "tags": [],
            "needs_background": "light"
          }
        }
      ]
    },
    {
      "cell_type": "markdown",
      "metadata": {
        "id": "U8x7U3Vp6216"
      },
      "source": [
        "- **GRU** : LSTM 셀의 간소화된 버전\n",
        "\n",
        " LSTM 보다 가중치가 적어 계산량이 적지만 LSTM 못지않은 좋은 성능을 낸다."
      ]
    },
    {
      "cell_type": "code",
      "metadata": {
        "id": "bHWkP_GP-C3h"
      },
      "source": [
        "# GRU 신경망 훈련하기\n",
        "model4 = keras.Sequential()\n",
        "model4.add(keras.layers.Embedding(500, 16, input_length=100))\n",
        "model4.add(keras.layers.GRU(8))\n",
        "model4.add(keras.layers.Dense(1, activation='sigmoid'))"
      ],
      "execution_count": 41,
      "outputs": []
    },
    {
      "cell_type": "code",
      "metadata": {
        "colab": {
          "base_uri": "https://localhost:8080/"
        },
        "id": "p9s4kft3-T48",
        "outputId": "61e57689-1feb-44d3-a663-6ff25c30970f"
      },
      "source": [
        "model4.summary()"
      ],
      "execution_count": 42,
      "outputs": [
        {
          "output_type": "stream",
          "text": [
            "Model: \"sequential_5\"\n",
            "_________________________________________________________________\n",
            "Layer (type)                 Output Shape              Param #   \n",
            "=================================================================\n",
            "embedding_4 (Embedding)      (None, 100, 16)           8000      \n",
            "_________________________________________________________________\n",
            "gru (GRU)                    (None, 8)                 624       \n",
            "_________________________________________________________________\n",
            "dense_5 (Dense)              (None, 1)                 9         \n",
            "=================================================================\n",
            "Total params: 8,633\n",
            "Trainable params: 8,633\n",
            "Non-trainable params: 0\n",
            "_________________________________________________________________\n"
          ],
          "name": "stdout"
        }
      ]
    },
    {
      "cell_type": "code",
      "metadata": {
        "colab": {
          "base_uri": "https://localhost:8080/"
        },
        "id": "Tf8c9P69-Vmu",
        "outputId": "c15df6a9-69e6-4aa9-85b6-8983f9735b7e"
      },
      "source": [
        "# 모델 컴파일, 훈련\n",
        "rmsprop = keras.optimizers.RMSprop(learning_rate=1e-4)\n",
        "model4.compile(optimizer=rmsprop, loss='binary_crossentropy', metrics=['accuracy'])\n",
        "checkpoint_cb = keras.callbacks.ModelCheckpoint('best-gru-model.h5')\n",
        "early_stopping_cb = keras.callbacks.EarlyStopping(patience=3, restore_best_weights=True)\n",
        "history = model4.fit(train_seq, train_target, epochs=100, batch_size=64,\n",
        "                    validation_data=(val_seq, val_target),\n",
        "                    callbacks=[checkpoint_cb, early_stopping_cb])"
      ],
      "execution_count": 43,
      "outputs": [
        {
          "output_type": "stream",
          "text": [
            "Epoch 1/100\n",
            "313/313 [==============================] - 17s 47ms/step - loss: 0.6927 - accuracy: 0.5167 - val_loss: 0.6925 - val_accuracy: 0.5292\n",
            "Epoch 2/100\n",
            "313/313 [==============================] - 14s 46ms/step - loss: 0.6913 - accuracy: 0.5688 - val_loss: 0.6909 - val_accuracy: 0.5582\n",
            "Epoch 3/100\n",
            "313/313 [==============================] - 14s 46ms/step - loss: 0.6890 - accuracy: 0.5929 - val_loss: 0.6880 - val_accuracy: 0.5878\n",
            "Epoch 4/100\n",
            "313/313 [==============================] - 14s 46ms/step - loss: 0.6845 - accuracy: 0.6188 - val_loss: 0.6824 - val_accuracy: 0.6136\n",
            "Epoch 5/100\n",
            "313/313 [==============================] - 14s 45ms/step - loss: 0.6756 - accuracy: 0.6403 - val_loss: 0.6707 - val_accuracy: 0.6362\n",
            "Epoch 6/100\n",
            "313/313 [==============================] - 14s 46ms/step - loss: 0.6569 - accuracy: 0.6655 - val_loss: 0.6442 - val_accuracy: 0.6704\n",
            "Epoch 7/100\n",
            "313/313 [==============================] - 14s 46ms/step - loss: 0.6031 - accuracy: 0.7078 - val_loss: 0.5674 - val_accuracy: 0.7296\n",
            "Epoch 8/100\n",
            "313/313 [==============================] - 14s 45ms/step - loss: 0.5423 - accuracy: 0.7403 - val_loss: 0.5380 - val_accuracy: 0.7408\n",
            "Epoch 9/100\n",
            "313/313 [==============================] - 14s 45ms/step - loss: 0.5195 - accuracy: 0.7533 - val_loss: 0.5177 - val_accuracy: 0.7564\n",
            "Epoch 10/100\n",
            "313/313 [==============================] - 14s 45ms/step - loss: 0.5015 - accuracy: 0.7678 - val_loss: 0.5030 - val_accuracy: 0.7674\n",
            "Epoch 11/100\n",
            "313/313 [==============================] - 14s 46ms/step - loss: 0.4870 - accuracy: 0.7754 - val_loss: 0.4905 - val_accuracy: 0.7740\n",
            "Epoch 12/100\n",
            "313/313 [==============================] - 14s 46ms/step - loss: 0.4749 - accuracy: 0.7839 - val_loss: 0.4832 - val_accuracy: 0.7832\n",
            "Epoch 13/100\n",
            "313/313 [==============================] - 14s 45ms/step - loss: 0.4651 - accuracy: 0.7890 - val_loss: 0.4754 - val_accuracy: 0.7794\n",
            "Epoch 14/100\n",
            "313/313 [==============================] - 14s 45ms/step - loss: 0.4577 - accuracy: 0.7951 - val_loss: 0.4682 - val_accuracy: 0.7876\n",
            "Epoch 15/100\n",
            "313/313 [==============================] - 14s 45ms/step - loss: 0.4514 - accuracy: 0.7980 - val_loss: 0.4632 - val_accuracy: 0.7854\n",
            "Epoch 16/100\n",
            "313/313 [==============================] - 14s 45ms/step - loss: 0.4453 - accuracy: 0.8012 - val_loss: 0.4596 - val_accuracy: 0.7904\n",
            "Epoch 17/100\n",
            "313/313 [==============================] - 14s 45ms/step - loss: 0.4413 - accuracy: 0.8026 - val_loss: 0.4584 - val_accuracy: 0.7884\n",
            "Epoch 18/100\n",
            "313/313 [==============================] - 14s 46ms/step - loss: 0.4373 - accuracy: 0.8044 - val_loss: 0.4549 - val_accuracy: 0.7902\n",
            "Epoch 19/100\n",
            "313/313 [==============================] - 14s 46ms/step - loss: 0.4344 - accuracy: 0.8065 - val_loss: 0.4536 - val_accuracy: 0.7938\n",
            "Epoch 20/100\n",
            "313/313 [==============================] - 14s 45ms/step - loss: 0.4318 - accuracy: 0.8080 - val_loss: 0.4513 - val_accuracy: 0.7914\n",
            "Epoch 21/100\n",
            "313/313 [==============================] - 14s 46ms/step - loss: 0.4292 - accuracy: 0.8104 - val_loss: 0.4496 - val_accuracy: 0.7958\n",
            "Epoch 22/100\n",
            "313/313 [==============================] - 14s 46ms/step - loss: 0.4272 - accuracy: 0.8102 - val_loss: 0.4484 - val_accuracy: 0.7974\n",
            "Epoch 23/100\n",
            "313/313 [==============================] - 14s 46ms/step - loss: 0.4253 - accuracy: 0.8133 - val_loss: 0.4480 - val_accuracy: 0.7964\n",
            "Epoch 24/100\n",
            "313/313 [==============================] - 14s 46ms/step - loss: 0.4241 - accuracy: 0.8112 - val_loss: 0.4512 - val_accuracy: 0.7942\n",
            "Epoch 25/100\n",
            "313/313 [==============================] - 14s 46ms/step - loss: 0.4224 - accuracy: 0.8147 - val_loss: 0.4486 - val_accuracy: 0.7952\n",
            "Epoch 26/100\n",
            "313/313 [==============================] - 14s 46ms/step - loss: 0.4214 - accuracy: 0.8144 - val_loss: 0.4460 - val_accuracy: 0.7948\n",
            "Epoch 27/100\n",
            "313/313 [==============================] - 14s 46ms/step - loss: 0.4203 - accuracy: 0.8148 - val_loss: 0.4485 - val_accuracy: 0.7938\n",
            "Epoch 28/100\n",
            "313/313 [==============================] - 14s 46ms/step - loss: 0.4194 - accuracy: 0.8149 - val_loss: 0.4462 - val_accuracy: 0.7926\n",
            "Epoch 29/100\n",
            "313/313 [==============================] - 14s 46ms/step - loss: 0.4185 - accuracy: 0.8151 - val_loss: 0.4453 - val_accuracy: 0.7968\n",
            "Epoch 30/100\n",
            "313/313 [==============================] - 14s 46ms/step - loss: 0.4180 - accuracy: 0.8157 - val_loss: 0.4452 - val_accuracy: 0.7914\n",
            "Epoch 31/100\n",
            "313/313 [==============================] - 14s 46ms/step - loss: 0.4166 - accuracy: 0.8170 - val_loss: 0.4436 - val_accuracy: 0.7952\n",
            "Epoch 32/100\n",
            "313/313 [==============================] - 14s 46ms/step - loss: 0.4164 - accuracy: 0.8166 - val_loss: 0.4462 - val_accuracy: 0.7906\n",
            "Epoch 33/100\n",
            "313/313 [==============================] - 14s 46ms/step - loss: 0.4155 - accuracy: 0.8161 - val_loss: 0.4434 - val_accuracy: 0.7926\n",
            "Epoch 34/100\n",
            "313/313 [==============================] - 14s 46ms/step - loss: 0.4151 - accuracy: 0.8158 - val_loss: 0.4424 - val_accuracy: 0.7932\n",
            "Epoch 35/100\n",
            "313/313 [==============================] - 14s 45ms/step - loss: 0.4150 - accuracy: 0.8163 - val_loss: 0.4422 - val_accuracy: 0.7928\n",
            "Epoch 36/100\n",
            "313/313 [==============================] - 14s 46ms/step - loss: 0.4138 - accuracy: 0.8166 - val_loss: 0.4420 - val_accuracy: 0.7944\n",
            "Epoch 37/100\n",
            "313/313 [==============================] - 14s 46ms/step - loss: 0.4136 - accuracy: 0.8170 - val_loss: 0.4448 - val_accuracy: 0.7902\n",
            "Epoch 38/100\n",
            "313/313 [==============================] - 14s 46ms/step - loss: 0.4132 - accuracy: 0.8166 - val_loss: 0.4431 - val_accuracy: 0.7924\n",
            "Epoch 39/100\n",
            "313/313 [==============================] - 15s 47ms/step - loss: 0.4129 - accuracy: 0.8170 - val_loss: 0.4411 - val_accuracy: 0.7962\n",
            "Epoch 40/100\n",
            "313/313 [==============================] - 14s 46ms/step - loss: 0.4126 - accuracy: 0.8157 - val_loss: 0.4394 - val_accuracy: 0.7968\n",
            "Epoch 41/100\n",
            "313/313 [==============================] - 14s 45ms/step - loss: 0.4125 - accuracy: 0.8168 - val_loss: 0.4395 - val_accuracy: 0.7952\n",
            "Epoch 42/100\n",
            "313/313 [==============================] - 14s 46ms/step - loss: 0.4115 - accuracy: 0.8173 - val_loss: 0.4397 - val_accuracy: 0.7978\n",
            "Epoch 43/100\n",
            "313/313 [==============================] - 14s 46ms/step - loss: 0.4110 - accuracy: 0.8168 - val_loss: 0.4400 - val_accuracy: 0.7954\n"
          ],
          "name": "stdout"
        }
      ]
    },
    {
      "cell_type": "code",
      "metadata": {
        "colab": {
          "base_uri": "https://localhost:8080/",
          "height": 279
        },
        "id": "tDRe4jGi-uBy",
        "outputId": "4eefed49-c3f2-46f1-b928-a3e475ada7c0"
      },
      "source": [
        "plt.plot(history.history['loss'])\n",
        "plt.plot(history.history['val_loss'])\n",
        "plt.xlabel('epoch')\n",
        "plt.ylabel('loss')\n",
        "plt.legend(['train', 'val'])\n",
        "plt.show()"
      ],
      "execution_count": 44,
      "outputs": [
        {
          "output_type": "display_data",
          "data": {
            "image/png": "[encoded data removed]",
            "text/plain": [
              "<Figure size 432x288 with 1 Axes>"
            ]
          },
          "metadata": {
            "tags": [],
            "needs_background": "light"
          }
        }
      ]
    },
    {
      "cell_type": "code",
      "metadata": {
        "colab": {
          "base_uri": "https://localhost:8080/"
        },
        "id": "xVX0G3AX_SLl",
        "outputId": "b32cb7fb-91e6-4d99-b05a-116e67bd0b61"
      },
      "source": [
        "# 가장 좋았던 모델에서 테스트 세트로 평가하기\n",
        "# 여기서는 2개의 순환층을 쌓은 모델로 적용\n",
        "test_seq = pad_sequences(test_input, maxlen=100)\n",
        "rnn_model = keras.models.load_model('best-2rnn-model.h5')\n",
        "rnn_model.evaluate(test_seq, test_target)"
      ],
      "execution_count": 45,
      "outputs": [
        {
          "output_type": "stream",
          "text": [
            "782/782 [==============================] - 12s 14ms/step - loss: 0.4221 - accuracy: 0.8031\n"
          ],
          "name": "stdout"
        },
        {
          "output_type": "execute_result",
          "data": {
            "text/plain": [
              "[0.42214256525039673, 0.8031200170516968]"
            ]
          },
          "metadata": {
            "tags": []
          },
          "execution_count": 45
        }
      ]
    }
  ]
}
