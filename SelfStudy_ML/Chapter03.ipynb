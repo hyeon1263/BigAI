{
  "nbformat": 4,
  "nbformat_minor": 0,
  "metadata": {
    "colab": {
      "name": "Chapter03",
      "private_outputs": true,
      "provenance": [],
      "collapsed_sections": [
        "q8VmjGHwRTSE",
        "m4doAmgGdvQ-",
        "HgZdAOpYEDqi",
        "NQbs6IM8GYUK",
        "Z0mNrrn3HLDx",
        "wSSCXtzAM97F",
        "5ev6THvJQlfl",
        "Ge1FAzrnldc3",
        "Jg5h4Lo0mQMm",
        "wUJVxA8MoqyW",
        "YfVxIawYs8d4"
      ]
    },
    "kernelspec": {
      "name": "python3",
      "display_name": "Python 3"
    },
    "language_info": {
      "name": "python"
    }
  },
  "cells": [
    {
      "cell_type": "markdown",
      "metadata": {
        "id": "Y8d2pCNSQjH5"
      },
      "source": [
        "#Chapter03 회귀 알로리즘과 모델 규제\n",
        "농어의 무게를 예측하라!"
      ]
    },
    {
      "cell_type": "markdown",
      "metadata": {
        "id": "q8VmjGHwRTSE"
      },
      "source": [
        "###03-1 k-최근접 이웃 회귀\n",
        "\n",
        "지도 학습 알고리즘\n",
        "*   **분류** : 샘플을 몇 개의 클래스 중 하나로 분류하는 문제\n",
        "*   **회귀** : 임의의 어떤 숫자를 예측하는 문제\n",
        "\n",
        "**k-최근접 이웃 회귀** :\n",
        "\n",
        "샘플에 가장 가까운 샘플 k개를 선택하여 이들의 (예를 들어) 평균을 구하는 알고리즘"
      ]
    },
    {
      "cell_type": "markdown",
      "metadata": {
        "id": "UniuMsFWdqk0"
      },
      "source": [
        "데이터 준비"
      ]
    },
    {
      "cell_type": "code",
      "metadata": {
        "id": "3foeVHZHQdsD"
      },
      "source": [
        "import numpy as np\n",
        "\n",
        "perch_length = np.array([8.4, 13.7, 15.0, 16.2, 17.4, 18.0, 18.7, 19.0, 19.6, 20.0, 21.0,   # 농어 길이\n",
        "       21.0, 21.0, 21.3, 22.0, 22.0, 22.0, 22.0, 22.0, 22.5, 22.5, 22.7,\n",
        "       23.0, 23.5, 24.0, 24.0, 24.6, 25.0, 25.6, 26.5, 27.3, 27.5, 27.5,\n",
        "       27.5, 28.0, 28.7, 30.0, 32.8, 34.5, 35.0, 36.5, 36.0, 37.0, 37.0,\n",
        "       39.0, 39.0, 39.0, 40.0, 40.0, 40.0, 40.0, 42.0, 43.0, 43.0, 43.5,\n",
        "       44.0])\n",
        "perch_weight = np.array([5.9, 32.0, 40.0, 51.5, 70.0, 100.0, 78.0, 80.0, 85.0, 85.0, 110.0, # 농어 무게\n",
        "       115.0, 125.0, 130.0, 120.0, 120.0, 130.0, 135.0, 110.0, 130.0,\n",
        "       150.0, 145.0, 150.0, 170.0, 225.0, 145.0, 188.0, 180.0, 197.0,\n",
        "       218.0, 300.0, 260.0, 265.0, 250.0, 250.0, 300.0, 320.0, 514.0,\n",
        "       556.0, 840.0, 685.0, 700.0, 700.0, 690.0, 900.0, 650.0, 820.0,\n",
        "       850.0, 900.0, 1015.0, 820.0, 1100.0, 1000.0, 1100.0, 1000.0,\n",
        "       1000.0])"
      ],
      "execution_count": null,
      "outputs": []
    },
    {
      "cell_type": "code",
      "metadata": {
        "id": "dLuymXY4WCeq"
      },
      "source": [
        "import matplotlib.pyplot as plt\n",
        "\n",
        "plt.scatter(perch_length, perch_weight)\n",
        "plt.xlabel('length')\n",
        "plt.ylabel('weight')\n",
        "plt.show()"
      ],
      "execution_count": null,
      "outputs": []
    },
    {
      "cell_type": "code",
      "metadata": {
        "id": "VL0sNUy5WV7S"
      },
      "source": [
        "# 훈련세트와 테스트세트로 나누기\n",
        "from sklearn.model_selection import train_test_split\n",
        "\n",
        "train_input, test_input, train_target, test_target = train_test_split(perch_length, perch_weight, random_state=42)"
      ],
      "execution_count": null,
      "outputs": []
    },
    {
      "cell_type": "code",
      "metadata": {
        "id": "0sHgafk8XlkP"
      },
      "source": [
        "test_array = np.array([1,2,3,4])       # -> 1차원 배열\n",
        "print(test_array.shape)\n",
        "\n",
        "test_array = test_array.reshape(2,2)   # -> 2차원 배열로 바꾸기 reshape(): 넘파이 배열의 크기를 바꿔주는 메서드\n",
        "print(test_array.shape)"
      ],
      "execution_count": null,
      "outputs": []
    },
    {
      "cell_type": "code",
      "metadata": {
        "id": "AO9aN4LNXr9V"
      },
      "source": [
        "train_input = train_input.reshape(-1,1)  # reshape(-1,n): 열이 n인 크기로 바꿔줌, -1은 나머지 원소개수로 모두 채우라는 의미\n",
        "test_input = test_input.reshape(-1,1)\n",
        "print(train_input.shape, test_input.shape)"
      ],
      "execution_count": null,
      "outputs": []
    },
    {
      "cell_type": "markdown",
      "metadata": {
        "id": "m4doAmgGdvQ-"
      },
      "source": [
        "####**결정계수 (R²)**\n",
        "\n",
        "대표적인 회귀 문제의 성능 측정 도구\n",
        "\n",
        "score() 메서드는 분류의 경우, 테스트세트에 있는 샘플을 정확하게 분류한 개수의 비율이지만 \n",
        "\n",
        "회귀에서는 결정계수로 계산이 된다.\n"
      ]
    },
    {
      "cell_type": "code",
      "metadata": {
        "id": "3XEHfr17eFwS"
      },
      "source": [
        "from sklearn.neighbors import KNeighborsRegressor  # KNeighborsClassifier과 매우 비슷\n",
        "\n",
        "knr = KNeighborsRegressor()\n",
        "knr.fit(train_input, train_target)  # 모델 훈련\n",
        "\n",
        "print(knr.score(test_input, test_target))\n",
        "# 회귀에서는 정확한 숫자를 맞힌다는 것은 거의 불가능 -> 타깃값이 임의의 수치이기 때문"
      ],
      "execution_count": null,
      "outputs": []
    },
    {
      "cell_type": "markdown",
      "metadata": {
        "id": "hsb_LNcnqebx"
      },
      "source": [
        "결정계수 ( **R²** ) = 1 - ((타깃 - 예측)² 의 합) / ((타깃 - 평균)² 의 합)\n",
        "\n",
        "1에 가까울수록 좋은 모델, 0에 가까울수록 그렇지 않다\n"
      ]
    },
    {
      "cell_type": "code",
      "metadata": {
        "id": "eHcOrpONDJdD"
      },
      "source": [
        "from sklearn.metrics import mean_absolute_error\n",
        "\n",
        "test_prediction = knr.predict(test_input)   # 테스트세트에 대한 예측 생성\n",
        "\n",
        "mae = mean_absolute_error(test_target, test_prediction)  # 테스트세트에 대한 '평균 절댓값 오차' 계산\n",
        "print(mae)  # 평균적으로 오차가 19g 이다"
      ],
      "execution_count": null,
      "outputs": []
    },
    {
      "cell_type": "markdown",
      "metadata": {
        "id": "HgZdAOpYEDqi"
      },
      "source": [
        "####**과대적합 vs 과소적합**\n",
        "\n",
        "\n",
        "*   *과대적합* : 테스트세트에서의 점수가 현격히 나쁜경우 --> 훈련세트에 '과대적합' 되었다\n",
        "*   *과소적합* : 훈련세트보다 테스트세트의 점수가 높거나 모두 너무 낮은 경우 --> 모델이 너무 단순해서 훈련세트에 적절히 훈련되지 않았다\n",
        "\n"
      ]
    },
    {
      "cell_type": "code",
      "metadata": {
        "id": "qj1DqkxVD626"
      },
      "source": [
        "print(knr.score(train_input, train_target))\n",
        "# 훈련세트의 평가점수가 테스트세트 점수보다 낮다 --> '과소적합'"
      ],
      "execution_count": null,
      "outputs": []
    },
    {
      "cell_type": "code",
      "metadata": {
        "id": "ZDrp2eo5Ft4E"
      },
      "source": [
        "# 해결방안: 모델을 좀 더 복잡하게 만든다 --> k-최근접 이웃 알고리즘에서 k의 개수를 조금만 줄인다\n",
        "knr.n_neighbors = 3   # 이웃의 개수를 3으로 줄인다\n",
        "\n",
        "knr.fit(train_input, train_target)\n",
        "print(knr.score(train_input, train_target))   # 훈련세트 점수"
      ],
      "execution_count": null,
      "outputs": []
    },
    {
      "cell_type": "code",
      "metadata": {
        "id": "x-YCMi3qGB_b"
      },
      "source": [
        "print(knr.score(test_input, test_target))   # 테스트세트 점수\n",
        "# 점수가 비슷해졌다 -> '과소적합' 해결!"
      ],
      "execution_count": null,
      "outputs": []
    },
    {
      "cell_type": "markdown",
      "metadata": {
        "id": "NQbs6IM8GYUK"
      },
      "source": [
        "####**회귀 문제 다루기**\n",
        "\n",
        "과소적합을 해결하려면 모델을 좀 더 복잡하게 --> k를 늘리기\n",
        "\n",
        "과대적합을 해결하려면 모델을 좀 더 단순하게 --> k를 줄이기"
      ]
    },
    {
      "cell_type": "code",
      "metadata": {
        "id": "J08_AdO9IEBc"
      },
      "source": [
        "knr = KNeighborsRegressor()\n",
        "\n",
        "x = np.arange(5,45).reshape(-1,1)\n",
        "\n",
        "for n in [1,5,10]:      # k를 바꿔가면서 훈련\n",
        "    knr.n_neighbors = n\n",
        "    knr.fit(train_input, train_target)\n",
        "\n",
        "    prediction = knr.predict(x)\n",
        "\n",
        "    plt.scatter(train_input, train_target)\n",
        "    plt.plot(x, prediction)\n",
        "    plt.title(f'n_neighbors = {n}')\n",
        "    plt.xlabel('length')\n",
        "    plt.ylabel('weight')\n",
        "    plt.show()"
      ],
      "execution_count": null,
      "outputs": []
    },
    {
      "cell_type": "markdown",
      "metadata": {
        "id": "O4CxIaNGJyLK"
      },
      "source": [
        "k가 커질수록 모델이 단순해지는 것을 알 수 있다"
      ]
    },
    {
      "cell_type": "markdown",
      "metadata": {
        "id": "Z0mNrrn3HLDx"
      },
      "source": [
        "###03-2 선형 회귀"
      ]
    },
    {
      "cell_type": "code",
      "metadata": {
        "id": "QwWSRSqTGCTW"
      },
      "source": [
        "from sklearn.neighbors import KNeighborsRegressor\n",
        "\n",
        "knr = KNeighborsRegressor(n_neighbors=3)\n",
        "\n",
        "knr.fit(train_input, train_target)\n",
        "print(knr.predict([[50]]))   # 실제 무게와 예측 무게가 차이가 난다"
      ],
      "execution_count": null,
      "outputs": []
    },
    {
      "cell_type": "code",
      "metadata": {
        "id": "pu4jzgT2LHpS"
      },
      "source": [
        "import matplotlib.pyplot as plt\n",
        "\n",
        "distances, indexes = knr.kneighbors([[50]])  # 50cm 농어의 이웃 구하기\n",
        "\n",
        "plt.scatter(train_input, train_target)\n",
        "plt.scatter(train_input[indexes], train_target[indexes], marker='D')  # 이웃 샘플만 다시 그림\n",
        "plt.scatter(50, 1033, marker='^')   # 50cm 농어 데이터\n",
        "plt.xlabel('length')\n",
        "plt.ylabel('weight')\n",
        "plt.show()"
      ],
      "execution_count": null,
      "outputs": []
    },
    {
      "cell_type": "markdown",
      "metadata": {
        "id": "SRzY-zpML1RA"
      },
      "source": [
        "삼각형의 이웃들의 평균으로 예측하는 것이므로 문제가 된다."
      ]
    },
    {
      "cell_type": "code",
      "metadata": {
        "id": "P3AIQt_sL-g_"
      },
      "source": [
        "print(np.mean(train_target[indexes]))"
      ],
      "execution_count": null,
      "outputs": []
    },
    {
      "cell_type": "code",
      "metadata": {
        "id": "Zp3WJoggMNWS"
      },
      "source": [
        "print(knr.predict([[100]]))\n",
        "# 새로운 샘플이 훈련세트의 범위를 벗어나면 엉뚱한 값으로 예측할 수도 있다"
      ],
      "execution_count": null,
      "outputs": []
    },
    {
      "cell_type": "code",
      "metadata": {
        "id": "gylup3z1MrQO"
      },
      "source": [
        "import matplotlib.pyplot as plt\n",
        "\n",
        "distances, indexes = knr.kneighbors([[100]])  # 50cm 농어의 이웃 구하기\n",
        "\n",
        "plt.scatter(train_input, train_target)\n",
        "plt.scatter(train_input[indexes], train_target[indexes], marker='D')  # 이웃 샘플만 다시 그림\n",
        "plt.scatter(100, 1033, marker='^')   # 50cm 농어 데이터\n",
        "plt.xlabel('length')\n",
        "plt.ylabel('weight')\n",
        "plt.show()"
      ],
      "execution_count": null,
      "outputs": []
    },
    {
      "cell_type": "markdown",
      "metadata": {
        "id": "wSSCXtzAM97F"
      },
      "source": [
        "####**선형 회귀**\n",
        "\n",
        "널리 사용되는 대표적인 회귀 알고리즘 , 비교적 간단하고 성능이 뛰어남"
      ]
    },
    {
      "cell_type": "code",
      "metadata": {
        "id": "kjG410L7M88R"
      },
      "source": [
        "from sklearn.linear_model import LinearRegression   # 사이킷런의 선형 회귀 알고리즘\n",
        "\n",
        "lr = LinearRegression()\n",
        "\n",
        "lr.fit(train_input, train_target)\n",
        "\n",
        "print(lr.predict([[50]]))"
      ],
      "execution_count": null,
      "outputs": []
    },
    {
      "cell_type": "code",
      "metadata": {
        "id": "op5LNBx5OZ1n"
      },
      "source": [
        "print(lr.coef_, lr.intercept_)  # coef_: 기울기, intercept_: 절편 --> '모델 파라미터'"
      ],
      "execution_count": null,
      "outputs": []
    },
    {
      "cell_type": "markdown",
      "metadata": {
        "id": "xOC37-GUOvlX"
      },
      "source": [
        "\n",
        "\n",
        "*   **모델 기반 학습** : 모델 파라미터를 찾기 위해 훈련하는 것\n",
        "*   **사례 기반 학습** : 훈련 세트를 저장하는 것이 훈련의 전부인 것\n",
        "\n"
      ]
    },
    {
      "cell_type": "code",
      "metadata": {
        "id": "RRZNl4w2Od6g"
      },
      "source": [
        "plt.scatter(train_input, train_target)\n",
        "\n",
        "# plt.plot([x1,x2],[y1,y2]) -> (x1,y1)와 (x2,y2)를 방정식 그래프를 그림\n",
        "plt.plot([15,50], [15*lr.coef_ + lr.intercept_, 50*lr.coef_ + lr.intercept_])\n",
        "\n",
        "plt.scatter(50, 1241.8, marker='^')  # 50cm 농어 데이터\n",
        "plt.xlabel('length')\n",
        "plt.ylabel('weight')\n",
        "plt.show()"
      ],
      "execution_count": null,
      "outputs": []
    },
    {
      "cell_type": "code",
      "metadata": {
        "id": "BcGj0hrpQNN7"
      },
      "source": [
        "print(lr.score(train_input, train_target))   # 훈련세트\n",
        "print(lr.score(test_input, test_target))     # 테스트세트\n",
        "\n",
        "# 점수가 별로임  (모델이 단순함?)"
      ],
      "execution_count": null,
      "outputs": []
    },
    {
      "cell_type": "markdown",
      "metadata": {
        "id": "5ev6THvJQlfl"
      },
      "source": [
        "####**다항 회귀**\n",
        "\n",
        "\n",
        "\n",
        "*   단항식을 사용한 선형 회귀 : 최적의 직선을 찾는 것 --> ax + b\n",
        "*   다항식을 사용한 선형 회귀 : 최적의 곡선을 찾는 것 --> ax² + bx + c"
      ]
    },
    {
      "cell_type": "code",
      "metadata": {
        "id": "xRwydApfQd2N"
      },
      "source": [
        "# 농어의 길이를 제곱해서 원래 데이터 앞에 붙이기\n",
        "train_poly = np.column_stack((train_input ** 2, train_input))\n",
        "test_poly = np.column_stack((test_input ** 2, test_input))\n",
        "# train_input ** 2 에도 넘파이 브로드캐스팅 적용\n",
        "\n",
        "print(train_poly.shape, test_poly.shape)"
      ],
      "execution_count": null,
      "outputs": []
    },
    {
      "cell_type": "code",
      "metadata": {
        "id": "lJ1zFh8tRXGW"
      },
      "source": [
        "lr = LinearRegression()\n",
        "lr.fit(train_poly, train_target)   # target값은 변형없이 그대로 사용\n",
        "\n",
        "print(lr.predict([[50**2, 50]]))   # 농어 길이의 제곱과 원래 길이를 함께 넣어 주어야 함"
      ],
      "execution_count": null,
      "outputs": []
    },
    {
      "cell_type": "code",
      "metadata": {
        "id": "3RVZBbZrUQGY"
      },
      "source": [
        "print(lr.coef_, lr.intercept_)"
      ],
      "execution_count": null,
      "outputs": []
    },
    {
      "cell_type": "code",
      "metadata": {
        "id": "ppECjS4IU0xD"
      },
      "source": [
        "point = np.arange(15,50)\n",
        "plt.scatter(train_input, train_target)\n",
        "\n",
        "plt.plot(point, 1.01*point**2 - 21.6*point + 116.05)   # 15에서 49까지의 2차 방정식 그래프를 그림\n",
        "\n",
        "plt.scatter(50,1574,marker='^')  # 50cm 농어 데이터\n",
        "plt.xlabel('length')\n",
        "plt.ylabel('weight')\n",
        "plt.show()"
      ],
      "execution_count": null,
      "outputs": []
    },
    {
      "cell_type": "code",
      "metadata": {
        "id": "F_4Ypu5tWbkH"
      },
      "source": [
        "print(lr.score(train_poly, train_target))\n",
        "print(lr.score(test_poly, test_target))\n",
        "# 점수가 크게 높아졌다"
      ],
      "execution_count": null,
      "outputs": []
    },
    {
      "cell_type": "markdown",
      "metadata": {
        "id": "J_sxg0jhTpL6"
      },
      "source": [
        "###03-3 특성 공학과 규제"
      ]
    },
    {
      "cell_type": "markdown",
      "metadata": {
        "id": "Ge1FAzrnldc3"
      },
      "source": [
        "####**다중 회귀**\n",
        " \n",
        "여러 개의 특성을 사용한 선형 회귀\n",
        "\n",
        "\n",
        "*   *특성 공학* : 기존의 특성을 사용해 새로운 특성을 뽑애내는 작업\n",
        "\n",
        "예를 들어, '농어 길이 X 농어 높이' 라는 새로운 특성 생성\n",
        "\n"
      ]
    },
    {
      "cell_type": "markdown",
      "metadata": {
        "id": "Jg5h4Lo0mQMm"
      },
      "source": [
        "####데이터 준비\n",
        "\n",
        "**판다스 (pandas)** : \n",
        "\n",
        "유명한 데이터 분석 라이브러리 , '*데이터프레임* ' 은 판다스의 핵심 데이터 구조이다\n",
        "- CSV 파일 : 콤마 ( , ) 로 나누어진 텍스트 파일 , 판다스 데이터프레임을 만들기 위해 많이 사용하는 파일\n",
        "\n",
        " 판다스의 ' read_csv( ) ' 함수에 주소를 넣어 주면 판다스에서 이 주소의 파일을 읽어준다"
      ]
    },
    {
      "cell_type": "code",
      "metadata": {
        "id": "xRc-qjOJnxwd"
      },
      "source": [
        "import pandas as pd\n",
        "\n",
        "df = pd.read_csv('https://bit.ly/perch_csv_data')  # 데이터프레임을 만든 후\n",
        "perch_full = df.to_numpy()                         # 넘파이 배열로 바꿔준다\n",
        "print(perch_full)"
      ],
      "execution_count": null,
      "outputs": []
    },
    {
      "cell_type": "code",
      "metadata": {
        "id": "o4QRx442sMSR"
      },
      "source": [
        "from sklearn.model_selection import train_test_split\n",
        "\n",
        "# 새로운 특성 perch_full로 훈련세트와 테스트세트 나누기\n",
        "train_input, test_input, train_target, test_target = train_test_split(perch_full, perch_weight, random_state=42)"
      ],
      "execution_count": null,
      "outputs": []
    },
    {
      "cell_type": "markdown",
      "metadata": {
        "id": "wUJVxA8MoqyW"
      },
      "source": [
        "####사이킷런의 변환기\n",
        "\n",
        "변환기 : 특성을 만들거나 전처리하기 위한 다양한 클래스 , 모두 fit( ), transform( ) 메서드를 제공"
      ]
    },
    {
      "cell_type": "code",
      "metadata": {
        "id": "sO_3YNX3op-0"
      },
      "source": [
        "from sklearn.preprocessing import PolynomialFeatures\n",
        "\n",
        "poly = PolynomialFeatures()\n",
        "poly.fit([[2,3]])               # 2개의 특성 2와 3으로 이루어진 샘플 하나를 적용\n",
        "print(poly.transform([[2,3]]))\n",
        "# 절편은 값이 1인 특성과 곱해지는 계수로 보기 때문에 자동으로 1이 추가된다"
      ],
      "execution_count": null,
      "outputs": []
    },
    {
      "cell_type": "code",
      "metadata": {
        "id": "rIYnXyQFqzbl"
      },
      "source": [
        "poly = PolynomialFeatures(include_bias=False)   # include_bias=False: 절편을 위한 항을 제거\n",
        "poly.fit([[2,3]])\n",
        "print(poly.transform([[2,3]]))"
      ],
      "execution_count": null,
      "outputs": []
    },
    {
      "cell_type": "code",
      "metadata": {
        "id": "R3TwA_sUrTKk"
      },
      "source": [
        "# 위 방식을 train_input에 적용\n",
        "poly = PolynomialFeatures(include_bias=False)\n",
        "poly.fit(train_input)\n",
        "train_poly = poly.transform(train_input)\n",
        "print(train_poly.shape)"
      ],
      "execution_count": null,
      "outputs": []
    },
    {
      "cell_type": "code",
      "metadata": {
        "id": "8UOwi_nGrzli"
      },
      "source": [
        "poly.get_feature_names()  # 9개의 특성이 각각 어떤 입력의 조합으로 만들어졌는지 알려줌"
      ],
      "execution_count": null,
      "outputs": []
    },
    {
      "cell_type": "code",
      "metadata": {
        "id": "7hYdqyZtsrGv"
      },
      "source": [
        "test_poly = poly.transform(test_input)   # 훈련세트로 학습한 변환기로 테스트세트까지 변환해주어야 함!"
      ],
      "execution_count": null,
      "outputs": []
    },
    {
      "cell_type": "markdown",
      "metadata": {
        "id": "YfVxIawYs8d4"
      },
      "source": [
        "####다중 회귀 모델 훈련하기"
      ]
    },
    {
      "cell_type": "code",
      "metadata": {
        "id": "-ymuOTlss74P"
      },
      "source": [
        "from sklearn.linear_model import LinearRegression\n",
        "\n",
        "lr = LinearRegression()\n",
        "lr.fit(train_poly, train_target)\n",
        "print(lr.score(train_poly, train_target))\n",
        "# 특성이 늘어나면 선형 회귀의 능력은 매우 강해진다!"
      ],
      "execution_count": null,
      "outputs": []
    },
    {
      "cell_type": "code",
      "metadata": {
        "id": "eRGTlTystyG-"
      },
      "source": [
        "print(lr.score(test_poly, test_target))"
      ],
      "execution_count": null,
      "outputs": []
    },
    {
      "cell_type": "code",
      "metadata": {
        "id": "vIxSzHlHt5tg"
      },
      "source": [
        "poly = PolynomialFeatures(degree=5, include_bias=False)   # degree=n : 최고차항의 최대차수를 n으로 지정\n",
        "poly.fit(train_input)\n",
        "train_poly = poly.transform(train_input)\n",
        "test_poly = poly.transform(test_input)\n",
        "print(train_poly.shape)"
      ],
      "execution_count": null,
      "outputs": []
    },
    {
      "cell_type": "code",
      "metadata": {
        "id": "KYr34dxjuWsy"
      },
      "source": [
        "lr.fit(train_poly, train_target)\n",
        "print(lr.score(train_poly, train_target))"
      ],
      "execution_count": null,
      "outputs": []
    },
    {
      "cell_type": "code",
      "metadata": {
        "id": "ky5jmA4Zuf0B"
      },
      "source": [
        "print(lr.score(test_poly, test_target))\n",
        "# 특성의 개수를 늘려서 모델을 강력하게 만들었기 때문에 훈련세트에 너무 과대적합되었다!"
      ],
      "execution_count": null,
      "outputs": []
    },
    {
      "cell_type": "markdown",
      "metadata": {
        "id": "uAhiIq7JuwQC"
      },
      "source": [
        "####규제\n",
        "모델이 훈련세트에 과대적합되지 않도록 만드는 것 --> 선형 회귀 모델의 경우, 계수의 크기를 줄이는 일이다"
      ]
    },
    {
      "cell_type": "code",
      "metadata": {
        "id": "X-aZRSdyvA7_"
      },
      "source": [
        "# 선형회귀모델에 규제를 할 때 계수 값의 크기를 맞추어 주기 위해 정규화를 해야 함\n",
        "from sklearn.preprocessing import StandardScaler  # 정규화 해주는 클래스\n",
        "\n",
        "ss = StandardScaler()   \n",
        "ss.fit(train_poly)\n",
        "train_scaled = ss.transform(train_poly)\n",
        "test_scaled = ss.transform(test_poly)"
      ],
      "execution_count": null,
      "outputs": []
    },
    {
      "cell_type": "markdown",
      "metadata": {
        "id": "1PhxhQfqyf0Y"
      },
      "source": [
        "선형 회귀 모델에 규제를 추가한 모델 :\n",
        "\n",
        "*   **릿지 회귀** : 계수를 제곱한 값을 기준으로 규제를 적용함\n",
        "*   **라쏘 회귀** : 계수의 절댓값을 기준으로 규제를 적용함\n",
        "\n",
        " 사이킷런에서 이 두 알고리즘을 모두 제공한다\n",
        "\n",
        "일반적으로 릿지를 조금 더 선호한다.  라쏘는 계수를 크기를 줄일 때 0으로 만들 수 있다\n"
      ]
    },
    {
      "cell_type": "markdown",
      "metadata": {
        "id": "bducJVVry5eS"
      },
      "source": [
        "####**릿지 회귀**\n",
        "\n"
      ]
    },
    {
      "cell_type": "code",
      "metadata": {
        "id": "3YmbT5N80_6B"
      },
      "source": [
        "from sklearn.linear_model import Ridge\n",
        "ridge = Ridge()\n",
        "ridge.fit(train_scaled, train_target)\n",
        "print(ridge.score(train_scaled, train_target))"
      ],
      "execution_count": null,
      "outputs": []
    },
    {
      "cell_type": "code",
      "metadata": {
        "id": "sZz4oKFj1O9J"
      },
      "source": [
        "print(ridge.score(test_scaled, test_target))"
      ],
      "execution_count": null,
      "outputs": []
    },
    {
      "cell_type": "markdown",
      "metadata": {
        "id": "o25jFHOY2PbD"
      },
      "source": [
        "릿지, 라쏘 모델을 사용할 때 규제의 양을 임의로 조절 가능 --> alpha 매개변수로\n",
        "\n",
        "**하이퍼파라미터** : 머신러닝 모델이 학습할 수 없고 사람이 알려줘야 하는 파라미터"
      ]
    },
    {
      "cell_type": "code",
      "metadata": {
        "id": "pmv_Zrc_2YZk"
      },
      "source": [
        "# 릿지모델의 적절한 alpha값을 찾기 --> 훈련세트와 테스트세트의 점수가 가장 가까운 지점이 최적의 alpha값이다\n",
        "import matplotlib.pyplot as plt\n",
        "\n",
        "train_score = []\n",
        "test_score = []\n",
        "alpha_list = [0.001, 0.01, 0.1, 1, 10, 100]\n",
        "\n",
        "for alpha in alpha_list:\n",
        "    ridge = Ridge(alpha=alpha)\n",
        "    ridge.fit(train_scaled, train_target)\n",
        "    train_score.append(ridge.score(train_scaled, train_target))  # 훈련세트 점수 저장\n",
        "    test_score.append(ridge.score(test_scaled, test_target))     # 테스트세트 점수 저장"
      ],
      "execution_count": null,
      "outputs": []
    },
    {
      "cell_type": "code",
      "metadata": {
        "id": "wqzuvuwY3VzW"
      },
      "source": [
        "plt.plot(np.log10(alpha_list), train_score)  # 보기 좋게 스케일링\n",
        "plt.plot(np.log10(alpha_list), test_score)\n",
        "plt.xlabel('alpha')\n",
        "plt.ylabel('R^2')\n",
        "plt.show()      # 파란색이 훈련세트, 주황색이 테스트세트"
      ],
      "execution_count": null,
      "outputs": []
    },
    {
      "cell_type": "markdown",
      "metadata": {
        "id": "WqPJ44F23v_q"
      },
      "source": [
        "왼쪽으로 갈수록 과대적합, 오른쪽으로 갈수록 과소적합\n",
        "\n",
        "최적의 alpha값 : 0.1 임을 알 수 있다"
      ]
    },
    {
      "cell_type": "code",
      "metadata": {
        "id": "AW1qC81c35Sx"
      },
      "source": [
        "ridge = Ridge(alpha=0.1)    # 최적의 하이퍼파라미터값\n",
        "ridge.fit(train_scaled, train_target)\n",
        "print(ridge.score(train_scaled, train_target))\n",
        "print(ridge.score(test_scaled, test_target))"
      ],
      "execution_count": null,
      "outputs": []
    },
    {
      "cell_type": "markdown",
      "metadata": {
        "id": "NUTdlSO76ZNN"
      },
      "source": [
        "####**라쏘 회귀**\n",
        "릿지와 매우 비슷\n"
      ]
    },
    {
      "cell_type": "code",
      "metadata": {
        "id": "ZtUFpgli6l9a"
      },
      "source": [
        "from sklearn.linear_model import Lasso\n",
        "\n",
        "lasso = Lasso()\n",
        "lasso.fit(train_scaled, train_target)\n",
        "print(lasso.score(train_scaled, train_target))"
      ],
      "execution_count": null,
      "outputs": []
    },
    {
      "cell_type": "code",
      "metadata": {
        "id": "H2-qEf7X7o6H"
      },
      "source": [
        "print(lasso.score(test_scaled, test_target))"
      ],
      "execution_count": null,
      "outputs": []
    },
    {
      "cell_type": "code",
      "metadata": {
        "id": "hH7kS5TN7vHG"
      },
      "source": [
        "train_score = []\n",
        "test_score = []\n",
        "alpha_list = [0.001, 0.01, 0.1, 1, 10, 100]\n",
        "\n",
        "for alpha in alpha_list:\n",
        "    lasso = Lasso(alpha=alpha, max_iter=10000)    # 최적의 계수를 찾기 위해 반복적인 계산을 수행, max_iter= : 최대 반복 횟수\n",
        "    lasso.fit(train_scaled, train_target)\n",
        "    train_score.append(lasso.score(train_scaled, train_target))\n",
        "    test_score.append(lasso.score(test_scaled, test_target))"
      ],
      "execution_count": null,
      "outputs": []
    },
    {
      "cell_type": "code",
      "metadata": {
        "id": "OBj04O_3Itpe"
      },
      "source": [
        "plt.plot(np.log10(alpha_list), train_score)\n",
        "plt.plot(np.log10(alpha_list), test_score)\n",
        "plt.xlabel('alpha')\n",
        "plt.ylabel('R^2')\n",
        "plt.show()      # 파란색이 훈련세트, 주황색이 테스트세트"
      ],
      "execution_count": null,
      "outputs": []
    },
    {
      "cell_type": "markdown",
      "metadata": {
        "id": "3y_VRrVLJIxC"
      },
      "source": [
        "왼쪽으로 갈수록 과대적합, 오른쪽으로 갈수록 과소적합\n",
        "\n",
        "최적의 alpha값 : 10 임을 알 수 있다"
      ]
    },
    {
      "cell_type": "code",
      "metadata": {
        "id": "LVmS5O18JKow"
      },
      "source": [
        "lasso = Lasso(alpha=10)\n",
        "lasso.fit(train_scaled, train_target)\n",
        "print(lasso.score(train_scaled, train_target))\n",
        "print(lasso.score(test_scaled, test_target))"
      ],
      "execution_count": null,
      "outputs": []
    },
    {
      "cell_type": "code",
      "metadata": {
        "id": "Ch5WofkKJyB1"
      },
      "source": [
        "# 라쏘 회귀는 릿지와 달리 계수 값을 아예 0으로 만들 수도 있다\n",
        "\n",
        "print(np.sum(lasso.coef_ == 0))   # 라쏘 모델의 계수가 0인 것을 헤아려줌"
      ],
      "execution_count": null,
      "outputs": []
    }
  ]
}