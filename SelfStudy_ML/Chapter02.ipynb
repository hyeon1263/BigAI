{
  "nbformat": 4,
  "nbformat_minor": 0,
  "metadata": {
    "colab": {
      "name": "Chapter02",
      "private_outputs": true,
      "provenance": [],
      "collapsed_sections": []
    },
    "kernelspec": {
      "name": "python3",
      "display_name": "Python 3"
    },
    "language_info": {
      "name": "python"
    }
  },
  "cells": [
    {
      "cell_type": "markdown",
      "metadata": {
        "id": "jyl6LggIJT1G"
      },
      "source": [
        "#Chapter02. 데이터 다루기"
      ]
    },
    {
      "cell_type": "markdown",
      "metadata": {
        "id": "ZUffEbSfgTfI"
      },
      "source": [
        "##02-1 훈련세트와 테스트세트"
      ]
    },
    {
      "cell_type": "markdown",
      "metadata": {
        "id": "T8pIeCjNJYJT"
      },
      "source": [
        "\n",
        "\n",
        "*   **지도 학습** \n",
        "\n",
        " 훈련데이터 = 입력 (데이터, 여러 특성들) + 타깃 (정답) 으로 이루어짐\n",
        " \n",
        " 타깃(정답)이 있으므로 알고리즘이 정답을 맞히는 것을 학습\n",
        "\n",
        "*   **비지도 학습**\n",
        "\n",
        " 타깃(정답)이 없으므로 무언가를 맞힐 수 없음\n",
        "\n",
        " 대신 데이터를 잘 파악하거나 변형하는 데 도움을 줌\n"
      ]
    },
    {
      "cell_type": "markdown",
      "metadata": {
        "id": "DuCnulhIXRGH"
      },
      "source": [
        "- **훈련 세트**\n",
        " \n",
        " 훈련에 사용되는 데이터\n",
        "\n",
        "- **테스트 세트**\n",
        "\n",
        " 평가에 사용되는 데이터\n",
        "\n",
        "알고리즘의 성능을 제대로 평가하려면 훈련 데이터와 평가에 사용할 데이터가 달라야한다."
      ]
    },
    {
      "cell_type": "code",
      "metadata": {
        "id": "7sHvlvMTIjaN"
      },
      "source": [
        "fish_length = [25.4, 26.3, 26.5, 29.0, 29.0, 29.7, 29.7, 30.0, 30.0, 30.7, 31.0, 31.0, \n",
        "                31.5, 32.0, 32.0, 32.0, 33.0, 33.0, 33.5, 33.5, 34.0, 34.0, 34.5, 35.0, \n",
        "                35.0, 35.0, 35.0, 36.0, 36.0, 37.0, 38.5, 38.5, 39.5, 41.0, 41.0, 9.8, \n",
        "                10.5, 10.6, 11.0, 11.2, 11.3, 11.8, 11.8, 12.0, 12.2, 12.4, 13.0, 14.3, 15.0]\n",
        "fish_weight = [242.0, 290.0, 340.0, 363.0, 430.0, 450.0, 500.0, 390.0, 450.0, 500.0, 475.0, 500.0, \n",
        "                500.0, 340.0, 600.0, 600.0, 700.0, 700.0, 610.0, 650.0, 575.0, 685.0, 620.0, 680.0, \n",
        "                700.0, 725.0, 720.0, 714.0, 850.0, 1000.0, 920.0, 955.0, 925.0, 975.0, 950.0, 6.7, \n",
        "                7.5, 7.0, 9.7, 9.8, 8.7, 10.0, 9.9, 9.8, 12.2, 13.4, 12.2, 19.7, 19.9]\n",
        "\n",
        "fish_data = [[l,w] for l, w in zip(fish_length, fish_weight)]\n",
        "fish_target = [1]*35 + [0]*14  # 하나의 생선데이터를 '샘플'이라고 함"
      ],
      "execution_count": null,
      "outputs": []
    },
    {
      "cell_type": "code",
      "metadata": {
        "id": "r47l_qAwW10N"
      },
      "source": [
        "from sklearn.neighbors import KNeighborsClassifier\n",
        "kn = KNeighborsClassifier()\n",
        "\n",
        "train_input = fish_data[:35]\n",
        "train_target = fish_target[:35]\n",
        "test_input = fish_data[35:]\n",
        "test_target = fish_target[35:]\n",
        "\n",
        "kn = kn.fit(train_input, train_target)  # 훈련세트로 모델 훈련\n",
        "kn.score(test_input, test_target)       # 테스트세트로 모델 평가\n",
        "\n",
        "# 훈련세트에 도미만 있으므로 --> '샘플링 편향' 이다!"
      ],
      "execution_count": null,
      "outputs": []
    },
    {
      "cell_type": "markdown",
      "metadata": {
        "id": "B47Wp6nwaMpz"
      },
      "source": [
        "###넘파이\n",
        "파이썬 대표적인 배열 라이브러리"
      ]
    },
    {
      "cell_type": "code",
      "metadata": {
        "id": "v1tktCkvY4Yp"
      },
      "source": [
        "import numpy as np\n",
        "\n",
        "input_arr = np.array(fish_data)\n",
        "target_arr = np.array(fish_target)  # 파이썬 리스트를 넘파이 배열로 바꿈\n",
        "print(input_arr)\n",
        "print(input_arr.shape)       # A.shape: 배열의 모양 반환"
      ],
      "execution_count": null,
      "outputs": []
    },
    {
      "cell_type": "code",
      "metadata": {
        "id": "KBSazlNvcCZq"
      },
      "source": [
        "np.random.seed(42)          # 랜덤시드\n",
        "index = np.arange(49)       # 일정한 간격의 정수 또는 실수 배열을 만듦\n",
        "np.random.shuffle(index)    # 주어진 배열을 무작위로 섞음\n",
        "print(index)\n",
        "\n",
        "print(input_arr[[1,3]])  # 배열 인덱싱 (여러 개의 인덱스로 선택 가능)"
      ],
      "execution_count": null,
      "outputs": []
    },
    {
      "cell_type": "code",
      "metadata": {
        "id": "YHR9e_1udLAy"
      },
      "source": [
        "# 훈련 세트\n",
        "train_input = input_arr[index[:35]]\n",
        "train_target = target_arr[index[:35]]\n",
        "\n",
        "# 테스트 세트\n",
        "test_input = input_arr[index[35:]]\n",
        "test_target = target_arr[index[35:]]"
      ],
      "execution_count": null,
      "outputs": []
    },
    {
      "cell_type": "code",
      "metadata": {
        "id": "4kxbIiB6d3YD"
      },
      "source": [
        "import matplotlib.pyplot as plt\n",
        "plt.scatter(train_input[:,0], train_input[:,1])\n",
        "plt.scatter(test_input[:,0], test_input[:,1])\n",
        "plt.xlabel('length')\n",
        "plt.ylabel('weight')\n",
        "plt.show()"
      ],
      "execution_count": null,
      "outputs": []
    },
    {
      "cell_type": "code",
      "metadata": {
        "id": "Y616-sc_eOD7"
      },
      "source": [
        "kn = kn.fit(train_input, train_target)\n",
        "print(kn.score(test_input, test_target))\n",
        "\n",
        "kn.predict(test_input), test_target\n",
        "# predict()메서드 반환값은 파이썬 리스트가 아니라 넘파이 배열이다!"
      ],
      "execution_count": null,
      "outputs": []
    },
    {
      "cell_type": "markdown",
      "metadata": {
        "id": "0fXounEdgcNo"
      },
      "source": [
        "##02-2 데이터 전처리"
      ]
    },
    {
      "cell_type": "code",
      "metadata": {
        "id": "kFJ_gwGSkoNm"
      },
      "source": [
        "import numpy as np\n",
        "np.column_stack(([1,2,3], [4,5,6]))   # column_stack(): 리스트를 나란히 연결"
      ],
      "execution_count": null,
      "outputs": []
    },
    {
      "cell_type": "code",
      "metadata": {
        "id": "3zNnrEEPmWLf"
      },
      "source": [
        "fish_data = np.column_stack((fish_length, fish_weight))\n",
        "print(fish_data[:5])\n",
        "\n",
        "# np.zeros(n): 0을 채운 배열을 만들어줌 (길이는 n)\n",
        "# np.ones(n): 1을 채운 배열을 만들어줌 (길이는 n)\n",
        "print(np.ones(5))"
      ],
      "execution_count": null,
      "outputs": []
    },
    {
      "cell_type": "code",
      "metadata": {
        "id": "zEK-1aZCnYwC"
      },
      "source": [
        "# np.concatenate(): 배열을 나란히 연결하는 함수\n",
        "fish_target = np.concatenate((np.ones(35), np.zeros(14)))\n",
        "print(fish_target)"
      ],
      "execution_count": null,
      "outputs": []
    },
    {
      "cell_type": "markdown",
      "metadata": {
        "id": "wWUKAr3AoW1O"
      },
      "source": [
        "데이터가 클수록 파이썬 리스트는 비효율적이므로 넘파이 배열을 사용하는 게 좋다."
      ]
    },
    {
      "cell_type": "code",
      "metadata": {
        "id": "x9Fekwi1odIG"
      },
      "source": [
        "from sklearn.model_selection import train_test_split\n",
        "# train_test_split(): 훈련세트와 테스트세트를 나누어주는 함수 (기본적으로 25%가 테스트세트)\n",
        "train_input, test_input, train_target, test_target = train_test_split(fish_data, fish_target, random_state=42)\n",
        "print(train_input.shape, test_input.shape)\n",
        "print(test_target)  # 도미와 빙어의 비율이 적젏지 않다 -> 샘플링 편향"
      ],
      "execution_count": null,
      "outputs": []
    },
    {
      "cell_type": "code",
      "metadata": {
        "id": "CHHLsVekrAec"
      },
      "source": [
        "# stratify 매개변수에 타깃데이터를 전달하면 클래스 비율에 맞게 데이터를 나눠준다\n",
        "train_input, test_input, train_target, test_target = train_test_split(fish_data, fish_target, stratify = fish_target, random_state=42)\n",
        "print(test_target)"
      ],
      "execution_count": null,
      "outputs": []
    },
    {
      "cell_type": "code",
      "metadata": {
        "id": "oCqO92XfrwJW"
      },
      "source": [
        "# k-최근접 이웃으로 훈련 : 사실상 훈련 데이터를 저장하는 것이 훈련의 전부\n",
        "from sklearn.neighbors import KNeighborsClassifier\n",
        "kn = KNeighborsClassifier()\n",
        "kn.fit(train_input, train_target)\n",
        "print(kn.score(test_input, test_target))\n",
        "print(kn.predict(([[25,150]])))  # 25, 150 -> 도미인데 빙어로 분류"
      ],
      "execution_count": null,
      "outputs": []
    },
    {
      "cell_type": "code",
      "metadata": {
        "id": "KwZ_HxERsS5H"
      },
      "source": [
        "import matplotlib.pyplot as plt\n",
        "plt.scatter(train_input[:,0], train_input[:,1])\n",
        "plt.scatter(25, 150, marker='^')   # '^': 삼각형\n",
        "plt.xlabel('length')\n",
        "plt.ylabel('weight')\n",
        "plt.show()"
      ],
      "execution_count": null,
      "outputs": []
    },
    {
      "cell_type": "code",
      "metadata": {
        "id": "8cD19PLRuA3i"
      },
      "source": [
        "distances, indexes = kn.kneighbors([[25,150]])\n",
        "# distances: 가장 가까운 이웃까지의 거리\n",
        "# indexes: 가장 가까운 이웃의 indexes   (기본값 5개에 대해서)\n",
        "\n",
        "plt.scatter(train_input[:,0], train_input[:,1])\n",
        "plt.scatter(25, 150, marker='^')\n",
        "plt.scatter(train_input[indexes,0], train_input[indexes,1], marker='D')  # marker='D': 마름모 모양\n",
        "plt.xlabel('length')\n",
        "plt.ylabel('weight')\n",
        "plt.show()\n",
        "print(train_input[indexes])\n",
        "print(train_target[indexes])\n",
        "print(distances)"
      ],
      "execution_count": null,
      "outputs": []
    },
    {
      "cell_type": "code",
      "metadata": {
        "id": "2V6xpAbLveUD"
      },
      "source": [
        "plt.scatter(train_input[:,0], train_input[:,1])\n",
        "plt.scatter(25, 150, marker='^')\n",
        "plt.scatter(train_input[indexes,0], train_input[indexes,1], marker='D')\n",
        "plt.xlim((0,1000))   # xlim(0,1000): x축 범위와 y축 범위를 0~1000으로 동일하게 맞춘다. - 두 특성의 스케일이 다르므로\n",
        "plt.xlabel('length')\n",
        "plt.ylabel('weight')\n",
        "plt.show()"
      ],
      "execution_count": null,
      "outputs": []
    },
    {
      "cell_type": "code",
      "metadata": {
        "id": "7H941bkx-AR7"
      },
      "source": [
        "mean = np.mean(train_input, axis=0)  # np.mean(): 평균, np.std(): 표준편차 계산\n",
        "std = np.std(train_input, axis=0)    # axis=0 : 열, axis=1 : 행\n",
        "print(mean, std)"
      ],
      "execution_count": null,
      "outputs": []
    },
    {
      "cell_type": "code",
      "metadata": {
        "id": "8uZG0gG1Ek55"
      },
      "source": [
        "train_scaled = (train_input - mean) / std   # 특성을 표준점수로 변환 (특성 스케일링)\n",
        "\n",
        "plt.scatter(train_scaled[:,0], train_scaled[:,1])  \n",
        "plt.scatter(25, 150, marker='^')    # 샘플 [25,150] 또한 스케일링을 해주어야 한다\n",
        "plt.xlabel('length')\n",
        "plt.ylabel('weight')\n",
        "plt.show()"
      ],
      "execution_count": null,
      "outputs": []
    },
    {
      "cell_type": "code",
      "metadata": {
        "id": "DGCz8fxiFGHK"
      },
      "source": [
        "new = ([25,150] - mean) / std\n",
        "plt.scatter(train_scaled[:,0], train_scaled[:,1])\n",
        "plt.scatter(new[0], new[1], marker='^')\n",
        "plt.xlabel('length')\n",
        "plt.ylabel('weight')\n",
        "plt.show()"
      ],
      "execution_count": null,
      "outputs": []
    },
    {
      "cell_type": "code",
      "metadata": {
        "id": "sJWyPFVKFf1D"
      },
      "source": [
        "kn.fit(train_scaled, train_target)\n",
        "\n",
        "test_scaled = (test_input - mean) / std   # 훈련세트를 스케일링했으므로 테스트세트도 해주어야 한다.\n",
        "kn.score(test_scaled, test_target)\n",
        "print(kn.predict([new]))    # 특성 스케일을 하니 예측값이 정확하다!"
      ],
      "execution_count": null,
      "outputs": []
    },
    {
      "cell_type": "code",
      "metadata": {
        "id": "zDowbQXnGGQU"
      },
      "source": [
        "distances, indexes = kn.kneighbors([new])\n",
        "plt.scatter(train_scaled[:,0], train_scaled[:,1])\n",
        "plt.scatter(new[0], new[1], marker='^')\n",
        "plt.scatter(train_scaled[indexes,0], train_scaled[indexes,1], marker='D')\n",
        "plt.xlabel('length')\n",
        "plt.ylabel('weight')\n",
        "plt.show()"
      ],
      "execution_count": null,
      "outputs": []
    }
  ]
}