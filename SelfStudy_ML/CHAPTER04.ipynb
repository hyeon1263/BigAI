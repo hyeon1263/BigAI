{
  "nbformat": 4,
  "nbformat_minor": 0,
  "metadata": {
    "colab": {
      "name": "CHAPTER04",
      "private_outputs": true,
      "provenance": [],
      "collapsed_sections": []
    },
    "kernelspec": {
      "name": "python3",
      "display_name": "Python 3"
    },
    "language_info": {
      "name": "python"
    }
  },
  "cells": [
    {
      "cell_type": "markdown",
      "metadata": {
        "id": "iI9CVV6RSJ1o"
      },
      "source": [
        "# CHAPTER 04 다양한 분류 알고리즘"
      ]
    },
    {
      "cell_type": "markdown",
      "metadata": {
        "id": "qvkclHWCScUU"
      },
      "source": [
        "## 04-1 로지스틱 회귀\n",
        "\n"
      ]
    },
    {
      "cell_type": "code",
      "metadata": {
        "id": "EAtM6qM7R9dY"
      },
      "source": [
        "import pandas as pd\n",
        "\n",
        "fish = pd.read_csv('https://bit.ly/fish_csv_data')\n",
        "fish.head()  # head() : 처음 n개 행을 출력 (default: n=5)"
      ],
      "execution_count": null,
      "outputs": []
    },
    {
      "cell_type": "code",
      "metadata": {
        "id": "0iOyR-FIVx2Q"
      },
      "source": [
        "print(pd.unique(fish['Species']))  # unique('Feature') : 'Feature'열에서 고유한 값을 추출\n",
        "# 타깃 값들"
      ],
      "execution_count": null,
      "outputs": []
    },
    {
      "cell_type": "code",
      "metadata": {
        "id": "eET8AIHiWXc8"
      },
      "source": [
        "fish_input = fish[['Weight', 'Length', 'Diagonal', 'Height', 'Width']].to_numpy()  # 5개 열을 입력데이터로 사용\n",
        "print(fish_input[:5])\n",
        "\n",
        "fish_target = fish['Species'].to_numpy()  # 타깃 데이터 설정"
      ],
      "execution_count": null,
      "outputs": []
    },
    {
      "cell_type": "code",
      "metadata": {
        "id": "j_vIjQ_TXXUL"
      },
      "source": [
        "# 훈련세트와 테스트세트로 나누어줌\n",
        "from sklearn.model_selection import train_test_split\n",
        "\n",
        "train_input, test_input, train_target, test_target = train_test_split(fish_input, fish_target, random_state=42)"
      ],
      "execution_count": null,
      "outputs": []
    },
    {
      "cell_type": "code",
      "metadata": {
        "id": "rVFw5bg0du-1"
      },
      "source": [
        "# 데이터 표준화\n",
        "from sklearn.preprocessing import StandardScaler\n",
        "\n",
        "ss = StandardScaler()\n",
        "ss.fit(train_input)\n",
        "train_scaled = ss.transform(train_input)\n",
        "test_scaled = ss.transform(test_input)"
      ],
      "execution_count": null,
      "outputs": []
    },
    {
      "cell_type": "code",
      "metadata": {
        "id": "vqKTcU7AeZgC"
      },
      "source": [
        "# k-최근접 이웃 분류기\n",
        "from sklearn.neighbors import KNeighborsClassifier\n",
        "\n",
        "kn = KNeighborsClassifier(n_neighbors=3)\n",
        "kn.fit(train_scaled, train_target)\n",
        "print(kn.score(train_scaled, train_target))\n",
        "print(kn.score(test_scaled, test_target))"
      ],
      "execution_count": null,
      "outputs": []
    },
    {
      "cell_type": "markdown",
      "metadata": {
        "id": "4m6aqfBPffYO"
      },
      "source": [
        "**다중 분류** : 타깃 데이터에 2개 이상의 클래스가 포함된 문제"
      ]
    },
    {
      "cell_type": "code",
      "metadata": {
        "id": "EnWlMKYXgKUH"
      },
      "source": [
        "print(kn.classes_)  # classes_ 속성: 정렬된 타깃값\n",
        "\n",
        "print(kn.predict(test_scaled[:5]))  # 테스트세트의 첫 5개 샘플에 대한 예측"
      ],
      "execution_count": null,
      "outputs": []
    },
    {
      "cell_type": "code",
      "metadata": {
        "id": "wo6VEKQNgyQx"
      },
      "source": [
        "import numpy as np\n",
        "proba = kn.predict_proba(test_scaled[:5])  # 클래스별로 확률값을 반환\n",
        "print(np.round(proba, decimals=4))  # 소수점 4번째 자리까지 표기"
      ],
      "execution_count": null,
      "outputs": []
    },
    {
      "cell_type": "code",
      "metadata": {
        "id": "yuqwHG8_hVOQ"
      },
      "source": [
        "distances, indexes = kn.kneighbors(test_scaled[3:4]) # 2차원 배열을 만들기 위해 슬라이싱 연산자 사용 (슬라이싱 사용 시 항상 2차원배열이 됨)\n",
        "print(train_target[indexes])\n",
        "# Roach 1개, Perch 2개 --> 2/3 확률 == 0.6667"
      ],
      "execution_count": null,
      "outputs": []
    },
    {
      "cell_type": "markdown",
      "metadata": {
        "id": "THq5Q52yi12b"
      },
      "source": [
        "###**로지스틱 회귀** :\n",
        " 이름은 회귀이지만 분류 모델임\n",
        "\n",
        "*z* = *a* x (Weight) + *b* x (Length) + *c* x (Diagonal) + *d* x (Height) + *e* x (Width) + *f*\n",
        "\n",
        "- 시그모이드 함수 (로지스틱 회귀)\n",
        " \n",
        " *Φ* = 1 / ( 1 + e^(-z) )\n",
        "\n",
        " 0 ~ 1 사이의 범위를 가지는 함수 --> 0 ~ 1 사이 값을 0~100% 확률로 해석"
      ]
    },
    {
      "cell_type": "code",
      "metadata": {
        "id": "tlG2M4mWi0JF"
      },
      "source": [
        "import numpy as np\n",
        "import matplotlib.pyplot as plt\n",
        "\n",
        "z = np.arange(-5,5,0.1)\n",
        "phi = 1 / (1 + np.exp(-z))\n",
        "plt.plot(z, phi)\n",
        "plt.xlabel('z')\n",
        "plt.ylabel('phi')\n",
        "plt.show()"
      ],
      "execution_count": null,
      "outputs": []
    },
    {
      "cell_type": "code",
      "metadata": {
        "id": "LDBS2W-QnEyg"
      },
      "source": [
        "char_arr = np.array(['A','B','C','D','E'])\n",
        "print(char_arr[[True, False, True, False, False]])  # 1번째, 3번째 원소만 골라냄 (True인 index만)"
      ],
      "execution_count": null,
      "outputs": []
    },
    {
      "cell_type": "code",
      "metadata": {
        "id": "0ZlVQSx1nlhH"
      },
      "source": [
        "# 'Bream'과 'Smelt'행만 골라내는 작업\n",
        "bream_smelt_indexes = (train_target == 'Bream') | (train_target == 'Smelt')\n",
        "train_bream_smelt = train_scaled[bream_smelt_indexes]   # 'Bream'과 'Smelt' 만 있는 train_input\n",
        "target_bream_smelt = train_target[bream_smelt_indexes]"
      ],
      "execution_count": null,
      "outputs": []
    },
    {
      "cell_type": "code",
      "metadata": {
        "id": "S1fey6DGpGxz"
      },
      "source": [
        "from sklearn.linear_model import LogisticRegression\n",
        "\n",
        "lr = LogisticRegression()\n",
        "lr.fit(train_bream_smelt, target_bream_smelt)\n",
        "\n",
        "print(lr.predict(train_bream_smelt[:5]))"
      ],
      "execution_count": null,
      "outputs": []
    },
    {
      "cell_type": "code",
      "metadata": {
        "id": "a8BDJgfkphgW"
      },
      "source": [
        "print(lr.predict_proba(train_bream_smelt[:5]))  # 첫 번째 열 : 음성클래스(0)\n",
        "                                                # 두 번째 열 : 양성클래스(1)\n",
        "print(lr.classes_)  # 알파벳순으로 정렬됨\n",
        "                    # 'Bream' : 음성, 'Smelt' : 양성"
      ],
      "execution_count": null,
      "outputs": []
    },
    {
      "cell_type": "code",
      "metadata": {
        "id": "VxQzJ-KOqYtO"
      },
      "source": [
        "print(lr.coef_, lr.intercept_)  # 로지스틱 회귀가 학습한 계수\n",
        "\n",
        "# z = -0.404 x (Weight) - 0.576 x (Length) - 0.663 x (Diagonal) - 1.013 x (Height) - 0.732 x (Weight) - 2.161"
      ],
      "execution_count": null,
      "outputs": []
    },
    {
      "cell_type": "code",
      "metadata": {
        "id": "hHOsDgQdqxQH"
      },
      "source": [
        "decisions = lr.decision_function(train_bream_smelt[:5])  # '양성 클래스'에 대한 z값 반환\n",
        "print(decisions)   # z 값들"
      ],
      "execution_count": null,
      "outputs": []
    },
    {
      "cell_type": "code",
      "metadata": {
        "id": "R6a9aVryrnPP"
      },
      "source": [
        "from scipy.special import expit  # expit() : 사이파이 라이브러리 안의 시그모이드 함수\n",
        "print(expit(decisions))"
      ],
      "execution_count": null,
      "outputs": []
    }
  ]
}