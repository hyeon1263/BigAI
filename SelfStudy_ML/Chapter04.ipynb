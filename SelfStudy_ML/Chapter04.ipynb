{
  "nbformat": 4,
  "nbformat_minor": 0,
  "metadata": {
    "colab": {
      "name": "Chapter04",
      "private_outputs": true,
      "provenance": [],
      "collapsed_sections": []
    },
    "kernelspec": {
      "name": "python3",
      "display_name": "Python 3"
    },
    "language_info": {
      "name": "python"
    }
  },
  "cells": [
    {
      "cell_type": "markdown",
      "metadata": {
        "id": "iI9CVV6RSJ1o"
      },
      "source": [
        "# CHAPTER 04 다양한 분류 알고리즘"
      ]
    },
    {
      "cell_type": "markdown",
      "metadata": {
        "id": "qvkclHWCScUU"
      },
      "source": [
        "## 04-1 로지스틱 회귀\n",
        "\n"
      ]
    },
    {
      "cell_type": "code",
      "metadata": {
        "id": "EAtM6qM7R9dY"
      },
      "source": [
        "import pandas as pd\n",
        "\n",
        "fish = pd.read_csv('https://bit.ly/fish_csv_data')\n",
        "fish.head()  # head() : 처음 n개 행을 출력 (default: n=5)"
      ],
      "execution_count": null,
      "outputs": []
    },
    {
      "cell_type": "code",
      "metadata": {
        "id": "0iOyR-FIVx2Q"
      },
      "source": [
        "print(pd.unique(fish['Species']))  # unique('Feature') : 'Feature'열에서 고유한 값을 추출\n",
        "# 타깃값들"
      ],
      "execution_count": null,
      "outputs": []
    },
    {
      "cell_type": "code",
      "metadata": {
        "id": "eET8AIHiWXc8"
      },
      "source": [
        "fish_input = fish[['Weight', 'Length', 'Diagonal', 'Height', 'Width']].to_numpy()  # 5개 열을 입력데이터로 사용\n",
        "print(fish_input[:5])\n",
        "\n",
        "fish_target = fish['Species'].to_numpy()  # 타깃 데이터 설정"
      ],
      "execution_count": null,
      "outputs": []
    },
    {
      "cell_type": "code",
      "metadata": {
        "id": "j_vIjQ_TXXUL"
      },
      "source": [
        "# 훈련세트와 테스트세트로 나누어줌\n",
        "from sklearn.model_selection import train_test_split\n",
        "\n",
        "train_input, test_input, train_target, test_target = train_test_split(fish_input, fish_target, random_state=42)"
      ],
      "execution_count": null,
      "outputs": []
    },
    {
      "cell_type": "code",
      "metadata": {
        "id": "rVFw5bg0du-1"
      },
      "source": [
        "# 데이터 표준화\n",
        "from sklearn.preprocessing import StandardScaler\n",
        "\n",
        "ss = StandardScaler()\n",
        "ss.fit(train_input)\n",
        "train_scaled = ss.transform(train_input)\n",
        "test_scaled = ss.transform(test_input)"
      ],
      "execution_count": null,
      "outputs": []
    },
    {
      "cell_type": "code",
      "metadata": {
        "id": "vqKTcU7AeZgC"
      },
      "source": [
        "# k-최근접 이웃 분류기\n",
        "from sklearn.neighbors import KNeighborsClassifier\n",
        "\n",
        "kn = KNeighborsClassifier(n_neighbors=3)\n",
        "kn.fit(train_scaled, train_target)\n",
        "print(kn.score(train_scaled, train_target))\n",
        "print(kn.score(test_scaled, test_target))"
      ],
      "execution_count": null,
      "outputs": []
    },
    {
      "cell_type": "markdown",
      "metadata": {
        "id": "4m6aqfBPffYO"
      },
      "source": [
        "**다중 분류** : 타깃 데이터에 2개 이상의 클래스가 포함된 문제"
      ]
    },
    {
      "cell_type": "code",
      "metadata": {
        "id": "EnWlMKYXgKUH"
      },
      "source": [
        "print(kn.classes_)  # classes_ 속성: 정렬된 타깃값 (알파벳 순)\n",
        "\n",
        "print(kn.predict(test_scaled[:5]))  # 테스트세트의 첫 5개 샘플에 대한 예측"
      ],
      "execution_count": null,
      "outputs": []
    },
    {
      "cell_type": "code",
      "metadata": {
        "id": "wo6VEKQNgyQx"
      },
      "source": [
        "import numpy as np\n",
        "proba = kn.predict_proba(test_scaled[:5])  # 클래스별로 확률값을 반환\n",
        "print(np.round(proba, decimals=4))  # 소수점 4번째 자리까지 표기"
      ],
      "execution_count": null,
      "outputs": []
    },
    {
      "cell_type": "code",
      "metadata": {
        "id": "yuqwHG8_hVOQ"
      },
      "source": [
        "distances, indexes = kn.kneighbors(test_scaled[3:4]) # 2차원 배열을 만들기 위해 슬라이싱 연산자 사용 (슬라이싱 사용 시 항상 2차원배열이 됨)\n",
        "print(train_target[indexes])\n",
        "# Roach 1개, Perch 2개 --> 2/3 확률 == 0.6667\n",
        "\n",
        "# k-최근접 이웃을 사용하기 때문에 3개만 봐서 약함.."
      ],
      "execution_count": null,
      "outputs": []
    },
    {
      "cell_type": "markdown",
      "metadata": {
        "id": "THq5Q52yi12b"
      },
      "source": [
        "###**로지스틱 회귀** :\n",
        " 이름은 회귀이지만 분류 모델임\n",
        "\n",
        "*z* = *a* x (Weight) + *b* x (Length) + *c* x (Diagonal) + *d* x (Height) + *e* x (Width) + *f*\n",
        "\n",
        "- 시그모이드 함수 (로지스틱 회귀)\n",
        " \n",
        " *Φ* = 1 / ( 1 + e^(-z) )\n",
        "\n",
        " 0 ~ 1 사이의 범위를 가지는 함수 --> 0 ~ 1 사이 값을 0~100% 확률로 해석"
      ]
    },
    {
      "cell_type": "code",
      "metadata": {
        "id": "tlG2M4mWi0JF"
      },
      "source": [
        "import numpy as np\n",
        "import matplotlib.pyplot as plt\n",
        "\n",
        "z = np.arange(-5,5,0.1)\n",
        "phi = 1 / (1 + np.exp(-z))\n",
        "plt.plot(z, phi)\n",
        "plt.xlabel('z')\n",
        "plt.ylabel('phi')\n",
        "plt.show()"
      ],
      "execution_count": null,
      "outputs": []
    },
    {
      "cell_type": "code",
      "metadata": {
        "id": "LDBS2W-QnEyg"
      },
      "source": [
        "char_arr = np.array(['A','B','C','D','E'])\n",
        "print(char_arr[[True, False, True, False, False]])  # 1번째, 3번째 원소만 골라냄 (True인 index만)"
      ],
      "execution_count": null,
      "outputs": []
    },
    {
      "cell_type": "code",
      "metadata": {
        "id": "0ZlVQSx1nlhH"
      },
      "source": [
        "# 이진 분류를 위해 로지스틱 회귀 적용\n",
        "\n",
        "# 'Bream'과 'Smelt'행만 골라내는 작업\n",
        "bream_smelt_indexes = (train_target == 'Bream') | (train_target == 'Smelt')\n",
        "train_bream_smelt = train_scaled[bream_smelt_indexes]   # 'Bream'과 'Smelt' 만 있는 train_input\n",
        "target_bream_smelt = train_target[bream_smelt_indexes]"
      ],
      "execution_count": null,
      "outputs": []
    },
    {
      "cell_type": "code",
      "metadata": {
        "id": "S1fey6DGpGxz"
      },
      "source": [
        "from sklearn.linear_model import LogisticRegression\n",
        "\n",
        "lr = LogisticRegression()\n",
        "lr.fit(train_bream_smelt, target_bream_smelt)\n",
        "\n",
        "print(lr.predict(train_bream_smelt[:5]))"
      ],
      "execution_count": null,
      "outputs": []
    },
    {
      "cell_type": "code",
      "metadata": {
        "id": "a8BDJgfkphgW"
      },
      "source": [
        "print(lr.predict_proba(train_bream_smelt[:5]))  # 첫 번째 열 : 음성클래스(0)\n",
        "                                                # 두 번째 열 : 양성클래스(1)\n",
        "print(lr.classes_)  # 알파벳순으로 정렬됨\n",
        "                    # 'Bream' : 음성, 'Smelt' : 양성"
      ],
      "execution_count": null,
      "outputs": []
    },
    {
      "cell_type": "code",
      "metadata": {
        "id": "VxQzJ-KOqYtO"
      },
      "source": [
        "print(lr.coef_, lr.intercept_)  # 로지스틱 회귀가 학습한 계수\n",
        "# 각 클래스마다 다른 coef와 intercept를 구한다\n",
        "\n",
        "# z = -0.404 x (Weight) - 0.576 x (Length) - 0.663 x (Diagonal) - 1.013 x (Height) - 0.732 x (Weight) - 2.161"
      ],
      "execution_count": null,
      "outputs": []
    },
    {
      "cell_type": "code",
      "metadata": {
        "id": "hHOsDgQdqxQH"
      },
      "source": [
        "decisions = lr.decision_function(train_bream_smelt[:5])  # '양성 클래스'에 대한 z값 반환\n",
        "print(decisions)   # z 값들\n",
        "# z 값들은 각 샘플마다 클래스 수만큼 있다."
      ],
      "execution_count": null,
      "outputs": []
    },
    {
      "cell_type": "code",
      "metadata": {
        "id": "R6a9aVryrnPP"
      },
      "source": [
        "from scipy.special import expit  # expit() : 사이파이 라이브러리 안의 시그모이드 함수\n",
        "print(expit(decisions))"
      ],
      "execution_count": null,
      "outputs": []
    },
    {
      "cell_type": "markdown",
      "metadata": {
        "id": "lUv_2mvYUqWa"
      },
      "source": [
        "**로지스틱 회귀로 다중 분류 수행하기**\n",
        "\n",
        "LogisticRegression 클래스는 기본적으로 반복적인 알고리즘을 사용한다.\n",
        "\n",
        "충분하게 훈련시키기 위해 반복 횟수를 적당히 늘린다 (밑에서는 max_iter=1000으로).\n",
        "\n",
        "기본적으로 릿지 회귀와 같이 계수의 제곱을 규제 (L2 규제)\n",
        "\n",
        "LogisticRegression에서 규제를 제어하는 매개변수는 *C* 이다 --> alpha와 반대로 작을수록 규제가 커진다. (기본값: 1)"
      ]
    },
    {
      "cell_type": "code",
      "metadata": {
        "id": "YvGrfRKlUto2"
      },
      "source": [
        "lr = LogisticRegression(C=20, max_iter=1000)  # default: max_iter=100\n",
        "lr.fit(train_scaled, train_target)\n",
        "print(lr.score(train_scaled, train_target))\n",
        "print(lr.score(test_scaled, test_target))"
      ],
      "execution_count": null,
      "outputs": []
    },
    {
      "cell_type": "code",
      "metadata": {
        "id": "hhl7pie5Wjj0"
      },
      "source": [
        "print(lr.predict(test_scaled[:5]))"
      ],
      "execution_count": null,
      "outputs": []
    },
    {
      "cell_type": "code",
      "metadata": {
        "id": "8BMrt0lGWrig"
      },
      "source": [
        "proba = lr.predict_proba(test_scaled[:5])  # 테스트세트의 처음 5개 샘플에 대한 예측 확률\n",
        "print(np.round(proba, decimals=3))\n",
        "print()\n",
        "print(lr.classes_)"
      ],
      "execution_count": null,
      "outputs": []
    },
    {
      "cell_type": "code",
      "metadata": {
        "id": "5yVhJY-PXNaZ"
      },
      "source": [
        "print(lr.coef_.shape, lr.intercept_.shape)\n",
        "\n",
        "# 다중 분류는 클래스마다 z값을 하나씩 계산하여, 가장 높은 z값을 출력하는 클래스가 예측 클래스가 된다."
      ],
      "execution_count": null,
      "outputs": []
    },
    {
      "cell_type": "markdown",
      "metadata": {
        "id": "aEkbKYCsYKry"
      },
      "source": [
        "시그모이드 함수는 하나의 선형 방정식의 출력값을 0~1 사이로 압축하는 반면에, --> 이진분류할 때\n",
        "\n",
        "**소프트맥스 함수**는 여러 개의 선형 방정식의 출력값을 0~1 사이로 압축하고 전체 합이 1이 되도록 만든다. --> 다중분류할 때\n",
        "\n",
        "'정규화된 지수함수' 라고도 불린다.\n"
      ]
    },
    {
      "cell_type": "code",
      "metadata": {
        "id": "qZRdUZDFY6Ov"
      },
      "source": [
        "decision = lr.decision_function(test_scaled[:5])\n",
        "print(np.round(decision, decimals=2))\n",
        "# 각 행은 z1 ~ z7 으로 되있으며, 각 행마다 지수함수의 합은 1이다 (e^zi들의 합 = 1)"
      ],
      "execution_count": null,
      "outputs": []
    },
    {
      "cell_type": "code",
      "metadata": {
        "id": "DF_rz75lZ5Bf"
      },
      "source": [
        "from scipy.special import softmax   # 사이파이에서 제공하는 소프트맥스 함수\n",
        "proba = softmax(decision, axis=1)\n",
        "print(np.round(proba, decimals=3))\n",
        "\n",
        "# 출력결과가 lr.predict_proba() 배열과 일치한다"
      ],
      "execution_count": null,
      "outputs": []
    },
    {
      "cell_type": "markdown",
      "metadata": {
        "id": "72Jbz-DpbRLV"
      },
      "source": [
        "## 04.2 확률적 경사 하강법\n",
        "\n",
        "가장 가파른 경사를 따라 원하는 지점에 도달하는 것이 목표 (천천히 조금씩)\n",
        "\n",
        "점진적인 학습이 가능하다!"
      ]
    },
    {
      "cell_type": "markdown",
      "metadata": {
        "id": "tqyv3imqLBBF"
      },
      "source": [
        "**손실함수 ( 비용함수 )** :\n",
        "\n",
        "머신러닝 알고리즘이 얼마나 엉터리인지를 측정하는 기준 --> 최솟값을 찾아야 함\n",
        "\n",
        "손실함수는 연속적이어야 한다 ( 미분 가능해야 함)"
      ]
    },
    {
      "cell_type": "markdown",
      "metadata": {
        "id": "sB-Lq_0XLtUt"
      },
      "source": [
        "**로지스틱 손실 함수** ( 이진 크로스엔트로피 손실 함숫 )\n",
        "\n",
        "- 타깃 = 1 일 때 --> - log(예측확률)\n",
        "\n",
        "- 타깃 = 2 일 때 --> - log(1 - 예측확률)\n",
        "\n",
        "확률이 1에서 멀어질수록 손실은 아주 큰 양수가 된다."
      ]
    },
    {
      "cell_type": "markdown",
      "metadata": {
        "id": "Y6LcFT7CPkKs"
      },
      "source": [
        "SGDClassifier"
      ]
    },
    {
      "cell_type": "code",
      "metadata": {
        "id": "QLJHKH3Xaaxe"
      },
      "source": [
        "# 데이터 프레임 만들기\n",
        "import pandas as pd\n",
        "fish = pd.read_csv('https://bit.ly/fish_csv_data')"
      ],
      "execution_count": null,
      "outputs": []
    },
    {
      "cell_type": "code",
      "metadata": {
        "id": "kJClphgPPuO6"
      },
      "source": [
        "fish_input = fish[['Weight', 'Length', 'Diagonal', 'Height', 'Width']].to_numpy()\n",
        "fish_target = fish['Species'].to_numpy()"
      ],
      "execution_count": null,
      "outputs": []
    },
    {
      "cell_type": "code",
      "metadata": {
        "id": "D1IdjhTQP9sa"
      },
      "source": [
        "from sklearn.model_selection import train_test_split\n",
        "train_input, test_input, train_target, test_target = train_test_split(fish_input, fish_target, random_state=42)"
      ],
      "execution_count": null,
      "outputs": []
    },
    {
      "cell_type": "code",
      "metadata": {
        "id": "wLUbKwBCQK2O"
      },
      "source": [
        "# 특성 표준화 전처리\n",
        "from sklearn.preprocessing import StandardScaler\n",
        "ss = StandardScaler()\n",
        "ss.fit(train_input)\n",
        "train_scaled = ss.transform(train_input)\n",
        "test_scaled = ss.transform(test_input)"
      ],
      "execution_count": null,
      "outputs": []
    },
    {
      "cell_type": "code",
      "metadata": {
        "id": "V6xnR3e0QiF6"
      },
      "source": [
        "from sklearn.linear_model import SGDClassifier  # 사이킷런에서 확률적 경사 하강법을 제공하는 클래스\n",
        "\n",
        "sc = SGDClassifier(loss='log', max_iter=10, random_state=42)  # loss='log': 손실함수 지정, max_iter=10: 에포크 횟수 지정\n",
        "sc.fit(train_scaled, train_target)\n",
        "print(sc.score(train_scaled, train_target))\n",
        "print(sc.score(test_scaled, test_target))\n",
        "\n",
        "# 점수가 낮다 -> 반복 횟수가 적다?"
      ],
      "execution_count": null,
      "outputs": []
    },
    {
      "cell_type": "code",
      "metadata": {
        "id": "sXnqIZHXRd7K"
      },
      "source": [
        "# 확률적 경사 하강법은 점진적 학습이 가능하므로 객체를 다시 만들지 않고 추가로 더 훈련하기로 하자\n",
        "sc.partial_fit(train_scaled, train_target)\n",
        "print(sc.score(train_scaled, train_target))\n",
        "print(sc.score(test_scaled, test_target))"
      ],
      "execution_count": null,
      "outputs": []
    },
    {
      "cell_type": "markdown",
      "metadata": {
        "id": "v6nAWHjsSQjP"
      },
      "source": [
        "적은 에포크 --> 과소적합일 확률 농후\n",
        "\n",
        "많은 에포크 --> 과대적합일 확률 농후\n",
        "\n",
        "과대적합이 시작하기 전에 훈련을 멈춰야 한다 ( 조기 종료 )"
      ]
    },
    {
      "cell_type": "code",
      "metadata": {
        "id": "bF7uQaNwR4Ik"
      },
      "source": [
        "import numpy as np\n",
        "sc = SGDClassifier(loss='log', random_state=42)\n",
        "train_score = []\n",
        "test_score = []\n",
        "classes = np.unique(train_target)"
      ],
      "execution_count": null,
      "outputs": []
    },
    {
      "cell_type": "code",
      "metadata": {
        "id": "sPFE1aMMS198"
      },
      "source": [
        "for _ in range(0, 300):   # 300번의 에포크 동안 훈련 반복\n",
        "    sc.partial_fit(train_scaled, train_target, classes=classes)\n",
        "    train_score.append(sc.score(train_scaled, train_target))\n",
        "    test_score.append(sc.score(test_scaled, test_target))"
      ],
      "execution_count": null,
      "outputs": []
    },
    {
      "cell_type": "code",
      "metadata": {
        "id": "41KsQQvrTFzc"
      },
      "source": [
        "import matplotlib.pyplot as plt\n",
        "\n",
        "plt.plot(train_score)\n",
        "plt.plot(test_score)\n",
        "plt.xlabel('epoch')\n",
        "plt.ylabel('accuracy')\n",
        "plt.show()\n",
        "\n",
        "# 이 모델의 경우 100번째 에포크가 적절해 보인다!"
      ],
      "execution_count": null,
      "outputs": []
    },
    {
      "cell_type": "code",
      "metadata": {
        "id": "9oqg4JFFTh9W"
      },
      "source": [
        "# max_iter=100으로 맞추고 다시 훈련\n",
        "sc = SGDClassifier(loss='log', max_iter=100, tol=None, random_state=42)\n",
        "# 일정 에포크 동안 성능이 향상되지 않으면 자동으로 멈추는데 tol=None으로 지정하여 멈추지 않고 무조건 max_iter만큼 반복된다.\n",
        "\n",
        "sc.fit(train_scaled, train_target)"
      ],
      "execution_count": null,
      "outputs": []
    },
    {
      "cell_type": "code",
      "metadata": {
        "id": "mQy5RPu_TvpT"
      },
      "source": [
        "print(sc.score(train_scaled, train_target))\n",
        "print(sc.score(test_scaled, test_target))   # 결과 not bad"
      ],
      "execution_count": null,
      "outputs": []
    },
    {
      "cell_type": "markdown",
      "metadata": {
        "id": "Q1xLN9E3URqa"
      },
      "source": [
        "loss 매개변수의 기본값은 'hinge' ( \"서포트 벡터 머신\"의 손실 함수 )이다"
      ]
    },
    {
      "cell_type": "code",
      "metadata": {
        "id": "aoyhP-pgUpIM"
      },
      "source": [
        "# 힌지 손실을 사용하여 훈련\n",
        "sc = SGDClassifier(loss='hinge', max_iter=100, tol=None, random_state=42)\n",
        "sc.fit(train_scaled, train_target)\n",
        "print(sc.score(train_scaled, train_target))\n",
        "print(sc.score(test_scaled, test_target))"
      ],
      "execution_count": null,
      "outputs": []
    }
  ]
}