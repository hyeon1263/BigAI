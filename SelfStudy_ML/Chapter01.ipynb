{
  "nbformat": 4,
  "nbformat_minor": 0,
  "metadata": {
    "colab": {
      "name": "Chapter01",
      "private_outputs": true,
      "provenance": [],
      "collapsed_sections": []
    },
    "kernelspec": {
      "name": "python3",
      "display_name": "Python 3"
    },
    "language_info": {
      "name": "python"
    }
  },
  "cells": [
    {
      "cell_type": "markdown",
      "metadata": {
        "id": "KUIreIhiB6u8"
      },
      "source": [
        "#Chapter01. 나의 첫 머신러닝"
      ]
    },
    {
      "cell_type": "markdown",
      "metadata": {
        "id": "ECtZyxASCSp2"
      },
      "source": [
        "생선 분류 문제"
      ]
    },
    {
      "cell_type": "code",
      "metadata": {
        "id": "t7PmD3DcB5xG"
      },
      "source": [
        "# 생선의 길이\n",
        "bream_length = [25.4, 26.3, 26.5, 29.0, 29.0, 29.7, 29.7, 30.0, 30.0, 30.7, 31.0, 31.0, \n",
        "                31.5, 32.0, 32.0, 32.0, 33.0, 33.0, 33.5, 33.5, 34.0, 34.0, 34.5, 35.0, \n",
        "                35.0, 35.0, 35.0, 36.0, 36.0, 37.0, 38.5, 38.5, 39.5, 41.0, 41.0]\n",
        "# 생선의 무게\n",
        "bream_weight = [242.0, 290.0, 340.0, 363.0, 430.0, 450.0, 500.0, 390.0, 450.0, 500.0, 475.0, 500.0, \n",
        "                500.0, 340.0, 600.0, 600.0, 700.0, 700.0, 610.0, 650.0, 575.0, 685.0, 620.0, 680.0, \n",
        "                700.0, 725.0, 720.0, 714.0, 850.0, 1000.0, 920.0, 955.0, 925.0, 975.0, 950.0]\n",
        "# -> 도미의 특성값"
      ],
      "execution_count": null,
      "outputs": []
    },
    {
      "cell_type": "code",
      "metadata": {
        "id": "fZcjrwybC9YW"
      },
      "source": [
        "import matplotlib.pyplot as plt\n",
        "\n",
        "plt.scatter(bream_length, bream_weight)\n",
        "plt.xlabel('length')    # x축 표시: 길이\n",
        "plt.ylabel('weight')    # y축 표시: 무게\n",
        "plt.show()"
      ],
      "execution_count": null,
      "outputs": []
    },
    {
      "cell_type": "code",
      "metadata": {
        "id": "KIgIKasvDgX-"
      },
      "source": [
        "# 빙어의 특성값\n",
        "smelt_length = [9.8, 10.5, 10.6, 11.0, 11.2, 11.3, 11.8, 11.8, 12.0, 12.2, 12.4, 13.0, 14.3, 15.0]\n",
        "smelt_weight = [6.7, 7.5, 7.0, 9.7, 9.8, 8.7, 10.0, 9.9, 9.8, 12.2, 13.4, 12.2, 19.7, 19.9]"
      ],
      "execution_count": null,
      "outputs": []
    },
    {
      "cell_type": "code",
      "metadata": {
        "id": "3tdeUHa4DnyY"
      },
      "source": [
        "plt.scatter(bream_length, bream_weight)\n",
        "plt.scatter(smelt_length, smelt_weight)\n",
        "plt.xlabel('length')    # x축 표시: 길이\n",
        "plt.ylabel('weight')    # y축 표시: 무게\n",
        "plt.show()"
      ],
      "execution_count": null,
      "outputs": []
    },
    {
      "cell_type": "code",
      "metadata": {
        "id": "k1ySdYGdD8pI"
      },
      "source": [
        "# 두 종류의 생선리스트를 하나의 리스트로 합침\n",
        "length = bream_length + smelt_length\n",
        "weight = bream_weight + smelt_weight\n",
        "\n",
        "# 사이킷런 패키지 사용을 위해서 2차원 리스트로 만들어주어야 한다 (zip()함수 사용)\n",
        "fish_data = [[l,w] for l, w in zip(length, weight)]\n",
        "print(fish_data)"
      ],
      "execution_count": null,
      "outputs": []
    },
    {
      "cell_type": "code",
      "metadata": {
        "id": "WfBnny2ZEr3V"
      },
      "source": [
        "fish_target = [1]*35 + [0]*14   # 1이 도미, 0이 빙어로 놓는다\n",
        "print(fish_target)"
      ],
      "execution_count": null,
      "outputs": []
    },
    {
      "cell_type": "code",
      "metadata": {
        "id": "1z6II5LaE45u"
      },
      "source": [
        "# 사이킷런의 k-최근접 이웃 알고리즘을 구현한 클래스\n",
        "from sklearn.neighbors import KNeighborsClassifier\n",
        "\n",
        "kn = KNeighborsClassifier()  # 객체 생성\n",
        "kn.fit(fish_data, fish_target)  # fit(): 주어진 데이터로 알고리즘을 훈련시키는 메서드\n",
        "kn.score(fish_data, fish_target)  # score(): 모델을 평가하는 메서드 0~1 (1로 갈수록 정확하다는 뜻)"
      ],
      "execution_count": null,
      "outputs": []
    },
    {
      "cell_type": "code",
      "metadata": {
        "id": "Yh0ZJObUFtrj"
      },
      "source": [
        "kn.predict([[30, 600]])  # predict(): 새로운 데이터의 정답 예측 -- 2차원 리스트로 전달해야 한다"
      ],
      "execution_count": null,
      "outputs": []
    },
    {
      "cell_type": "code",
      "metadata": {
        "id": "vXxv9Gx2F75B"
      },
      "source": [
        "print(kn._fit_X)"
      ],
      "execution_count": null,
      "outputs": []
    },
    {
      "cell_type": "code",
      "metadata": {
        "id": "sfGk1dasGa3l"
      },
      "source": [
        "print(kn._y)"
      ],
      "execution_count": null,
      "outputs": []
    },
    {
      "cell_type": "markdown",
      "metadata": {
        "id": "hyvyS8mFGe01"
      },
      "source": [
        "***k-최근접 이웃 알고리즘*** 은 저장된 데이터만으로 새로운 데이터의 값을 예측하는 것이다. "
      ]
    },
    {
      "cell_type": "code",
      "metadata": {
        "id": "n1udpU1CGw9-"
      },
      "source": [
        "kn49 = KNeighborsClassifier(n_neighbors=49)  # 참고 데이터를 49개로 한 kn49 모델, default값은 5\n",
        "\n",
        "kn49.fit(fish_data, fish_target)\n",
        "kn49.score(fish_data, fish_target), 35/49  # 가장 가까운 값 49개를 참고하여 예측하므로 무조건 도미(49개 중 35개)로 예측할 것이다"
      ],
      "execution_count": null,
      "outputs": []
    }
  ]
}