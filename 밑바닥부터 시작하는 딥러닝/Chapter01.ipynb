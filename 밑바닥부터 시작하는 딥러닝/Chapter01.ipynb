{
  "nbformat": 4,
  "nbformat_minor": 0,
  "metadata": {
    "colab": {
      "name": "Chapter01",
      "private_outputs": true,
      "provenance": [],
      "collapsed_sections": []
    },
    "kernelspec": {
      "name": "python3",
      "display_name": "Python 3"
    },
    "language_info": {
      "name": "python"
    }
  },
  "cells": [
    {
      "cell_type": "markdown",
      "metadata": {
        "id": "eALLC7GNVqlR"
      },
      "source": [
        "# Chapter01 헬로 파이썬"
      ]
    },
    {
      "cell_type": "markdown",
      "metadata": {
        "id": "bhaIsbQGZHhW"
      },
      "source": [
        "### 1.5 numpy\n",
        "\n",
        "수치 계산용 라이브러리"
      ]
    },
    {
      "cell_type": "code",
      "metadata": {
        "id": "XCiAGFE_18jA"
      },
      "source": [
        "import numpy as np\n",
        "\n",
        "x = np.array([1.0, 2.0, 3.0])   # np.array(): 넘파이 배열 생성\n",
        "print(x)\n",
        "type(x)"
      ],
      "execution_count": null,
      "outputs": []
    },
    {
      "cell_type": "code",
      "metadata": {
        "id": "cno14HUbZSPh"
      },
      "source": [
        "y = np.array([2.0, 4.0, 6.0])\n",
        "print(x+y)  # 넘파이 배열 간의 연산은 각 원소별 (element-wise) 연산이다\n",
        "print(x*y)  # 원소 수가 같아야 한다"
      ],
      "execution_count": null,
      "outputs": []
    },
    {
      "cell_type": "code",
      "metadata": {
        "id": "Lva2L__UbFU0"
      },
      "source": [
        "A = np.array([[1,2], [3,4]])  # 2차원 배열 생성\n",
        "print(A)\n",
        "print(A.shape)  # 배열의 형상\n",
        "print(A.dtype)  # 원소의 자료형"
      ],
      "execution_count": null,
      "outputs": []
    },
    {
      "cell_type": "code",
      "metadata": {
        "id": "z8yEWQA9bP8o"
      },
      "source": [
        "B = np.array([[3,0], [0,6]])\n",
        "print(A*B)  # 배열의 형상이 같아야 함 (element-wise)"
      ],
      "execution_count": null,
      "outputs": []
    },
    {
      "cell_type": "markdown",
      "metadata": {
        "id": "CwzyM7RKb5PV"
      },
      "source": [
        "브로드캐스트\n",
        "\n",
        "넘파이에서는 형상이 다른 배열끼리 계산할 수 있다."
      ]
    },
    {
      "cell_type": "code",
      "metadata": {
        "id": "vtIdzqUcb3Pi"
      },
      "source": [
        "A = np.array([[1,2], [3,4]])\n",
        "B = np.array([10,20])\n",
        "print(A, B)  # 형상이 다르지만 계산할 수 있다 (브로드캐스트 적용)\n",
        "A*B"
      ],
      "execution_count": null,
      "outputs": []
    },
    {
      "cell_type": "code",
      "metadata": {
        "id": "YR4_PmeUe6jq"
      },
      "source": [
        "X = np.array([[51,55],[14,19],[0,4]])\n",
        "print(X)\n",
        "\n",
        "print(X[0], X[0][1])  # 원소 접근\n",
        "\n",
        "X.shape"
      ],
      "execution_count": null,
      "outputs": []
    },
    {
      "cell_type": "code",
      "metadata": {
        "id": "b_wPn1JyfIDF"
      },
      "source": [
        "X = X.flatten()  # X를 1차원 배열로 변환 (평탄화)\n",
        "print(X)\n",
        "\n",
        "X[np.array([0,2,4])]  # 인덱스가 0,2,4인 원소 얻기  (한 번에 여러 원소 접근 가능)"
      ],
      "execution_count": null,
      "outputs": []
    },
    {
      "cell_type": "code",
      "metadata": {
        "id": "hkouyeGBf7ZA"
      },
      "source": [
        "print(X > 15)   # 15보다 큰 원소는 True, 나머지는 False로 한 배열 반환\n",
        "X[X > 15]  # [X > 15] 에서 True에 해당하는 원소 반환"
      ],
      "execution_count": null,
      "outputs": []
    },
    {
      "cell_type": "markdown",
      "metadata": {
        "id": "jE2eK7CbgV1y"
      },
      "source": [
        "### 1.6 matplotlib\n",
        "\n",
        "그래프를 그려주는 라이브러리"
      ]
    },
    {
      "cell_type": "code",
      "metadata": {
        "id": "EpUzqS2Cg5dn"
      },
      "source": [
        "import numpy as np\n",
        "import matplotlib.pyplot as plt\n",
        "\n",
        "# 데이터 준비\n",
        "x = np.arange(0, 6, 0.1)  # 0에서 6까지 0.1간격으로 생성\n",
        "y = np.sin(x)\n",
        "\n",
        "# 그래프 그리기\n",
        "plt.plot(x, y)\n",
        "plt.show()"
      ],
      "execution_count": null,
      "outputs": []
    },
    {
      "cell_type": "code",
      "metadata": {
        "id": "No7pQg-_hdos"
      },
      "source": [
        "x = np.arange(0, 6, 0.1)\n",
        "y1 = np.sin(x)\n",
        "y2 = np.cos(x)\n",
        "\n",
        "plt.plot(x, y1, label=\"sin\")\n",
        "plt.plot(x, y2, linestyle=\"--\", label=\"cos\")  # cos 함수는 점선으로 그리기\n",
        "plt.xlabel(\"x\")  # x축 이름\n",
        "plt.ylabel(\"y\")  # y축 이름\n",
        "plt.title('sin & cos')  # 제목\n",
        "plt.legend()\n",
        "plt.show()"
      ],
      "execution_count": null,
      "outputs": []
    },
    {
      "cell_type": "markdown",
      "metadata": {
        "id": "l7PAfryriXrq"
      },
      "source": [
        "이미지 표시하기\n"
      ]
    },
    {
      "cell_type": "code",
      "metadata": {
        "id": "LdGKzEOkjK4u"
      },
      "source": [
        "import os\n",
        "import sys\n",
        "os.chdir(\"/content/drive/MyDrive/test\")  # 경로 복사"
      ],
      "execution_count": null,
      "outputs": []
    },
    {
      "cell_type": "code",
      "metadata": {
        "id": "OYAxM8CbiQNC"
      },
      "source": [
        "import matplotlib.pyplot as plt\n",
        "from matplotlib.image import imread   # 이미지 읽어들이는 메서드\n",
        "\n",
        "img = imread('JUSTHIS.png')\n",
        "\n",
        "plt.imshow(img)\n",
        "plt.show()"
      ],
      "execution_count": null,
      "outputs": []
    }
  ]
}