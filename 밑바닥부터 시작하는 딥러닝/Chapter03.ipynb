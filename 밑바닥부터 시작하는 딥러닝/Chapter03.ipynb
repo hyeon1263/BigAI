{
  "nbformat": 4,
  "nbformat_minor": 0,
  "metadata": {
    "colab": {
      "name": "Chapter03",
      "private_outputs": true,
      "provenance": [],
      "collapsed_sections": []
    },
    "kernelspec": {
      "name": "python3",
      "display_name": "Python 3"
    },
    "language_info": {
      "name": "python"
    }
  },
  "cells": [
    {
      "cell_type": "markdown",
      "metadata": {
        "id": "iXBpAYlIDlol"
      },
      "source": [
        "# Chapter 03 신경망\n",
        "\n",
        "퍼셉트론으로 복잡한 함수도 표현할 수 있다.\n",
        "\n",
        "하지만 가중치를 설정하는 작업은 사람이 수동으로 해야 한다.\n",
        "\n",
        "--> **신경망**으로 가중치 매개변수의 적절한 값을 데이터로부터 자동으로 학습할 수 있다!!\n",
        "\n",
        "---\n",
        "\n"
      ]
    },
    {
      "cell_type": "markdown",
      "metadata": {
        "id": "Z2o2tTeSFZAn"
      },
      "source": [
        "신경망은\n",
        "\n",
        "1. **입력층** : (0층)\n",
        "2. **은닉층** : 사람 눈에 보이지 않는다 (1층)\n",
        "3. **출력층** : (2층)\n",
        "\n",
        "으로 나뉘어져 있다.\n"
      ]
    },
    {
      "cell_type": "markdown",
      "metadata": {
        "id": "ldE9RD5TNmPU"
      },
      "source": [
        "### 3.2 활성화 함수\n",
        "임계값을 경계로 출력이 바뀜 --> 계단함수 (step function)\n",
        "\n",
        "퍼셉트론에서는 활성화 함수로 계단함수를 이용한다.\n",
        "\n",
        "\n",
        "---"
      ]
    },
    {
      "cell_type": "markdown",
      "metadata": {
        "id": "BD8dzgjHOEzO"
      },
      "source": [
        "**시그모이드 함수**\n",
        "\n",
        "신경망에서 자주 이용하는 활성화 함수\n",
        "\n",
        "h(x) = 1 / (1 + exp(-x))"
      ]
    },
    {
      "cell_type": "code",
      "metadata": {
        "id": "7i-x-UHrDicG"
      },
      "source": [
        "# 계단 함수 구현하기\n",
        "def step_function(x):  # 인수로 실수만 받음\n",
        "    if x > 0:\n",
        "        return 1\n",
        "    else:\n",
        "        return 0\n",
        "\n",
        "import numpy as np\n",
        "# 넘파이 배열도 인수(x)로 지원하기 위한 구현\n",
        "def step_funtion(x):\n",
        "    y = x > 0\n",
        "    return y.astype(np.int)"
      ],
      "execution_count": null,
      "outputs": []
    },
    {
      "cell_type": "code",
      "metadata": {
        "id": "R8H-V_yAO-Mg"
      },
      "source": [
        "import numpy as np\n",
        "x = np.array([-1.0, 1.0, 2.0])\n",
        "print(x)\n",
        "\n",
        "y = x > 0          # 0보다 큰 x는 True, 아니면 False로 하는 배열 y생성\n",
        "y.astype(np.int)   # 자료형을 정수형으로 바꿈"
      ],
      "execution_count": null,
      "outputs": []
    },
    {
      "cell_type": "code",
      "metadata": {
        "id": "peWS-TbXRA5d"
      },
      "source": [
        "# step function 그리기\n",
        "import matplotlib.pyplot as plt\n",
        "\n",
        "def step_function(x):\n",
        "    return np.array(x > 0, dtype=np.int)\n",
        "\n",
        "x = np.arange(-5.0, 5.0, 0.1)  # -5.0 ~ 5.0 까지 0.1간격으로 넘파이 배열 생성\n",
        "y = step_function(x)\n",
        "plt.plot(x, y)\n",
        "plt.ylim(-0.1, 1.1)  # y축의 범위 지정\n",
        "plt.show()"
      ],
      "execution_count": null,
      "outputs": []
    },
    {
      "cell_type": "code",
      "metadata": {
        "id": "F5eN0btyRwMV"
      },
      "source": [
        "# 시그모이드 함수 구현하기\n",
        "def sigmoid(x):\n",
        "    return 1 / (1 + np.exp(-x))\n",
        "\n",
        "x = np.array([-0.1, 1.0, 2.0])\n",
        "sigmoid(x)  # x가 넘파이 배열이어도 브로드캐스트 덕분에 제대로 처리한다!"
      ],
      "execution_count": null,
      "outputs": []
    },
    {
      "cell_type": "code",
      "metadata": {
        "id": "1da46K-2SQg-"
      },
      "source": [
        "# 넘파이 브로드캐스트 복습\n",
        "t = np.array([1.0, 2.0, 3.0])\n",
        "print(1.0 + t)\n",
        "print(1.0 / t)"
      ],
      "execution_count": null,
      "outputs": []
    },
    {
      "cell_type": "code",
      "metadata": {
        "id": "XamxFgUBVjrV"
      },
      "source": [
        "# 시그모이드 함수 그리기\n",
        "x = np.arange(-5.0, 5.0, 0.1)\n",
        "y = sigmoid(x)\n",
        "plt.plot(x, y)\n",
        "plt.ylim(-0.1, 1.1)\n",
        "plt.show()"
      ],
      "execution_count": null,
      "outputs": []
    },
    {
      "cell_type": "markdown",
      "metadata": {
        "id": "E7Bht6o-WY7a"
      },
      "source": [
        "- 시그모이드 함수 : 매끄럽다 (연속적이다)\n",
        "\n",
        "- 계단 함수 : 불연속적이다\n",
        "\n",
        "둘 다 입력이 작으면 0, 커지면 1에 가까워진다."
      ]
    }
  ]
}