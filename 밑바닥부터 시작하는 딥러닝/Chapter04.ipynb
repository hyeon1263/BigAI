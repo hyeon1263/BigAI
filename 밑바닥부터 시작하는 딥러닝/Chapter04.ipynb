{
  "nbformat": 4,
  "nbformat_minor": 0,
  "metadata": {
    "colab": {
      "name": "Chapter04",
      "provenance": [],
      "collapsed_sections": []
    },
    "kernelspec": {
      "name": "python3",
      "display_name": "Python 3"
    },
    "language_info": {
      "name": "python"
    }
  },
  "cells": [
    {
      "cell_type": "markdown",
      "metadata": {
        "id": "xL47LuiJnpo_"
      },
      "source": [
        "# Chapter 04 신경망 학습\n",
        "\n"
      ]
    },
    {
      "cell_type": "markdown",
      "metadata": {
        "id": "0Q2-QSZPV7TQ"
      },
      "source": [
        "학습 : 훈련 데이터로부터 가중치 매개변수의 최적값을 자동으로 획득하는 것\n",
        "\n",
        "규칙을 '사람' 이 만드는 방식에서 '기계'가 데이터로부터 배우는 방식으로 패러다임이 전환됨.\n",
        "\n",
        "- 머신러닝에서는 특징을 사람이 설계하는 것에 반해, **신경망**은 중요한 특성까지도 스스로 학습한다.\n",
        "\n",
        " 딥러닝을 'end-to-end machine learning' 이라고도 한다.\n",
        "\n",
        " ---\n"
      ]
    },
    {
      "cell_type": "markdown",
      "metadata": {
        "id": "ta_tlm4RL4GF"
      },
      "source": [
        "### 4.2 손실 함수"
      ]
    },
    {
      "cell_type": "markdown",
      "metadata": {
        "id": "eZ7cZtO8XENG"
      },
      "source": [
        "손실함수 (비용함수) : 신경망 성능의 '나쁨'을 나타내는 지표\n",
        "\n",
        "- 오차제곱합 (SSE) :\n",
        "\n",
        " **$E$ = $\\frac{1}{2}$ $∑$ (예측값 - 정답)²**\n",
        "\n",
        " $\\frac{1}{2}$ 을 붙이는 이유는 미분해서 계수를 1로 만들기 위해서"
      ]
    },
    {
      "cell_type": "code",
      "metadata": {
        "colab": {
          "base_uri": "https://localhost:8080/"
        },
        "id": "z2_8A4JYY6XB",
        "outputId": "f51b5c80-8b85-40b7-d3e8-b3f390cf27f6"
      },
      "source": [
        "import numpy as np\n",
        "\n",
        "# 오차제곱합 구현\n",
        "def sum_squares_error(y, t):\n",
        "    return 0.5 * np.sum((y-t)**2)\n",
        "\n",
        "t = [0 ,0, 1, 0, 0, 0, 0, 0 ,0, 0]   # 정답 == 2라는 뜻 (원-핫 인코딩)\n",
        "\n",
        "# y: 신경망의 소프트맥스 함수의 출력\n",
        "y = [0.1, 0.05, 0.6, 0.0, 0.05, 0.1, 0.0, 0.1, 0.0, 0.0]   # '2'일 확률이 제일 높다고 추정\n",
        "print(sum_squares_error(np.array(y), np.array(t)))\n",
        "\n",
        "y = [0.1, 0.05, 0.1, 0.0, 0.05, 0.1, 0.0, 0.6, 0.0, 0.0]   # '7'일 확률이 제일 높다고 추정\n",
        "print(sum_squares_error(np.array(y), np.array(t)))\n",
        "\n",
        "# 손실함수의 값이 더 작은 것을 정답에 더 가까울 것으로 판단!"
      ],
      "execution_count": 1,
      "outputs": [
        {
          "output_type": "stream",
          "text": [
            "0.09750000000000003\n",
            "0.5975\n"
          ],
          "name": "stdout"
        }
      ]
    },
    {
      "cell_type": "markdown",
      "metadata": {
        "id": "7UbDgZNkjZcp"
      },
      "source": [
        "- 교차 엔트로피 오차 (CEE) : \n",
        "\n",
        " **$E$ = $-$ $∑$ (정답 x log(예측값))**\n",
        "\n",
        " --> 정답일 때 1, 아닐 때 0이므로 정답일 때의 추정의 자연로그를 계산하는 식이 된다. ( 원-핫 인코딩 )"
      ]
    },
    {
      "cell_type": "code",
      "metadata": {
        "colab": {
          "base_uri": "https://localhost:8080/",
          "height": 302
        },
        "id": "S7zNYk2_jRH2",
        "outputId": "863c790a-4fe9-4777-da7e-5034ce5fd064"
      },
      "source": [
        "# 자연로그 그래프\n",
        "import matplotlib.pyplot as plt\n",
        "x = np.arange(0.0, 1.0, 0.05)\n",
        "y = np.log(x)\n",
        "plt.plot(x, y)\n",
        "plt.xlim(0, 1)\n",
        "plt.show()"
      ],
      "execution_count": 46,
      "outputs": [
        {
          "output_type": "stream",
          "text": [
            "/usr/local/lib/python3.7/dist-packages/ipykernel_launcher.py:4: RuntimeWarning: divide by zero encountered in log\n",
            "  after removing the cwd from sys.path.\n"
          ],
          "name": "stderr"
        },
        {
          "output_type": "display_data",
          "data": {
            "image/png": "[encoded data removed]",
            "text/plain": [
              "<Figure size 432x288 with 1 Axes>"
            ]
          },
          "metadata": {
            "tags": [],
            "needs_background": "light"
          }
        }
      ]
    },
    {
      "cell_type": "markdown",
      "metadata": {
        "id": "7PllUJz56Nw_"
      },
      "source": [
        "정답의 예측값 ( 신경망의 출력값 )이 0에 가까울수록 오차가 커지고, 1에 가까워질수록 오차가 작아진다!"
      ]
    },
    {
      "cell_type": "code",
      "metadata": {
        "id": "oCYrZ4Vv6lQ9"
      },
      "source": [
        "# 교차 엔트로피 구현\n",
        "def cross_entropy_error(y, t):\n",
        "    delta = 1e-7    # 아주 작은 값\n",
        "    return -np.sum(t * np.log(y+delta))\n",
        "\n",
        "# delta를 더해준 이유는 log()안에 0이 들어가면 오류가 발생하기 때문"
      ],
      "execution_count": 3,
      "outputs": []
    },
    {
      "cell_type": "code",
      "metadata": {
        "colab": {
          "base_uri": "https://localhost:8080/"
        },
        "id": "4JMbVhNe66cc",
        "outputId": "3d687cb5-3565-40c6-cea0-a619649a766b"
      },
      "source": [
        "t = [0, 0, 1, 0, 0, 0, 0, 0, 0, 0]  # 정답은 '2'\n",
        "y = [0.1, 0.05, 0.6, 0.0, 0.05, 0.1, 0.0, 0.1, 0.0, 0.0]  # 정답 '2'로 예측\n",
        "print(cross_entropy_error(np.array(y), np.array(t)))\n",
        "\n",
        "y = [0.1, 0.05, 0.1, 0.0, 0.05, 0.1, 0.0, 0.6, 0.0, 0.0]  # 정답 '7'로 예측\n",
        "print(cross_entropy_error(np.array(y), np.array(t)))    "
      ],
      "execution_count": 4,
      "outputs": [
        {
          "output_type": "stream",
          "text": [
            "0.510825457099338\n",
            "2.302584092994546\n"
          ],
          "name": "stdout"
        }
      ]
    },
    {
      "cell_type": "markdown",
      "metadata": {
        "id": "tPEYdFyM8n2P"
      },
      "source": [
        "한 개의 데이터에 대해서 손실함수를 생각했는데, N개의 손실함수의 값을 다 구하여 평균을 내야한다! ( 평균 손실 함수 )\n",
        "\n",
        " **$E$ = $-$ $\\frac{1}{N}$ $∑$ (정답 x log(예측값))**   \n",
        " \n",
        "[ $N$ = 데이터 개수 ]\n",
        "\n",
        "--> 데이터가 많아지면 시간이 많이 걸림...\n",
        "\n",
        "- **미니배치 학습** :\n",
        "\n",
        " 훈련 데이터로부터 일부만 골라 학습을 수행"
      ]
    },
    {
      "cell_type": "code",
      "metadata": {
        "colab": {
          "base_uri": "https://localhost:8080/"
        },
        "id": "2Ds3Uk5U7dvE",
        "outputId": "fb6f27ee-6aba-434a-e11b-edd509a8d724"
      },
      "source": [
        "# mnist 데이터셋 불러오기\n",
        "import sys\n",
        "import os\n",
        "import numpy as np\n",
        "path = '/content/drive/MyDrive/밑바닥부터시작하는딥러닝/deep-learning-from-scratch-master'\n",
        "sys.path.append(path)\n",
        "from dataset.mnist import load_mnist\n",
        "\n",
        "(x_train, t_train), (x_test, t_test) = load_mnist(normalize=True, one_hot_label=True) # 정규화o, 원-핫 인코딩o\n",
        "\n",
        "print(x_train.shape)    # 훈련 이미지\n",
        "print(t_train.shape)    # 정답 레이블"
      ],
      "execution_count": 5,
      "outputs": [
        {
          "output_type": "stream",
          "text": [
            "(60000, 784)\n",
            "(60000, 10)\n"
          ],
          "name": "stdout"
        }
      ]
    },
    {
      "cell_type": "code",
      "metadata": {
        "colab": {
          "base_uri": "https://localhost:8080/"
        },
        "id": "uj9mG74l-VFj",
        "outputId": "2ca0394c-7ca6-4df8-9f0b-bef2b04de17f"
      },
      "source": [
        "train_size = x_train.shape[0]  # == len(x_train)\n",
        "batch_size = 10   # 배치크기 지정\n",
        "batch_mask = np.random.choice(train_size, batch_size)  # random.choice(x, n): 0이상 x미만인 n개의 난수 생성\n",
        "x_batch = x_train[batch_mask]   # batch_size 만큼 뽑음\n",
        "t_batch = t_train[batch_mask]\n",
        "print(x_batch.shape)\n",
        "print(t_batch.shape)"
      ],
      "execution_count": 6,
      "outputs": [
        {
          "output_type": "stream",
          "text": [
            "(10, 784)\n",
            "(10, 10)\n"
          ],
          "name": "stdout"
        }
      ]
    },
    {
      "cell_type": "code",
      "metadata": {
        "colab": {
          "base_uri": "https://localhost:8080/"
        },
        "id": "CKGs8nmk_kKA",
        "outputId": "0ce952f4-7f36-4f90-8eab-9da009c463b1"
      },
      "source": [
        "np.random.choice(60000,10)"
      ],
      "execution_count": 7,
      "outputs": [
        {
          "output_type": "execute_result",
          "data": {
            "text/plain": [
              "array([    8,  6975, 36820, 43907, 24384, 51918,  5604, 57945, 50025,\n",
              "       49353])"
            ]
          },
          "metadata": {
            "tags": []
          },
          "execution_count": 7
        }
      ]
    },
    {
      "cell_type": "code",
      "metadata": {
        "id": "OULdKzV7A_A4"
      },
      "source": [
        "# (배치용) 교차 엔트로피 구현하기\n",
        "def cross_entropy_error(y, t):  # y: 신경망의 출력, t: 정답 레이블\n",
        "    if y.ndim == 1:               # 데이터가 하나라면 reshape 적용 (ndim이 2인 것들과 통일하기 위해서)\n",
        "        t = t.reshape(1, t.size)  # t.size : t의 총 원소 개수\n",
        "        y = y.reshape(1, y.size)  # == y.flatten()\n",
        "    \n",
        "    batch_size = y.shape[0]\n",
        "    return -np.sum(t * np.log(y + 1e-7)) / batch_size"
      ],
      "execution_count": 8,
      "outputs": []
    },
    {
      "cell_type": "code",
      "metadata": {
        "id": "IBHj1bWbCFPm"
      },
      "source": [
        "# 정답 레이블이 원-핫 인코딩이 아닌 경우\n",
        "def cross_entropy_error(y, t):\n",
        "    if y.ndim == 1:\n",
        "        t = t.reshape(1, t.size)\n",
        "        y = y.reshape(1, y.size)\n",
        "\n",
        "    batch_size = y.shape[0]\n",
        "    return -np.sum(np.log(y[np.arange(batch_size), t] + 1e-7)) / batch_size\n",
        "\n",
        "    # 원-핫 인코딩에서 정답이 0인 경우는 무시하고 계산하는 느낌"
      ],
      "execution_count": 9,
      "outputs": []
    },
    {
      "cell_type": "markdown",
      "metadata": {
        "id": "50QC7jLkJRIm"
      },
      "source": [
        "정확도 대신 **손실함수**를 사용하는 이유 :\n",
        "\n",
        "- 신경망에서 손실함수를 가능한 작게 하는 매개변수의 값을 찾는데에 '미분'이 중요한 역할을 하기 때문에.\n",
        "\n",
        "- 정확도를 지표로 하면 매개변수의 미분이 대부분의 장소에서 0이 된다.\n",
        "\n",
        " 정확도는 매개변수의 미소한 변화에 거의 반응을 보이지 않고, 있더라도 불연속적으로 갑자기 변화한다..\n",
        "\n",
        "== '계단 함수'를 활성화 함수로 사용하지 않는 이유와 같다"
      ]
    },
    {
      "cell_type": "markdown",
      "metadata": {
        "id": "H50XneGLL8hU"
      },
      "source": [
        "### 4.3 수치 미분"
      ]
    },
    {
      "cell_type": "markdown",
      "metadata": {
        "id": "zOD3p-z8b0NK"
      },
      "source": [
        "미분 : 한순간의 변화량\n",
        "\n",
        "$\\frac{df(x)}{dx} = lim_{x \\to \\infty}\\frac{f(x+h) - f(x)}{h}$"
      ]
    },
    {
      "cell_type": "code",
      "metadata": {
        "id": "QRav-dBkFklB"
      },
      "source": [
        "# 함수를 미분하는 계산 구현\n",
        "\n",
        "# 나쁜 구현 예\n",
        "def numerical_diff(f, x):\n",
        "    h = 10e-50\n",
        "    return (f(x+h)-f(x)) / h"
      ],
      "execution_count": 10,
      "outputs": []
    },
    {
      "cell_type": "markdown",
      "metadata": {
        "id": "SgLItJqPewXy"
      },
      "source": [
        "- 문제1) 반올림 오차 발생\n",
        "\n",
        " 너무 작은 값이 생략되어 오차가 생김\n",
        "\n",
        "- 문제2) f의 차분\n",
        "\n",
        " 미분값이 엄밀히 일치 하지 않음 (h를 무한히 0으로 좁히는 것이 불가능하기 때문)\n",
        "\n",
        " 이 오차를 줄이기 위해 (x+h) 와 (x-h) 일 때의 f 차분을  계산하는 방법을 쓰기도 함 --> **'중심 차분' (중앙 차분)** 이라 한다.\n",
        "\n",
        "전방 차분: $f(x+h) - f(x)$\n",
        "\n",
        "중앙 차분: $f(x+h) - f(x-h)$"
      ]
    },
    {
      "cell_type": "code",
      "metadata": {
        "colab": {
          "base_uri": "https://localhost:8080/"
        },
        "id": "JFTzwyHEdiHv",
        "outputId": "43279d50-a89d-4b26-a51d-2181655bc352"
      },
      "source": [
        "np.float32(1e-50)   # 반올림 오차"
      ],
      "execution_count": 11,
      "outputs": [
        {
          "output_type": "execute_result",
          "data": {
            "text/plain": [
              "0.0"
            ]
          },
          "metadata": {
            "tags": []
          },
          "execution_count": 11
        }
      ]
    },
    {
      "cell_type": "markdown",
      "metadata": {
        "id": "QiXfXnmWfj8o"
      },
      "source": [
        "- **수치 미분** : 아주 작은 차분으로 미분하는 것 ( 근사치로 계산 )\n",
        "\n",
        "차분 : 임의 두 점에서의 함수 값들의 차이\n",
        "\n",
        "- 해석적 미분 : 오차를 포함하지 않는 '진정한 미분' 값을 구함"
      ]
    },
    {
      "cell_type": "code",
      "metadata": {
        "id": "ibytpTCxePny"
      },
      "source": [
        "# 앞의 문제점을 개선한 수치미분 구현\n",
        "def numerical_diff(f, x):   # x에서의 수치 미분값을 구하는 함수\n",
        "    h = 1e-4  # 0.0001\n",
        "    return (f(x+h) - f(x-h)) / (2*h)"
      ],
      "execution_count": 12,
      "outputs": []
    },
    {
      "cell_type": "code",
      "metadata": {
        "id": "wWualhpugJOu"
      },
      "source": [
        "def function_1(x):\n",
        "    return 0.01*x**2 + 0.1*x"
      ],
      "execution_count": 13,
      "outputs": []
    },
    {
      "cell_type": "code",
      "metadata": {
        "colab": {
          "base_uri": "https://localhost:8080/",
          "height": 279
        },
        "id": "ZBew4PE0gNfo",
        "outputId": "a98a592e-6738-4481-c2e8-0b8bbda3608a"
      },
      "source": [
        "import numpy as np\n",
        "import matplotlib.pyplot as plt\n",
        "\n",
        "x = np.arange(0.0, 20.0, 0.1)\n",
        "y = function_1(x)\n",
        "plt.xlabel('x')\n",
        "plt.ylabel('f(x)')\n",
        "plt.plot(x, y)\n",
        "plt.show()"
      ],
      "execution_count": 14,
      "outputs": [
        {
          "output_type": "display_data",
          "data": {
            "image/png": "[encoded data removed]",
            "text/plain": [
              "<Figure size 432x288 with 1 Axes>"
            ]
          },
          "metadata": {
            "tags": [],
            "needs_background": "light"
          }
        }
      ]
    },
    {
      "cell_type": "code",
      "metadata": {
        "colab": {
          "base_uri": "https://localhost:8080/"
        },
        "id": "djme3z4IgtEe",
        "outputId": "f09a22d8-695e-48f3-e6af-a6aed39f665d"
      },
      "source": [
        "print(numerical_diff(function_1, 5))\n",
        "print(numerical_diff(function_1, 10))"
      ],
      "execution_count": 15,
      "outputs": [
        {
          "output_type": "stream",
          "text": [
            "0.1999999999990898\n",
            "0.2999999999986347\n"
          ],
          "name": "stdout"
        }
      ]
    },
    {
      "cell_type": "markdown",
      "metadata": {
        "id": "OJ7aBNp3g_7P"
      },
      "source": [
        "(function_1) 0.01$x^2$ + 0.1$x$ 의 해석적 해 :\n",
        "\n",
        "$\\frac{df(x)}{dx} = 0.02x + 0.1$ \n",
        "\n",
        "--> 오차가매우 작다."
      ]
    },
    {
      "cell_type": "code",
      "metadata": {
        "colab": {
          "base_uri": "https://localhost:8080/",
          "height": 316
        },
        "id": "GMfhw_RSg1JG",
        "outputId": "300671d2-a574-40d5-b4be-67c0cdca20cf"
      },
      "source": [
        "def tangent_line(f, x):     # 기울기 방정식을 구하는 함수\n",
        "    d = numerical_diff(f, x)\n",
        "    print(d)\n",
        "    y = f(x) - d*x  # y절편\n",
        "    return lambda t: d*t + y   # 함수를 return\n",
        "     \n",
        "x = np.arange(0.0, 20.0, 0.1)\n",
        "y = function_1(x)\n",
        "plt.xlabel(\"x\")\n",
        "plt.ylabel(\"f(x)\")\n",
        "\n",
        "tf = tangent_line(function_1, 5)\n",
        "tf1 = tangent_line(function_1, 10)\n",
        "y2 = tf(x)\n",
        "y3 = tf1(x)\n",
        "\n",
        "plt.plot(x, y)\n",
        "plt.plot(x, y2)\n",
        "plt.plot(x, y3)\n",
        "plt.show()"
      ],
      "execution_count": 16,
      "outputs": [
        {
          "output_type": "stream",
          "text": [
            "0.1999999999990898\n",
            "0.2999999999986347\n"
          ],
          "name": "stdout"
        },
        {
          "output_type": "display_data",
          "data": {
            "image/png": "[encoded data removed]",
            "text/plain": [
              "<Figure size 432x288 with 1 Axes>"
            ]
          },
          "metadata": {
            "tags": [],
            "needs_background": "light"
          }
        }
      ]
    },
    {
      "cell_type": "markdown",
      "metadata": {
        "id": "uLm9qUPZjqh6"
      },
      "source": [
        "편미분 : 변수가 여렷인 함수에 대한 미분"
      ]
    },
    {
      "cell_type": "code",
      "metadata": {
        "id": "-K9R5rADhfp_"
      },
      "source": [
        "def function_2(x):\n",
        "    return x[0]**2 + x[1]**2\n",
        "    # 또는 np.sum(x**2)"
      ],
      "execution_count": 17,
      "outputs": []
    },
    {
      "cell_type": "markdown",
      "metadata": {
        "id": "duC1MP-HmCVL"
      },
      "source": [
        "(function_2) $f(x_0, x_1) = x_0^2 + x_1^2$"
      ]
    },
    {
      "cell_type": "code",
      "metadata": {
        "colab": {
          "base_uri": "https://localhost:8080/"
        },
        "id": "5GFpqd2mk-eY",
        "outputId": "5ee1fa0c-fb13-4477-d53f-4917b86264f4"
      },
      "source": [
        "# x0에 대한 편미분 (x0=3, x1=4 일 때)\n",
        "def function_tmp1(x0):\n",
        "    return x0*x0 + 4.0**2.0\n",
        "\n",
        "numerical_diff(function_tmp1, 3.0)"
      ],
      "execution_count": 18,
      "outputs": [
        {
          "output_type": "execute_result",
          "data": {
            "text/plain": [
              "6.00000000000378"
            ]
          },
          "metadata": {
            "tags": []
          },
          "execution_count": 18
        }
      ]
    },
    {
      "cell_type": "markdown",
      "metadata": {
        "id": "9KxO5sxgmkHs"
      },
      "source": [
        "### 4.4 기울기"
      ]
    },
    {
      "cell_type": "markdown",
      "metadata": {
        "id": "aOQn2V1rml2E"
      },
      "source": [
        "- 기울기 : 모든 변수의 편미분을 벡터로 정리한 것\n",
        "\n",
        "ex) 변수가 $x_0, x_1$ 일 때,\n",
        "\n",
        "기울기 : $(\\frac{∂f}{∂x_0}, \\frac{∂f}{∂x_1})$"
      ]
    },
    {
      "cell_type": "code",
      "metadata": {
        "colab": {
          "base_uri": "https://localhost:8080/"
        },
        "id": "_ywfsGCcnD5-",
        "outputId": "536a76ed-7f91-4df2-9ab4-ca7e952c9938"
      },
      "source": [
        "def numerical_gradient(f, x):   # x: 가중치로 생각\n",
        "    h = 1e-4\n",
        "    grad = np.zeros_like(x)  # x와 형상이 같은 배열 생성 (원소는 모두 0)\n",
        "\n",
        "    for idx in range(x.size):\n",
        "        tmp_val = x[idx]\n",
        "        # f(x+h) 계산\n",
        "        x[idx] = tmp_val + h\n",
        "        fxh1 = f(x)\n",
        "\n",
        "        # f(x-h) 계산\n",
        "        x[idx] = tmp_val - h\n",
        "        fxh2 = f(x)\n",
        "\n",
        "        grad[idx] = (fxh1 - fxh2) / (2*h)  # 중앙차분이라서 2*h로 나눠줌\n",
        "        x[idx] = tmp_val   # 값 복원\n",
        "    return grad\n",
        "\n",
        "print(numerical_gradient(function_2, np.array([3.0, 4.0])))\n",
        "print(numerical_gradient(function_2, np.array([0.0, 2.0])))"
      ],
      "execution_count": 19,
      "outputs": [
        {
          "output_type": "stream",
          "text": [
            "[6. 8.]\n",
            "[0. 4.]\n"
          ],
          "name": "stdout"
        }
      ]
    },
    {
      "cell_type": "code",
      "metadata": {
        "colab": {
          "base_uri": "https://localhost:8080/",
          "height": 301
        },
        "id": "24PZ937lkKVj",
        "outputId": "ab7b3be9-6040-4cf3-85ed-d638d7ceb652"
      },
      "source": [
        "# 기울기의 결과에 마이너스를 붙인 벡터 그리기\n",
        "import numpy as np\n",
        "import matplotlib.pylab as plt\n",
        "from mpl_toolkits.mplot3d import Axes3D\n",
        "\n",
        "def _numerical_gradient_no_batch(f, x):\n",
        "    h = 1e-4 # 0.0001\n",
        "    grad = np.zeros_like(x) # x와 형상이 같은 배열을 생성\n",
        "    \n",
        "    for idx in range(x.size):\n",
        "        tmp_val = x[idx]\n",
        "        \n",
        "        # f(x+h) 계산\n",
        "        x[idx] = float(tmp_val) + h\n",
        "        fxh1 = f(x)\n",
        "        \n",
        "        # f(x-h) 계산\n",
        "        x[idx] = tmp_val - h \n",
        "        fxh2 = f(x) \n",
        "        \n",
        "        grad[idx] = (fxh1 - fxh2) / (2*h)\n",
        "        x[idx] = tmp_val # 값 복원\n",
        "        \n",
        "    return grad\n",
        "\n",
        "\n",
        "def numerical_gradient(f, X):\n",
        "    if X.ndim == 1:\n",
        "        return _numerical_gradient_no_batch(f, X)\n",
        "    else:\n",
        "        grad = np.zeros_like(X)\n",
        "        \n",
        "        for idx, x in enumerate(X):\n",
        "            grad[idx] = _numerical_gradient_no_batch(f, x)\n",
        "        \n",
        "        return grad\n",
        "\n",
        "\n",
        "def function_2(x):\n",
        "    if x.ndim == 1:\n",
        "        return np.sum(x**2)\n",
        "    else:\n",
        "        return np.sum(x**2, axis=1)\n",
        "\n",
        "\n",
        "def tangent_line(f, x):\n",
        "    d = numerical_gradient(f, x)\n",
        "    print(d)\n",
        "    y = f(x) - d*x\n",
        "    return lambda t: d*t + y\n",
        "     \n",
        "if __name__ == '__main__':\n",
        "    x0 = np.arange(-2, 2.5, 0.25)\n",
        "    x1 = np.arange(-2, 2.5, 0.25)\n",
        "    X, Y = np.meshgrid(x0, x1)\n",
        "    \n",
        "    X = X.flatten()\n",
        "    Y = Y.flatten()\n",
        "    \n",
        "    grad = numerical_gradient(function_2, np.array([X, Y]) )\n",
        "    \n",
        "    plt.figure()\n",
        "    plt.quiver(X, Y, -grad[0], -grad[1],  angles=\"xy\",color=\"#666666\")#,headwidth=10,scale=40,color=\"#444444\")\n",
        "    plt.xlim([-2, 2])\n",
        "    plt.ylim([-2, 2])\n",
        "    plt.xlabel('x0')\n",
        "    plt.ylabel('x1')\n",
        "    plt.grid()\n",
        "    plt.legend()\n",
        "    plt.draw()\n",
        "    plt.show()"
      ],
      "execution_count": 20,
      "outputs": [
        {
          "output_type": "stream",
          "text": [
            "No handles with labels found to put in legend.\n"
          ],
          "name": "stderr"
        },
        {
          "output_type": "display_data",
          "data": {
            "image/png": "[encoded data removed]",
            "text/plain": [
              "<Figure size 432x288 with 1 Axes>"
            ]
          },
          "metadata": {
            "tags": [],
            "needs_background": "light"
          }
        }
      ]
    },
    {
      "cell_type": "markdown",
      "metadata": {
        "id": "Y438_y7ZzOIK"
      },
      "source": [
        "위 그래프에서 화살표가 가르키는 쪽은 '가장 낮은 장소 (최솟값)' 이다\n",
        "\n",
        "- **기울기가 가르키는 쪽은 각 장소에서 함수의 출력 값을 가장 크게 줄이는 방향이다!**\n",
        "\n",
        "---"
      ]
    },
    {
      "cell_type": "markdown",
      "metadata": {
        "id": "Id1GkWY70J7c"
      },
      "source": [
        "**경사법** : 기울기를 잘 이용해 함수의 최솟값을 찾으려는 것\n",
        "\n",
        "기울기가 0 이라고 무조건 최솟값이라고는 할 수 없다! (ex. 안장점)\n",
        "\n",
        "$x_0 = x_0 - η\\frac{∂f}{∂x_0}$\n",
        "\n",
        "$x_1 = x_1 - η\\frac{∂f}{∂x_1}$\n",
        "\n",
        "[ η : 학습률 ] -- 갱신하는 양을 의미 ( 너무 크거나 너무 작으면 좋은 결과를 얻지 못함 )"
      ]
    },
    {
      "cell_type": "code",
      "metadata": {
        "id": "8EtchEhszT0h"
      },
      "source": [
        "# 경사 하강법 구현\n",
        "def gradient_descent(f, init_x, lr=0.01, step_num=100):\n",
        "    x = init_x   # 초깃값\n",
        "\n",
        "    for i in range(step_num):   # step_num: 반복 횟수\n",
        "        grad = numerical_gradient(f, x)\n",
        "        x -= lr * grad\n",
        "    return x"
      ],
      "execution_count": 21,
      "outputs": []
    },
    {
      "cell_type": "markdown",
      "metadata": {
        "id": "eYP4Qcuu2baG"
      },
      "source": [
        "$f(x_0, x_1) = x_0^2 + x_1^2$ 의 최솟값 구하기"
      ]
    },
    {
      "cell_type": "code",
      "metadata": {
        "colab": {
          "base_uri": "https://localhost:8080/"
        },
        "id": "t9ImLSDY12LJ",
        "outputId": "3048543e-f20b-4324-f655-78a98d22314a"
      },
      "source": [
        "def function_2(x):\n",
        "    return x[0]**2 + x[1]**2\n",
        "\n",
        "init_x = np.array([-3.0, 4.0])\n",
        "print(gradient_descent(function_2, init_x=init_x, lr=0.1, step_num=100))\n",
        "\n",
        "# 거의 (0,0)에 가까운 결과이므로 정확한 결과를 얻음"
      ],
      "execution_count": 22,
      "outputs": [
        {
          "output_type": "stream",
          "text": [
            "[-6.11110793e-10  8.14814391e-10]\n"
          ],
          "name": "stdout"
        }
      ]
    },
    {
      "cell_type": "code",
      "metadata": {
        "colab": {
          "base_uri": "https://localhost:8080/",
          "height": 279
        },
        "id": "CvvqXJyW2q9v",
        "outputId": "f0b95d27-85cc-41e3-a972-53998970d4ce"
      },
      "source": [
        "# 위 경사법에 의한 갱신 과정을 그림으로 표현\n",
        "def gradient_descent(f, init_x, lr=0.01, step_num=100):\n",
        "    x = init_x\n",
        "    x_history = []\n",
        "\n",
        "    for i in range(step_num):\n",
        "        x_history.append( x.copy() )\n",
        "\n",
        "        grad = numerical_gradient(f, x)\n",
        "        x -= lr * grad\n",
        "\n",
        "    return x, np.array(x_history)   # 그래프를 그리기 위해서 x_history 반환\n",
        "\n",
        "\n",
        "def function_2(x):\n",
        "    return x[0]**2 + x[1]**2\n",
        "\n",
        "init_x = np.array([-3.0, 4.0])    \n",
        "\n",
        "lr = 0.1\n",
        "step_num = 20\n",
        "x, x_history = gradient_descent(function_2, init_x, lr=lr, step_num=step_num)\n",
        "\n",
        "plt.plot( [-5, 5], [0,0], '--b')\n",
        "plt.plot( [0,0], [-5, 5], '--b')\n",
        "plt.plot(x_history[:,0], x_history[:,1], 'o')\n",
        "\n",
        "plt.xlim(-3.5, 3.5)\n",
        "plt.ylim(-4.5, 4.5)\n",
        "plt.xlabel(\"X0\")\n",
        "plt.ylabel(\"X1\")\n",
        "plt.show()"
      ],
      "execution_count": 23,
      "outputs": [
        {
          "output_type": "display_data",
          "data": {
            "image/png": "[encoded data removed]",
            "text/plain": [
              "<Figure size 432x288 with 1 Axes>"
            ]
          },
          "metadata": {
            "tags": [],
            "needs_background": "light"
          }
        }
      ]
    },
    {
      "cell_type": "code",
      "metadata": {
        "colab": {
          "base_uri": "https://localhost:8080/"
        },
        "id": "D2xgfI1B3NOF",
        "outputId": "667019c2-6c5f-4a09-ade2-34760254b7ef"
      },
      "source": [
        "def gradient_descent(f, init_x, lr=0.01, step_num=100):\n",
        "    x = init_x\n",
        "\n",
        "    for i in range(step_num):\n",
        "        grad = numerical_gradient(f, x)\n",
        "        x -= lr * grad\n",
        "    return x\n",
        "\n",
        "# 학습률이 너무 큰 예: lr=10.0\n",
        "init_x = np.array([-3.0, 4.0])\n",
        "print(gradient_descent(function_2, init_x=init_x, lr=10.0, step_num = 100))"
      ],
      "execution_count": 24,
      "outputs": [
        {
          "output_type": "stream",
          "text": [
            "[-2.58983747e+13 -1.29524862e+12]\n"
          ],
          "name": "stdout"
        }
      ]
    },
    {
      "cell_type": "code",
      "metadata": {
        "colab": {
          "base_uri": "https://localhost:8080/"
        },
        "id": "cJAhYm513hp0",
        "outputId": "4e870012-522c-420c-8448-01a622cfbab7"
      },
      "source": [
        "# 학습률이 너무 작은 예: lr=1e-10\n",
        "init_x = np.array([-3.0, 4.0])\n",
        "print(gradient_descent(function_2, init_x=init_x, lr=1e-10, step_num=100))\n",
        "\n",
        "# 학습률은 하이퍼파라미터이므로 사람이 직접 설정해 주어야 함"
      ],
      "execution_count": 25,
      "outputs": [
        {
          "output_type": "stream",
          "text": [
            "[-2.99999994  3.99999992]\n"
          ],
          "name": "stdout"
        }
      ]
    },
    {
      "cell_type": "code",
      "metadata": {
        "id": "kXAgOCy04bij"
      },
      "source": [
        "# 신경망을 예로 들어 실제로 기울기를 구하는 코드 구현\n",
        "import sys\n",
        "import os\n",
        "path = \"/content/drive/MyDrive/밑바닥부터시작하는딥러닝/deep-learning-from-scratch-master\"\n",
        "sys.path.append(path)\n",
        "import numpy as np\n",
        "from common.functions import softmax, cross_entropy_error\n",
        "from common.gradient import numerical_gradient\n",
        "\n",
        "class simpleNet(object):\n",
        "    def __init__(self):\n",
        "        self.W = np.random.randn(2,3) # 정규분포로 초기화\n",
        "\n",
        "    def predict(self, x):\n",
        "        return np.dot(x, self.W)\n",
        "\n",
        "    def loss(self, x, t):\n",
        "        z = self.predict(x)\n",
        "        y = softmax(z)\n",
        "        loss = cross_entropy_error(y, t)\n",
        "\n",
        "        return loss"
      ],
      "execution_count": 26,
      "outputs": []
    },
    {
      "cell_type": "code",
      "metadata": {
        "colab": {
          "base_uri": "https://localhost:8080/"
        },
        "id": "kdqmnyEW9fz8",
        "outputId": "479d3e08-a4d1-4543-a99d-dd66b7d58e99"
      },
      "source": [
        "net = simpleNet()\n",
        "print(net.W)"
      ],
      "execution_count": 27,
      "outputs": [
        {
          "output_type": "stream",
          "text": [
            "[[-0.94468787  1.64455305 -2.22985933]\n",
            " [-1.27524392  0.4320683   0.97610273]]\n"
          ],
          "name": "stdout"
        }
      ]
    },
    {
      "cell_type": "code",
      "metadata": {
        "colab": {
          "base_uri": "https://localhost:8080/"
        },
        "id": "0t6EB8pP9kzv",
        "outputId": "335a5369-5f3d-4363-db75-713fce636b36"
      },
      "source": [
        "x = np.array([0.6, 0.9])\n",
        "p = net.predict(x)\n",
        "print(p)\n",
        "print(np.argmax(p))\n",
        "\n",
        "t = np.array([0, 0, 1])   # 정답 레이블\n",
        "net.loss(x, t)"
      ],
      "execution_count": 28,
      "outputs": [
        {
          "output_type": "stream",
          "text": [
            "[-1.71453225  1.3755933  -0.45942314]\n",
            "1\n"
          ],
          "name": "stdout"
        },
        {
          "output_type": "execute_result",
          "data": {
            "text/plain": [
              "2.021584144531705"
            ]
          },
          "metadata": {
            "tags": []
          },
          "execution_count": 28
        }
      ]
    },
    {
      "cell_type": "code",
      "metadata": {
        "colab": {
          "base_uri": "https://localhost:8080/"
        },
        "id": "EdL3yxdK-pFE",
        "outputId": "795b769b-6dda-4826-eb41-df0f4a1966e4"
      },
      "source": [
        "def f(W):\n",
        "    return net.loss(x, t)\n",
        "\n",
        "dW = numerical_gradient(f, net.W)\n",
        "print(dW)\n",
        "print()\n",
        "\n",
        "f = lambda w: net.loss(x, t)    # 위 def 방식이랑 같다\n",
        "dW = numerical_gradient(f, net.W)\n",
        "print(dW)"
      ],
      "execution_count": 29,
      "outputs": [
        {
          "output_type": "stream",
          "text": [
            "[[ 0.0226517   0.49788068 -0.52053238]\n",
            " [ 0.03397755  0.74682101 -0.78079856]]\n",
            "\n",
            "[[ 0.0226517   0.49788068 -0.52053238]\n",
            " [ 0.03397755  0.74682101 -0.78079856]]\n"
          ],
          "name": "stdout"
        }
      ]
    },
    {
      "cell_type": "markdown",
      "metadata": {
        "id": "ZGsg3oloKjhI"
      },
      "source": [
        "### 4.5 학습 알고리즘 구현하기"
      ]
    },
    {
      "cell_type": "markdown",
      "metadata": {
        "id": "gudeg0oHM12U"
      },
      "source": [
        "신경망 학습 : 적응 가능한 가중치와 편향을 훈련 데이터에 적응하도록 조정하는 과정\n",
        "\n",
        "1. 미니배치\n",
        "\n",
        " 훈련 데이터 중 일부를 무작위로 가져온다. ( 그 미니배치의 손실 함수의 값을 줄이는 것이 목표 )\n",
        "\n",
        "2. 기울기 산출\n",
        "\n",
        " 각 가중치 매개변수의 기울기를 구한다.\n",
        "\n",
        "3. 매개변수 갱신\n",
        "\n",
        " 가중치 매개변수를 기울기 방향으로 아주 조금 갱신\n",
        "\n",
        "4. 1 ~ 3 단계를 반복"
      ]
    },
    {
      "cell_type": "code",
      "metadata": {
        "id": "_qpuLvr0KDEp"
      },
      "source": [
        "# 2층 신경망을 하나의 클래스로 구현\n",
        "\n",
        "from common.functions import *  # 모두 import\n",
        "from common.gradient import numerical_gradient\n",
        "\n",
        "class TwoLayerNet:\n",
        "    def __init__(self, input_size, hidden_size, output_size, weight_init_std=0.01):\n",
        "        # 가중치 초기화\n",
        "        self.params = {}    # 신경망의 매개변수를 보관하는 딕셔너리 변수\n",
        "        self.params['W1'] = weight_init_std * np.random.randn(input_size, hidden_size)\n",
        "        self.params['b1'] = np.zeros(hidden_size)\n",
        "        self.params['W2'] = weight_init_std * np.random.randn(hidden_size, output_size) # 가중치 매개변수는 정규분포를 따르는 난수로 초기화\n",
        "        self.params['b2'] = np.zeros(output_size)  # 편향은 0으로 초기화\n",
        "\n",
        "    def predict(self, x):\n",
        "        W1, W2 = self.params['W1'], self.params['W2']\n",
        "        b1, b2 = self.params['b1'], self.params['b2']\n",
        "    \n",
        "        a1 = np.dot(x, W1) + b1\n",
        "        z1 = sigmoid(a1)\n",
        "        a2 = np.dot(z1, W2) + b2\n",
        "        y = softmax(a2)\n",
        "        \n",
        "        return y\n",
        "        \n",
        "    # x : 입력 데이터, t : 정답 레이블\n",
        "    def loss(self, x, t):\n",
        "        y = self.predict(x)\n",
        "        \n",
        "        return cross_entropy_error(y, t)\n",
        "    \n",
        "    def accuracy(self, x, t):\n",
        "        y = self.predict(x)\n",
        "        y = np.argmax(y, axis=1)\n",
        "        t = np.argmax(t, axis=1)  # t는 원-핫 인코딩으로 들어가므로 axis=1 을 할 수 있다!\n",
        "        \n",
        "        accuracy = np.sum(y == t) / float(x.shape[0])\n",
        "        return accuracy\n",
        "        \n",
        "    # x : 입력 데이터, t : 정답 레이블\n",
        "    def numerical_gradient(self, x, t):   # 수치 미분 방식으로 매개변수의 기울기를 계산\n",
        "        loss_W = lambda W: self.loss(x, t)\n",
        "        \n",
        "        grads = {}    # 기울기를 보관하는 딕셔너리 변수\n",
        "        grads['W1'] = numerical_gradient(loss_W, self.params['W1'])\n",
        "        grads['b1'] = numerical_gradient(loss_W, self.params['b1'])\n",
        "        grads['W2'] = numerical_gradient(loss_W, self.params['W2'])\n",
        "        grads['b2'] = numerical_gradient(loss_W, self.params['b2'])\n",
        "        \n",
        "        return grads\n",
        "        \n",
        "    def gradient(self, x, t):   # numerical_gradient()의 성능 개선판!\n",
        "    #                             오차역전파법을 사용하여 기울기를 계산 (훨씬 빠름)\n",
        "        W1, W2 = self.params['W1'], self.params['W2']\n",
        "        b1, b2 = self.params['b1'], self.params['b2']\n",
        "        grads = {}\n",
        "        \n",
        "        batch_num = x.shape[0]\n",
        "        \n",
        "        # forward\n",
        "        a1 = np.dot(x, W1) + b1\n",
        "        z1 = sigmoid(a1)\n",
        "        a2 = np.dot(z1, W2) + b2\n",
        "        y = softmax(a2)\n",
        "        \n",
        "        # backward\n",
        "        dy = (y - t) / batch_num\n",
        "        grads['W2'] = np.dot(z1.T, dy)\n",
        "        grads['b2'] = np.sum(dy, axis=0)\n",
        "        \n",
        "        da1 = np.dot(dy, W2.T)\n",
        "        dz1 = sigmoid_grad(a1) * da1\n",
        "        grads['W1'] = np.dot(x.T, dz1)\n",
        "        grads['b1'] = np.sum(dz1, axis=0)\n",
        "\n",
        "        return grads"
      ],
      "execution_count": 30,
      "outputs": []
    },
    {
      "cell_type": "code",
      "metadata": {
        "colab": {
          "base_uri": "https://localhost:8080/"
        },
        "id": "TQv6QnyepEEU",
        "outputId": "9c1bf43e-3619-4da0-9988-e9bae5265343"
      },
      "source": [
        "# random 모듈\n",
        "print(np.random.randint(1,5,10))  # 1~4까지 중 난수 10개 생성\n",
        "print(np.random.rand(3,2))  # 0~1 의 균일분포 (표준정규분포) 난수를 (3,2) 크기로 생성\n",
        "print(np.random.randn(3,2)) # 평균: 0, 표준편차: 1인 표준정규분포 난수 생성"
      ],
      "execution_count": 31,
      "outputs": [
        {
          "output_type": "stream",
          "text": [
            "[2 3 3 2 2 4 1 2 4 2]\n",
            "[[0.6354492  0.01682192]\n",
            " [0.00556756 0.32529606]\n",
            " [0.26338004 0.30442375]]\n",
            "[[-0.46590841  1.14992088]\n",
            " [ 0.4735613   1.93927071]\n",
            " [ 0.05794873  1.45922978]]\n"
          ],
          "name": "stdout"
        }
      ]
    },
    {
      "cell_type": "code",
      "metadata": {
        "colab": {
          "base_uri": "https://localhost:8080/"
        },
        "id": "8dvK5B-EoLaI",
        "outputId": "137b094f-ca27-412c-ebaf-fb96985e3684"
      },
      "source": [
        "net = TwoLayerNet(input_size=784, hidden_size=100, output_size=10)\n",
        "print(net.params['W1'].shape)\n",
        "print(net.params['b1'].shape)\n",
        "print(net.params['W2'].shape)\n",
        "print(net.params['b2'].shape)"
      ],
      "execution_count": 32,
      "outputs": [
        {
          "output_type": "stream",
          "text": [
            "(784, 100)\n",
            "(100,)\n",
            "(100, 10)\n",
            "(10,)\n"
          ],
          "name": "stdout"
        }
      ]
    },
    {
      "cell_type": "code",
      "metadata": {
        "id": "k17VHq04rgWo"
      },
      "source": [
        "x = np.random.rand(100, 784)    # 더미 입력 데이터\n",
        "y = net.predict(x)"
      ],
      "execution_count": 33,
      "outputs": []
    },
    {
      "cell_type": "code",
      "metadata": {
        "colab": {
          "base_uri": "https://localhost:8080/"
        },
        "id": "S91ajinnr1lW",
        "outputId": "0250259f-1341-42e5-c5d0-2453463fc73d"
      },
      "source": [
        "x = np.random.rand(100, 784) # 입력데이터\n",
        "t = np.random.rand(100, 10)  # 정답 레이블\n",
        "y = net.predict(x)           # 추론 결과\n",
        "\n",
        "grads = net.gradient(x, t)   # 각 매개변수의 기울기를 계산\n",
        "\n",
        "print(y.shape)\n",
        "print(grads['W1'].shape)\n",
        "print(grads['b1'].shape)\n",
        "print(grads['W2'].shape)\n",
        "print(grads['b2'].shape)"
      ],
      "execution_count": 47,
      "outputs": [
        {
          "output_type": "stream",
          "text": [
            "(100, 10)\n",
            "(784, 100)\n",
            "(100,)\n",
            "(100, 10)\n",
            "(10,)\n"
          ],
          "name": "stdout"
        }
      ]
    },
    {
      "cell_type": "markdown",
      "metadata": {
        "id": "Oj4SY8s-wOzn"
      },
      "source": [
        "미니배치 학습 구현하기:\n",
        "\n",
        "훈련 데이터 중 일부를 무작위로 꺼내고 (미니배치), 그 미니배치에 대해서 경사법으로 매개변수 갱신"
      ]
    },
    {
      "cell_type": "code",
      "metadata": {
        "id": "XiGqRRqss0DO"
      },
      "source": [
        "import numpy as np\n",
        "from dataset.mnist import load_mnist\n",
        "from ch04.two_layer_net import TwoLayerNet\n",
        "(x_train, t_train), (x_test, t_test) = load_mnist(normalize=True, one_hot_label=True)\n",
        "\n",
        "train_loss_list = []   # 그래프를 그리기 위함\n",
        "\n",
        "#하이퍼파라미터\n",
        "iters_num = 10000   # 반복 횟수\n",
        "train_size = x_train.shape[0]\n",
        "batch_size = 100    # 배치 크기\n",
        "learning_rate = 0.1 # 학습률\n",
        "\n",
        "network = TwoLayerNet(input_size=784, hidden_size=50, output_size=10)\n",
        "\n",
        "for i in range(iters_num):\n",
        "    # 미니배치 획득\n",
        "    batch_mask = np.random.choice(train_size, batch_size)  # random.choice(x, n) : 0~(x-1)까지의 난수 n개 생성\n",
        "    x_batch = x_train[batch_mask]\n",
        "    t_batch = t_train[batch_mask]\n",
        "\n",
        "    # 기울기 계산\n",
        "    grad = network.gradient(x_batch, t_batch)\n",
        "\n",
        "    # 매개변수 갱신\n",
        "    for key in ('W1', 'b1', 'W2', 'b2'):\n",
        "        network.params[key] -= learning_rate * grad[key]\n",
        "\n",
        "    # 학습 경과 기록\n",
        "    loss = network.loss(x_batch, t_batch)\n",
        "    train_loss_list.append(loss)    # 그래프를 그리기 위함"
      ],
      "execution_count": 35,
      "outputs": []
    },
    {
      "cell_type": "code",
      "metadata": {
        "colab": {
          "base_uri": "https://localhost:8080/",
          "height": 279
        },
        "id": "qLEyvZ692z88",
        "outputId": "5041423b-9ab4-4104-ebee-cfad0f972b74"
      },
      "source": [
        "# 손실 함수 값의 추이\n",
        "x = np.arange(iters_num)\n",
        "y = train_loss_list\n",
        "plt.plot(x,y)\n",
        "plt.xlabel('iteration')\n",
        "plt.ylabel('loss')\n",
        "plt.show()\n",
        "\n",
        "# 반복횟수가 늘어가면서 손실 함수의 값이 줄어든다 --> 학습이 잘 되고 있음\n",
        "# 그려보면서 눈으로 확인하는것을 습관화! 하이퍼파라미터 수정에 있어서 중요함!"
      ],
      "execution_count": 36,
      "outputs": [
        {
          "output_type": "display_data",
          "data": {
            "image/png": "[encoded data removed]",
            "text/plain": [
              "<Figure size 432x288 with 1 Axes>"
            ]
          },
          "metadata": {
            "tags": [],
            "needs_background": "light"
          }
        }
      ]
    },
    {
      "cell_type": "markdown",
      "metadata": {
        "id": "76Ss6LYr3v1Q"
      },
      "source": [
        "시험 데이터로 평가하기"
      ]
    },
    {
      "cell_type": "code",
      "metadata": {
        "colab": {
          "base_uri": "https://localhost:8080/"
        },
        "id": "64ZwIQMh3ibL",
        "outputId": "242a81b6-e18e-445b-ee82-af021fdb0609"
      },
      "source": [
        "import numpy as np\n",
        "from dataset.mnist import load_mnist\n",
        "from ch04.two_layer_net import TwoLayerNet\n",
        "\n",
        "(x_train, t_train), (x_test, t_test) = load_mnist(normalize=True, one_hot_label=True)\n",
        "\n",
        "network = TwoLayerNet(input_size=784, hidden_size=50, output_size=10)\n",
        "\n",
        "# 하이퍼파라미터\n",
        "iters_num = 10000  # 반복 횟수를 적절히 설정한다.\n",
        "train_size = x_train.shape[0]\n",
        "batch_size = 100   # 미니배치 크기\n",
        "learning_rate = 0.1\n",
        "\n",
        "train_loss_list = []\n",
        "train_acc_list = []\n",
        "test_acc_list = []\n",
        "\n",
        "# 1에폭당 반복 수\n",
        "iter_per_epoch = max(train_size / batch_size, 1)\n",
        "\n",
        "for i in range(iters_num):\n",
        "    # 미니배치 획득\n",
        "    batch_mask = np.random.choice(train_size, batch_size)\n",
        "    x_batch = x_train[batch_mask]\n",
        "    t_batch = t_train[batch_mask]\n",
        "    \n",
        "    # 기울기 계산\n",
        "    #grad = network.numerical_gradient(x_batch, t_batch)\n",
        "    grad = network.gradient(x_batch, t_batch)   # 성능 개선판!\n",
        "    \n",
        "    # 매개변수 갱신\n",
        "    for key in ('W1', 'b1', 'W2', 'b2'):\n",
        "        network.params[key] -= learning_rate * grad[key]\n",
        "    \n",
        "    # 학습 경과 기록\n",
        "    loss = network.loss(x_batch, t_batch)\n",
        "    train_loss_list.append(loss)\n",
        "    \n",
        "    # 1에폭당 정확도 계산\n",
        "    if i % iter_per_epoch == 0:\n",
        "        train_acc = network.accuracy(x_train, t_train)\n",
        "        test_acc = network.accuracy(x_test, t_test)\n",
        "        train_acc_list.append(train_acc)\n",
        "        test_acc_list.append(test_acc)\n",
        "        print(\"train acc, test acc | \" + str(train_acc) + \", \" + str(test_acc))\n",
        "        # 100 번 출력 되야되는거 아닌가????????????????????????????"
      ],
      "execution_count": 37,
      "outputs": [
        {
          "output_type": "stream",
          "text": [
            "train acc, test acc | 0.11741666666666667, 0.1212\n",
            "train acc, test acc | 0.7863666666666667, 0.7912\n",
            "train acc, test acc | 0.8763333333333333, 0.8818\n",
            "train acc, test acc | 0.89835, 0.9003\n",
            "train acc, test acc | 0.9078, 0.9087\n",
            "train acc, test acc | 0.9139, 0.9165\n",
            "train acc, test acc | 0.9197666666666666, 0.921\n",
            "train acc, test acc | 0.92365, 0.9257\n",
            "train acc, test acc | 0.9274166666666667, 0.9287\n",
            "train acc, test acc | 0.9311166666666667, 0.9307\n",
            "train acc, test acc | 0.9346, 0.9347\n",
            "train acc, test acc | 0.9362, 0.9365\n",
            "train acc, test acc | 0.93955, 0.9402\n",
            "train acc, test acc | 0.94085, 0.9411\n",
            "train acc, test acc | 0.9437166666666666, 0.9431\n",
            "train acc, test acc | 0.9459166666666666, 0.945\n",
            "train acc, test acc | 0.9473, 0.9464\n"
          ],
          "name": "stdout"
        }
      ]
    },
    {
      "cell_type": "code",
      "metadata": {
        "colab": {
          "base_uri": "https://localhost:8080/",
          "height": 283
        },
        "id": "MR6SsZGT4aD8",
        "outputId": "28c27785-c88a-41cf-9825-708b4658be32"
      },
      "source": [
        "markers = {'train': 'o', 'test': 's'}\n",
        "x = np.arange(len(train_acc_list))\n",
        "plt.plot(x, train_acc_list, label='train acc')\n",
        "plt.plot(x, test_acc_list, label='test acc', linestyle='--')\n",
        "plt.xlabel(\"epochs\")\n",
        "plt.ylabel(\"accuracy\")\n",
        "plt.ylim(0, 1.0)\n",
        "plt.legend(loc='lower right')\n",
        "plt.show()\n",
        "\n",
        "# 그래프를 보면 훈련데이터와 테스트데이터가 거의 겹쳐있다 --> 과대적합이 일어나지 않았다!"
      ],
      "execution_count": 38,
      "outputs": [
        {
          "output_type": "display_data",
          "data": {
            "image/png": "[encoded data removed]",
            "text/plain": [
              "<Figure size 432x288 with 1 Axes>"
            ]
          },
          "metadata": {
            "tags": [],
            "needs_background": "light"
          }
        }
      ]
    }
  ]
}