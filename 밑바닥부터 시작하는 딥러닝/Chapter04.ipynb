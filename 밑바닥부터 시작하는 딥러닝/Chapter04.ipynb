{
  "nbformat": 4,
  "nbformat_minor": 0,
  "metadata": {
    "colab": {
      "name": "Chapter04",
      "provenance": []
    },
    "kernelspec": {
      "name": "python3",
      "display_name": "Python 3"
    },
    "language_info": {
      "name": "python"
    }
  },
  "cells": [
    {
      "cell_type": "markdown",
      "metadata": {
        "id": "xL47LuiJnpo_"
      },
      "source": [
        "# Chapter 04 신경망 학습\n",
        "\n"
      ]
    },
    {
      "cell_type": "markdown",
      "metadata": {
        "id": "0Q2-QSZPV7TQ"
      },
      "source": [
        "학습 : 훈련 데이터로부터 가중치 매개변수의 최적값을 자동으로 획득하는 것\n",
        "\n",
        "규칙을 '사람' 이 만드는 방식에서 '기계'가 데이터로부터 배우는 방식으로 패러다임이 전환됨.\n",
        "\n",
        "- 머신러닝에서는 특징을 사람이 설계하는 것에 반해, **신경망**은 중요한 특성까지도 스스로 학습한다.\n",
        "\n",
        " 딥러닝을 'end-to-end machine learning' 이라고도 한다.\n",
        "\n",
        " ---\n"
      ]
    },
    {
      "cell_type": "markdown",
      "metadata": {
        "id": "ta_tlm4RL4GF"
      },
      "source": [
        "### 4.2 손실 함수"
      ]
    },
    {
      "cell_type": "markdown",
      "metadata": {
        "id": "eZ7cZtO8XENG"
      },
      "source": [
        "손실함수 : 신경망 성능의 '나쁨'을 나타내는 지표\n",
        "\n",
        "- 오차제곱합 (SSE) :\n",
        "\n",
        " **E = 1/2 ∑ (예측값 - 정답)²**"
      ]
    },
    {
      "cell_type": "code",
      "metadata": {
        "colab": {
          "base_uri": "https://localhost:8080/"
        },
        "id": "z2_8A4JYY6XB",
        "outputId": "41d6cf24-7287-4699-b1cf-9caea843656b"
      },
      "source": [
        "import numpy as np\n",
        "\n",
        "# 오차제곱합 구현\n",
        "def sum_squares_error(y, t):\n",
        "    return 0.5 * np.sum((y-t)**2)\n",
        "\n",
        "t = [0 ,0, 1, 0, 0, 0, 0, 0 ,0, 0]   # 정답 == 2라는 뜻 (원-핫 인코딩)\n",
        "\n",
        "# y: 신경망의 소프트맥스 함수의 출력\n",
        "y = [0.1, 0.05, 0.6, 0.0, 0.05, 0.1, 0.0, 0.1, 0.0, 0.0]   # '2'일 확률이 제일 높다고 추정\n",
        "print(sum_squares_error(np.array(y), np.array(t)))\n",
        "\n",
        "y = [0.1, 0.05, 0.1, 0.0, 0.05, 0.1, 0.0, 0.6, 0.0, 0.0]   # '7'일 확률이 제일 높다고 추정\n",
        "print(sum_squares_error(np.array(y), np.array(t)))\n",
        "\n",
        "# 손실함수의 값이 더 작은 것을 정답에 더 가까울 것으로 판단!"
      ],
      "execution_count": 7,
      "outputs": [
        {
          "output_type": "stream",
          "text": [
            "0.09750000000000003\n",
            "0.5975\n"
          ],
          "name": "stdout"
        }
      ]
    },
    {
      "cell_type": "markdown",
      "metadata": {
        "id": "7UbDgZNkjZcp"
      },
      "source": [
        "- 교차 엔트로피 오차 : \n",
        "\n",
        " **E = - ∑ (정답 x log(예측값))**\n",
        "\n",
        " --> 정답일 때 1, 아닐 때 0이므로 정답일 때의 추정의 자연로그를 계산하는 식이 된다."
      ]
    },
    {
      "cell_type": "code",
      "metadata": {
        "colab": {
          "base_uri": "https://localhost:8080/",
          "height": 302
        },
        "id": "S7zNYk2_jRH2",
        "outputId": "1f109747-a2a1-4b2f-d23b-89e65b9065f4"
      },
      "source": [
        "# 자연로그 그래프\n",
        "import matplotlib.pyplot as plt\n",
        "x = np.arange(0.0, 1.0, 0.05)\n",
        "y = np.log(x)\n",
        "plt.plot(x, y)\n",
        "plt.xlim(0, 1)\n",
        "plt.show()"
      ],
      "execution_count": 21,
      "outputs": [
        {
          "output_type": "stream",
          "text": [
            "/usr/local/lib/python3.7/dist-packages/ipykernel_launcher.py:4: RuntimeWarning: divide by zero encountered in log\n",
            "  after removing the cwd from sys.path.\n"
          ],
          "name": "stderr"
        },
        {
          "output_type": "display_data",
          "data": {
            "image/png": "[encoded data removed]",
            "text/plain": [
              "<Figure size 432x288 with 1 Axes>"
            ]
          },
          "metadata": {
            "tags": [],
            "needs_background": "light"
          }
        }
      ]
    },
    {
      "cell_type": "markdown",
      "metadata": {
        "id": "7PllUJz56Nw_"
      },
      "source": [
        "정답의 예측값 ( 신경망의 출력값 )이 0에 가까울수록 오차가 커지고, 1에 가까워질수록 오차가 작아진다!"
      ]
    },
    {
      "cell_type": "code",
      "metadata": {
        "id": "oCYrZ4Vv6lQ9"
      },
      "source": [
        "# 교차 엔트로피 구현\n",
        "def cross_entropy_error(y, t):\n",
        "    delta = 1e-7    # 아주 작은 값\n",
        "    return -np.sum(t * np.log(y+delta))\n",
        "\n",
        "# delta를 더해준 이유는 log()에 0이 들어가면 오류가 발생하기 때문"
      ],
      "execution_count": 23,
      "outputs": []
    },
    {
      "cell_type": "code",
      "metadata": {
        "colab": {
          "base_uri": "https://localhost:8080/"
        },
        "id": "4JMbVhNe66cc",
        "outputId": "7f270c23-21e3-4a4f-affa-568c79b2e884"
      },
      "source": [
        "t = [0, 0, 1, 0, 0, 0, 0, 0, 0, 0]  # 정답은 '2'\n",
        "y = [0.1, 0.05, 0.6, 0.0, 0.05, 0.1, 0.0, 0.1, 0.0, 0.0]  # 정답 '2'로 예측\n",
        "print(cross_entropy_error(np.array(y), np.array(t)))\n",
        "\n",
        "y = [0.1, 0.05, 0.1, 0.0, 0.05, 0.1, 0.0, 0.6, 0.0, 0.0]  # 정답 '7'로 예측\n",
        "print(cross_entropy_error(np.array(y), np.array(t)))    "
      ],
      "execution_count": 40,
      "outputs": [
        {
          "output_type": "stream",
          "text": [
            "0.510825457099338\n",
            "2.302584092994546\n"
          ],
          "name": "stdout"
        }
      ]
    },
    {
      "cell_type": "markdown",
      "metadata": {
        "id": "tPEYdFyM8n2P"
      },
      "source": [
        "한 개의 데이터에 대해서 손실함수를 생각했는데, N개의 손실함수의 값을 다 구하여 평균을 내야한다!\n",
        "\n",
        " **E = - 1/N ∑ (정답 x log(예측값))**   [ N = 데이터 개수 ]\n",
        "\n",
        "--> 데이터가 많아지면 시간이 많이 걸림...\n",
        "\n",
        "- **미니배치 학습** :\n",
        "\n",
        " 훈련 데이터로부터 일부만 골라 학습을 수행"
      ]
    },
    {
      "cell_type": "code",
      "metadata": {
        "colab": {
          "base_uri": "https://localhost:8080/"
        },
        "id": "2Ds3Uk5U7dvE",
        "outputId": "b47a898a-0e72-4a41-b606-64c59f5c81cd"
      },
      "source": [
        "# mnist 데이터셋 불러오기\n",
        "import sys\n",
        "import os\n",
        "import numpy as np\n",
        "path = '/content/drive/MyDrive/밑바닥부터시작하는딥러닝/deep-learning-from-scratch-master'\n",
        "sys.path.append(path)\n",
        "from dataset.mnist import load_mnist\n",
        "\n",
        "(x_train, t_train), (x_test, t_test) = load_mnist(normalize=True, one_hot_label=True) # 정규화o, 원-핫 인코딩o\n",
        "\n",
        "print(x_train.shape)    # 훈련 이미지\n",
        "print(t_train.shape)    # 정답 레이블"
      ],
      "execution_count": 113,
      "outputs": [
        {
          "output_type": "stream",
          "text": [
            "(60000, 784)\n",
            "(60000, 10)\n"
          ],
          "name": "stdout"
        }
      ]
    },
    {
      "cell_type": "code",
      "metadata": {
        "colab": {
          "base_uri": "https://localhost:8080/"
        },
        "id": "uj9mG74l-VFj",
        "outputId": "b7202367-5903-46c8-c36e-7d88fae2c8b8"
      },
      "source": [
        "train_size = x_train.shape[0]  # == len(x_train)\n",
        "batch_size = 10   # 배치크기 지정\n",
        "batch_mask = np.random.choice(train_size, batch_size)  # random.choice(x, n): 0이상 x미만인 n개의 난수 생성\n",
        "x_batch = x_train[batch_mask]   # batch_size 만큼 뽑음\n",
        "t_batch = t_train[batch_mask]\n",
        "print(x_batch.shape)"
      ],
      "execution_count": 69,
      "outputs": [
        {
          "output_type": "stream",
          "text": [
            "(10, 784)\n"
          ],
          "name": "stdout"
        }
      ]
    },
    {
      "cell_type": "code",
      "metadata": {
        "colab": {
          "base_uri": "https://localhost:8080/"
        },
        "id": "CKGs8nmk_kKA",
        "outputId": "a6813dd1-1403-49be-e60d-5b765f8dd7e8"
      },
      "source": [
        "np.random.choice(60000,10)"
      ],
      "execution_count": 71,
      "outputs": [
        {
          "output_type": "execute_result",
          "data": {
            "text/plain": [
              "array([25862, 40590,  9127, 11671, 44181, 21164, 26575, 28946, 33998,\n",
              "       34726])"
            ]
          },
          "metadata": {
            "tags": []
          },
          "execution_count": 71
        }
      ]
    },
    {
      "cell_type": "code",
      "metadata": {
        "colab": {
          "base_uri": "https://localhost:8080/"
        },
        "id": "OULdKzV7A_A4",
        "outputId": "f0e87f14-3aad-4d5d-a0cc-92d7a167fb37"
      },
      "source": [
        "# (배치용) 교차 엔트로피 구현하기\n",
        "def cross_entropy_error(y, t):  # y: 신경망의 출력, t: 정답 레이블\n",
        "\n",
        "# 왜 바꿀까 형태를 ??\n",
        "    if y.ndim == 1:     # 데이터가 하나라면 reshape 적용\n",
        "        t = t.reshape(1, t.size)  # t.size : t의 총 원소 개수\n",
        "        y = y.reshape(1, y.size)  # == y.flatten()\n",
        "    \n",
        "    batch_size = y.shape[0]\n",
        "    return -np.sum(t * np.log(y + 1e-7)) / batch_size"
      ],
      "execution_count": 92,
      "outputs": [
        {
          "output_type": "execute_result",
          "data": {
            "text/plain": [
              "10"
            ]
          },
          "metadata": {
            "tags": []
          },
          "execution_count": 92
        }
      ]
    },
    {
      "cell_type": "code",
      "metadata": {
        "id": "IBHj1bWbCFPm"
      },
      "source": [
        "# 정답 레이블이 원-핫 인코딩이 아닌 경우\n",
        "def cross_entropy_error(y, t):\n",
        "    if y.ndim == 1:\n",
        "        t = t.reshape(1, t.size)\n",
        "        y = y.reshape(1, y.size)\n",
        "\n",
        "    batch_size = y.shape[0]\n",
        "    return -np.sum(np.log(y[np.arange(batch_size), t] + 1e-7)) / batch_size\n",
        "\n",
        "    # 원-핫 인코딩에서 정답이 0인 경우는 무시하고 계산"
      ],
      "execution_count": null,
      "outputs": []
    },
    {
      "cell_type": "markdown",
      "metadata": {
        "id": "50QC7jLkJRIm"
      },
      "source": [
        "정확도 대신 **손실함수**를 사용하는 이유 :\n",
        "\n",
        "- 신경망에서 손실함수를 가능한 작게 하는 매개변수의 값을 찾는데에 '미분'이 중요한 역할을 하기 때문에.\n",
        "\n",
        "- 정확도를 지표로 하면 매개변수의 미분이 대부분의 장소에서 0이 된다.\n",
        "\n",
        " 정확도는 매개변수의 미소한 변화에 거의 반응을 보이지 않고, 있더라도 불연속적으로 갑자기 변화한다..\n",
        "\n",
        "== '계단 함수'를 활성화 함수로 사용하지 않는 이유와 같다"
      ]
    },
    {
      "cell_type": "markdown",
      "metadata": {
        "id": "H50XneGLL8hU"
      },
      "source": [
        "### 4.3 수치 미분"
      ]
    },
    {
      "cell_type": "code",
      "metadata": {
        "colab": {
          "base_uri": "https://localhost:8080/"
        },
        "id": "QRav-dBkFklB",
        "outputId": "a3a1af13-b462-49c0-814c-fe067cdc46b6"
      },
      "source": [
        ""
      ],
      "execution_count": 114,
      "outputs": [
        {
          "output_type": "stream",
          "text": [
            "1\n"
          ],
          "name": "stdout"
        }
      ]
    }
  ]
}