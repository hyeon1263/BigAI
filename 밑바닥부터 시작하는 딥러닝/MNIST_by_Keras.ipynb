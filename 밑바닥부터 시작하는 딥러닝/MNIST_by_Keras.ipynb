{
  "nbformat": 4,
  "nbformat_minor": 0,
  "metadata": {
    "colab": {
      "name": "MNIST_by_Tensorflow",
      "provenance": []
    },
    "kernelspec": {
      "name": "python3",
      "display_name": "Python 3"
    },
    "language_info": {
      "name": "python"
    }
  },
  "cells": [
    {
      "cell_type": "markdown",
      "metadata": {
        "id": "S5cXD8xUKiGV"
      },
      "source": [
        "CNN 모델로 MNIST 데이터셋 훈련 및 평가"
      ]
    },
    {
      "cell_type": "code",
      "metadata": {
        "id": "qugRaCDdJxlJ"
      },
      "source": [
        "import tensorflow as tf\n",
        "from tensorflow import keras"
      ],
      "execution_count": 46,
      "outputs": []
    },
    {
      "cell_type": "code",
      "metadata": {
        "id": "HcUYNbucKPUT"
      },
      "source": [
        "# 데이터 가져오기\n",
        "mnist = tf.keras.datasets.mnist\n",
        "(x_train, y_train), (x_test, y_test) = mnist.load_data()\n",
        "x_train = x_train.reshape((60000, 28, 28, 1))\n",
        "x_test = x_test.reshape((10000, 28, 28, 1))"
      ],
      "execution_count": 52,
      "outputs": []
    },
    {
      "cell_type": "code",
      "metadata": {
        "colab": {
          "base_uri": "https://localhost:8080/"
        },
        "id": "M2fDtkR_KdL6",
        "outputId": "c7a8c9c9-ce2a-4858-8a2e-45e9120da190"
      },
      "source": [
        "print(f\"x_train.shape: {x_train.shape}\\nx_test.shape: {x_test.shape}\")"
      ],
      "execution_count": 53,
      "outputs": [
        {
          "output_type": "stream",
          "text": [
            "x_train.shape: (60000, 28, 28, 1)\n",
            "x_test.shape: (10000, 28, 28, 1)\n"
          ],
          "name": "stdout"
        }
      ]
    },
    {
      "cell_type": "code",
      "metadata": {
        "id": "t_YG9quTK4nG"
      },
      "source": [
        "# 픽셀 값 정규화\n",
        "x_train, x_test = x_train / 255.0, x_test / 255.0"
      ],
      "execution_count": 54,
      "outputs": []
    },
    {
      "cell_type": "markdown",
      "metadata": {
        "id": "IYM2TXJzPguy"
      },
      "source": [
        "![image.png](data:image/png;base64,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)"
      ]
    },
    {
      "cell_type": "code",
      "metadata": {
        "id": "38rTZCWbMhSW"
      },
      "source": [
        "# 위 그림대로 모델 생성\n",
        "\n",
        "model = keras.models.Sequential([\n",
        "    keras.layers.Conv2D(32, kernel_size=(3,3), activation='relu',\n",
        "                        padding='same', input_shape=(28,28,1)),\n",
        "    keras.layers.MaxPooling2D((2,2)),\n",
        "    keras.layers.Flatten(),\n",
        "    keras.layers.Dense(100, activation='relu'),\n",
        "    keras.layers.Dense(10, activation='softmax')\n",
        "])"
      ],
      "execution_count": 55,
      "outputs": []
    },
    {
      "cell_type": "code",
      "metadata": {
        "colab": {
          "base_uri": "https://localhost:8080/"
        },
        "id": "0fGGIxawP3HU",
        "outputId": "03658a23-7d0c-4ed9-d68a-ecd27bb5cb21"
      },
      "source": [
        "model.summary()  # 모델 정보 출력"
      ],
      "execution_count": 56,
      "outputs": [
        {
          "output_type": "stream",
          "text": [
            "Model: \"sequential_10\"\n",
            "_________________________________________________________________\n",
            "Layer (type)                 Output Shape              Param #   \n",
            "=================================================================\n",
            "conv2d_8 (Conv2D)            (None, 28, 28, 32)        320       \n",
            "_________________________________________________________________\n",
            "max_pooling2d_8 (MaxPooling2 (None, 14, 14, 32)        0         \n",
            "_________________________________________________________________\n",
            "flatten_10 (Flatten)         (None, 6272)              0         \n",
            "_________________________________________________________________\n",
            "dense_20 (Dense)             (None, 100)               627300    \n",
            "_________________________________________________________________\n",
            "dense_21 (Dense)             (None, 10)                1010      \n",
            "=================================================================\n",
            "Total params: 628,630\n",
            "Trainable params: 628,630\n",
            "Non-trainable params: 0\n",
            "_________________________________________________________________\n"
          ],
          "name": "stdout"
        }
      ]
    },
    {
      "cell_type": "code",
      "metadata": {
        "id": "jPSiN8N7Pywp"
      },
      "source": [
        "# 모델 컴파일\n",
        "model.compile(optimizer='adam',\n",
        "              loss='sparse_categorical_crossentropy',\n",
        "              metrics=['accuracy'])"
      ],
      "execution_count": 57,
      "outputs": []
    },
    {
      "cell_type": "code",
      "metadata": {
        "colab": {
          "base_uri": "https://localhost:8080/"
        },
        "id": "txCA4cSOQtlG",
        "outputId": "20401a04-e322-4232-d426-95dde5468a61"
      },
      "source": [
        "# 모델 훈련\n",
        "model.fit(x_train, y_train, epochs=5)"
      ],
      "execution_count": 59,
      "outputs": [
        {
          "output_type": "stream",
          "text": [
            "Epoch 1/5\n",
            "1875/1875 [==============================] - 33s 17ms/step - loss: 0.1681 - accuracy: 0.9503\n",
            "Epoch 2/5\n",
            "1875/1875 [==============================] - 32s 17ms/step - loss: 0.0574 - accuracy: 0.9819\n",
            "Epoch 3/5\n",
            "1875/1875 [==============================] - 32s 17ms/step - loss: 0.0368 - accuracy: 0.9889\n",
            "Epoch 4/5\n",
            "1875/1875 [==============================] - 32s 17ms/step - loss: 0.0263 - accuracy: 0.9923\n",
            "Epoch 5/5\n",
            "1875/1875 [==============================] - 32s 17ms/step - loss: 0.0187 - accuracy: 0.9940\n"
          ],
          "name": "stdout"
        },
        {
          "output_type": "execute_result",
          "data": {
            "text/plain": [
              "<keras.callbacks.History at 0x7f8150d2c250>"
            ]
          },
          "metadata": {},
          "execution_count": 59
        }
      ]
    },
    {
      "cell_type": "code",
      "metadata": {
        "colab": {
          "base_uri": "https://localhost:8080/"
        },
        "id": "YyegsP-KQyAz",
        "outputId": "7df9c1c1-0b5d-49ed-bdab-a0b140e03c6e"
      },
      "source": [
        "# 모델 평가\n",
        "loss, acc = model.evaluate(x_test, y_test)"
      ],
      "execution_count": 62,
      "outputs": [
        {
          "output_type": "stream",
          "text": [
            "313/313 [==============================] - 2s 6ms/step - loss: 0.0506 - accuracy: 0.9849\n"
          ],
          "name": "stdout"
        }
      ]
    },
    {
      "cell_type": "code",
      "metadata": {
        "colab": {
          "base_uri": "https://localhost:8080/"
        },
        "id": "bxTCI0rvTBSg",
        "outputId": "711777b2-af82-4524-bab0-787326ba436c"
      },
      "source": [
        "print(f\"loss: {loss:.3f}\\n acc: {acc:.3f}\")"
      ],
      "execution_count": 71,
      "outputs": [
        {
          "output_type": "stream",
          "text": [
            "loss: 0.051\n",
            " acc: 0.985\n"
          ],
          "name": "stdout"
        }
      ]
    }
  ]
}
