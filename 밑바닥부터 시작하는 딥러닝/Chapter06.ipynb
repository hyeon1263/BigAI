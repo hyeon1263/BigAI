{
  "nbformat": 4,
  "nbformat_minor": 0,
  "metadata": {
    "colab": {
      "name": "Chapter06",
      "provenance": [],
      "collapsed_sections": []
    },
    "kernelspec": {
      "name": "python3",
      "display_name": "Python 3"
    },
    "language_info": {
      "name": "python"
    }
  },
  "cells": [
    {
      "cell_type": "markdown",
      "metadata": {
        "id": "cbyjVjWi9VRT"
      },
      "source": [
        "# Chapter06 학습 관련 기술들"
      ]
    },
    {
      "cell_type": "code",
      "metadata": {
        "id": "xfJytmnDnfE7"
      },
      "source": [
        "import numpy as np\n",
        "import os\n",
        "import sys\n",
        "import matplotlib.pyplot as plt"
      ],
      "execution_count": 43,
      "outputs": []
    },
    {
      "cell_type": "markdown",
      "metadata": {
        "id": "gWyEM_Gv9fXa"
      },
      "source": [
        "### 6.1 매개변수 갱신"
      ]
    },
    {
      "cell_type": "markdown",
      "metadata": {
        "id": "G1SclkslSJ1N"
      },
      "source": [
        "- 확률적 경사 하강법 (SGD) :\n",
        "\n",
        " $W ← W - \\eta \\frac{\\partial L}{\\partial W}$\n",
        "\n",
        " - $W$ : 갱신할 매개변수\n",
        "\n",
        " - $\\eta$ : 학습률\n",
        "\n",
        " - $\\frac{\\partial L}{\\partial W}$ : W에 대한 손실함수의 기울기\n",
        "\n",
        " 기울어진 방향으로 일정 거리만 가겠다는 단순한 방법"
      ]
    },
    {
      "cell_type": "code",
      "metadata": {
        "id": "LFkOAtES9TE_"
      },
      "source": [
        "# SGD 구현\n",
        "class SGD(object):\n",
        "    def __init__(self, lr=0.01):\n",
        "        self.lr = lr\n",
        "    \n",
        "    def update(self, params, grads):   # 갱신\n",
        "        for key in params.keys():\n",
        "            params[key] -= self.lr * grads[key]\n",
        "\n",
        "    # SGD 과정에서 반복해서 update()메서드를 부른다"
      ],
      "execution_count": 44,
      "outputs": []
    },
    {
      "cell_type": "markdown",
      "metadata": {
        "id": "IK-Brgd6dErU"
      },
      "source": [
        "SGD 클래스를 사용하면 신경망의 매개변수 진행을 다음과 같이 수행할 수 있다.\n",
        "\n",
        "    network = TwoLayerNet(...)\n",
        "    optimizer = SGD()\n",
        "\n",
        "    for i in range(10000):\n",
        "        ...\n",
        "        x_batch, t_batch = get_mini_batch(...)\n",
        "        grads = network.gradient(x_batch, t_batch)\n",
        "        params = network.params\n",
        "        optimizer.update(params, grads)\n",
        "        ...\n",
        "    \n",
        "이렇게 optimizer에 매개변수와 기울기만 전달해주면 된다.\n",
        "\n",
        "---"
      ]
    },
    {
      "cell_type": "markdown",
      "metadata": {
        "id": "B6Qt8_4ckUOa"
      },
      "source": [
        "SGD의 단점 : 비등방성 함수에서 탐색 경로가 비효율적이다. ( 지그재그로 탐색 )\n",
        "\n",
        "- **모멘텀** : \n",
        "\n",
        " $v ← \\alpha v - \\eta \\frac{\\partial L}{\\partial W}$\n",
        "\n",
        " $W ← W + v$"
      ]
    },
    {
      "cell_type": "code",
      "metadata": {
        "id": "yTF2NUa3dA97"
      },
      "source": [
        "# 모멘텀 구현\n",
        "\n",
        "class Momentum(object):\n",
        "    def __init__(self, lr=0.01, momentum=0.9):  # 대체로 momentum=0.9로 설정\n",
        "        self.lr = lr\n",
        "        self.momentum = momentum\n",
        "        self.v = None\n",
        "    \n",
        "    def update(self, params, grads):    \n",
        "        if self.v is None:      # v: 0으로 초기화 \n",
        "            self.v = {}\n",
        "            for key, val in params.items():\n",
        "                self.v[key] = np.zeros_like(val)\n",
        "            \n",
        "        for key in params.keys():\n",
        "            self.v[key] = self.momentum * self.v[key] - self.lr * grads[key]\n",
        "            params[key] += self.v[key]\n",
        "        \n",
        "# v는 이전 갱신에 영향을 받게 되며, 이전 갱신값이 크다면, 이번에 그만큼 가속도를 받게 된다"
      ],
      "execution_count": 45,
      "outputs": []
    },
    {
      "cell_type": "markdown",
      "metadata": {
        "id": "ZwQSgbFGt-zg"
      },
      "source": [
        "학습률 감소 : 학습을 진행하면서 학습률을 점차 줄여가는 방법\n",
        "\n",
        "- **AdaGrad** : '각각의' 매개변수에 '맞춤형' 값을 만들어줌\n",
        "\n",
        " $h ← h + \\frac{\\partial L}{\\partial W} ⊙ \\frac{\\partial L}{\\partial W}$  (⊙ : 원소별 곱셈)\n",
        "\n",
        " $W ← W - \\eta \\frac{1}{\\sqrt{h}} \\frac{\\partial L}{\\partial W}$\n",
        "\n",
        " 크게 갱신된 원소는 큰 폭으로 학습률이 낮아진다. (학습률 감소가 원소마다 다르게 적용됨)\n",
        "\n",
        " AdaGrad는 과거의 기울기를 제곱하여 계속 더해간다. (누적합) ---> 실제로 무한히 학습하면 갱신량이 0이 되어 갱신 X\n",
        "\n",
        " - **RMSProp** 기법 : 먼 과거의 기울기는 서서히 잊고 새로운 기울기 정보를 크게 반영 (지수이동평균)"
      ]
    },
    {
      "cell_type": "code",
      "metadata": {
        "id": "uwtt-QRionfR"
      },
      "source": [
        "# Adagrad 구현\n",
        "\n",
        "class AdaGrad(object):\n",
        "    def __init__(self, lr=0.01):\n",
        "        self.lr = lr\n",
        "        self.h = None\n",
        "    \n",
        "    def update(self, params, grads):\n",
        "        if self.h is None:\n",
        "            self.h = {}\n",
        "            for key, val in params.items():\n",
        "                self.h[key] = np.zeros_like(val)\n",
        "        \n",
        "        for key in params.keys():\n",
        "            self.h[key] += grads[key] * grads[key]\n",
        "            params[key] -= self.lr * grads[key] / (np.sqrt(self.h[key]) + 1e-7)"
      ],
      "execution_count": 46,
      "outputs": []
    },
    {
      "cell_type": "markdown",
      "metadata": {
        "id": "iM1OAiVN2qIZ"
      },
      "source": [
        "- **Adam** : 모멘텀과 AdaGrad를 융합한 방법"
      ]
    },
    {
      "cell_type": "code",
      "metadata": {
        "id": "4vZrlgoX14EW"
      },
      "source": [
        "class Adam:\n",
        "    \"\"\"Adam (http://arxiv.org/abs/1412.6980v8)\"\"\"\n",
        "\n",
        "    def __init__(self, lr=0.001, beta1=0.9, beta2=0.999):\n",
        "        self.lr = lr\n",
        "        self.beta1 = beta1\n",
        "        self.beta2 = beta2\n",
        "        self.iter = 0\n",
        "        self.m = None\n",
        "        self.v = None\n",
        "        \n",
        "    def update(self, params, grads):\n",
        "        if self.m is None:\n",
        "            self.m, self.v = {}, {}\n",
        "            for key, val in params.items():\n",
        "                self.m[key] = np.zeros_like(val)\n",
        "                self.v[key] = np.zeros_like(val)\n",
        "        \n",
        "        self.iter += 1\n",
        "        lr_t  = self.lr * np.sqrt(1.0 - self.beta2**self.iter) / (1.0 - self.beta1**self.iter)         \n",
        "        \n",
        "        for key in params.keys():\n",
        "            #self.m[key] = self.beta1*self.m[key] + (1-self.beta1)*grads[key]\n",
        "            #self.v[key] = self.beta2*self.v[key] + (1-self.beta2)*(grads[key]**2)\n",
        "            self.m[key] += (1 - self.beta1) * (grads[key] - self.m[key])\n",
        "            self.v[key] += (1 - self.beta2) * (grads[key]**2 - self.v[key])\n",
        "            \n",
        "            params[key] -= lr_t * self.m[key] / (np.sqrt(self.v[key]) + 1e-7)\n",
        "            \n",
        "            #unbias_m += (1 - self.beta1) * (grads[key] - self.m[key]) # correct bias\n",
        "            #unbisa_b += (1 - self.beta2) * (grads[key]*grads[key] - self.v[key]) # correct bias\n",
        "            #params[key] += self.lr * unbias_m / (np.sqrt(unbisa_b) + 1e-7)"
      ],
      "execution_count": 47,
      "outputs": []
    },
    {
      "cell_type": "code",
      "metadata": {
        "id": "c_2Fxow44Iz3"
      },
      "source": [
        "path = \"/content/drive/MyDrive/밑바닥부터시작하는딥러닝/deep-learning-from-scratch-master\"\n",
        "os.chdir(path)\n",
        "sys.path.append(os.chdir)"
      ],
      "execution_count": 48,
      "outputs": []
    },
    {
      "cell_type": "code",
      "metadata": {
        "colab": {
          "base_uri": "https://localhost:8080/",
          "height": 295
        },
        "id": "Ya_PSFon4DHh",
        "outputId": "b5f522de-e3e4-4f70-8a34-a67e1625d639"
      },
      "source": [
        "from collections import OrderedDict\n",
        "from common.optimizer import *\n",
        "\n",
        "\n",
        "def f(x, y):\n",
        "    return x**2 / 20.0 + y**2\n",
        "\n",
        "\n",
        "def df(x, y):\n",
        "    return x / 10.0, 2.0*y\n",
        "\n",
        "init_pos = (-7.0, 2.0)\n",
        "params = {}\n",
        "params['x'], params['y'] = init_pos[0], init_pos[1]\n",
        "grads = {}\n",
        "grads['x'], grads['y'] = 0, 0\n",
        "\n",
        "\n",
        "optimizers = OrderedDict()\n",
        "optimizers[\"SGD\"] = SGD(lr=0.95)\n",
        "optimizers[\"Momentum\"] = Momentum(lr=0.1)\n",
        "optimizers[\"AdaGrad\"] = AdaGrad(lr=1.5)\n",
        "optimizers[\"Adam\"] = Adam(lr=0.3)\n",
        "\n",
        "idx = 1\n",
        "\n",
        "for key in optimizers:\n",
        "    optimizer = optimizers[key]\n",
        "    x_history = []\n",
        "    y_history = []\n",
        "    params['x'], params['y'] = init_pos[0], init_pos[1]\n",
        "    \n",
        "    for i in range(30):\n",
        "        x_history.append(params['x'])\n",
        "        y_history.append(params['y'])\n",
        "        \n",
        "        grads['x'], grads['y'] = df(params['x'], params['y'])\n",
        "        optimizer.update(params, grads)\n",
        "    \n",
        "\n",
        "    x = np.arange(-10, 10, 0.01)\n",
        "    y = np.arange(-5, 5, 0.01)\n",
        "    \n",
        "    X, Y = np.meshgrid(x, y) \n",
        "    Z = f(X, Y)\n",
        "    \n",
        "    # 외곽선 단순화\n",
        "    mask = Z > 7\n",
        "    Z[mask] = 0\n",
        "    \n",
        "    # 그래프 그리기\n",
        "    \n",
        "    plt.subplot(2, 2, idx)\n",
        "    idx += 1\n",
        "    plt.plot(x_history, y_history, 'o-', color=\"red\")\n",
        "    plt.contour(X, Y, Z)\n",
        "    plt.ylim(-10, 10)\n",
        "    plt.xlim(-10, 10)\n",
        "    plt.plot(0, 0, '+')\n",
        "    #colorbar()\n",
        "    #spring()\n",
        "    plt.title(key)\n",
        "    plt.xlabel(\"x\")\n",
        "    plt.ylabel(\"y\")\n",
        "    \n",
        "plt.show()"
      ],
      "execution_count": 49,
      "outputs": [
        {
          "output_type": "display_data",
          "data": {
            "image/png": "[encoded data removed]",
            "text/plain": [
              "<Figure size 432x288 with 4 Axes>"
            ]
          },
          "metadata": {
            "tags": [],
            "needs_background": "light"
          }
        }
      ]
    },
    {
      "cell_type": "code",
      "metadata": {
        "id": "gjPwxl7W6g1C"
      },
      "source": [
        ""
      ],
      "execution_count": 49,
      "outputs": []
    }
  ]
}