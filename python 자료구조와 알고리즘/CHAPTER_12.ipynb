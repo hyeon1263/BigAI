{
  "nbformat": 4,
  "nbformat_minor": 0,
  "metadata": {
    "colab": {
      "name": "CHAPTER_12",
      "private_outputs": true,
      "provenance": [],
      "collapsed_sections": []
    },
    "kernelspec": {
      "name": "python3",
      "display_name": "Python 3"
    },
    "language_info": {
      "name": "python"
    }
  },
  "cells": [
    {
      "cell_type": "markdown",
      "metadata": {
        "id": "Cmx1vPzhVdq4"
      },
      "source": [
        "# CHAPTER 12 그래프 기초\n"
      ]
    },
    {
      "cell_type": "markdown",
      "metadata": {
        "id": "y4yT01bUZm9-"
      },
      "source": [
        "### 12.1 용어\n",
        "\n",
        "**그래프** : 여러 노드(정점)와 간선으로 연결된 추상 네트워크\n",
        "\n",
        "G = ( V , E )\n",
        "\n",
        "ex) V (vertex) = { a, b, c, d } , E (edge) = {{a,b},{b,c},{c,d},{d,a}}\n",
        "\n",
        "- 방향이 있는 유향 그래프와 방향이 없는 무향 그래프로 나뉘어진다.\n",
        "\n",
        "- edge로 연결된 node는 서로 인접해 있으며, 이웃이라고 한다.\n",
        "\n",
        "- 부분 그래프 : 그래프 G에서 집합 V와 E로 구성된 그래프의 일부\n",
        "\n",
        "- 신장 부분 그래프 (spanning subgraph) : 모든 노드를 포함하는 부분 그래프\n",
        "\n",
        "- 완전 그래프 : 모든 node가 서로 인접한 그래프\n",
        "\n",
        "---"
      ]
    },
    {
      "cell_type": "markdown",
      "metadata": {
        "id": "LWlL1kmQZzCb"
      },
      "source": [
        "- 차수 : 한 node에 이어져 있는 edge의 수 , 유향에서는 in-degree와 out-degree로 나뉘어짐\n",
        "\n",
        "- 경로 (path) : 어느 node도 다시 방문하지 않고, node가 일렬로 연결된 부분 그래프\n",
        "\n",
        "- 보행 : 노드와 간선을 번갈아 가며 반복적으로 방문하는 node와 edge\n",
        "\n",
        "- 순환 (cycle) : 첫 번째 node == 마지막 ndoe 인 경로\n",
        "\n",
        "- 경로 길이 == 경로의 edge의 수\n",
        "---"
      ]
    },
    {
      "cell_type": "markdown",
      "metadata": {
        "id": "shT9qIUSIEfg"
      },
      "source": [
        "- 가중 그래프 : edge에 가중치가 있는 그래프\n",
        "\n",
        "- 오일러 공식 --> V(node 수) - E(edge 수) + F(면 수) = 2\n",
        "\n",
        "- 순회 : 그래프에 연결된 모든 요소를 탐색하는 일\n",
        "\n",
        "- 연결 요소 : 모든 node가 연결된 최대 부분 그래프\n",
        "\n",
        "- 포레스트 : 순환이 없는 그래프\n",
        "\n",
        "- 트리 : 비순환적이고 연결되어 있는 유향 그래프"
      ]
    },
    {
      "cell_type": "markdown",
      "metadata": {
        "id": "kGKeq9PSI-1W"
      },
      "source": [
        "### 12.2 이웃 함수\n",
        "N(V) : 모든 이웃 V의 컨테이너 (또는 반복 가능한 객체)"
      ]
    },
    {
      "cell_type": "markdown",
      "metadata": {
        "id": "8vMj7vqWnje6"
      },
      "source": [
        "- 인접 리스트\n",
        " \n",
        " 각 node에서 이웃리스에 접근할 수 있다.\n",
        " 추가 순서는 임의적"
      ]
    },
    {
      "cell_type": "code",
      "metadata": {
        "id": "bPe1oQOlUL9c"
      },
      "source": [
        "# 셋을 사용한 인접 리스트 구현  (edge가 많은 경우 좋다)\n",
        "\n",
        "a, b, c, d, e, f = range(6)  # 6개 node\n",
        "N = [{b,c,d,f}, {a,d,f}, {a,b,d,e}, {a,e}, {a,b,c}, {b,c,d,e}]  # 유향그래프라서 ㄹㅇㅋㅋ\n",
        "print(b in N[a])   # 멤버십 테스트\n",
        "print(b in N[b])\n",
        "print(len(N[f]))   # out-degree"
      ],
      "execution_count": null,
      "outputs": []
    },
    {
      "cell_type": "code",
      "metadata": {
        "id": "3gcWLYW5iGKx"
      },
      "source": [
        "# 리스트를 사용한 인접 리스트 구현  (이웃 node를 반복해서 접근하는 경우 좋다)\n",
        "\n",
        "a, b, c, d, e, f = range(6)  # 6개 node\n",
        "N = [[b,c,d,f], [a,d,f], [a,b,d,e], [a,e], [a,b,c], [b,c,d,e]]\n",
        "print(b in N[a])   # 멤버십 테스트  ( O(n))\n",
        "print(b in N[b])    \n",
        "print(len(N[f]))   # f의 차수"
      ],
      "execution_count": null,
      "outputs": []
    },
    {
      "cell_type": "code",
      "metadata": {
        "id": "thgREodZj8De"
      },
      "source": [
        "# 딕셔너리를 사용한 인접 리스트 구현    (edge의 가중치 추가 가능)\n",
        "\n",
        "a, b, c, d, e, f = range(6)  # 6개 node\n",
        "N = [{b:2 ,c:1 ,d:4 ,f:1}, {a:4, d:1, f:4}, {a:1, b:1, d:2, e:4},\n",
        "     {a:3, e:2}, {a:3, b:4, c:1}, {b:1, c:2, d:4, e:3}]\n",
        "print(b in N[a])\n",
        "print(len(N[f]))\n",
        "print(N[a][b])"
      ],
      "execution_count": null,
      "outputs": []
    },
    {
      "cell_type": "code",
      "metadata": {
        "id": "c5R71Q5Ok9BZ"
      },
      "source": [
        "a, b, c, d, e, f = range(6)  # 6개 node\n",
        "# 이렇게도 가능함\n",
        "N = {'a':set('bcdf'), 'b':set('abf'), 'c':set('abde'), 'd':set('ae'), 'e':set('abc'), 'f':set('bcde')}\n",
        "print('b' in N['a']) # 멤버십 테스트\n",
        "print(len(N['f']))   # f의 차수"
      ],
      "execution_count": null,
      "outputs": []
    },
    {
      "cell_type": "markdown",
      "metadata": {
        "id": "eeLCZUHNnlN7"
      },
      "source": [
        "- 인접 행렬\n",
        "\n",
        " 각 node의 모든 이웃에 대해 하나의 행을 갖는다.\n",
        " \n",
        " 각 행의 값은 0(True)과 1(False)로 이루어진다.  ( 인접하면 1, 아니면 0 )\n",
        "\n",
        " 행렬의 대각선 요소는 항상 0이다"
      ]
    },
    {
      "cell_type": "code",
      "metadata": {
        "id": "uKWmSm-mlltN"
      },
      "source": [
        "a, b, c, d, e, f = range(6)  # 6개 node\n",
        "N = [[0,1,1,1,0,1],\n",
        "     [1,0,0,1,0,1],\n",
        "     [1,1,0,1,1,0],\n",
        "     [1,0,0,0,1,0],\n",
        "     [1,1,1,0,0,0],\n",
        "     [0,1,1,1,1,0]]     # 무향 인접 행렬은 항상 대칭이다\n",
        "print(N[a][b])\n",
        "sum(N[f])   # 차수"
      ],
      "execution_count": null,
      "outputs": []
    },
    {
      "cell_type": "code",
      "metadata": {
        "id": "u1srPPf7pr7Z"
      },
      "source": [
        "# 가중치를 추가하려면 0, 1말고 다른 가중치 숫자로 바꾸면 된다\n",
        "# 존재하지 않는 edge는 float('inf'), None, -1, 혹은 매우 큰 값 등으로 나타내면 된다\n",
        "_ = float('inf')\n",
        "N = [[_,2,1,4,_,1], [4,_,_,1,_,4], [1,1,_,2,4,_], [3,_,_,_,2,_], [3,4,1,_,_,_],[1,2,_,4,3,_]]\n",
        "print(N[a][b])                # 멤버십 테스트\n",
        "sum(1 for w in N[f] if w < _) # 차수를 나타냄"
      ],
      "execution_count": null,
      "outputs": []
    },
    {
      "cell_type": "markdown",
      "metadata": {
        "id": "99kLpN3M1d8U"
      },
      "source": [
        "### 12.3 트리와의 연결점\n",
        "\n",
        "그래프와 달리 트리에서는 부모 node에 의해서만 참조된다"
      ]
    },
    {
      "cell_type": "code",
      "metadata": {
        "id": "V7rZguiX1cI1"
      },
      "source": [
        "# 중첩 리스트로 트리 구현하기\n",
        "T = ['a', ['b', ['d', 'f']], ['c', ['e', 'g']]]\n",
        "print(T[0])  # root 노드\n",
        "print(T[1][0])\n",
        "print(T[1][1][0])\n",
        "print(T[1][1][1])\n",
        "print(T[2][0])\n",
        "print(T[2][1][1])"
      ],
      "execution_count": null,
      "outputs": []
    },
    {
      "cell_type": "code",
      "metadata": {
        "id": "gKxr1Fri3AtM"
      },
      "source": [
        "# 클래스로 트리 구현하기\n",
        "class SimpleTree(object):\n",
        "    def __init__(self, value=None, children=None):\n",
        "        self.value = value\n",
        "        self.children = children    # 자식 노드\n",
        "        if self.children is None:   # 자식이 없으면 빈 리스트로\n",
        "            self.children = []\n",
        "    \n",
        "    def __repr__(self, level=0):\n",
        "        ret = \"\\t\"*level + repr(self.value) + \"\\n\"  # level을 구분하기 위해\n",
        "        for child in self.children:\n",
        "            ret += child.__repr__(level+1)\n",
        "        return ret\n",
        "    \n",
        "def main():\n",
        "    st = SimpleTree('a', \n",
        "                    [SimpleTree('b',\n",
        "                                [SimpleTree('d'),SimpleTree('e')]),\n",
        "                     SimpleTree('c', \n",
        "                                [SimpleTree('h'),SimpleTree('g')])])\n",
        "    print(st)\n",
        "\n",
        "\n",
        "if __name__ == \"__main__\":\n",
        "    main()"
      ],
      "execution_count": null,
      "outputs": []
    },
    {
      "cell_type": "code",
      "metadata": {
        "id": "mBjXTZNu3IFc"
      },
      "source": [
        "# 딕셔너리 클래스를 특수화한 클래스\n",
        "class BunchClass(dict):\n",
        "    def __init__(self, *args, **kwds):\n",
        "        super(BunchClass, self).__init__(*args, **kwds)\n",
        "        self.__dict__ = self\n",
        "    \n",
        "def main():\n",
        "    \"\"\" 1) 딕셔너리 특수화 \"\"\"\n",
        "    bc = BunchClass   # ()가 없다\n",
        "    tree = bc(left=bc(left=\"Buffy\", right=\"Angel\"),\n",
        "              right=bc(left=\"Willow\", right=\"Xander\"))\n",
        "    print(tree)\n",
        "\n",
        "    \"\"\" 2) 일반 딕셔너리 \"\"\"\n",
        "    tree2 = dict(left=dict(left=\"Buffy\", right=\"Angel\"),\n",
        "                 right=dict(left=\"Willow\", right=\"Xander\"))\n",
        "    print(tree2)\n",
        "\n",
        "\n",
        "if __name__ == \"__main__\":\n",
        "    main()"
      ],
      "execution_count": null,
      "outputs": []
    }
  ]
}