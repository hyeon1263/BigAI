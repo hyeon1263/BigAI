{
  "nbformat": 4,
  "nbformat_minor": 0,
  "metadata": {
    "colab": {
      "name": "CHAPTER_05",
      "private_outputs": true,
      "provenance": [],
      "collapsed_sections": []
    },
    "kernelspec": {
      "name": "python3",
      "display_name": "Python 3"
    }
  },
  "cells": [
    {
      "cell_type": "markdown",
      "metadata": {
        "id": "-q9Eq0_OI-Oz"
      },
      "source": [
        "#CHAPTER05\r\n",
        "##객체지향 설계"
      ]
    },
    {
      "cell_type": "markdown",
      "metadata": {
        "id": "kmepPVcdm-uU"
      },
      "source": [
        "####객체지향 프로그래밍 : 데이터를 패키지화하고, 메서드를 제한한다. --> 고유한 데이터 타입인 ***클래스***"
      ]
    },
    {
      "cell_type": "code",
      "metadata": {
        "id": "wf-lzjVSI60W"
      },
      "source": [
        "import collection\r\n",
        "ns\r\n",
        "circle = collections.namedtuple(\"Circle\", \"x y radius\")\r\n",
        "# namedtuple 함수가 반환하는 값은 클래스이다. 이 클래스는 \"Circle\"이라는 이름을 가진 \"circle\"이라는 클래스를 만들어낸다.\r\n",
        "# 이 클래스에는 x, y, radius 3개의 속성을 가진다\r\n",
        "print(circle)\r\n",
        "circle = circle(13, 84, 9)\r\n",
        "circle"
      ],
      "execution_count": null,
      "outputs": []
    },
    {
      "cell_type": "markdown",
      "metadata": {
        "id": "22RhwBGSM8J5"
      },
      "source": [
        "##5.1 클래스와 객체\r\n",
        "#####**클래스** : 사전에 정의된 특별한 데이터와 메서드의 집합\r\n",
        "#####**객체** : 클래스에 선언된 모양 그대로 생성된 실체\r\n",
        "######객체가 소프트웨어에 실체화될 때 (메모리에 할당되어 사용될 때) --> 이 실체를 **인스턴스**라고 한다"
      ]
    },
    {
      "cell_type": "markdown",
      "metadata": {
        "id": "Gx3kZAvURRfB"
      },
      "source": [
        "\"a는 인스턴스\"보다는 \"a는 객체\"라는 표현이 어울리며 \"a는 Cookie의 객체\"보다는 \"a는 Cookie의 인스턴스\"라는 표현이 훨씬 잘 어울린다."
      ]
    },
    {
      "cell_type": "code",
      "metadata": {
        "id": "YIF4hHNXNl7D"
      },
      "source": [
        "# 가장 간단한 형태의 클래스\r\n",
        "class ClassName:\r\n",
        "    # 문장1\r\n",
        "    # ...\r\n",
        "    # 문장n\r\n",
        "    pass\r\n",
        "\r\n",
        "x = ClassName() # 클래스를 호출하여 객체 생성 --> 바인딩 (or 에일리어싱)\r\n",
        "x"
      ],
      "execution_count": null,
      "outputs": []
    },
    {
      "cell_type": "markdown",
      "metadata": {
        "id": "lmEUpf6FrU1s"
      },
      "source": [
        "####파이썬에서 인스턴스를 생성하는 구조 :\r\n",
        "1. A.__new__() 를 호출한다.\r\n",
        "\r\n",
        "2. 부모 클래스의  __new__() 처리\r\n",
        "\r\n",
        "3. 인스턴스 생성\r\n",
        "\r\n",
        "4. A.__init__()를 호출하여 인스턴스 초기화"
      ]
    },
    {
      "cell_type": "markdown",
      "metadata": {
        "id": "M2Vg0LYQWHvx"
      },
      "source": [
        "생성자(Constructor)란 객체가 생성될 때 자동으로 호출되는 메서드를 의미"
      ]
    },
    {
      "cell_type": "code",
      "metadata": {
        "id": "BZzh7jUFr5-G"
      },
      "source": [
        "# 인스턴스 생성: 어떤 특징을 가진 빈 객체를 만드는 것\r\n",
        "class Student:\r\n",
        "    school = 'knu'\r\n",
        "    \r\n",
        "    def __init__(self, name, height):\r\n",
        "        self.name = name\r\n",
        "        self.height = height\r\n",
        "    def Std_weight(self):\r\n",
        "        std_weight = (self.height - 100) * 0.9\r\n",
        "        return std_weight\r\n",
        "\r\n",
        "s1 = Student('lee', 180)\r\n",
        "print(s1.school)          # .school\r\n",
        "print(s1.name, s1.height) # .name, .height --> 속성\r\n",
        "\r\n",
        "s1.Std_weight()           # .Std_weight --> 속성 : 데이터와 메서드로 이루어짐"
      ],
      "execution_count": null,
      "outputs": []
    },
    {
      "cell_type": "code",
      "metadata": {
        "id": "aGjnAS56u-zI"
      },
      "source": [
        "# 네임스페이스: 변수가 객체를 바인딩할 때 그 둘 사이의 관계를 저장하고 있는 공간 (타입: 대부분 딕셔너리)\r\n",
        "class Stock:\r\n",
        "    market = 'kospi'\r\n",
        "\r\n",
        "print(Stock.__dict__)\r\n",
        "s1 = Stock()\r\n",
        "print(s1.__dict__)\r\n",
        "s1.market = 'kosdaq'\r\n",
        "print(s1.__dict__)"
      ],
      "execution_count": null,
      "outputs": []
    },
    {
      "cell_type": "code",
      "metadata": {
        "id": "pxoMuwwTKKN_"
      },
      "source": [
        "x = 1\r\n",
        "def test():\r\n",
        "\tx = 2\r\n",
        "\r\n",
        "    def test1():\r\n",
        "        \r\n",
        "        y = 2\r\n",
        "        print(x)\r\n",
        "test()\r\n",
        "# 파이썬이 변수를 찾는 순서: 지역 네임스페이스의 공간 -> 전역 네임스페이스의 공간 -> 빌트인 네임스페이스 (스코프)"
      ],
      "execution_count": null,
      "outputs": []
    },
    {
      "cell_type": "code",
      "metadata": {
        "id": "7zUJUn11JJ9t"
      },
      "source": [
        "greet = 'hello'\r\n",
        "globals() # 전역 네임스페이스 = 'hello' "
      ],
      "execution_count": null,
      "outputs": []
    },
    {
      "cell_type": "code",
      "metadata": {
        "id": "yiCSuNJiHUCI"
      },
      "source": [
        "# 스코프: 네임스페이스에 직접 접근할 수 있는 파이썬 프로그램의 텍스트 영역\r\n",
        "# 변수의 스코프란 변수의 이름으로 그 변수가 가리키는 객체를 찾을 수 있는 영역의 범위를 말한다\r\n",
        "def double(n):\r\n",
        "    m = n + n\r\n",
        "    print(locals()) # 지역 네임스페이스\r\n",
        "    return m\r\n",
        "print(double(4)) "
      ],
      "execution_count": null,
      "outputs": []
    },
    {
      "cell_type": "markdown",
      "metadata": {
        "id": "L3TGAbnMxf_2"
      },
      "source": [
        "####특수화\r\n",
        "#####상속 : is-a 관계와 같다. ( 자식클래스 --> 부모클래스, but 부모클래스 -/-> 자식클래스 )"
      ]
    },
    {
      "cell_type": "code",
      "metadata": {
        "id": "nefW2GSawS8p"
      },
      "source": [
        "# 파이썬의 최상위 클래스는 object이고, 클래스 정의 시 상속 하지 않아도 이 클래스를 기본으로 상속\r\n",
        "# 특별한 기능은 없으며 속성이 없는 객체 생성 역할을 한다\r\n",
        "# 한 클래스가 다른 클래스를 상속받지 않으면, 파이썬의 최상위 클래스인 'object'를 명시적으로 표기하는 것을 권장\r\n",
        "\r\n",
        "# 좋은 예\r\n",
        "class SampleClass(object): # 상속x --> object표기 권장\r\n",
        "    pass\r\n",
        "\r\n",
        "class OuterClass(object):\r\n",
        "    class InnerClass(object):\r\n",
        "        pass\r\n",
        "\r\n",
        "class ChildClass(ParentClass): # 부모 클래스 상속시엔 표기X"
      ],
      "execution_count": null,
      "outputs": []
    },
    {
      "cell_type": "code",
      "metadata": {
        "id": "HSXoGp2Hwy5Y"
      },
      "source": [
        "# 나쁜 예\r\n",
        "class SampleClass:\r\n",
        "    pass\r\n",
        "\r\n",
        "class OuterClass:\r\n",
        "    class InnerClass:\r\n",
        "        pass"
      ],
      "execution_count": null,
      "outputs": []
    },
    {
      "cell_type": "code",
      "metadata": {
        "id": "H0F085xOCGbg"
      },
      "source": [
        "# 다형성 (or 동적 메서드 바인딩) : 메서드가 서브 클래스 내에서 재정의될 수 있는 원리\r\n",
        "# 파이썬에서는 사용자 정의 클래스의 모든 객체는 해시가능 ( hash()속성을 호출할 수 있으며, 불변 객체임을 뜻함 )하다\r\n",
        "\r\n",
        "class Symbol(object):\r\n",
        "    def __init__(self, value):\r\n",
        "        self.value = value\r\n",
        "\r\n",
        "if __name__ == \"__main__\":\r\n",
        "\r\n",
        "    x = Symbol(\"Py\")\r\n",
        "    y = Symbol(\"Py\")\r\n",
        "\r\n",
        "    symbols = set()\r\n",
        "\r\n",
        "    symbols.add(x)\r\n",
        "    symbols.add(y)\r\n",
        "\r\n",
        "    print(x is y) # x와 y의 참조가 다르므로 'False'\r\n",
        "    print(x == y) # 값은 같으나 False가 나옴.. , ( x.value == y.value )\r\n",
        "    print(len(symbols)) # 원래 1이 나와야 함"
      ],
      "execution_count": null,
      "outputs": []
    },
    {
      "cell_type": "code",
      "metadata": {
        "id": "j1Jwez-0O4u3"
      },
      "source": [
        "class Symbol(object):\r\n",
        "    def __init__(self, value):\r\n",
        "        self.value = value\r\n",
        "\r\n",
        "    def __eq__(self, other): # 객체의 비교를 담당하는 메서드 정의\r\n",
        "        if isinstance(self, other.__class__): # isinstance(인스턴스, 클래스/데이터타입) :\r\n",
        "        # 이때 인스턴스가 특정 클래스/데이터 타입과 일치할 경우에는 True를 아닌 경우에는 False를 리턴\r\n",
        "            return self.value == other.value\r\n",
        "        else:\r\n",
        "            return NotImplemented\r\n",
        "\r\n",
        "if __name__ == \"__main__\":\r\n",
        "    x = Symbol(\"Py\")\r\n",
        "    y = Symbol(\"Py\")\r\n",
        "\r\n",
        "    symbols = set()\r\n",
        "    symbols.add(x) # 오류뜸 -> unhashable (해쉬불가능): 가변 객체임을 의미, 그러나 set은 불변 객체다 -?\r\n",
        "    symbols.add(y) # 원래 add(x.value), add(y.value)로 연산해주어야 한다.\r\n",
        "\r\n",
        "    print(x is y) # False 반환\r\n",
        "    print(x == y) # True 반환\r\n",
        "    print(len(symbols))"
      ],
      "execution_count": null,
      "outputs": []
    },
    {
      "cell_type": "code",
      "metadata": {
        "id": "kCQypXy2Ql90"
      },
      "source": [
        "class Symbol(object):\r\n",
        "    def __init__(self, value):\r\n",
        "        self.value = value\r\n",
        "    \r\n",
        "    def __eq__(self, other):\r\n",
        "        if isinstance(self, other.__class__):\r\n",
        "            return self.value == other.value\r\n",
        "        else:\r\n",
        "            return NotImplemented\r\n",
        "\r\n",
        "    def __hash__(self): # 위의 에러를 고치기 위해 hash()메서드를 추가\r\n",
        "        return hash(self.value)\r\n",
        "\r\n",
        "if __name__ == \"__main__\":\r\n",
        "    x = Symbol(\"Py\")\r\n",
        "    y = Symbol(\"Py\")\r\n",
        "\r\n",
        "    symbols = set()\r\n",
        "    symbols.add(x)\r\n",
        "    symbols.add(y)\r\n",
        "\r\n",
        "    print(x is y)\r\n",
        "    print(x == y) \r\n",
        "    print(len(symbols))"
      ],
      "execution_count": null,
      "outputs": []
    },
    {
      "cell_type": "markdown",
      "metadata": {
        "id": "bWS88ezwTMNu"
      },
      "source": [
        "####합성과 집합화\r\n",
        "모든 클래스는 상속을 사용 (object 클래스) , 대부분 클래스는 다양한 타입의 인스턴스 변수를 가지며, 합성과 집합화를 사용한다.\r\n",
        "#####**합성**이란 (클래스) A와 B가 강한 연관 관계를 가지며, 강한 생명주기를 갖고 의존성이 강하다. *ex) 집 클래스 안의 방 클래스*\r\n",
        "**집합화**란 A와 B가 연관 관계는 있지만, 생명주기가 약하며, 독립적이다. *ex) 미술과목과 음악과목 클래스*"
      ]
    },
    {
      "cell_type": "code",
      "metadata": {
        "id": "-HBM-OkSS8wF"
      },
      "source": [
        "import math\r\n",
        "\r\n",
        "class Point(object):\r\n",
        "    def __init__(self, x=0, y=0):\r\n",
        "        self.x = x # 데이터 속성 (attribute)\r\n",
        "        self.y = y\r\n",
        "\r\n",
        "    def distance_from_origin(self): # 메서드 속성\r\n",
        "        return math.hypot(self.x, self.y) # math.hypot(x,y): sqrt(x^2 + y^2)\r\n",
        "    \r\n",
        "    def __eq__(self, other):\r\n",
        "        return self.x == other.x and self.y == other.y\r\n",
        "\r\n",
        "    def __repr__(self):\r\n",
        "        return \"point ({0.x!r}, {0.y!r})\".format(self)\r\n",
        "\r\n",
        "    def __str__(self):\r\n",
        "        return \"({0.x!r}, {0.y!r})\".format(self)\r\n",
        "\r\n",
        "class Circle(Point):\r\n",
        "    def __init__(self, radius, x=0, y=0):\r\n",
        "        super().__init__(x,y)  # 생성 및 초기화\r\n",
        "        self.radius = radius\r\n",
        "\r\n",
        "    def edge_distance_from_origin(self):\r\n",
        "        return abs(self.distance_from_origin() - self.radius)\r\n",
        "\r\n",
        "    def area(self):\r\n",
        "        return math.pi*(self.radius**2)\r\n",
        "\r\n",
        "    def circumference(self):\r\n",
        "        return 2*math.pi*self.radius\r\n",
        "\r\n",
        "    def __eq__(self, other):\r\n",
        "        return self.radius == other.radius and super().__eq__(other)\r\n",
        "\r\n",
        "    def __repr__(self):\r\n",
        "        return \"circle ({0.radius!r}, {0.x!r})\".format(self)\r\n",
        "\r\n",
        "    def __str__(self):\r\n",
        "        return repr(self)"
      ],
      "execution_count": null,
      "outputs": []
    },
    {
      "cell_type": "code",
      "metadata": {
        "id": "ZCy-hnD6WbL9"
      },
      "source": [
        "a = Point(3, 4)\r\n",
        "c = Circle(3, 2, 1)\r\n",
        "a, repr(a), str(a), a.distance_from_origin(), c, repr(c), str(c), c.circumference(), c.edge_distance_from_origin()"
      ],
      "execution_count": null,
      "outputs": []
    }
  ]
}