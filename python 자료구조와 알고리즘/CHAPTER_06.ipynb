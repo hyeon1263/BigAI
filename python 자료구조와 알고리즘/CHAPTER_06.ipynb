{
  "nbformat": 4,
  "nbformat_minor": 0,
  "metadata": {
    "colab": {
      "name": "CHAPTER_06",
      "private_outputs": true,
      "provenance": [],
      "collapsed_sections": []
    },
    "kernelspec": {
      "name": "python3",
      "display_name": "Python 3"
    },
    "language_info": {
      "name": "python"
    }
  },
  "cells": [
    {
      "cell_type": "markdown",
      "metadata": {
        "id": "Ps0qy1ifvHLS"
      },
      "source": [
        "#Chapter 06\n",
        "###파이썬 고급 주제"
      ]
    },
    {
      "cell_type": "markdown",
      "metadata": {
        "id": "O1r5wiPVvP6q"
      },
      "source": [
        "###6.1 멀티 프로세스와 멀티 스레드\n",
        "*'프로세스'* : 운영 체제에서 실행되는 각 프로그램\n",
        "#####각 프로세스에는 하나 이상의 *'스레드'* 가 있다"
      ]
    },
    {
      "cell_type": "markdown",
      "metadata": {
        "id": "Bm-tAnKN2zDc"
      },
      "source": [
        "*   ***프로세스***: 운영체제로부터 자원을 할당받은 '작업'의 단위.\n",
        "\n",
        "*   ***스레드***: 프로세스가 할당받은 자원을 이용하는 '실행 흐름'의 단위.\n",
        "\n",
        "#####프로그램은 코드 덩어리 파일, 그 프로그램을 실행한 게 프로세스.\n",
        "비유를 하면  코드(프로세스) , 함수(스레드)\n",
        "\n",
        "\n"
      ]
    },
    {
      "cell_type": "code",
      "metadata": {
        "id": "F89gTqcjr4Q4"
      },
      "source": [
        "# subprocess 모듈: 다른 언어로 만들어진 프로그램을 통합, 제어할 수 있게 만드는 모듈\n",
        "import subprocess\n",
        "subprocess.run([\"echo\", \"이것은 subprocess입니다.\"])\n",
        "\n",
        "# subprocess.CompletedProcess : 완료된 프로세스를 나타내는, run()의 반환 값."
      ],
      "execution_count": null,
      "outputs": []
    },
    {
      "cell_type": "code",
      "metadata": {
        "id": "bjnQ5siQz7mZ"
      },
      "source": [
        "subprocess.run([\"sleep\", '10']) # 10초 동안 sleep"
      ],
      "execution_count": null,
      "outputs": []
    },
    {
      "cell_type": "code",
      "metadata": {
        "id": "KPAmMYF71GWb"
      },
      "source": [
        "# threading 모듈: 멀티 스레드를 사용    http://pythonstudy.xyz/python/article/24-%EC%93%B0%EB%A0%88%EB%93%9C-Thread\n",
        "                                      # https://docs.python.org/ko/3.8/library/threading.html\n",
        "import queue\n",
        "import threading\n",
        "\n",
        "q = queue.Queue() # 선입선출(FIFO, First-In, First-Out)큐 객체를 생성\n",
        "\n",
        "def worker(num):\n",
        "    while True:\n",
        "        item = q.get() # 요소 하나를 반환하고 제거\n",
        "        if item is None: \n",
        "            break      # None이면 멈춤\n",
        "        #작업을 처리한다\n",
        "        print(\"스레드 {0} : 처리 완료 {1}\".format(num+1, item))\n",
        "        q.task_done() # 앞서 큐에 넣은 작업이 완료되었음을 나타냄 (작업이 완료되었음을 큐에 알려줌)\n",
        "\n",
        "if __name__ == \"__main__\":\n",
        "    num_worker_threads = 5\n",
        "    threads = []\n",
        "    for i in range(num_worker_threads):\n",
        "        t = threading.Thread(target=worker, args=(i,)) # target에 있는 함수실행, args를 인자로 받음 (인자가 1개면 ,를 붙여준다)\n",
        "        t.start() # 스레드를 실행\n",
        "        threads.append(t)\n",
        "\n",
        "    for item in range(20):\n",
        "        q.put(item) # q객체에 item 입력\n",
        "\n",
        "    #모든 작업이 끝날 때까지 대기한다 (block)\n",
        "    q.join()\n",
        "    \n",
        "    #워커 스레드를 종료한다 (stop)\n",
        "    for i in range(num_worker_threads):\n",
        "        q.put(None)\n",
        "    for t in threads:\n",
        "        t.join()\n",
        "\n",
        "# https://velog.io/@kho5420/Python-Thread-and-Lock-%EC%93%B0%EB%A0%88%EB%93%9C%EC%99%80-%EB%9D%BD\n",
        "\n",
        "# 락 : 각 스레드의 연산들의 충돌을 방지하기 위함 ('Lock'을 이용해서 쓰레드를 동기화)\n",
        "#  lock을 acquire하면 해당 쓰레드만 공유 데이터에 접근할 수 있고, lock을 release 해야만 다른 쓰레드에서 공유 데이터에 접근할 수 있습니다"
      ],
      "execution_count": null,
      "outputs": []
    },
    {
      "cell_type": "markdown",
      "metadata": {
        "id": "LCGYJ87aR8nH"
      },
      "source": [
        "*   자원을 액세스하기 직전에 lock.acquire()를 호출합니다.\n",
        "*   해당 자원을 사용합니다.\n",
        "*   처리를 마치면 lock.release()를 호출하여 다른 스레드가 사용할 수 있도록 합니다.\n",
        "\n"
      ]
    },
    {
      "cell_type": "code",
      "metadata": {
        "id": "z4WJ9l9p27Bg"
      },
      "source": [
        "# 뮤텍스와 세마포어\n",
        "from threading import Thread, Lock\n",
        "import threading\n",
        "\n",
        "def worker(mutex, data, thread_safe):\n",
        "    if thread_safe:\n",
        "        mutex.acquire()\n",
        "    try:\n",
        "        print(\"스레드 {0}: {1}\\n\".format(threading.get_ident(), data))\n",
        "    finally:\n",
        "        if thread_safe:\n",
        "            mutex.release()\n",
        "\n",
        "\n",
        "if __name__ == \"__main__\":\n",
        "    threads = []\n",
        "    thread_safe = True    # 뮤텍스 사용시 : True, 아니면 False\n",
        "    mutex = Lock()\n",
        "    for i in range(20):\n",
        "        t = Thread(target=worker, args=(mutex, i, thread_safe))\n",
        "        t.start()\n",
        "        threads.append(t)\n",
        "    for t in threads:\n",
        "        t.join()"
      ],
      "execution_count": null,
      "outputs": []
    },
    {
      "cell_type": "code",
      "metadata": {
        "id": "fQizExi439Fc"
      },
      "source": [
        "# https://qkqhxla1.tistory.com/15\n",
        "import threading\n",
        "import time\n",
        "\n",
        "class ThreadPool(object):\n",
        "    def __init__(self):\n",
        "        self.active = []\n",
        "        self.lock = threading.Lock()\n",
        "\n",
        "    def acquire(self, name):\n",
        "        with self.lock:\n",
        "            self.active.append(name)\n",
        "            print(\"획득: {0} | 스레드 풀: {1}\".format(name, self.active))\n",
        "\n",
        "    def release(self, name):\n",
        "        with self.lock:\n",
        "            self.active.remove(name)\n",
        "            print(\"반환: {0} | 스레드 풀: {1}\".format(name, self.active))\n",
        "\n",
        "# with: 자원을 획득하고 사용 후 반납해야 하는 경우 주로 사용\n",
        "\n",
        "def worker(semaphore, pool):   # worker 함수 : 이름 지정 -> acquire() -> 1초간 sleep -> release()\n",
        "    with semaphore:\n",
        "        name = threading.currentThread().getName() # 현재 스레드의 이름 지정\n",
        "        pool.acquire(name)\n",
        "        time.sleep(1)\n",
        "        pool.release(name)\n",
        "\n",
        "if __name__ == '__main__':\n",
        "    threads = []\n",
        "    pool = ThreadPool()  # 객체 생성\n",
        "    semaphore = threading.Semaphore(3) # 세마포어 객체 생성, 한번에 실행될 스레드 3개로 제한\n",
        "    for i in range(10):\n",
        "        t = threading.Thread(target=worker, name=\"스레드 \" + str(i), args=(semaphore, pool))\n",
        "        t.start()\n",
        "        threads.append(t)\n",
        "    for t in threads:\n",
        "        t.join()"
      ],
      "execution_count": null,
      "outputs": []
    },
    {
      "cell_type": "code",
      "metadata": {
        "id": "oOYpsoMyakhn"
      },
      "source": [
        "import threading\n",
        "import time\n",
        "\n",
        "sem = threading.Semaphore(3)\n",
        "\n",
        "class RestrictedArea(threading.Thread):\n",
        "    def run(self):\n",
        "        for x in range(3):\n",
        "            msg = 'Threading Semaphore TEST : %s' % self.getName()\n",
        "            sem.acquire()\n",
        "\n",
        "            print(msg)  #  <-- 여기가 3개의 스레드만이 존재할 수 있는 영역\n",
        "            time.sleep(2)\n",
        "            sem.release()\n",
        "\n",
        "threads = []\n",
        "\n",
        "# 생성할 스레드의 개수, 여기서는 10개의 스레드 생성\n",
        "for i in range(10):\n",
        "    threads.append(RestrictedArea())\n",
        "for th in threads:\n",
        "    th.start()\n",
        "for th in threads:\n",
        "    th.join()\n",
        "print('Finish All Threading')"
      ],
      "execution_count": null,
      "outputs": []
    },
    {
      "cell_type": "markdown",
      "metadata": {
        "id": "lo_WEbYCc0Ns"
      },
      "source": [
        "**데드락** (교착상태) :두 개 이상의 프로세스 (or 스레드) 가 서로 상대방의 작업이 끝나기만을 기다려서 결과적으로 아무것도 완료되지 못하는 상태\n",
        "#####해결방안 : 프로그램에서 락을 할당하고, 락을 순서대로 획득하면 된다.\n",
        "**스핀락** : 바쁜 대기 (busy waiting) 의 형태 , 진입이 불가능할 때, 진입이 가능할 때까지 반복문을 돌면서 재시도하는 방식으로 구현된 락"
      ]
    },
    {
      "cell_type": "code",
      "metadata": {
        "id": "J6Pdm9ZS4XmT"
      },
      "source": [
        "# 스레딩에 대한 구글 파이썬 스타일 가이드\n",
        "# 원자성: 여러개의 쓰레드가 있을 때 특정 시점에 어떤 메소드를 두개 이상의 쓰레드가 동시에 호출 못한다는 것\n",
        "# 어떠한 작업이 실행될때 언제나 완전하게 진행되어 종료되거나, 그럴 수 없는 경우 실행을 하지 않는 경우를 말한다.\n",
        "# 원자성을 가지는 작업은 실행되어 진행되다가 종료하지 않고 중간에서 멈추는 경우는 있을 수 없다.\n",
        "import threading\n",
        "import time\n",
        "\n",
        "def consumer(cond):\n",
        "    name = threading.currentThread().getName()\n",
        "    print(\"{0} 시작\".format(name))\n",
        "    with cond:\n",
        "        print(\"{0} 대기\".format(name))\n",
        "        cond.wait() # 통지되거나 시간제한이 만료될 때까지 기다림\n",
        "        print(\"{0} 자원 소비\".format(name))\n",
        "\n",
        "def producer(cond):\n",
        "    name = threading.currentThread().getName()\n",
        "    print(\"{0} 시작\".format(name))\n",
        "    with cond:\n",
        "        print(\"{0} 자원 생산 후 모든 소비자에게 알림\".format(name))\n",
        "        cond.notifyAll()\n",
        "\n",
        "if __name__ == \"__main__\":\n",
        "    condition = threading.Condition()\n",
        "    consumer1 = threading.Thread(name=\"소비자1\", target=consumer, args=(condition,))\n",
        "    consumer2 = threading.Thread(name=\"소비자2\", target=consumer, args=(condition,)) # 시작, 대기까지 -> wait()\n",
        "    producer = threading.Thread(name=\"생산자\", target=producer, args=(condition,))   # 소비자에게 알림 -> notifyAll() -> 소비자 자원소비\n",
        "\n",
        "    consumer1.start()\n",
        "    consumer2.start()\n",
        "    producer.start()\n",
        "\n",
        "#   https://velog.io/@wltjs10645/Python-thread2"
      ],
      "execution_count": null,
      "outputs": []
    }
  ]
}