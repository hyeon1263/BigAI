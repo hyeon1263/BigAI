{
  "nbformat": 4,
  "nbformat_minor": 0,
  "metadata": {
    "colab": {
      "name": "CHAPTER_06",
      "private_outputs": true,
      "provenance": [],
      "collapsed_sections": []
    },
    "kernelspec": {
      "name": "python3",
      "display_name": "Python 3"
    },
    "language_info": {
      "name": "python"
    }
  },
  "cells": [
    {
      "cell_type": "markdown",
      "metadata": {
        "id": "Ps0qy1ifvHLS"
      },
      "source": [
        "#Chapter 06\n",
        "###파이썬 고급 주제"
      ]
    },
    {
      "cell_type": "markdown",
      "metadata": {
        "id": "O1r5wiPVvP6q"
      },
      "source": [
        "###6.1 멀티 프로세스와 멀티 스레드\n",
        "*'프로세스'* : 운영 체제에서 실행되는 각 프로그램\n",
        "#####각 프로세스에는 하나 이상의 *'스레드'* 가 있다"
      ]
    },
    {
      "cell_type": "markdown",
      "metadata": {
        "id": "Bm-tAnKN2zDc"
      },
      "source": [
        "*   ***프로세스***: 운영체제로부터 자원을 할당받은 '작업'의 단위.\n",
        "\n",
        "*   ***스레드***: 프로세스가 할당받은 자원을 이용하는 '실행 흐름'의 단위.\n",
        "\n",
        "#####프로그램은 코드 덩어리 파일, 그 프로그램을 실행한 게 프로세스.\n",
        "비유를 하면  코드(프로세스) , 함수(스레드)\n",
        "\n",
        "\n"
      ]
    },
    {
      "cell_type": "code",
      "metadata": {
        "id": "F89gTqcjr4Q4"
      },
      "source": [
        "# subprocess 모듈: 다른 언어로 만들어진 프로그램을 통합, 제어할 수 있게 만드는 모듈\n",
        "import subprocess\n",
        "subprocess.run([\"echo\", \"이것은 subprocess입니다.\"])\n",
        "\n",
        "# subprocess.CompletedProcess : 완료된 프로세스를 나타내는, run()의 반환 값."
      ],
      "execution_count": null,
      "outputs": []
    },
    {
      "cell_type": "code",
      "metadata": {
        "id": "bjnQ5siQz7mZ"
      },
      "source": [
        "subprocess.run([\"sleep\", '10']) # 10초 동안 sleep"
      ],
      "execution_count": null,
      "outputs": []
    },
    {
      "cell_type": "code",
      "metadata": {
        "id": "KPAmMYF71GWb"
      },
      "source": [
        "# threading 모듈: 멀티 스레드를 사용    http://pythonstudy.xyz/python/article/24-%EC%93%B0%EB%A0%88%EB%93%9C-Thread\n",
        "                                      # https://docs.python.org/ko/3.8/library/threading.html\n",
        "import queue\n",
        "import threading\n",
        "\n",
        "q = queue.Queue() # 선입선출(FIFO, First-In, First-Out)큐 객체를 생성\n",
        "\n",
        "def worker(num):\n",
        "    while True:\n",
        "        item = q.get() # 요소 하나를 반환하고 제거\n",
        "        if item is None: \n",
        "            break      # None이면 멈춤\n",
        "        #작업을 처리한다\n",
        "        print(\"스레드 {0} : 처리 완료 {1}\".format(num+1, item))\n",
        "        q.task_done() # 앞서 큐에 넣은 작업이 완료되었음을 나타냄 (작업이 완료되었음을 큐에 알려줌)\n",
        "\n",
        "if __name__ == \"__main__\":\n",
        "    num_worker_threads = 5\n",
        "    threads = []\n",
        "    for i in range(num_worker_threads):\n",
        "        t = threading.Thread(target=worker, args=(i,)) # target에 있는 함수실행, args를 인자로 받음 (인자가 1개면 ,를 붙여준다)\n",
        "        t.start() # 스레드를 실행\n",
        "        threads.append(t)\n",
        "\n",
        "    for item in range(20):\n",
        "        q.put(item) # q객체에 item 입력\n",
        "\n",
        "    #모든 작업이 끝날 때까지 대기한다 (block)\n",
        "    q.join()\n",
        "    \n",
        "    #워커 스레드를 종료한다 (stop)\n",
        "    for i in range(num_worker_threads):\n",
        "        q.put(None)\n",
        "    for t in threads:\n",
        "        t.join()\n",
        "\n",
        "# https://velog.io/@kho5420/Python-Thread-and-Lock-%EC%93%B0%EB%A0%88%EB%93%9C%EC%99%80-%EB%9D%BD\n",
        "\n",
        "# 락 : 각 스레드의 연산들의 충돌을 방지하기 위함 ('Lock'을 이용해서 쓰레드를 동기화)\n",
        "#  lock을 acquire하면 해당 쓰레드만 공유 데이터에 접근할 수 있고, lock을 release 해야만 다른 쓰레드에서 공유 데이터에 접근할 수 있습니다"
      ],
      "execution_count": null,
      "outputs": []
    },
    {
      "cell_type": "markdown",
      "metadata": {
        "id": "LCGYJ87aR8nH"
      },
      "source": [
        "*   자원을 액세스하기 직전에 lock.acquire()를 호출합니다.\n",
        "*   해당 자원을 사용합니다.\n",
        "*   처리를 마치면 lock.release()를 호출하여 다른 스레드가 사용할 수 있도록 합니다.\n",
        "\n"
      ]
    },
    {
      "cell_type": "code",
      "metadata": {
        "id": "z4WJ9l9p27Bg"
      },
      "source": [
        "# 뮤텍스와 세마포어\n",
        "from threading import Thread, Lock\n",
        "import threading\n",
        "\n",
        "def worker(mutex, data, thread_safe):\n",
        "    if thread_safe:\n",
        "        mutex.acquire()\n",
        "    try:\n",
        "        print(\"스레드 {0}: {1}\\n\".format(threading.get_ident(), data))\n",
        "    finally:\n",
        "        if thread_safe:\n",
        "            mutex.release()\n",
        "\n",
        "\n",
        "if __name__ == \"__main__\":\n",
        "    threads = []\n",
        "    thread_safe = True    # 뮤텍스 사용시 : True, 아니면 False\n",
        "    mutex = Lock()\n",
        "    for i in range(20):\n",
        "        t = Thread(target=worker, args=(mutex, i, thread_safe))\n",
        "        t.start()\n",
        "        threads.append(t)\n",
        "    for t in threads:\n",
        "        t.join()"
      ],
      "execution_count": null,
      "outputs": []
    },
    {
      "cell_type": "code",
      "metadata": {
        "id": "fQizExi439Fc"
      },
      "source": [
        "# https://qkqhxla1.tistory.com/15\n",
        "import threading\n",
        "import time\n",
        "\n",
        "class ThreadPool(object):\n",
        "    def __init__(self):\n",
        "        self.active = []\n",
        "        self.lock = threading.Lock()\n",
        "\n",
        "    def acquire(self, name):\n",
        "        with self.lock:\n",
        "            self.active.append(name)\n",
        "            print(\"획득: {0} | 스레드 풀: {1}\".format(name, self.active))\n",
        "\n",
        "    def release(self, name):\n",
        "        with self.lock:\n",
        "            self.active.remove(name)\n",
        "            print(\"반환: {0} | 스레드 풀: {1}\".format(name, self.active))\n",
        "\n",
        "# with: 자원을 획득하고 사용 후 반납해야 하는 경우 주로 사용\n",
        "\n",
        "def worker(semaphore, pool):   # worker 함수 : 이름 지정 -> acquire() -> 1초간 sleep -> release()\n",
        "    with semaphore:\n",
        "        name = threading.currentThread().getName() # 현재 스레드의 이름 지정\n",
        "        pool.acquire(name)\n",
        "        time.sleep(1)\n",
        "        pool.release(name)\n",
        "\n",
        "if __name__ == '__main__':\n",
        "    threads = []\n",
        "    pool = ThreadPool()  # 객체 생성\n",
        "    semaphore = threading.Semaphore(3) # 세마포어 객체 생성, 한번에 실행될 스레드 3개로 제한\n",
        "    for i in range(10):\n",
        "        t = threading.Thread(target=worker, name=\"스레드 \" + str(i), args=(semaphore, pool))\n",
        "        t.start()\n",
        "        threads.append(t)\n",
        "    for t in threads:\n",
        "        t.join()"
      ],
      "execution_count": null,
      "outputs": []
    },
    {
      "cell_type": "code",
      "metadata": {
        "id": "oOYpsoMyakhn"
      },
      "source": [
        "import threading\n",
        "import time\n",
        "\n",
        "sem = threading.Semaphore(3)\n",
        "\n",
        "class RestrictedArea(threading.Thread):\n",
        "    def run(self):\n",
        "        for x in range(3):\n",
        "            msg = 'Threading Semaphore TEST : %s' % self.getName()\n",
        "            sem.acquire()\n",
        "\n",
        "            print(msg)  #  <-- 여기가 3개의 스레드만이 존재할 수 있는 영역\n",
        "            time.sleep(2)\n",
        "            sem.release()\n",
        "\n",
        "threads = []\n",
        "\n",
        "# 생성할 스레드의 개수, 여기서는 10개의 스레드 생성\n",
        "for i in range(10):\n",
        "    threads.append(RestrictedArea())\n",
        "for th in threads:\n",
        "    th.start()\n",
        "for th in threads:\n",
        "    th.join()\n",
        "print('Finish All Threading')"
      ],
      "execution_count": null,
      "outputs": []
    },
    {
      "cell_type": "markdown",
      "metadata": {
        "id": "lo_WEbYCc0Ns"
      },
      "source": [
        "**데드락** (교착상태) :두 개 이상의 프로세스 (or 스레드) 가 서로 상대방의 작업이 끝나기만을 기다려서 결과적으로 아무것도 완료되지 못하는 상태\n",
        "#####해결방안 : 프로그램에서 락을 할당하고, 락을 순서대로 획득하면 된다.\n",
        "**스핀락** : 바쁜 대기 (busy waiting) 의 형태 , 진입이 불가능할 때, 진입이 가능할 때까지 반복문을 돌면서 재시도하는 방식으로 구현된 락"
      ]
    },
    {
      "cell_type": "code",
      "metadata": {
        "id": "J6Pdm9ZS4XmT"
      },
      "source": [
        "# 스레딩에 대한 구글 파이썬 스타일 가이드\n",
        "# 원자성: 여러개의 쓰레드가 있을 때 특정 시점에 어떤 메소드를 두개 이상의 쓰레드가 동시에 호출 못한다는 것\n",
        "# 어떠한 작업이 실행될때 언제나 완전하게 진행되어 종료되거나, 그럴 수 없는 경우 실행을 하지 않는 경우를 말한다.\n",
        "# 원자성을 가지는 작업은 실행되어 진행되다가 종료하지 않고 중간에서 멈추는 경우는 있을 수 없다.\n",
        "import threading\n",
        "import time\n",
        "\n",
        "def consumer(cond):\n",
        "    name = threading.currentThread().getName()\n",
        "    print(\"{0} 시작\".format(name))\n",
        "    with cond:\n",
        "        print(\"{0} 대기\".format(name))\n",
        "        cond.wait() # 통지되거나 시간제한이 만료될 때까지 기다림\n",
        "        print(\"{0} 자원 소비\".format(name))\n",
        "\n",
        "def producer(cond):\n",
        "    name = threading.currentThread().getName()\n",
        "    print(\"{0} 시작\".format(name))\n",
        "    with cond:\n",
        "        print(\"{0} 자원 생산 후 모든 소비자에게 알림\".format(name))\n",
        "        cond.notifyAll()\n",
        "\n",
        "if __name__ == \"__main__\":\n",
        "    condition = threading.Condition()\n",
        "    consumer1 = threading.Thread(name=\"소비자1\", target=consumer, args=(condition,))\n",
        "    consumer2 = threading.Thread(name=\"소비자2\", target=consumer, args=(condition,)) # 시작, 대기까지 -> wait()\n",
        "    producer = threading.Thread(name=\"생산자\", target=producer, args=(condition,))   # 소비자에게 알림 -> notifyAll() -> 소비자 자원소비\n",
        "\n",
        "    consumer1.start()\n",
        "    consumer2.start()\n",
        "    producer.start()\n",
        "\n",
        "#   https://velog.io/@wltjs10645/Python-thread2"
      ],
      "execution_count": null,
      "outputs": []
    },
    {
      "cell_type": "markdown",
      "metadata": {
        "id": "PmGWfkhl80wH"
      },
      "source": [
        "###6.2 좋은 습관\n",
        "\n",
        "**virtualencv** : 파이썬 프로젝드에 필요한 패키지를 사용하기 위해 필요한 모든 실행 파일을 포함하는 폴더를 생성한다"
      ]
    },
    {
      "cell_type": "markdown",
      "metadata": {
        "id": "SnsvK804BOau"
      },
      "source": [
        "```\n",
        "$ pip install virtualenv         (virtualenv를 설치)\n",
        "$ virtualenv --version           (설치한 버전 확인)\n",
        "\n",
        "$ cd my_project_folder\n",
        "$ virtualenv my_project          (가상 환경 프로젝트 생성)\n",
        "\n",
        "$ source my_project/bin/activate (가상 환경 프로젝트 활성화)\n",
        "\n",
        "(my_project)$ pip install requests (파이썬 외부 패키지 모듈 설치, ex)requests 라이브러리)\n",
        "(my_project)$ pip freeze         (가상 환경에 설치된 외부 패키지 목록 확인)\n",
        "(my_project)$ deactivate         (가상 환경 프로젝트 비활성화)\n",
        "\n",
        "# 로컬 가상환경을 삭제하려면 생성한 폴더 (my_project)를 삭제하면 된다.\n",
        "\n",
        "```"
      ]
    },
    {
      "cell_type": "markdown",
      "metadata": {
        "id": "o6sY-86NC_Lp"
      },
      "source": [
        "**virtualenvwrapper** : virtualenv를 사용하여 모든 가상환경을 다루기 쉽게 한곳에 배치해준다"
      ]
    },
    {
      "cell_type": "markdown",
      "metadata": {
        "id": "nw4ftXAnEP5O"
      },
      "source": [
        "```\n",
        "$ pip install virtualenvwraaper  (virtualenvwrapper 설치)\n",
        "\n",
        " (가상 환경 폴더 생성)\n",
        "$ export WORKON_HOME=~/Envs\n",
        "$ mkdir -p $WORKON_HOME\n",
        "$ source /usr/local/bin/virtualenvwrapper.sh\n",
        "\n",
        "$ mkvirtualenv env1    (가상 환경 프로젝트 생성)\n",
        "\n",
        "(env1)$ pip install requests   (requests 라이브러리 설치)\n",
        "(env1)$ pip freeze     (설치된 패키지 확인)\n",
        "\n",
        "$ workon env1          (가상 환경 프로젝트 활성화)\n",
        "(env1)$ deactivate     (가상 환경 프로젝트 비활성화)\n",
        "\n",
        "(env1)$ rmvirtualenv env1 (가상 환경 프로젝트 삭제)\n",
        "```"
      ]
    },
    {
      "cell_type": "markdown",
      "metadata": {
        "id": "D1x11bpbGQ-9"
      },
      "source": [
        "####디버깅\n",
        "\n",
        "파이썬 디버거 ***pdb*** 를 이용하면 디버깅을 할 수 있다\n",
        "\n",
        "파이썬 스크립트를 대화식 인터프리터에서 사용하려면 : ' **-i 파일명** ' or ' **-m pdb 파일명** ' 을 해주면 된다.\n",
        "\n",
        "http://pythonstudy.xyz/python/article/505-Python-%EB%94%94%EB%B2%84%EA%B9%85-PDB"
      ]
    },
    {
      "cell_type": "code",
      "metadata": {
        "id": "BpSPA9mk_SIW"
      },
      "source": [
        "# 스크립트에서 디버깅하고 싶은 위치에 pdb.set_trace() 를 삽입하는 방법\n",
        "import pdb\n",
        "pdb.set_trace() # 여기서 디버깅 시작"
      ],
      "execution_count": null,
      "outputs": []
    },
    {
      "cell_type": "markdown",
      "metadata": {
        "id": "LiedO1cgMRll"
      },
      "source": [
        "####프로파일링 : \n",
        "프로그램이 매우 느리게 실행되거나 예상보다 많은 메모리가 소비된다면, 자료구조나 알고리즘을 잘못 선택했거나 비효율적으로 구현했기 때문인 경우가 많다.\n",
        "이 경우 다음과 같이 성능 항목을 검토한다:\n",
        "\n"
      ]
    },
    {
      "cell_type": "markdown",
      "metadata": {
        "id": "rjHrdO7cMppd"
      },
      "source": [
        "\n",
        "\n",
        "*   읽기 전용 데이터는 리스트 대신 튜플을 사용\n",
        "*   반복문에서 항목이 많은 리스트나 튜플 대신 **제너레이터**를 사용하여 순회\n",
        "*   문자열을 연결할 때 ' + ' 대신 리스트에 문자열을 추가한 후 다시 하나로 ' join ' 한다\n",
        "\n"
      ]
    },
    {
      "cell_type": "code",
      "metadata": {
        "id": "ohp85hENC5jc"
      },
      "source": [
        "# cProfile 모듈 : 호출 시간에 대한 세부 분석을 제공, 병목 현상을 찾는데 사용\n",
        "#               (병목현상: 시스템의 전체 성능이나 용량이 하나 혹은 소수 개의 구성 요소나 자원에 의해 제한 받는 현상)\n",
        "\n",
        "import cProfile\n",
        "import time\n",
        "\n",
        "def sleep():\n",
        "    time.sleep(5)\n",
        "\n",
        "def hello_world():\n",
        "    print('Hello World')\n",
        "\n",
        "def main():\n",
        "    sleep()\n",
        "    hello_world()\n",
        "\n",
        "cProfile.run('main()')"
      ],
      "execution_count": null,
      "outputs": []
    },
    {
      "cell_type": "code",
      "metadata": {
        "id": "3tEuuBd8PpGT"
      },
      "source": [
        "# timeit 모듈: 코드 일부분의 실행 시간을 확인하는 데 사용\n",
        "\n",
        "import timeit\n",
        "timeit.timeit(\"x = 2 + 2\"), timeit.timeit(\"x = sum(range(10))\")"
      ],
      "execution_count": null,
      "outputs": []
    },
    {
      "cell_type": "code",
      "metadata": {
        "id": "Enal8vRLQEMh"
      },
      "source": [
        "# time 모듈의 time()함수를 사용한 예제\n",
        "\n",
        "import time\n",
        "\n",
        "def sum0fN2(n):\n",
        "    start = time.time() # 현재시간 (시작한 시간)\n",
        "    theSum = 0\n",
        "    for i in range(1, n+1):\n",
        "        theSum = theSum + i\n",
        "    end = time.time() # 현재시간 (끝난 시간)\n",
        "    return theSum, end-start\n",
        "\n",
        "if __name__ == \"__main__\":\n",
        "    n = 5\n",
        "    print(\"총 합계: %d\\t 시간: %10.7f초\" % sum0fN2(n))\n",
        "    n = 200\n",
        "    print(\"총 합계: %d\\t 시간: %10.7f초\" % sum0fN2(n))"
      ],
      "execution_count": null,
      "outputs": []
    },
    {
      "cell_type": "markdown",
      "metadata": {
        "id": "cqBS5dqqQyze"
      },
      "source": [
        "###6.3 단위 테스트\n",
        "개별 함수 및 클래스의 메서드에 대해 테스트 코드를 작성해서, 예상한 값이 맞게 나오는지 확인하는 것은 좋은 습관이다\n",
        "\n",
        "doctest 와 unittest 모듈을 사용하면 쉽게 단위 테스트 (unit test) 를 할 수 있다\n",
        "\n",
        "외부 라이브러리인 pytest 또한 단위 테스트를 제공한다"
      ]
    },
    {
      "cell_type": "markdown",
      "metadata": {
        "id": "8zsU3vcbRu_H"
      },
      "source": [
        "\n",
        "\n",
        "* **테스트 픽스처** : 테스트 설정을 위한 코드\n",
        "* **테스트 케이스** : 테스트의 기본 단위\n",
        "* **테스트 스위트** : unittest.TestCase의 하위 클래스에 의해 생성된 테스트 케이스 집합. (각 테스트 케이스의 메서드 이름은 test로 시작한다)\n",
        "* **테스트 러너** : 하나 이상의 테스트 스위트를 실행하는 객체\n",
        "\n"
      ]
    },
    {
      "cell_type": "code",
      "metadata": {
        "id": "mBCJtxfYRdCh"
      },
      "source": [
        "# doctest: 모듈과 함수의 독스트링(\"\"\")안에 테스트 코드를 작성할 때 사용\n",
        "\n",
        "# 테스트 작성 후, 다음 코드 세 줄만 추가하면 된다.\n",
        "if __name__ == \"__main__\":\n",
        "    import doctest\n",
        "    doctest.testmod() "
      ],
      "execution_count": null,
      "outputs": []
    },
    {
      "cell_type": "code",
      "metadata": {
        "id": "7zZv2OIaVWhy"
      },
      "source": [
        "\"\"\"\n",
        "이것은 \"예제\" 모듈입니다.\n",
        "\n",
        "예제 모듈은 factorial() 함수 하나를 제공합니다. 예를 들어,\n",
        "\n",
        ">>> factorial(5)\n",
        "120\n",
        "\"\"\"\n",
        "\n",
        "def factorial(n):\n",
        "    \"\"\"n의 계승을 반환합니다, 정확한 정수 >= 0.\n",
        "\n",
        "    >>> [factorial(n) for n in range(6) <------------ doctest가 오류를 판별해준다.\n",
        "    [1, 1, 2, 6, 24, 120]\n",
        "    >>> factorial(30)\n",
        "    265252859812191058636308480000000\n",
        "    >>> factorial(-1)\n",
        "    Traceback (most recent call last):\n",
        "        ...\n",
        "    ValueError: n must be >= 0\n",
        "\n",
        "    float의 계승도 좋습니다만, float는 정확한 정수여야 합니다:\n",
        "    >>> factorial(30.1)\n",
        "    Traceback (most recent call last):\n",
        "        ...\n",
        "    ValueError: n must be exact integer\n",
        "    >>> factorial(30.0)  \n",
        "    265252859812191058636308480000000\n",
        "\n",
        "    또한 터무니없이 크지 않아야 합니다:\n",
        "    >>> factorial(1e100)\n",
        "    Traceback (most recent call last):\n",
        "        ...\n",
        "    OverflowError: n too large\n",
        "    \"\"\"\n",
        "\n",
        "    import math\n",
        "    if not n >= 0:\n",
        "        raise ValueError(\"n must be >= 0\")\n",
        "    if math.floor(n) != n:\n",
        "        raise ValueError(\"n must be exact integer\")\n",
        "    if n+1 == n:  # 1e300과 같은 값을 잡아냅니다\n",
        "        raise OverflowError(\"n too large\")\n",
        "    result = 1\n",
        "    factor = 2\n",
        "    while factor <= n:\n",
        "        result *= factor\n",
        "        factor += 1\n",
        "    return result\n",
        "\n",
        "\n",
        "if __name__ == \"__main__\":\n",
        "    import doctest\n",
        "    doctest.testmod()"
      ],
      "execution_count": null,
      "outputs": []
    },
    {
      "cell_type": "code",
      "metadata": {
        "id": "J-RL0dPGVdlZ"
      },
      "source": [
        "# unittest 모듈\n",
        "\n",
        "import doctest\n",
        "import unittest\n",
        "import doctest_factorial\n",
        "\n",
        "suite = unittest.TestSuite()\n",
        "suite.addTest(doctest.DocTestSuite(doctest_factorial))\n",
        "runner = unittest.TextTestRunner()\n",
        "print(runner.run(suite))"
      ],
      "execution_count": null,
      "outputs": []
    },
    {
      "cell_type": "code",
      "metadata": {
        "id": "bzU5OvxU6xnX"
      },
      "source": [
        "# pytest: 1)pytest 라이브러리 설치 -> 2)'test'로 시작하는 파일에서 'test'로 시작하는 함수 작성\n",
        "\n",
        "def func(x):\n",
        "    return x + 1\n",
        "\n",
        "def test_answer():\n",
        "    assert func(3) == 51"
      ],
      "execution_count": null,
      "outputs": []
    },
    {
      "cell_type": "code",
      "metadata": {
        "id": "XzgUz75P8eH9"
      },
      "source": [
        "# 터미널의 현재 위치에서 다음 명령을 실행하면, 파일명이 'test'로 시작하는 파이썬 스크립트가 실행됨\n",
        "$ python -m pytest  # 또는 py.test\n",
        "\n",
        "# 다음과 같이 파일을 지정하여 실행 가능\n",
        "$ py.test test_pytest.py\n",
        "\n",
        "# 파이썬 디버거 pdb와 같이 실행 가능\n",
        "$ py.test --pdb"
      ],
      "execution_count": null,
      "outputs": []
    }
  ]
}