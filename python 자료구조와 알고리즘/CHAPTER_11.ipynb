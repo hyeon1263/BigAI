{
  "nbformat": 4,
  "nbformat_minor": 0,
  "metadata": {
    "colab": {
      "name": "CHAPTER_11",
      "private_outputs": true,
      "provenance": [],
      "collapsed_sections": []
    },
    "kernelspec": {
      "name": "python3",
      "display_name": "Python 3"
    },
    "language_info": {
      "name": "python"
    }
  },
  "cells": [
    {
      "cell_type": "markdown",
      "metadata": {
        "id": "UKQNC7bePZeH"
      },
      "source": [
        "# CHAPTER 11 동적 계획법\n",
        "\n",
        "**동적 계획법** : 복잡한 문제를 재귀를 통해 간단한 하위 문제로 분류하여 단순화하여 해결하는 방법\n",
        "\n",
        "어떤 문제가 *최적 부분 구조* 와 *중복되는 부분 문제* 를 갖고 있다면 동적 계획법으로 해결 가능\n",
        "\n",
        "- 최적 부분 구조 : 답을 구하기 위해서 했던 계산을 반복해야 하는 문제의 구조"
      ]
    },
    {
      "cell_type": "markdown",
      "metadata": {
        "id": "Z04Ixj9LQnGU"
      },
      "source": [
        "### 11.1 메모이제이션\n",
        "\n",
        "프로그램이 동일한 계산을 반복할 때, 이전에 계산한 값을 메모리에 저장하여 동일한 계산의 반복 수행을 제거하여 프로그램의 실행 속도를 빠르게 하는 기법\n"
      ]
    },
    {
      "cell_type": "code",
      "metadata": {
        "id": "cLkOOMWQ7Acy"
      },
      "source": [
        "from functools import wraps\n",
        "import time\n",
        "\n",
        "# 시간 측정하는 함수\n",
        "def benchmark(method):\n",
        "    @wraps(method)\n",
        "    def timed(*args, **kw):\n",
        "        ts = time.time()\n",
        "        result = method(*args, **kw)\n",
        "        te = time.time()\n",
        "        print(\"%r: %2.2f ms\" % (method.__name__, (te-ts) * 1000))\n",
        "        # print(f\"{method.__name__}: {((te-ts)*1000):.2f} ms\")\n",
        "        # print(\"{0}: {1:0.2f} ms\".format(method.__name__, ((te-ts)*1000))) \n",
        "        # 위에 print 3개 다 같은 결과\n",
        "        \n",
        "        return result\n",
        "    \n",
        "    return timed"
      ],
      "execution_count": null,
      "outputs": []
    },
    {
      "cell_type": "code",
      "metadata": {
        "id": "OmXFc7x4DBF0"
      },
      "source": [
        "# 메모이제이션을 활용한 피보나치 수열\n",
        "from functools import wraps\n",
        "\n",
        "# from benchmark import benchmark\n",
        "def memo(func):\n",
        "    cache = {}  # 캐시\n",
        "\n",
        "    @wraps(func)    \n",
        "    def wrap(*args):\n",
        "        if args not in cache:    # 캐시에 있는 값들은 그대로 불러오고 아닌 값들만 계산\n",
        "            cache[args] = func(*args)\n",
        "        return cache[args]\n",
        "    return wrap\n",
        "\n",
        "def fib(n):     # 일반적인 fib(n)\n",
        "    if n < 2:\n",
        "        return 1\n",
        "    else:\n",
        "        return fib(n-1) + fib(n-2)\n",
        "    \n",
        "@memo           # 캐시 사용\n",
        "def fib2(n):\n",
        "    if n < 2:\n",
        "        return 1\n",
        "    else:\n",
        "        return fib2(n-1) + fib2(n-2)\n",
        "    \n",
        "def fib3(m,n):  # m 은 list\n",
        "    if m[n] == 0:\n",
        "        m[n] = fib3(m,n-1) + fib3(m,n-2)\n",
        "    return m[n]\n",
        "    \n",
        "@benchmark  # 함수 실행에 걸린 시간 측정하는 데코레이터\n",
        "def test_fib(n):\n",
        "    print(fib(n))\n",
        "\n",
        "@benchmark\n",
        "def test_fib2(n):\n",
        "    print(fib2(n))\n",
        "\n",
        "@benchmark\n",
        "def test_fib3(n):\n",
        "    m = [0] * (n+1)\n",
        "    m[0], m[1] = 1, 1   # m -> [1,1,0,0,0 ... ]\n",
        "    print(fib3(m,n))\n",
        "\n",
        "if __name__ == \"__main__\":\n",
        "    n = 35\n",
        "    test_fib(n)\n",
        "    test_fib2(n)\n",
        "    test_fib3(n)"
      ],
      "execution_count": null,
      "outputs": []
    },
    {
      "cell_type": "markdown",
      "metadata": {
        "id": "iBgWPFIjNNRT"
      },
      "source": [
        "### 11.2 연습문제\n",
        "\n",
        "최장 증가 부분열 : \n",
        "\n",
        "증가하는 부분열의 길이가 최대가 되게 하는 부분열"
      ]
    },
    {
      "cell_type": "code",
      "metadata": {
        "id": "3bwpSTDk64Gd"
      },
      "source": [
        "from bisect import bisect\n",
        "from itertools import combinations\n",
        "from functools import wraps\n",
        "\n",
        "def naive_longest_inc_subseq(seq):\n",
        "    \"\"\" 1) 단순한 방법 \"\"\"\n",
        "    for length in range(len(seq), 0, -1):\n",
        "        for sub in combinations(seq, length):   # combination(seq, length): n C(length) -> 모든 조합\n",
        "            if list(sub) == sorted(sub):        # combination 해도 순서는 지켜지기 때문\n",
        "                return len(sub)\n",
        "\n",
        "def dp_longest_inc_subseq(seq):\n",
        "    \"\"\" 2) 동적 계획법 \"\"\"\n",
        "    L = [1] * len(seq)\n",
        "    res = []    # 캐시\n",
        "    for cur, val in enumerate(seq):    # cur(index), val(value)\n",
        "        for pre in range(cur):\n",
        "            if seq[pre] <= val:\n",
        "                L[cur] = max(L[cur], 1 + L[pre])\n",
        "    return max(L)\n",
        "\n",
        "def memo(func):\n",
        "    cache = {}\n",
        "\n",
        "    @wraps(func)\n",
        "    def wrap(*args):\n",
        "        if args not in cache:\n",
        "            cache[args] = func(*args)\n",
        "        return cache[args]\n",
        "    return wrap\n",
        "\n",
        "def memoized_longest_inc_subseq(seq):\n",
        "    \"\"\" 3) 메모제이션 \"\"\"\n",
        "    @memo\n",
        "    def L(cur):\n",
        "        res = 1\n",
        "        for pre in range(cur):\n",
        "            if seq[pre] <= seq[cur]:\n",
        "                res = max(res, 1 + L(pre))\n",
        "        return res\n",
        "    return max(L(i) for i in range(len(seq)))\n",
        "    "
      ],
      "execution_count": null,
      "outputs": []
    }
  ]
}