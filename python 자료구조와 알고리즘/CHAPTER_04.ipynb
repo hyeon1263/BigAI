{
  "nbformat": 4,
  "nbformat_minor": 0,
  "metadata": {
    "colab": {
      "name": "CHAPTER_04",
      "private_outputs": true,
      "provenance": [],
      "collapsed_sections": []
    },
    "kernelspec": {
      "name": "python3",
      "display_name": "Python 3"
    }
  },
  "cells": [
    {
      "cell_type": "markdown",
      "metadata": {
        "id": "QPdaZTX5sP74"
      },
      "source": [
        "#Chapter04\r\n",
        "###구조와 모듈듈"
      ]
    },
    {
      "cell_type": "markdown",
      "metadata": {
        "id": "mHzbWTCGsjDz"
      },
      "source": [
        "#####모듈 : def를 사용하여 정의\r\n",
        "######반환값이 없는 함수 == 프로시저(procedure)"
      ]
    },
    {
      "cell_type": "markdown",
      "metadata": {
        "id": "aJbvdUWx8YcR"
      },
      "source": [
        "함수가 호출될 때마다 '활성화 레코드'가 생성된다.(함수의 정보가 기록된다) --> 스택(staek)에 저장한다."
      ]
    },
    {
      "cell_type": "code",
      "metadata": {
        "id": "-LJUTFlksLZJ"
      },
      "source": [
        "# bad case\r\n",
        "def append(number, number_list=[]): # 함수나 메서드에서 가변객체(ex:list)를 기본값으로 사용하면 안된다.\r\n",
        "    number_list.append(number)\r\n",
        "    return number_list\r\n",
        "\r\n",
        "append(5) # 예상결과 = 5\r\n",
        "append(7) # 예상결과 = 7\r\n",
        "append(2) # 예상결과 = 2"
      ],
      "execution_count": null,
      "outputs": []
    },
    {
      "cell_type": "code",
      "metadata": {
        "id": "tpFwdxBSuXYI"
      },
      "source": [
        "# good case\r\n",
        "def append(number, number_list=None):\r\n",
        "    if number_list is None:\r\n",
        "        number_list = []\r\n",
        "    number_list.append(number)\r\n",
        "    return number_list\r\n",
        "\r\n",
        "append(5)\r\n",
        "append(7)\r\n",
        "append(2)"
      ],
      "execution_count": null,
      "outputs": []
    },
    {
      "cell_type": "markdown",
      "metadata": {
        "id": "pvWrLUmM6_9A"
      },
      "source": [
        "폴더(디렉터리) 안에 __init__.py 파일이 있으면 해당 폴더는 ***패키지***로 인식된다."
      ]
    },
    {
      "cell_type": "code",
      "metadata": {
        "id": "Ra-jNya5u3X3"
      },
      "source": [
        "# __init__.py 파일\r\n",
        "\r\n",
        "from 폴더이름 import *\r\n",
        "__all__ = ['파일1','파일2',......]\r\n",
        "# 폴더이름 안에 __all__ 변수가 있는 리스트의 객체들을 모두 불러온다."
      ],
      "execution_count": null,
      "outputs": []
    },
    {
      "cell_type": "code",
      "metadata": {
        "id": "0wEXrVtn9o5q"
      },
      "source": [
        "# __name__ 변수\r\n",
        "\r\n",
        "hello = \"hello\"\r\n",
        "\r\n",
        "def world():\r\n",
        "    return \"world\"\r\n",
        "\r\n",
        "if __name__ == \"__main__\":\r\n",
        "    print(\"{0} 직접 실행됨\".format(__name__))\r\n",
        "else:\r\n",
        "    print(\"{0} 임포트됨\".format(__name__))"
      ],
      "execution_count": null,
      "outputs": []
    },
    {
      "cell_type": "markdown",
      "metadata": {
        "id": "fnZYOIg_jcbb"
      },
      "source": [
        "바이트 컴파일 코드 : 표준 모듈을 많이 사용하는 프로그램의 시작 시간(로딩 시간)을 줄이기 위한 것"
      ]
    },
    {
      "cell_type": "code",
      "metadata": {
        "id": "D3dABO2IA0tF"
      },
      "source": [
        "# sys 모듈: 파이썬 인터프리터를 제어할 수 있는 방법을 제공 \r\n",
        "import sys\r\n",
        "sys.path # sys.path: 파이썬 모듈들이 저장되어 있는 위치를 나타낸다"
      ],
      "execution_count": null,
      "outputs": []
    },
    {
      "cell_type": "code",
      "metadata": {
        "id": "8sjjsnfVCqyu"
      },
      "source": [
        "# sys.ps1, sys.ps2: 파이썬 대화식 인터프리터의 기본 및 보조 프롬프트 문자열을 정의 (기본값은 각각 >>>, ...)\r\n",
        "import sys\r\n",
        "\r\n",
        "def main():\r\n",
        "    for arg in sys.argv[1:]: # sys.argv : 명령 줄에 전달된 인수를 프로그램 내에서 사용가능\r\n",
        "        print(arg)\r\n",
        "\r\n",
        "if __name__ == \"__main__\":\r\n",
        "    main()"
      ],
      "execution_count": null,
      "outputs": []
    },
    {
      "cell_type": "code",
      "metadata": {
        "id": "v-G3OaX_C6Rr"
      },
      "source": [
        "import sys\r\n",
        "dir(sys) # dir(): 모듈이 정의하는 모든 유형의 이름(모듈, 변수, 함수)을 찾는데 사용용"
      ],
      "execution_count": null,
      "outputs": []
    },
    {
      "cell_type": "code",
      "metadata": {
        "id": "JdrEEeybDC7s"
      },
      "source": [
        "# if 문\r\n",
        "x = int(input('숫자를 입력하세요: '))\r\n",
        "\r\n",
        "if x < 0:\r\n",
        "    x = 0\r\n",
        "    print('음수를 입력하여 x를 0으로 변경했습니다.')\r\n",
        "elif x == 0:\r\n",
        "    print('0이 입력되었습니다.')\r\n",
        "elif x == 1:\r\n",
        "    print('1이 입력되었습니다.')\r\n",
        "else:\r\n",
        "    print('2이상의 숫자가 입력되었습니다.')"
      ],
      "execution_count": null,
      "outputs": []
    },
    {
      "cell_type": "code",
      "metadata": {
        "id": "6GzEF3WyD2Dn"
      },
      "source": [
        "# for 문\r\n",
        "names = [\"버피\", \"윌로\", \"잰더\", \"자일스\"]\r\n",
        "\r\n",
        "for name in names:\r\n",
        "    print(name)"
      ],
      "execution_count": null,
      "outputs": []
    },
    {
      "cell_type": "markdown",
      "metadata": {
        "id": "8B_9CfglEhi_"
      },
      "source": [
        "거짓(False) == 숫자 0, None, 빈 컬렉션시퀀스(빈 문자열'', 빈 리스트[ ], 빈튜플( ), 빈 딕셔너리{ }\r\n",
        "######참(True) == 위에 속하지 않은 모든 값"
      ]
    },
    {
      "cell_type": "code",
      "metadata": {
        "id": "Qhi9UH8FEN1i"
      },
      "source": [
        "# 참과 거짓\r\n",
        "string1, string2, string3 = '', '괴물', '외계인'\r\n",
        "non_null = string1 or string2 or string3\r\n",
        "non_null"
      ],
      "execution_count": null,
      "outputs": []
    },
    {
      "cell_type": "code",
      "metadata": {
        "id": "3QsFltJjFh0e"
      },
      "source": [
        "# False 사용의 좋은 예:\r\n",
        "if not users:\r\n",
        "    print('사용자가 없습니다.')\r\n",
        "\r\n",
        "if foo == 0:\r\n",
        "    handle_zero()\r\n",
        "\r\n",
        "if i % 10 == 0:\r\n",
        "    handle_multiple_of_ten()"
      ],
      "execution_count": null,
      "outputs": []
    },
    {
      "cell_type": "code",
      "metadata": {
        "id": "7-QeMJTVGJkP"
      },
      "source": [
        "# False 사용의 나쁜 예:\r\n",
        "if len(users) == 0:\r\n",
        "    print(\"사용자가 없습니다.\")\r\n",
        "\r\n",
        "if foo is not None and not foo:\r\n",
        "    handle_zero()\r\n",
        "\r\n",
        "if not i % 10:\r\n",
        "    handle_multiple_of_ten()"
      ],
      "execution_count": null,
      "outputs": []
    },
    {
      "cell_type": "markdown",
      "metadata": {
        "id": "ZOTUHgj5YK1U"
      },
      "source": [
        "####return 대 yield\r\n",
        "######이터레이터 : 반복 가능한 객체\r\n",
        "######제너레이터 : 이터레이터를 만들어주는 것\r\n",
        "######return : 반환값을 반환, 메서드 종료 후 제어를 반환\r\n",
        "######yield : 각 반환값을 반환, 반환값이 모두 소진되었을 때에만 메서드가 종료됨"
      ]
    },
    {
      "cell_type": "code",
      "metadata": {
        "id": "5W3NV9dBVhSv"
      },
      "source": [
        "a = [1,2,3]\r\n",
        "def f(a):\r\n",
        "    while a:\r\n",
        "        yield a.pop()\r\n",
        "\r\n",
        "print(f(a))"
      ],
      "execution_count": null,
      "outputs": []
    },
    {
      "cell_type": "code",
      "metadata": {
        "id": "AIiXKVNtZKm9"
      },
      "source": [
        "# 이터레이터를 사용한 피보나치 수열 구현\r\n",
        "def fib_generator():\r\n",
        "    a, b = 0, 1\r\n",
        "    while True:\r\n",
        "        yield b\r\n",
        "        a, b = b, a+b\r\n",
        "\r\n",
        "if __name__ == \"__main__\":\r\n",
        "    fib = fib_generator()\r\n",
        "    print(next(fib))\r\n",
        "    print(next(fib))\r\n",
        "    print(next(fib))\r\n",
        "    print(next(fib))\r\n",
        "    print(next(fib))"
      ],
      "execution_count": null,
      "outputs": []
    },
    {
      "cell_type": "code",
      "metadata": {
        "id": "_GZD8YejaXce"
      },
      "source": [
        "# break 대 continue\r\n",
        "for i in range(10):\r\n",
        "    if i == 4:\r\n",
        "        break\r\n",
        "    print(i)\r\n",
        "else:\r\n",
        "    print(\"for문 종료!\")"
      ],
      "execution_count": null,
      "outputs": []
    },
    {
      "cell_type": "code",
      "metadata": {
        "id": "eJyLEVfHaqSf"
      },
      "source": [
        "for i in range(10):\r\n",
        "    if i % 2 == 0:\r\n",
        "        continue\r\n",
        "    print(i)\r\n",
        "\r\n",
        "print(\"for문 종료!\")"
      ],
      "execution_count": null,
      "outputs": []
    },
    {
      "cell_type": "code",
      "metadata": {
        "id": "oaQOaNDYbKIe"
      },
      "source": [
        "# range()\r\n",
        "range(0,10,3)"
      ],
      "execution_count": null,
      "outputs": []
    },
    {
      "cell_type": "code",
      "metadata": {
        "id": "qdBiJXAEbPYa"
      },
      "source": [
        "# enumerate() : 반복가능한 객체의 '인덱스값'과 '항목'값을 튜플로 반환\r\n",
        "import sys\r\n",
        "\r\n",
        "def grep_word_from_files():\r\n",
        "    word = sys.argv[1]\r\n",
        "    for filename in sys.argv[2:]:\r\n",
        "        with open(filename) as file:\r\n",
        "            for lino, line in enumerate(file, start=1):\r\n",
        "                if word in line:\r\n",
        "                    print(\"{0}:{1}:{2:.40}\".format(filename,lino,line.rstrip()))\r\n",
        "\r\n",
        "if __name__ == \"__main__\":\r\n",
        "    if len(sys.argv) < 2:\r\n",
        "        print(\"Usage: python {0} [word] [file ...]\".format(sys.argv[0]))\r\n",
        "        sys.exit()\r\n",
        "    else:\r\n",
        "        grep_word_from_files()"
      ],
      "execution_count": null,
      "outputs": []
    },
    {
      "cell_type": "code",
      "metadata": {
        "id": "aI2BTdJOcKbk"
      },
      "source": [
        "# zip() : 2개 이상의 시퀀스를 각 항목이 순서대로 1:1 대응하는 새로운 튜플 시퀀스를 만든다 (짧은 길이의 시퀀스가 기준)\r\n",
        "a = [1,2,3,4,5]\r\n",
        "b = ['a','b','c','d']\r\n",
        "zip(a,b)\r\n",
        "list(zip(a,b))"
      ],
      "execution_count": null,
      "outputs": []
    },
    {
      "cell_type": "code",
      "metadata": {
        "id": "ea5kgosvcjJS"
      },
      "source": [
        "# filter() : 시퀀스 항목 중 True인 항목만 추출하여 구성된 시쿼스를 반환\r\n",
        "def f(x):\r\n",
        "    return x % 2 != 0 and x % 3 != 0 # 2의 배수도, 3의 배수도 아닌 것들 == True\r\n",
        "print(f(33), f(17))\r\n",
        "\r\n",
        "list(filter(f, range(2,25)))"
      ],
      "execution_count": null,
      "outputs": []
    },
    {
      "cell_type": "code",
      "metadata": {
        "id": "dmb59t4XdiTa"
      },
      "source": [
        "# map(function, list) : 시퀀스의 모든 항목에 함수를 적용한 결과 리스트를 반환\r\n",
        "def cube(x):\r\n",
        "    return x*x*x\r\n",
        "    \r\n",
        "list(map(cube, range(1,11)))"
      ],
      "execution_count": null,
      "outputs": []
    },
    {
      "cell_type": "code",
      "metadata": {
        "id": "fm2dArMbdy4v"
      },
      "source": [
        "seq = range(8)\r\n",
        "def square(x):\r\n",
        "    return x*x\r\n",
        "    \r\n",
        "list(zip(seq, map(square, seq)))"
      ],
      "execution_count": null,
      "outputs": []
    },
    {
      "cell_type": "code",
      "metadata": {
        "id": "lN-e3y_JeD-H"
      },
      "source": [
        "# 람다 함수\r\n",
        "def area(b, h):\r\n",
        "    return 0.5 * b * h\r\n",
        "\r\n",
        "print(area(5,4))\r\n",
        "\r\n",
        "# 람다 함수 사용:\r\n",
        "area = lambda b, h: 0.5 * b * h\r\n",
        "area(5,4)"
      ],
      "execution_count": null,
      "outputs": []
    },
    {
      "cell_type": "code",
      "metadata": {
        "id": "haQSxk8heb7U"
      },
      "source": [
        "# 람다 함수는 defaultdict에서 키 생성 시 매우 유용하다 (누락된 키에 대한 기본값 설정 시)\r\n",
        "import collections\r\n",
        "minus_one_dict = collections.defaultdict(lambda: -1)\r\n",
        "point_zero_dict = collections.defaultdict(lambda: (0, 0))\r\n",
        "message_dict = collections.defaultdict(lambda: \"No message\")\r\n",
        "\r\n",
        "print(minus_one_dict, point_zero_dict, message_dict)"
      ],
      "execution_count": null,
      "outputs": []
    }
  ]
}