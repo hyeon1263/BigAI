{
  "nbformat": 4,
  "nbformat_minor": 0,
  "metadata": {
    "colab": {
      "name": "CHAPTER_04",
      "private_outputs": true,
      "provenance": [],
      "collapsed_sections": []
    },
    "kernelspec": {
      "name": "python3",
      "display_name": "Python 3"
    }
  },
  "cells": [
    {
      "cell_type": "markdown",
      "metadata": {
        "id": "QPdaZTX5sP74"
      },
      "source": [
        "#Chapter04\r\n",
        "###구조와 모듈듈"
      ]
    },
    {
      "cell_type": "markdown",
      "metadata": {
        "id": "mHzbWTCGsjDz"
      },
      "source": [
        "#####모듈 : def를 사용하여 정의\r\n",
        "######반환값이 없는 함수 == 프로시저(procedure)"
      ]
    },
    {
      "cell_type": "markdown",
      "metadata": {
        "id": "aJbvdUWx8YcR"
      },
      "source": [
        "함수가 호출될 때마다 '활성화 레코드'가 생성된다.(함수의 정보가 기록된다) --> 스택(staek)에 저장한다."
      ]
    },
    {
      "cell_type": "code",
      "metadata": {
        "id": "-LJUTFlksLZJ"
      },
      "source": [
        "# bad case\r\n",
        "def append(number, number_list=[]): # 함수나 메서드에서 가변객체(ex:list)를 기본값으로 사용하면 안된다.\r\n",
        "    number_list.append(number)\r\n",
        "    return number_list\r\n",
        "\r\n",
        "print(append(5)) # 예상결과 = 5\r\n",
        "print(append(7)) # 예상결과 = 7\r\n",
        "append(2) # 예상결과 = 2"
      ],
      "execution_count": null,
      "outputs": []
    },
    {
      "cell_type": "code",
      "metadata": {
        "id": "tpFwdxBSuXYI"
      },
      "source": [
        "# good case\r\n",
        "def append(number, number_list=None):\r\n",
        "    if number_list is None:\r\n",
        "        number_list = []\r\n",
        "    number_list.append(number)\r\n",
        "    return number_list\r\n",
        "\r\n",
        "print(append(5))\r\n",
        "print(append(7))\r\n",
        "append(2)"
      ],
      "execution_count": null,
      "outputs": []
    },
    {
      "cell_type": "markdown",
      "metadata": {
        "id": "pvWrLUmM6_9A"
      },
      "source": [
        "폴더(디렉터리) 안에 __init__.py 파일이 있으면 해당 폴더는 ***패키지***로 인식된다."
      ]
    },
    {
      "cell_type": "markdown",
      "metadata": {
        "id": "QZI8w4u47er9"
      },
      "source": [
        "A.B --> A = 패키지, B = 모듈"
      ]
    },
    {
      "cell_type": "code",
      "metadata": {
        "id": "Ra-jNya5u3X3"
      },
      "source": [
        "# __init__.py 파일\r\n",
        "\r\n",
        "from 폴더이름 import *\r\n",
        "__all__ = ['파일1','파일2',......]\r\n",
        "# 폴더이름 안에 __all__ 변수가 있는 리스트의 객체들을 모두 불러온다."
      ],
      "execution_count": null,
      "outputs": []
    },
    {
      "cell_type": "code",
      "metadata": {
        "id": "0wEXrVtn9o5q"
      },
      "source": [
        "# __name__ 변수\r\n",
        "\r\n",
        "hello = \"hello\"\r\n",
        "\r\n",
        "def world():\r\n",
        "    return \"world\"\r\n",
        "\r\n",
        "# __name__ == \"__main__\"은 인터프리터에서 직접 실행했을 경우에만 if문 내의 코드를 돌리라는 명령이 된다\r\n",
        "if __name__ == \"__main__\": # 해당 모듈이 임포트된 경우가 아니라 인터프리터에서 직접 실행된 경우에만, if문 이하의 코드를 돌리라는 명령\r\n",
        "    print(\"{0} 직접 실행됨\".format(__name__))\r\n",
        "else:\r\n",
        "    print(\"{0} 임포트됨\".format(__name__))"
      ],
      "execution_count": null,
      "outputs": []
    },
    {
      "cell_type": "markdown",
      "metadata": {
        "id": "fnZYOIg_jcbb"
      },
      "source": [
        "바이트 컴파일 코드 : 표준 모듈을 많이 사용하는 프로그램의 시작 시간(로딩 시간)을 줄이기 위한 것"
      ]
    },
    {
      "cell_type": "code",
      "metadata": {
        "id": "D3dABO2IA0tF"
      },
      "source": [
        "# sys 모듈: 파이썬 인터프리터를 제어할 수 있는 방법을 제공 \r\n",
        "import sys\r\n",
        "sys.path # sys.path: 파이썬 모듈들이 저장되어 있는 위치를 나타낸다"
      ],
      "execution_count": null,
      "outputs": []
    },
    {
      "cell_type": "code",
      "metadata": {
        "id": "8sjjsnfVCqyu"
      },
      "source": [
        "# sys.ps1, sys.ps2: 파이썬 대화식 인터프리터의 기본 및 보조 프롬프트 문자열을 정의 (기본값은 각각 >>>, ...)\r\n",
        "import sys\r\n",
        "\r\n",
        "def main():\r\n",
        "    for arg in sys.argv[1:]: # sys.argv : 명령 줄에 전달된 인수를 프로그램 내에서 사용가능\r\n",
        "        print(arg)\r\n",
        "\r\n",
        "if __name__ == \"__main__\":\r\n",
        "    main()"
      ],
      "execution_count": null,
      "outputs": []
    },
    {
      "cell_type": "code",
      "metadata": {
        "id": "v-G3OaX_C6Rr"
      },
      "source": [
        "import sys\r\n",
        "dir(sys) # dir(): 모듈이 정의하는 모든 유형의 이름(모듈, 변수, 함수)을 찾는데 사용용"
      ],
      "execution_count": null,
      "outputs": []
    },
    {
      "cell_type": "code",
      "metadata": {
        "id": "JdrEEeybDC7s"
      },
      "source": [
        "# if 문\r\n",
        "x = int(input('숫자를 입력하세요: '))\r\n",
        "\r\n",
        "if x < 0:\r\n",
        "    x = 0\r\n",
        "    print('음수를 입력하여 x를 0으로 변경했습니다.')\r\n",
        "elif x == 0:\r\n",
        "    print('0이 입력되었습니다.')\r\n",
        "elif x == 1:\r\n",
        "    print('1이 입력되었습니다.')\r\n",
        "else:\r\n",
        "    print('2이상의 숫자가 입력되었습니다.')"
      ],
      "execution_count": null,
      "outputs": []
    },
    {
      "cell_type": "code",
      "metadata": {
        "id": "6GzEF3WyD2Dn"
      },
      "source": [
        "# for 문\r\n",
        "names = [\"버피\", \"윌로\", \"잰더\", \"자일스\"]\r\n",
        "\r\n",
        "for name in names:\r\n",
        "    print(name)"
      ],
      "execution_count": null,
      "outputs": []
    },
    {
      "cell_type": "markdown",
      "metadata": {
        "id": "8B_9CfglEhi_"
      },
      "source": [
        "거짓(False) == 숫자 0, None, 빈 컬렉션시퀀스(빈 문자열'', 빈 리스트[ ], 빈튜플( ), 빈 딕셔너리{ }\r\n",
        "######참(True) == 위에 속하지 않은 모든 값"
      ]
    },
    {
      "cell_type": "code",
      "metadata": {
        "id": "Qhi9UH8FEN1i"
      },
      "source": [
        "# 참과 거짓\r\n",
        "string1, string2, string3 = '', '괴물', '외계인'\r\n",
        "non_null = string1 or string2 or string3\r\n",
        "non_null"
      ],
      "execution_count": null,
      "outputs": []
    },
    {
      "cell_type": "code",
      "metadata": {
        "id": "3QsFltJjFh0e"
      },
      "source": [
        "# False 사용의 좋은 예:\r\n",
        "if not users:\r\n",
        "    print('사용자가 없습니다.')\r\n",
        "\r\n",
        "if foo == 0:\r\n",
        "    handle_zero()\r\n",
        "\r\n",
        "if i % 10 == 0:\r\n",
        "    handle_multiple_of_ten()"
      ],
      "execution_count": null,
      "outputs": []
    },
    {
      "cell_type": "code",
      "metadata": {
        "id": "7-QeMJTVGJkP"
      },
      "source": [
        "# False 사용의 나쁜 예:\r\n",
        "if len(users) == 0:\r\n",
        "    print(\"사용자가 없습니다.\")\r\n",
        "\r\n",
        "if foo is not None and not foo:\r\n",
        "    handle_zero()\r\n",
        "\r\n",
        "if not i % 10:\r\n",
        "    handle_multiple_of_ten()"
      ],
      "execution_count": null,
      "outputs": []
    },
    {
      "cell_type": "markdown",
      "metadata": {
        "id": "ZOTUHgj5YK1U"
      },
      "source": [
        "####return 대 yield\r\n",
        "######이터레이터 : 반복 가능한 객체\r\n",
        "######제너레이터 : 이터레이터를 만들어주는 것\r\n",
        "######return : 반환값을 반환, 메서드 종료 후 제어를 반환\r\n",
        "######yield : 각 반환값을 반환, 반환값이 모두 소진되었을 때에만 메서드가 종료됨"
      ]
    },
    {
      "cell_type": "code",
      "metadata": {
        "id": "5W3NV9dBVhSv"
      },
      "source": [
        "a = [1,2,3]\r\n",
        "def f(a):\r\n",
        "    while a:\r\n",
        "        yield a.pop()\r\n",
        "\r\n",
        "print(f(a))"
      ],
      "execution_count": null,
      "outputs": []
    },
    {
      "cell_type": "code",
      "metadata": {
        "id": "AIiXKVNtZKm9"
      },
      "source": [
        "# 이터레이터를 사용한 피보나치 수열 구현\r\n",
        "def fib_generator():\r\n",
        "    a, b = 0, 1\r\n",
        "    while True:\r\n",
        "        yield b\r\n",
        "        a, b = b, a+b\r\n",
        "\r\n",
        "if __name__ == \"__main__\":\r\n",
        "    fib = fib_generator()\r\n",
        "    print(next(fib))\r\n",
        "    print(next(fib))\r\n",
        "    print(next(fib))\r\n",
        "    print(next(fib))\r\n",
        "    print(next(fib))"
      ],
      "execution_count": null,
      "outputs": []
    },
    {
      "cell_type": "code",
      "metadata": {
        "id": "_GZD8YejaXce"
      },
      "source": [
        "# break 대 continue\r\n",
        "for i in range(10):\r\n",
        "    if i == 4:\r\n",
        "        break\r\n",
        "    print(i)\r\n",
        "else:\r\n",
        "    print(\"for문 종료!\")"
      ],
      "execution_count": null,
      "outputs": []
    },
    {
      "cell_type": "code",
      "metadata": {
        "id": "eJyLEVfHaqSf"
      },
      "source": [
        "for i in range(10):\r\n",
        "    if i % 2 == 0:\r\n",
        "        continue\r\n",
        "    print(i)\r\n",
        "else:   # for문에서의 else문\r\n",
        "    print(\"for문 종료!\")"
      ],
      "execution_count": null,
      "outputs": []
    },
    {
      "cell_type": "code",
      "metadata": {
        "id": "oaQOaNDYbKIe"
      },
      "source": [
        "# range()\r\n",
        "range(0,10,3)"
      ],
      "execution_count": null,
      "outputs": []
    },
    {
      "cell_type": "code",
      "metadata": {
        "id": "qdBiJXAEbPYa"
      },
      "source": [
        "# enumerate() : 반복가능한 객체의 '인덱스값'과 '항목'값을 튜플로 반환\r\n",
        "import sys\r\n",
        "\r\n",
        "def grep_word_from_files():\r\n",
        "    word = sys.argv[1]\r\n",
        "    for filename in sys.argv[2:]:\r\n",
        "        with open(filename) as file:\r\n",
        "            for lino, line in enumerate(file, start=1):\r\n",
        "                if word in line:\r\n",
        "                    print(\"{0}:{1}:{2:.40}\".format(filename,lino,line.rstrip()))\r\n",
        "\r\n",
        "if __name__ == \"__main__\":\r\n",
        "    if len(sys.argv) < 2:\r\n",
        "        print(\"Usage: python {0} [word] [file ...]\".format(sys.argv[0]))\r\n",
        "        sys.exit()\r\n",
        "    else:\r\n",
        "        grep_word_from_files()"
      ],
      "execution_count": null,
      "outputs": []
    },
    {
      "cell_type": "code",
      "metadata": {
        "id": "aI2BTdJOcKbk"
      },
      "source": [
        "# zip() : 2개 이상의 시퀀스를 각 항목이 순서대로 1:1 대응하는 새로운 튜플 시퀀스를 만든다 (짧은 길이의 시퀀스가 기준)\r\n",
        "a = [1,2,3,4,5]\r\n",
        "b = ['a','b','c','d']\r\n",
        "zip(a,b)\r\n",
        "list(zip(a,b))"
      ],
      "execution_count": null,
      "outputs": []
    },
    {
      "cell_type": "code",
      "metadata": {
        "id": "ea5kgosvcjJS"
      },
      "source": [
        "# filter() : 시퀀스 항목 중 True인 항목만 추출하여 구성된 시쿼스를 반환\r\n",
        "def f(x):\r\n",
        "    return x % 2 != 0 and x % 3 != 0 # 2의 배수도, 3의 배수도 아닌 것들 == True\r\n",
        "print(f(33), f(17))\r\n",
        "\r\n",
        "list(filter(f, range(2,25)))"
      ],
      "execution_count": null,
      "outputs": []
    },
    {
      "cell_type": "code",
      "metadata": {
        "id": "dmb59t4XdiTa"
      },
      "source": [
        "# map(function, list) : 시퀀스의 모든 항목에 함수를 적용한 결과 리스트를 반환\r\n",
        "def cube(x):\r\n",
        "    return x*x*x\r\n",
        "    \r\n",
        "list(map(cube, range(1,11)))"
      ],
      "execution_count": null,
      "outputs": []
    },
    {
      "cell_type": "code",
      "metadata": {
        "id": "fm2dArMbdy4v"
      },
      "source": [
        "seq = range(8)\r\n",
        "def square(x):\r\n",
        "    return x*x\r\n",
        "    \r\n",
        "list(zip(seq, map(square, seq)))"
      ],
      "execution_count": null,
      "outputs": []
    },
    {
      "cell_type": "code",
      "metadata": {
        "id": "lN-e3y_JeD-H"
      },
      "source": [
        "# 람다 함수\r\n",
        "def area(b, h):\r\n",
        "    return 0.5 * b * h\r\n",
        "\r\n",
        "print(area(5,4))\r\n",
        "\r\n",
        "# 람다 함수 사용:\r\n",
        "area = lambda b, h: 0.5 * b * h\r\n",
        "area(5,4)"
      ],
      "execution_count": null,
      "outputs": []
    },
    {
      "cell_type": "code",
      "metadata": {
        "id": "haQSxk8heb7U"
      },
      "source": [
        "# 람다 함수는 defaultdict에서 키 생성 시 매우 유용하다 (누락된 키에 대한 기본값 설정 시)\r\n",
        "import collections\r\n",
        "minus_one_dict = collections.defaultdict(lambda: -1)\r\n",
        "point_zero_dict = collections.defaultdict(lambda: (0, 0))\r\n",
        "message_dict = collections.defaultdict(lambda: \"No message\")"
      ],
      "execution_count": null,
      "outputs": []
    },
    {
      "cell_type": "markdown",
      "metadata": {
        "id": "GzHDpO3Xvl7c"
      },
      "source": [
        "####4.3 파일 처리"
      ]
    },
    {
      "cell_type": "code",
      "metadata": {
        "id": "Am21eAY4vdHF"
      },
      "source": [
        "# 파일을 읽어서 모든 빈 줄을 제거하는 코드\r\n",
        "import sys\r\n",
        "\r\n",
        "def read_data(filename):\r\n",
        "    lines = []\r\n",
        "    fh = None\r\n",
        "    try:    # try 중 오류 발생 시 except 수행, 오류가 발생하지 않는다면 except 수행 X\r\n",
        "        fh = open(filename)\r\n",
        "        for line in fh:\r\n",
        "            if line.strip(): # line 앞 뒤의 공백 제거\r\n",
        "                lines.append(line)\r\n",
        "    except (IOError, OSError) as err:\r\n",
        "        print(err)\r\n",
        "    finally:    # 예외 발생 여부와 상관없이 항상 실행할 코드\r\n",
        "        if fh is not None:\r\n",
        "            fh.close()\r\n",
        "    return lines\r\n",
        "\r\n",
        "def write_data(lines, filename):\r\n",
        "    fh = None\r\n",
        "    try:\r\n",
        "        fh = open(filename, \"w\")\r\n",
        "        for line in lines:  # 위에서 append 한 lines들을 write 해준다 \r\n",
        "            fh.write(line)\r\n",
        "    except (EnvironmentError) as err:\r\n",
        "        print(err)\r\n",
        "    finally:\r\n",
        "        if fh is not None:\r\n",
        "            fh.close()\r\n",
        "\r\n",
        "def remove_blank_lines():   # file을 읽고 공백을 제거하여 다시 적어준다\r\n",
        "    if len(sys.argv) < 2:\r\n",
        "        print(\"Usage: python {0} [file ...]\".format(sys.argv[0]))\r\n",
        "\r\n",
        "    for filename in sys.argv[1:]:\r\n",
        "        lines = read_data(filename)\r\n",
        "        if lines:\r\n",
        "            write_data(lines, filename)\r\n",
        "\r\n",
        "if __name__ == \"__main__\":\r\n",
        "    remove_blank_lines()"
      ],
      "execution_count": null,
      "outputs": []
    },
    {
      "cell_type": "code",
      "metadata": {
        "id": "16lTQlPx2qsY"
      },
      "source": [
        "import sys # pycharm에서는 잘댐\r\n",
        "\r\n",
        "def read_data(filename):       # with문으로 file open 가능 -> close() 쓰지 않아도 된다.\r\n",
        "    lines = []\r\n",
        "    with open(filename) as fh: # with as 구문을 빠져나가게 되면 자동으로 close() 함수를 호출\r\n",
        "        for line in fh:\r\n",
        "            if line.strip():   # line 이 공백이 아니라면:\r\n",
        "                lines.append(line)\r\n",
        "    return lines\r\n",
        "\r\n",
        "def write_data(lines, filename):\r\n",
        "    fh = None\r\n",
        "    with open(filename, \"w\") as fh:\r\n",
        "        for line in lines:\r\n",
        "            fh.write(line)\r\n",
        "\r\n",
        "def remove_blank_lines():\r\n",
        "    if len(sys.argv) < 2:\r\n",
        "        print(\"Usage: python {0} [file ...]\".format(sys.argv[0]))\r\n",
        "    \r\n",
        "    for filename in sys.argv[1:]:\r\n",
        "        lines = read_data(filename)\r\n",
        "        if lines:\r\n",
        "            write_data(lines, filename)\r\n",
        "\r\n",
        "if __name__ == \"__main__\":\r\n",
        "    remove_blank_lines()"
      ],
      "execution_count": null,
      "outputs": []
    },
    {
      "cell_type": "code",
      "metadata": {
        "id": "G1Yc62_G8_o1"
      },
      "source": [
        "# open(filename, mode, encoding) -> mode의 default값: 'r', \r\n",
        "\r\n",
        "fin = open(filename, encoding=\"utf8\")   # 문자열을 \"utf8\"형식의 바이트코드로 변환함 (암호화)\r\n",
        "fout = open(filename, \"w\", encoding=\"utf8\")"
      ],
      "execution_count": null,
      "outputs": []
    },
    {
      "cell_type": "code",
      "metadata": {
        "id": "cHDtwzEsBFw3"
      },
      "source": [
        "# read(size) -> 파일에서 size만큼의 내용을 읽고, 문자열로 반환 // size가 생략되거나 음수면 파일전체를 읽고 반환\r\n",
        "\r\n",
        "f.read()\r\n",
        "    '전체 파일 내용입니다.'\r\n",
        "f.read()    # 다 읽으면 빈 문자열 반환\r\n",
        "    ''"
      ],
      "execution_count": null,
      "outputs": []
    },
    {
      "cell_type": "code",
      "metadata": {
        "id": "lJHKYXOJBZ1L"
      },
      "source": [
        "# readline() : 파일에서 한 줄을 읽는다.\r\n",
        "# readlines(size) : 파일의 모든 데이터 행을 포함한 리스트를 반환\r\n",
        "\r\n",
        "f.readlines()\r\n",
        "    ['파일의 첫 번째 줄입니다.\\n', '두 번째 줄입니다.\\n']"
      ],
      "execution_count": null,
      "outputs": []
    },
    {
      "cell_type": "code",
      "metadata": {
        "id": "PmxIAIVbDgz_"
      },
      "source": [
        "# write()\r\n",
        "f.write(\"테스트\\n\")"
      ],
      "execution_count": null,
      "outputs": []
    },
    {
      "cell_type": "markdown",
      "metadata": {
        "id": "36uARF1MHTo0"
      },
      "source": [
        "tell( ) : 현재 파일의 어디까지 읽고 썻는지 위치를 정수로로 반환\r\n",
        "######seek(offset, from-what) : 파일에 대한 포인터를 원하는 위치로 이동시켜준다 --> from-what에서부터 offset을 더해준만큼 포인터를 이동"
      ]
    },
    {
      "cell_type": "markdown",
      "metadata": {
        "id": "-Z3UI8UwJlvv"
      },
      "source": [
        "seek(0) : 처음 위치\r\n",
        "seek(1) : 현재 위치\r\n",
        "seek(2) : 끝 위치"
      ]
    },
    {
      "cell_type": "markdown",
      "metadata": {
        "id": "LBYh7ggQJxI7"
      },
      "source": [
        "close( ) : 파일을 닫는다. 성공적으로 닫으면 True 반환"
      ]
    },
    {
      "cell_type": "code",
      "metadata": {
        "id": "ts9THqhsJbs8"
      },
      "source": [
        "# input()\r\n",
        "\r\n",
        "def get_int(msg):\r\n",
        "    while True:\r\n",
        "        try:\r\n",
        "            i = int(input(msg))\r\n",
        "            return i\r\n",
        "        except ValueError as err:   # except 뒤에 발생할 수 있는 에러의 이름을 적어두면, 에러 발생시 프로그램이 멈추지 않고 별도 처리가 가능\r\n",
        "            print(err)\r\n",
        "\r\n",
        "age = get_int(\"Enter your age: \")"
      ],
      "execution_count": null,
      "outputs": []
    },
    {
      "cell_type": "markdown",
      "metadata": {
        "id": "nq64SLgqLUcT"
      },
      "source": [
        "peek(n) : 파일 포인터 위치를 이동하지 않고, n 바이트를 반환\r\n",
        "######fileno( ) : (파일 서술자를 가진 파일 객체에서만) 파일 서술자를 반환"
      ]
    },
    {
      "cell_type": "markdown",
      "metadata": {
        "id": "a7N08WWzMPvy"
      },
      "source": [
        "#### shutil 모듈 : 시스템에서 파일을 조작할 때 유용"
      ]
    },
    {
      "cell_type": "code",
      "metadata": {
        "id": "3WZoHtDuLCAZ"
      },
      "source": [
        "# 터미널에서 파일 및 확장자 지정 시 새 확장자의 이름으로 본사본 생성\r\n",
        "import os\r\n",
        "import sys\r\n",
        "import shutil\r\n",
        "\r\n",
        "def change_file_ext():  # 확장자를 바꿔주는 함수\r\n",
        "    if len(sys.argv) < 2:\r\n",
        "        print(\"Usage: python {0} filename.old_ext 'new_ext'\".format(sys.argv[0]))\r\n",
        "        sys.exit()\r\n",
        "\r\n",
        "    name = os.path.splitext(sys.argv[1])[0] + \".\" + sys.argv[2] # os.path.split(filename) -> 디렉토리와 파일을 분리한다.(리스트로 나타낸다)\r\n",
        "                                # = [파일명, 확장자]            # os.path.splitext(filename) -> 확장자만 따로 분류한다.(리스트로 나타낸다)\r\n",
        "                # '폴더명.확장자' --> name 변수에 저장\r\n",
        "    print(name)\r\n",
        "\r\n",
        "    try:\r\n",
        "        shutil.copyfile(sys.argv[1], name) # sys.argv[1]에 name을 넣어 복사한다\r\n",
        "    except OSError as err:\r\n",
        "        print(err)\r\n",
        "\r\n",
        "if __name__ == \"__main__\":\r\n",
        "    change_file_ext()"
      ],
      "execution_count": null,
      "outputs": []
    },
    {
      "cell_type": "markdown",
      "metadata": {
        "id": "szE2M-AexkXJ"
      },
      "source": [
        "#####pickle 모듈: 원하는 데이터를 자료형의 변경없이 파일로 저장하여 그대로 로드할 수 있다.\r\n",
        "#####일반적인 텍스트를 파일로 저장할 경우: 파일 입출력 이용\r\n",
        "#####그러나 리스트형이나 클래스와 같이 텍스트 형태가 아닌 자료형은 일반적인 파일 입출력이 불가능하므로 pickle 모듈 사용"
      ]
    },
    {
      "cell_type": "code",
      "metadata": {
        "id": "gYkU-EUjs8EG"
      },
      "source": [
        "# pickle 모듈: 원하는 데이터를 자료형의 변경없이 파일로 저장하여 그대로 로드할 수 있다.\r\n",
        "import pickle\r\n",
        "x = {}  # x: 딕셔너리 자료형이므로 pickle모듈로 dump, load 해야 한다.\r\n",
        "x[\"name\"] = \"아스틴\"\r\n",
        "x[\"age\"] = 23\r\n",
        "\r\n",
        "# pickle로 데이터를 저장하거나 불러올때는 파일을 '바이트형식'으로 읽거나 써야한다. (wb, rb)\r\n",
        "# pickle.load(파일) 을 통해서 파일 내용을 읽어오려면, pickle.dump를 사용해서 데이터를 입력한 파일이어야한다.\r\n",
        "with open(\"name.pkl\", \"wb\") as f: # 피클링: 파이썬 객체를 가져와서 문자열 표현으로 변환 (직렬화) --> 입력\r\n",
        "    pickle.dump(x, f)\r\n",
        "\r\n",
        "with open(\"name.pkl\", \"rb\") as f: # 언피클링: 문자열 표현을 객체로 재구성하는 것 (역직렬화) --> 로드\r\n",
        "    name = pickle.load(f)\r\n",
        "\r\n",
        "name"
      ],
      "execution_count": null,
      "outputs": []
    },
    {
      "cell_type": "markdown",
      "metadata": {
        "id": "Kn566XzWyRM7"
      },
      "source": [
        "struct 모듈 : 파이썬 객체 <<===>> 이진 표현 상호 변환 가능"
      ]
    },
    {
      "cell_type": "code",
      "metadata": {
        "id": "wnpzvv_77Xud"
      },
      "source": [
        "import struct\r\n",
        "abc = struct.pack('>hhl', 1, 2, 3) # struct.pack(): struct형식의 문자열과 값을 취하여 바이트 객체를 반환\r\n",
        "print(abc)\r\n",
        "\r\n",
        "struct.unpack('>hhl', abc)  # '>hhl' : 포맷 스트링 (%d 같은거)\r\n",
        "\r\n"
      ],
      "execution_count": null,
      "outputs": []
    },
    {
      "cell_type": "markdown",
      "metadata": {
        "id": "9iMFEBWe-1FG"
      },
      "source": [
        ""
      ]
    },
    {
      "cell_type": "markdown",
      "metadata": {
        "id": "yry9fAIY95aM"
      },
      "source": [
        "####4.4 오류 처리 : *구문오류 or 예외*"
      ]
    },
    {
      "cell_type": "code",
      "metadata": {
        "id": "ptF60fti-GY-"
      },
      "source": [
        "# 예외 처리를 하지 않으면 Traceback(역추적) 출력 --> try-except-finally문으로 예측 가능한 예외를 처리할 수 있다.\r\n",
        "try:\r\n",
        "    예외 발생이 예측되는 코드\r\n",
        "except 예외1 as 예외_변수1:\r\n",
        "    예외 처리1\r\n",
        "...\r\n",
        "except 예외N as 예외_변수N:\r\n",
        "    예외 처리N\r\n",
        "finally:\r\n",
        "    예외 발생에 상관없이 실행되는 코드"
      ],
      "execution_count": null,
      "outputs": []
    },
    {
      "cell_type": "code",
      "metadata": {
        "id": "DFxA1eRq_FiE"
      },
      "source": [
        "while True:\r\n",
        "    try:\r\n",
        "        x = int(input('숫자를 입력하세요: '))\r\n",
        "        break\r\n",
        "    except ValueError:\r\n",
        "        print(\"숫자가 아닙니다. 다시 입력해주세요!\")"
      ],
      "execution_count": null,
      "outputs": []
    },
    {
      "cell_type": "markdown",
      "metadata": {
        "id": "bsTiSB3__3Se"
      },
      "source": [
        "raise문을 사용하여 특정 예외를 의도적으로 발생시킬 수 있다."
      ]
    },
    {
      "cell_type": "code",
      "metadata": {
        "id": "rLac9JaZ_04B"
      },
      "source": [
        "import string\r\n",
        "import sys\r\n",
        "\r\n",
        "try:\r\n",
        "    1/0 # ZeroDivisionError 발생\r\n",
        "    f = open('myfile.txt')\r\n",
        "    s = f.readline()\r\n",
        "    i = int(string.strip(s))\r\n",
        "except IOError as err:\r\n",
        "    # errno, strerror = err.args\r\n",
        "    print(err)\r\n",
        "except ValueError:\r\n",
        "    print('데이터를 숫자를 변환할 수 없습니다.')\r\n",
        "except:\r\n",
        "    print('예외 발생: {0}'.format(sys.exc_info()[0]))\r\n",
        "    raise # rasie가 있으면 예외를 일부러 발생시킨다."
      ],
      "execution_count": null,
      "outputs": []
    },
    {
      "cell_type": "code",
      "metadata": {
        "id": "5aFotvz4Bl-X"
      },
      "source": [
        "filename = \"hello.py\"\r\n",
        "try:\r\n",
        "    f = open(filename, 'r')\r\n",
        "except IOError:\r\n",
        "    print(\"{0}를(을) 열 수 없습니다.\".format(filename))\r\n",
        "else:\r\n",
        "    print(\"{0}는(은) 총 {1}줄 입니다.\".format(filename, len(f.readlines())))\r\n",
        "    f.close()"
      ],
      "execution_count": null,
      "outputs": []
    },
    {
      "cell_type": "markdown",
      "metadata": {
        "id": "Y0ZaSlgNIaNq"
      },
      "source": [
        "**try-except 를 이용한 예외 처리를 해야지 오류가 발생하여 정지되는 대참사를 막을 수 있다.**"
      ]
    },
    {
      "cell_type": "markdown",
      "metadata": {
        "id": "CNQnhqzGCS7X"
      },
      "source": [
        "####예외 처리에 대한 구글 파이썬 스타일 가이드\r\n",
        "######두 개의 인수 형식으 사용하지 않는다. ( raise MyError , '오류 메시지' )--> X\r\n",
        "######assert문은 내부적으로 정확성을 보장하기 위해 사용하는 것\r\n",
        "######try / except 블록 내 코드의 양을 최소화해야 한다. (실제 오류를 발견하기 어렵기 때문)\r\n",
        "######finally문 사용하는 것이 좋다\r\n",
        "######예외를 처리할 때는 쉼표( , ) 대신 as를 사용한다"
      ]
    },
    {
      "cell_type": "code",
      "metadata": {
        "id": "rSC9iSkaD7NE"
      },
      "source": [
        "# 좋은 예\r\n",
        "def ConnectToNextPort(self, minimum):\r\n",
        "    # 사용 가능한 다음 포트에 연결한다. 새 minimum 포트를 반환\r\n",
        "    if minimum <= 1024:\r\n",
        "        raise ValueError('1025 이상의 포트를 입력해야 합니다.')\r\n",
        "    port = self._FindNextOpenPort(minimum)\r\n",
        "    if not port:\r\n",
        "        raise ConnectionError('%d 포트에 연결할 수 없습니다.' %(minimum,))\r\n",
        "    assert port >= minimum, '예상치 못한 %d 포트를 사용했습니다. 입력한 minimum 포트는 %d입니다.' % (port, minimum)\r\n",
        "    return port"
      ],
      "execution_count": null,
      "outputs": []
    },
    {
      "cell_type": "code",
      "metadata": {
        "id": "ziOLcrFjGbDA"
      },
      "source": [
        "# 나쁜 예\r\n",
        "def ConnectToNextPort(self, minimum):\r\n",
        "    assert minimum > 1024, '1025 이상의 포트를 입력해야 합니다.'\r\n",
        "    port = self._FindNextOpenPort(minimum)\r\n",
        "    assert port is not None\r\n",
        "    return port\r\n",
        "\r\n",
        "ConnectToNextPort('r', 1000)"
      ],
      "execution_count": null,
      "outputs": []
    }
  ]
}