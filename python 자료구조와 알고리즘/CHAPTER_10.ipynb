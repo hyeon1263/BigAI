{
  "nbformat": 4,
  "nbformat_minor": 0,
  "metadata": {
    "colab": {
      "name": "CHAPTER_10",
      "private_outputs": true,
      "provenance": [],
      "collapsed_sections": []
    },
    "kernelspec": {
      "name": "python3",
      "display_name": "Python 3"
    },
    "language_info": {
      "name": "python"
    }
  },
  "cells": [
    {
      "cell_type": "markdown",
      "metadata": {
        "id": "v03rKhgvGbiC"
      },
      "source": [
        "# CHPATER 10 검색"
      ]
    },
    {
      "cell_type": "markdown",
      "metadata": {
        "id": "w5oPpipnHFBA"
      },
      "source": [
        "- **순차 검색** : 정렬되지 않은 배열 or 연결 리스트와 같이 입력이 동적으로 할당되는 경우\n",
        "\n",
        "- **이진 검색** : 정렬되어 있는 배열의 경우 최선의 선택\n",
        "\n",
        "- **해시 테이블** 사용시 --> O(1)"
      ]
    },
    {
      "cell_type": "markdown",
      "metadata": {
        "id": "mdBEWt8vG6Nd"
      },
      "source": [
        "### 10.1 정렬되지 않은 배열\n",
        "\n",
        "- 순차 검색 -> O(n)\n",
        "\n"
      ]
    },
    {
      "cell_type": "code",
      "metadata": {
        "id": "nCWb2ZkKGXf9"
      },
      "source": [
        "def sequential_search(seq, n):  # n이 seq에 있는지 확인하는 함수\n",
        "    for item, value in enumerate(seq):\n",
        "        if value == n:\n",
        "            return item\n",
        "    return False\n",
        "\n",
        "def test_sequential_search():\n",
        "    seq = [1,5,6,8,3]\n",
        "    n1 = 5\n",
        "    n2 = 7\n",
        "    assert(sequential_search(seq, n1) is 1)\n",
        "    assert(sequential_search(seq, n2) is False)\n",
        "    print(\"테스트 통과\")\n",
        "\n",
        "if __name__ == \"__main__\":\n",
        "    test_sequential_search()"
      ],
      "execution_count": null,
      "outputs": []
    },
    {
      "cell_type": "code",
      "metadata": {
        "id": "u6-w5-F8IKBN"
      },
      "source": [
        "def ordered_sequential_search(seq, n):  # 정렬된 배열 순차검색\n",
        "    item = 0\n",
        "    for item in seq:\n",
        "        if item > n:\n",
        "            return False\n",
        "        if item == n:\n",
        "            return True\n",
        "    return False\n",
        "\n",
        "def test_ordered_sequential_search():\n",
        "    seq = [1,2,4,5,6,8,10]\n",
        "    n1 = 10\n",
        "    n2 = 7\n",
        "    assert(ordered_sequential_search(seq, n1) is True)\n",
        "    assert(ordered_sequential_search(seq, n2) is False)\n",
        "    print(\"테스트 통과!\")\n",
        "\n",
        "if __name__ == \"__main__\":\n",
        "    test_ordered_sequential_search()"
      ],
      "execution_count": null,
      "outputs": []
    },
    {
      "cell_type": "code",
      "metadata": {
        "id": "1wMyyuPiMc-N"
      },
      "source": [
        "# 퀵 정렬 알고리즘으로 리스트에서 k번째로 작은 항목을 찾는 메서드\n",
        "\n",
        "import random\n",
        "\n",
        "def quick_select_cache(seq, k):\n",
        "    len_seq = len(seq)\n",
        "    if len_seq < 2:\n",
        "        return seq[0]\n",
        "\n",
        "    # 피벗을 무작위로 선택할 수 있다\n",
        "    # pivot = random.choice(seq)\n",
        "    ipivot = len_seq // 2\n",
        "    pivot = seq[ipivot]  # 피벗을 중간에 있는 값으로 결정\n",
        "\n",
        "    smallerList = [x for i, x in enumerate(seq) if x <= pivot and i != ipivot]  # pivot보다 작은 리스트\n",
        "    largerList = [x for i, x in enumerate(seq) if x > pivot and i != ipivot]    # pivot보다 큰 리스트\n",
        "\n",
        "    m = len(smallerList)\n",
        "    if k == m:       # 오름차순으로 정렬된 리스트에서 k번째를 찾아야 하므로\n",
        "        return pivot\n",
        "    elif k < m:\n",
        "        return quick_select_cache(smallerList, k)\n",
        "    else:\n",
        "        return quick_select_cache(largerList, k-m-1)\n",
        "\n",
        "def swap(seq, x, y):\n",
        "    seq[x], seq[y] = seq[y], seq[x]\n",
        "\n",
        "def quick_select(seq, k, left=None, right=None):\n",
        "    left = left or 0\n",
        "    right = right or len(seq) - 1\n",
        "    ipivot = random.randint(left, right)\n",
        "    pivot = seq[ipivot]\n",
        "\n",
        "    # 피벗을 정렬 범위 밖으로 이동\n",
        "    swap(seq, ipivot, right)\n",
        "    swapIndex, i = left, left\n",
        "    while i < right:\n",
        "        if pivot < seq[i]:\n",
        "            swap(seq, i, swapIndex)\n",
        "            swapIndex += 1\n",
        "        i += 1\n",
        "\n",
        "    # 피벗 위치 확정\n",
        "    swap(seq, right, swapIndex)\n",
        "\n",
        "    # 피벗 위치 확인\n",
        "    rank = len(seq) - swapIndex\n",
        "    if k == rank:\n",
        "        return seq[swapIndex]\n",
        "    elif k < rank:\n",
        "        return quick_select(seq, k, swapIndex+1, right)\n",
        "    else:\n",
        "        return quick_select(seq, k, left, swapIndex-1)\n",
        "\n",
        "\n",
        "if __name__ == \"__main__\":\n",
        "    seq = [3, 7, 2, 1, 4, 6, 5, 10, 9, 11]\n",
        "    k = len(seq) // 2\n",
        "    print(sorted(seq))\n",
        "    print(quick_select_cache(seq, k-1))\n",
        "\n",
        "    # 아래 함수는 원본을 수정하므로 깊은 복사 실행\n",
        "    import copy\n",
        "    seq_copy = copy.deepcopy(seq)\n",
        "    print(quick_select(seq_copy, k))\n",
        "\n",
        "    # 중앙값(median) 출력을 위해서 넘파이 사용\n",
        "    import numpy\n",
        "    print(numpy.median(seq))"
      ],
      "execution_count": null,
      "outputs": []
    },
    {
      "cell_type": "markdown",
      "metadata": {
        "id": "bMgx4VdJPdBN"
      },
      "source": [
        "### 10.2 정렬된 배열\n",
        "\n",
        "- 이진 검색 --> O(log n)\n"
      ]
    },
    {
      "cell_type": "code",
      "metadata": {
        "id": "BoFgu9XuPtO6"
      },
      "source": [
        "# 재귀 함수\n",
        "def binary_search_rec(seq, target, low, high):\n",
        "    if low > high:\n",
        "        return None \n",
        "    mid = (low + high) // 2\n",
        "    if target == seq[mid]:\n",
        "        return mid\n",
        "    elif target > seq[mid]:\n",
        "        return binary_search_rec(seq, target, mid+1, high)\n",
        "    else:\n",
        "        return binary_search_rec(seq, target, low, mid-1)\n",
        "\n",
        "# 반복문\n",
        "def binary_search_iter(seq, target):\n",
        "    high, low = len(seq), 0\n",
        "    while low < high:\n",
        "        mid = (high + low) // 2\n",
        "        if target == seq[mid]:\n",
        "            return mid\n",
        "        elif target < seq[mid]:\n",
        "            high = mid\n",
        "        else:\n",
        "            low = mid + 1\n",
        "    return None\n",
        "\n",
        "def test_binary_search():\n",
        "    seq = [1,2,5,6,7,10,12,12,14,15]\n",
        "    target = 6\n",
        "    assert(binary_search_iter(seq, target) == 3)\n",
        "    assert(binary_search_rec(seq, target, 0, len(seq)) == 3)\n",
        "    print(\"테스트 통과!\")\n",
        "\n",
        "\n",
        "if __name__ == \"__main__\":\n",
        "    test_binary_search()"
      ],
      "execution_count": null,
      "outputs": []
    },
    {
      "cell_type": "code",
      "metadata": {
        "id": "yHiHBKIsP5qV"
      },
      "source": [
        "# bisect 모듈로 이진 검색을 할 수 있다\n",
        "from bisect import bisect\n",
        "\n",
        "l = [0,3,4,5]\n",
        "print(bisect(l,5))\n",
        "\n",
        "# 빈 리스트 혹은 값이 없는 예외의 경우\n",
        "print(bisect(l,-1))\n",
        "\n",
        "print(bisect(l,1))\n",
        "\n",
        "print(bisect(l,7))\n",
        "\n",
        "print(bisect([],1))"
      ],
      "execution_count": null,
      "outputs": []
    },
    {
      "cell_type": "markdown",
      "metadata": {
        "id": "EKuX8FRKTCrn"
      },
      "source": [
        "### 10.3 연습문제"
      ]
    },
    {
      "cell_type": "code",
      "metadata": {
        "id": "vXkU2BlJTFL6"
      },
      "source": [
        "# 행렬 검색 --> O(m+n) \n",
        "def find_elem_matrix_bool(m1, value):\n",
        "    found = False\n",
        "    row = 0\n",
        "    col = len(m1[0]) - 1\n",
        "    while row < len(m1) and col >= 0:   # 1행 맨끝열부터 탐색 시작\n",
        "        if m1[row][col] == value:\n",
        "            found = True\n",
        "            break\n",
        "        elif m1[row][col] > value:\n",
        "            col -= 1\n",
        "        else:\n",
        "            row += 1\n",
        "    return found\n",
        "\n",
        "def test_find_elem_matrix_bool():\n",
        "    m1 = [[12,8,9], [2,4,9,12], [4,7,10,13], [6,8,11,15]]\n",
        "    assert(find_elem_matrix_bool(m1,8) is True)\n",
        "    assert(find_elem_matrix_bool(m1,3) is False)\n",
        "    m2 = [[0]]\n",
        "    assert(find_elem_matrix_bool(m2,0) is True)\n",
        "    print(\"테스트 통과!\")\n",
        "\n",
        "\n",
        "if __name__ == \"__main__\":\n",
        "    test_find_elem_matrix_bool()"
      ],
      "execution_count": null,
      "outputs": []
    },
    {
      "cell_type": "code",
      "metadata": {
        "id": "gv2PU2h69KBK"
      },
      "source": [
        "# 이진 검색 알고리즘을 이용한 행렬 검색 --> O(log mn)\n",
        "def searching_in_a_matrix(m1, value):\n",
        "    rows = len(m1)\n",
        "    cols = len(m1[0])\n",
        "    lo = 0\n",
        "    hi = rows*cols\n",
        "    while lo < hi:\n",
        "        mid = (lo + hi) // 2\n",
        "        row = mid // cols\n",
        "        col = mid % cols\n",
        "        v = m1[row][col]\n",
        "        if v == value:\n",
        "            return True\n",
        "        elif v > value:\n",
        "            hi = mid\n",
        "        else:\n",
        "            lo = mid+1\n",
        "    return False\n",
        "\n",
        "def test_searching_in_a_matrix():\n",
        "    a = [[1, 3, 5], [7, 9, 11], [13, 15, 17]]\n",
        "    import numpy\n",
        "    b = numpy.array([(1, 2), (3, 4)])\n",
        "    assert(searching_in_a_matrix(a, 13) is True)\n",
        "    assert(searching_in_a_matrix(a, 14) is False)\n",
        "    assert(searching_in_a_matrix(b, 3) is True)\n",
        "    assert(searching_in_a_matrix(b, 5) is False)\n",
        "    print(\"테스트 통과!\")\n",
        "\n",
        "\n",
        "if __name__ == \"__main__\":\n",
        "    test_searching_in_a_matrix()"
      ],
      "execution_count": null,
      "outputs": []
    },
    {
      "cell_type": "code",
      "metadata": {
        "id": "QakZjFQ59kKx"
      },
      "source": [
        "# 단봉형 배열 (ex.정규분포) 을\n",
        "#   이진 검색을 사용하여 최댓갑을 찾는 메서드\n",
        "def find_max_unimodal_array(A):\n",
        "    if len(A) <= 2:\n",
        "        return None\n",
        "    left = 0\n",
        "    right = len(A)-1\n",
        "    while right > left + 1:\n",
        "        mid = (left + right) // 2\n",
        "        if A[mid] > A[mid-1] and A[mid] > A[mid+1]:\n",
        "            return A[mid]\n",
        "        elif A[mid] > A[mid-1] and A[mid] < A[mid+1]:\n",
        "            left = mid\n",
        "        else:\n",
        "            right = mid\n",
        "    return None\n",
        "\n",
        "def test_find_max_unimodal_array():\n",
        "    seq = [1, 2, 5, 6, 7, 10, 12, 9, 8, 7, 6]\n",
        "    assert(find_max_unimodal_array(seq) == max(seq))\n",
        "    print(\"테스트 통과!\")\n",
        "\n",
        "\n",
        "if __name__ == \"__main__\":\n",
        "    test_find_max_unimodal_array()"
      ],
      "execution_count": null,
      "outputs": []
    },
    {
      "cell_type": "code",
      "metadata": {
        "id": "_CEIPQU297hZ"
      },
      "source": [
        "# 이진 검색으로 제곱근 구하기\n",
        "def find_sqrt_bin_search(n, error=0.001):\n",
        "    lower = n < 1 and n or 1\n",
        "    upper = n < 1 and 1 or n    # n의 제곱근의 범위 == lower보다 크고, upper보다 작다\n",
        "    mid = lower + (upper - lower) / 2.0\n",
        "    square = mid * mid\n",
        "    while abs(square - n) > error:  # 차이가 error보다 작아질 때까지\n",
        "        if square < n:\n",
        "            lower = mid\n",
        "        else:\n",
        "            upper = mid\n",
        "        mid = lower + (upper - lower) / 2.0\n",
        "        square = mid * mid\n",
        "    return mid\n",
        "\n",
        "\n",
        "if __name__ == \"__main__\":\n",
        "    a = 2\n",
        "    b = 9\n",
        "    import math\n",
        "    print(math.sqrt(a))\n",
        "    print(find_sqrt_bin_search(a))\n",
        "    print(math.sqrt(b))\n",
        "    print(find_sqrt_bin_search(b))"
      ],
      "execution_count": null,
      "outputs": []
    },
    {
      "cell_type": "code",
      "metadata": {
        "id": "xCFuYJBv-THp"
      },
      "source": [
        "# 정렬된 리스트에서 요소 k가 나타나는 횟수\n",
        "\n",
        "def find_time_occurrence_list(seq, k):\n",
        "    index_some_k = binary_search_iter(seq, k)\n",
        "    count = 1\n",
        "    sizet = len(seq)\n",
        "\n",
        "    # binary_search로 찾은 index + 1부터 뒤로 가면서 검색\n",
        "    for i in range(index_some_k+1, sizet):\n",
        "        if seq[i] == k:\n",
        "            count += 1\n",
        "        else:\n",
        "            break\n",
        "\n",
        "    # binary_search로 찾은 index + 1부터 앞으로 가면서 검색\n",
        "    for i in range(index_some_k-1, -1, -1):\n",
        "        if seq[i] == k:\n",
        "            count += 1\n",
        "        else:\n",
        "            break\n",
        "    return count\n",
        "\n",
        "def test_find_time_occurrence_list():\n",
        "    seq = [1, 2, 2, 2, 2, 2, 2, 5, 6, 6, 7, 8, 9]\n",
        "    k = 2\n",
        "    assert(find_time_occurrence_list(seq, k) == 6)\n",
        "    print(\"테스트 통과!\")\n",
        "\n",
        "\n",
        "if __name__ == \"__main__\":\n",
        "    test_find_time_occurrence_list()"
      ],
      "execution_count": null,
      "outputs": []
    },
    {
      "cell_type": "code",
      "metadata": {
        "id": "8vVN5AWT_CRS"
      },
      "source": [
        "# 교집합 구하기\n",
        "\n",
        "# 1) 파이썬 set 사용 - 가장 간단함, But 순서를 보장하지 않음\n",
        "def intersection_two_arrays_sets(seq1, seq2):\n",
        "    set1 = set(seq1)\n",
        "    set2 = set(seq2)\n",
        "    return set1.intersection(set2)\n",
        "\n",
        "# 2) 병합 정렬 사용\n",
        "def intersection_two_arrays_ms(seq1, seq2):\n",
        "    res = []\n",
        "    while seq1 and seq2:\n",
        "        if seq1[-1] == seq2[-1]:\n",
        "            res.append(seq1.pop())\n",
        "            seq2.pop()\n",
        "        elif seq1[-1] > seq2[-1]:\n",
        "            seq1.pop()\n",
        "        else:\n",
        "            seq2.pop()\n",
        "    res.reverse()\n",
        "    return res\n",
        "\n",
        "# 3) 이진 검색 사용\n",
        "def intersection_two_arrays_bs(seq1, seq2):\n",
        "    if len(seq1) > len(seq2):\n",
        "        seq, key = seq1, seq2\n",
        "    else:\n",
        "        seq, key = seq2, seq1\n",
        "    intersec = []\n",
        "    for item in key:\n",
        "        if binary_search_iter(seq, item):\n",
        "            intersec.append(item)\n",
        "    return intersec\n",
        "\n",
        "\n",
        "def test_intersection_two_arrays():\n",
        "    seq1 = [1, 2, 3, 5, 7, 8]\n",
        "    seq2 = [3, 5, 6]\n",
        "    assert(set(intersection_two_arrays_sets(seq1, seq2)) == set([3, 5]))\n",
        "    assert(intersection_two_arrays_bs(seq1, seq2) == [3, 5])\n",
        "    assert(intersection_two_arrays_ms(seq1, seq2) == [3, 5])\n",
        "    print(\"테스트 통과!\")\n",
        "\n",
        "\n",
        "if __name__ == \"__main__\":\n",
        "    test_intersection_two_arrays()"
      ],
      "execution_count": null,
      "outputs": []
    }
  ]
}