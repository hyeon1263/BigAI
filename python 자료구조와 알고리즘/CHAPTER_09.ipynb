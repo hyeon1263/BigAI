{
  "nbformat": 4,
  "nbformat_minor": 0,
  "metadata": {
    "colab": {
      "name": "CHAPTER_09",
      "private_outputs": true,
      "provenance": [],
      "collapsed_sections": []
    },
    "kernelspec": {
      "name": "python3",
      "display_name": "Python 3"
    },
    "language_info": {
      "name": "python"
    }
  },
  "cells": [
    {
      "cell_type": "markdown",
      "metadata": {
        "id": "zua6SRYtDJ4H"
      },
      "source": [
        "#Chapter09 정렬"
      ]
    },
    {
      "cell_type": "markdown",
      "metadata": {
        "id": "SCcxY8AKDoxy"
      },
      "source": [
        "\n",
        "\n",
        "*   제자리 정렬 : 정렬할 항목의 수에 비해 아주 작은 저장 공간을 더 사용하는 정렬 알고리즘\n",
        "*   안정적 정렬 : 데이터 요소의 상대적인 순서를 보존\n",
        "\n"
      ]
    },
    {
      "cell_type": "markdown",
      "metadata": {
        "id": "iUXz7qM7F5er"
      },
      "source": [
        "###9.1 2차 정렬\n",
        "\n",
        "- **거품 정렬**\n",
        "\n",
        " 인접한 두 항목을 비교하여 정렬하는 방식\n",
        " \n",
        " 시간복잡도 : O(n²)"
      ]
    },
    {
      "cell_type": "code",
      "metadata": {
        "id": "PX3yVcvuDGt3"
      },
      "source": [
        "def bubble_sort(seq):\n",
        "    length = len(seq) - 1\n",
        "    for num in range(length, 0, -1):\n",
        "        for i in range(num):\n",
        "            if seq[i] > seq[i+1]:\n",
        "                seq[i], seq[i+1] = seq[i+1], seq[i]  # 앞에 수가 더 크면 바로 뒤랑 바꿔줌\n",
        "        print(seq)\n",
        "    return seq\n",
        "\n",
        "def test_bubble_sort():\n",
        "    seq = [4,5,2,1,6,2,7,10,13,8]\n",
        "    assert(bubble_sort(seq) == sorted(seq))\n",
        "    print(\"테스트 통과!\")\n",
        "    \n",
        "    \n",
        "if __name__ == \"__main__\":\n",
        "    test_bubble_sort()"
      ],
      "execution_count": null,
      "outputs": []
    },
    {
      "cell_type": "markdown",
      "metadata": {
        "id": "YtjonmgcTu9S"
      },
      "source": [
        "\n",
        "\n",
        "*   **선택 정렬**\n",
        "\n",
        " 먼저 리스트에서 가장 작거나 큰 항목을 찾아서 첫 번째 항목과 위치를 바꾼 후, 그 다음 항목을 찾아서 두 번째 항목과 위치를 바꾸는 식으ㅗ 리스트 끝에 도달할 때까지 이 과정을 반복한다\n",
        " \n",
        " 시간복잡도 : O(n²)\n",
        "\n"
      ]
    },
    {
      "cell_type": "code",
      "metadata": {
        "id": "qaz0CIGwTuvs"
      },
      "source": [
        "def selection_sort(seq):\n",
        "    length = len(seq)\n",
        "    for i in range(length-1):\n",
        "        min_j = i\n",
        "        for j in range(i+1, length):\n",
        "            if seq[min_j] > seq[j]:\n",
        "                min_j = j\n",
        "        seq[i], seq[min_j] = seq[min_j], seq[i]\n",
        "        print(seq)\n",
        "    return seq\n",
        "\n",
        "def test_selection_sort():\n",
        "    seq = [11, 3, 28, 43, 9, 4]\n",
        "    assert(selection_sort(seq) == sorted(seq))\n",
        "    print(\"테스트 통과!\")\n",
        "\n",
        "\n",
        "if __name__ == \"__main__\":\n",
        "    test_selection_sort()"
      ],
      "execution_count": null,
      "outputs": []
    },
    {
      "cell_type": "markdown",
      "metadata": {
        "id": "syfdvWVGQVIO"
      },
      "source": [
        "*   **삽입 정렬**\n",
        "\n",
        " 배열 맨 처음 정렬된 부분에, 정렬되지 않은 다음 항목을 반복적으로 삽입하는 방식\n",
        "\n",
        " 미리 정렬된 리스트에 새 항목을 추가할 때 좋다\n",
        "\n",
        " 시간복잡도 : O(n²)"
      ]
    },
    {
      "cell_type": "code",
      "metadata": {
        "id": "C4v9T3SiP3LK"
      },
      "source": [
        "def insertion_sort(seq):\n",
        "    for i in range(1, len(seq)):\n",
        "        j = i\n",
        "        while j > 0 and seq[j-1] > seq[j]:      # 뒤에서 앞으로 비교해가며 앞에꺼보다 작으면 바꿈\n",
        "            seq[j-1], seq[j] = seq[j], seq[j-1]\n",
        "            j -= 1\n",
        "        print(seq)\n",
        "    return seq\n",
        "\n",
        "def insertion_sort_rec(seq, i=None):\n",
        "    if i is None:\n",
        "        i = len(seq) - 1\n",
        "    if i == 0:\n",
        "        return i\n",
        "    insertion_sort_rec(seq, i-1)\n",
        "    j = i\n",
        "    while j > 0 and seq[j-i] > seq[j]:\n",
        "        seq[j-1], seq[j] = seq[j], seq[j-1]\n",
        "        j -= 1\n",
        "    return seq\n",
        "\n",
        "def test_insertion_sort():\n",
        "    seq = [11, 3, 28, 43, 9, 4]\n",
        "    assert(insertion_sort(seq) == sorted(seq))\n",
        "    assert(insertion_sort_rec(seq) == sorted(seq))\n",
        "    print(\"테스트 통과!\")\n",
        "\n",
        "\n",
        "if __name__ == \"__main__\":\n",
        "    test_insertion_sort()"
      ],
      "execution_count": null,
      "outputs": []
    },
    {
      "cell_type": "markdown",
      "metadata": {
        "id": "73Z42W2jWTuL"
      },
      "source": [
        "\n",
        "- **놈 정렬**\n",
        "\n",
        " 앞으로 이동하며 잘못 정렬된 값을 찾은 후, 올바른 위치로 값을 교환하며 다시 뒤로 이동한다\n",
        "\n",
        " 시간복잡도 : O(n²)\n"
      ]
    },
    {
      "cell_type": "code",
      "metadata": {
        "id": "PyFux0fHWkdO"
      },
      "source": [
        "def gnome_sort(seq):\n",
        "    i = 0\n",
        "    while i < len(seq):\n",
        "        if i == 0 or seq[i-1] <= seq[i]:    # 뒤 숫자가 앞 숫자보다 클 때\n",
        "            i += 1                          # i 1증가\n",
        "        else:\n",
        "            seq[i], seq[i-1] = seq[i-1], seq[i] # 뒤 숫자가 앞 숫자보다 작을 때\n",
        "            i -= 1                              # i 1감소\n",
        "        print(seq)\n",
        "    return seq\n",
        "\n",
        "def test_gnome_sort():\n",
        "    seq = [5,3,2,4]\n",
        "    assert(gnome_sort(seq) == sorted(seq))\n",
        "    print(\"테스트 통과\")\n",
        "\n",
        "\n",
        "if __name__ == \"__main__\":\n",
        "    test_gnome_sort()"
      ],
      "execution_count": null,
      "outputs": []
    },
    {
      "cell_type": "markdown",
      "metadata": {
        "id": "wZPBhPCWbTwp"
      },
      "source": [
        "###9.2 선형 정렬\n",
        "\n",
        "- **카운터 정렬**\n",
        "\n",
        " 작은 범위의 정수를 정렬할 때 유용하며, 숫자의 발생 횟수를 계산하는 누적 카운트를 사용\n",
        "\n",
        " 누적 카운트를 갱신하여 순서대로 숫자를 직접 배치하는 방식\n",
        "\n",
        " 시간복잡도 : O(n+k)"
      ]
    },
    {
      "cell_type": "code",
      "metadata": {
        "id": "n2XwDxbNbz1r"
      },
      "source": [
        "# 각 숫자의 간격이 크다면, 비효율적인 방법\n",
        "from collections import defaultdict\n",
        "\n",
        "def count_sort_dict(a):\n",
        "    b, c = [], defaultdict(list)    # 기본 value값이 list형인 dictionary\n",
        "    for x in a:\n",
        "        c[x].append(x)   # x만큼 c[x]에 append\n",
        "    print(c)\n",
        "    for k in range(min(c), max(c) + 1):\n",
        "        b.extend(c[k])\n",
        "        print(b)\n",
        "    return b\n",
        "\n",
        "def test_count_sort():\n",
        "    seq = [3,5,2,6,8,1,0,3,5,6,2,5,4,1,5,3]\n",
        "    assert(count_sort_dict(seq) == sorted(seq))\n",
        "    print(\"테스트 통과!\")\n",
        "\n",
        "\n",
        "if __name__ == \"__main__\":\n",
        "    test_count_sort()"
      ],
      "execution_count": null,
      "outputs": []
    },
    {
      "cell_type": "markdown",
      "metadata": {
        "id": "T-FdAH1me1ld"
      },
      "source": [
        "###9.3 로그 선형 정렬"
      ]
    },
    {
      "cell_type": "code",
      "metadata": {
        "id": "KRWv8gQsfMbc"
      },
      "source": [
        "seq1 = [5,2,4,1]\n",
        "seq1.sort()     # seq1가 바뀜\n",
        "print(seq1)\n",
        "\n",
        "seq2 = [5,2,4,1]\n",
        "sorted(seq2)    # seq2가 바뀌진 않음\n",
        "print(seq2)"
      ],
      "execution_count": null,
      "outputs": []
    },
    {
      "cell_type": "markdown",
      "metadata": {
        "id": "4ivZaJTRfKnI"
      },
      "source": [
        "- **병합 정렬**\n",
        "\n",
        " 리스트를 반으로 나누어 정렬되지 않은 리스트를 만든 후, 정렬되지 않은 두 리스트의 크기가 1이 될 때까지, 계속 리스트를 반으로 나누어 병합 정렬 알고리즘울 호출하여 리스트를 정렬하고 병합한다\n",
        "\n",
        " 시간복잡도 : O(n log n)"
      ]
    },
    {
      "cell_type": "code",
      "metadata": {
        "id": "AXH8gPaVc7tw"
      },
      "source": [
        "import sys\n",
        "import os\n",
        "os.chdir(\"/content/drive/MyDrive/test\")\n",
        "sys.path.append(os.chdir)\n",
        "\n",
        "\"\"\"\n",
        "    병합 정렬을 구현하는 여러가지 방법이 있다.\n",
        "        --> 시간복잡도: 최악/최선/평균일 때 모두 O(nlogn)\n",
        "        --> 공간복잡도: 배열인 경우 O(n)이며, 일반적으로 제자리 정렬(in-place)이 아니다.\n",
        "        --> 배열이 큰 경우 효율적이다.\n",
        "        --> 병합 정렬의 병합 함수를 사용하여, 두 배열을 병합한다.\n",
        "        --> 두 파일인 경우에도 병합 가능하다.\n",
        "        가) pop() 메서드를 사용하여 다음과 같이 구현할 수 있다.\n",
        "           (각 두 배열은 정렬되어 있다.)\n",
        "            def merge(left, right):\n",
        "                if not left or not right: return left or right # 아무것도 병합하지 않는다.\n",
        "                result = []\n",
        "                while left and right:\n",
        "                    if left[-1] >= right[-1]:\n",
        "                        result.append(left.pop())\n",
        "                    else:\n",
        "                        result.append(right.pop())\n",
        "                result.reverse()\n",
        "                return (left or right) + result\n",
        "            >>> l1 = [1, 2, 3, 4, 5, 6, 7]\n",
        "            >>> l2 = [2, 4, 5, 8]\n",
        "            >>> merge(l1, l2)\n",
        "            [1, 2, 2, 3, 4, 4, 5, 5, 6, 7, 8]\n",
        "        나) 제자리 정렬을 구현하는 경우, 한 배열의 끝에 0이 채워져 있고, \n",
        "           다른 배열에는 첫 배열에서 끝에 0이 채워진 크기만큼의 요소가 있다.\n",
        "           (각 두 배열은 정렬되어 있다.)\n",
        "            >>> l1 = [1, 2, 3, 4, 5, 6, 7, 0, 0, 0, 0]\n",
        "            >>> l2 = [2, 4, 5, 8]\n",
        "            >>> merge_two_arrays_inplace(l1, l2)\n",
        "            [1, 2, 2, 3, 4, 4, 5, 5, 6, 7, 8]\n",
        "        다) 정렬된 파일은 다음과 같이 병합(파일을 로딩할 충분한 RAM이 필요).\n",
        "            >>> list_files = [\"1.dat\", \"2.dat\", \"3.dat\"]\n",
        "            >>> merge_files(list_files)\n",
        "            [1, 1, 2, 3, 3, 3, 4, 5, 5, 5, 6, 7, 8]\n",
        "\"\"\"\n",
        "\n",
        "\n",
        "def merge_sort(seq):\n",
        "    \"\"\"\n",
        "    1) pop()을 이용한 병합 정렬\n",
        "    \"\"\"\n",
        "    if len(seq) < 2:\n",
        "        return seq\n",
        "    mid = len(seq) // 2\n",
        "    left, right = seq[:mid], seq[mid:]\n",
        "    if len(left) > 1:\n",
        "        left = merge_sort(left)\n",
        "    if len(right) > 1:\n",
        "        right = merge_sort(right)\n",
        "\n",
        "    res = []\n",
        "    while left and right:\n",
        "        if left[-1] >= right[-1]:\n",
        "            res.append(left.pop())\n",
        "        else:\n",
        "            res.append(right.pop())\n",
        "    res.reverse()\n",
        "    return(left or right) + res\n",
        "\n",
        "\n",
        "def merge_sort_sep(seq):\n",
        "    \"\"\"\n",
        "    2) 두 함수로 나누어서 구현한다. 한 함수에서는 배열을 나누고,\n",
        "       또 다른 함수에서는 배열을 병합한다.\n",
        "    \"\"\"\n",
        "    if len(seq) < 2:\n",
        "        return seq\n",
        "    mid = len(seq) // 2\n",
        "    left = merge_sort_sep(seq[:mid])\n",
        "    right = merge_sort_sep(seq[mid:])\n",
        "    return merge(left, right)\n",
        "\n",
        "\n",
        "def merge(left, right):\n",
        "    if not left or not right:\n",
        "        return left or right\n",
        "    result = []\n",
        "    i, j = 0, 0\n",
        "    while i < len(left) and j < len(right):\n",
        "        if left[i] <= right[j]:\n",
        "            result.append(left[i])\n",
        "            i += 1\n",
        "        else:\n",
        "            result.append(right[j])\n",
        "            j += 1\n",
        "    if left[i:]:\n",
        "        result.extend(left[i:])\n",
        "    if right[j:]:\n",
        "        result.extend(right[j:])\n",
        "    # print(result)\n",
        "    return result\n",
        "\n",
        "\n",
        "def merge_2n(left, right):\n",
        "    \"\"\"\n",
        "    3) 각 두 배열은 정렬된 상태다.\n",
        "    시간복잡도는 O(2n)이다.\n",
        "    \"\"\"\n",
        "    if not left or not right:\n",
        "        return left or right\n",
        "    result = []\n",
        "    while left and right:\n",
        "        if left[-1] >= right[-1]:\n",
        "            result.append(left.pop())\n",
        "        else:\n",
        "            result.append(right.pop())\n",
        "    result.reverse()\n",
        "    return (left or right) + result\n",
        "\n",
        "\n",
        "def merge_two_arrays_inplace(l1, l2):\n",
        "    \"\"\"\n",
        "    4) 제자리 정렬로 구현한다.\n",
        "    \"\"\"\n",
        "    if not l1 or not l2:\n",
        "        return l1 or l2\n",
        "    p2 = len(l2) - 1\n",
        "    p1 = len(l1) - len(l2) - 1\n",
        "    p12 = len(l1) - 1\n",
        "    while p2 >= 0 and p1 >= 0:\n",
        "        item_to_be_merged = l2[p2]\n",
        "        item_bigger_array = l1[p1]\n",
        "        if item_to_be_merged < item_bigger_array:\n",
        "            l1[p12] = item_bigger_array\n",
        "            p1 -= 1\n",
        "        else:\n",
        "            l1[p12] = item_to_be_merged\n",
        "            p2 -= 1\n",
        "        p12 -= 1\n",
        "    return l1\n",
        "\n",
        "\n",
        "def merge_files(list_files):\n",
        "    \"\"\"\n",
        "    5) 파일을 병합한다.\n",
        "    \"\"\"\n",
        "    result = []\n",
        "    final = []\n",
        "    for filename in list_files:\n",
        "        aux = []\n",
        "        with open(filename, \"r\") as file:\n",
        "            for line in file:\n",
        "                aux.append(int(line))\n",
        "        result.append(aux)\n",
        "    final.extend(result.pop())\n",
        "    for l in result:\n",
        "        final = merge(l, final)\n",
        "    return final\n",
        "\n",
        "\n",
        "def test_merge_sort():\n",
        "    seq = [3, 5, 2, 6, 8, 1, 0, 3, 5, 6, 2]\n",
        "    seq_sorted = sorted(seq)\n",
        "    assert(merge_sort(seq) == seq_sorted)  # 1\n",
        "    assert(merge_sort_sep(seq) == seq_sorted)  # 2\n",
        "\n",
        "    l1 = [1, 2, 3, 4, 5, 6, 7]\n",
        "    l2 = [2, 4, 5, 8]\n",
        "    l_sorted = [1, 2, 2, 3, 4, 4, 5, 5, 6, 7, 8]\n",
        "    assert(merge_2n(l1, l2) == l_sorted)  # 3\n",
        "\n",
        "    l1 = [1, 2, 3, 4, 5, 6, 7, 0, 0, 0, 0]\n",
        "    l2 = [2, 4, 5, 8]\n",
        "    l_sorted = [1, 2, 2, 3, 4, 4, 5, 5, 6, 7, 8]\n",
        "    assert(merge_two_arrays_inplace(l1, l2) == l_sorted)  # 4\n",
        "\n",
        "    list_files = [\"a.dat\", \"b.dat\", \"c.dat\"]\n",
        "    l_sorted = [1, 1, 2, 3, 3, 3, 4, 5, 5, 5, 6, 7, 8]\n",
        "    assert(merge_files(list_files) == l_sorted)  # 5\n",
        "    print(\"테스트 통과!\")\n",
        "\n",
        "\n",
        "if __name__ == \"__main__\":\n",
        "    test_merge_sort()"
      ],
      "execution_count": null,
      "outputs": []
    },
    {
      "cell_type": "code",
      "metadata": {
        "id": "6fdPawgWhYr8"
      },
      "source": [
        ""
      ],
      "execution_count": null,
      "outputs": []
    }
  ]
}