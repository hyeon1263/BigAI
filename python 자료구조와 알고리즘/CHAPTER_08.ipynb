{
  "nbformat": 4,
  "nbformat_minor": 0,
  "metadata": {
    "colab": {
      "name": "CHAPTER_08",
      "private_outputs": true,
      "provenance": [],
      "collapsed_sections": []
    },
    "kernelspec": {
      "name": "python3",
      "display_name": "Python 3"
    },
    "language_info": {
      "name": "python"
    }
  },
  "cells": [
    {
      "cell_type": "markdown",
      "metadata": {
        "id": "gxQLAylZ3yrM"
      },
      "source": [
        "# Chapter08 점근적 분석\n",
        "어떤 알고리즘에 큰 입력 데이터셋을 적용할 때, 알고리즘의 제한 동작과 성능을 설명하기 위한 방법"
      ]
    },
    {
      "cell_type": "markdown",
      "metadata": {
        "id": "VsFx0hF35RNL"
      },
      "source": [
        "###8.1 복잡도 종류\n",
        "다항 시간 알고리즘 : \"n^k형태로 Worst time Complexity가 정의되는 알고리즘 (k는 상수.)\"\n",
        "\n",
        "어떤 문제에 대해 Polynomial Time, 즉 다항시간에 그 문제에 대한 solution을 찾아낼 수 있으면,(= Polynomial Time Algorithm이 있으면) 그 문제는 클래스 **P** 에 속한다\n",
        "\n",
        "**NP 알고리즘** : 같은 인풋이 들어가도 다른 아웃풋을 낼 수 있는 알고리즘\n",
        "\n",
        "\n",
        "\n",
        "\n",
        "https://zeddios.tistory.com/92"
      ]
    },
    {
      "cell_type": "markdown",
      "metadata": {
        "id": "-MhO-e5K8zq0"
      },
      "source": [
        "###8.2 재귀 알고리즘\n",
        "재귀 알고리즘의 3가지 법칙 :\n",
        "\n",
        "1.   베이스 케이스 (재귀 호출을 유발하지 않는 종료 시나리오) 가 있어야 한다\n",
        "2.   상태를 변경하고 베이스 케이스로 이동한다\n",
        "3.   재귀적으로 자신을 호출한다"
      ]
    },
    {
      "cell_type": "markdown",
      "metadata": {
        "id": "C1Z9ZlKE9cnN"
      },
      "source": [
        "###8.3 함수의 실행 시간"
      ]
    },
    {
      "cell_type": "code",
      "metadata": {
        "id": "pvj6uRgt3xjF"
      },
      "source": [
        "# 피보나치 수열에서 n번째 요소를 찾는 재귀적 알고리즘\n",
        "def find_fibonacci_seq_rec(n):\n",
        "    if n < 2:\n",
        "        return n\n",
        "    return find_fibonacci_seq_rec(n-1) + find_fibonacci_seq_rec(n-2)\n",
        "\n",
        "if __name__ == \"__main__\":\n",
        "    print(find_fibonacci_seq_rec(5))"
      ],
      "execution_count": null,
      "outputs": []
    }
  ]
}