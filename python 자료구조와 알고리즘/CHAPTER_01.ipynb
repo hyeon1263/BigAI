{
  "nbformat": 4,
  "nbformat_minor": 0,
  "metadata": {
    "colab": {
      "name": "CHAPTER 01",
      "private_outputs": true,
      "provenance": [],
      "collapsed_sections": []
    },
    "kernelspec": {
      "name": "python3",
      "display_name": "Python 3"
    }
  },
  "cells": [
    {
      "cell_type": "markdown",
      "metadata": {
        "id": "L-8KibTwi1jC"
      },
      "source": [
        "### CHAPTER 01\r\n",
        "#숫자"
      ]
    },
    {
      "cell_type": "markdown",
      "metadata": {
        "id": "mKnfzKbMlf7c"
      },
      "source": [
        "1.1 정수\r\n",
        "######int형 = 불변형 (immutable)"
      ]
    },
    {
      "cell_type": "code",
      "metadata": {
        "id": "6LToQJb3m3wQ"
      },
      "source": [
        "(999).bit_length()"
      ],
      "execution_count": null,
      "outputs": []
    },
    {
      "cell_type": "code",
      "metadata": {
        "id": "i_JaQdgum9I3"
      },
      "source": [
        "s = '11'\r\n",
        "d = int(s)\r\n",
        "print(d)\r\n",
        "\r\n",
        "b = int(s, 2)\r\n",
        "print(b)"
      ],
      "execution_count": null,
      "outputs": []
    },
    {
      "cell_type": "markdown",
      "metadata": {
        "id": "4HztwcMKnDOL"
      },
      "source": [
        "1.2 부동소수점"
      ]
    },
    {
      "cell_type": "code",
      "metadata": {
        "id": "DCAHWZsSnKAF"
      },
      "source": [
        "print(0.2 * 3 == 0.6)\r\n",
        "\r\n",
        "print(1.2 - 0.2 == 1.0)\r\n",
        "\r\n",
        "print(1.2 - 0.1 == 1.1)\r\n",
        "\r\n",
        "print(0.1 * 0.1 == 0.01)"
      ],
      "execution_count": null,
      "outputs": []
    },
    {
      "cell_type": "code",
      "metadata": {
        "id": "qDQdZdDlnYYs"
      },
      "source": [
        "divmod(45,6)"
      ],
      "execution_count": null,
      "outputs": []
    },
    {
      "cell_type": "code",
      "metadata": {
        "id": "taJr35uXnkhG"
      },
      "source": [
        "print(round(113.866, -1))\r\n",
        "\r\n",
        "print(round(113.866, 2))\r\n",
        "\r\n",
        "2.75.as_integer_ratio()"
      ],
      "execution_count": null,
      "outputs": []
    },
    {
      "cell_type": "markdown",
      "metadata": {
        "id": "lOBMMkdxnyL-"
      },
      "source": [
        "1.3 복소수\r\n",
        "######복소수를 사용하려면 cmath 모듈을 임포트해야 한다."
      ]
    },
    {
      "cell_type": "markdown",
      "metadata": {
        "id": "xLrshJcnn7dM"
      },
      "source": [
        "1.4 fraction 모듈"
      ]
    },
    {
      "cell_type": "code",
      "metadata": {
        "id": "K9opDEmkn-9r"
      },
      "source": [
        "# 파이썬에서 분수를 다루려면 fraction 모듈을 사용한다\r\n",
        "from fractions import Fraction\r\n",
        "\r\n",
        "def rounding_floats(number1, places):\r\n",
        "    return round(number1, places)\r\n",
        "\r\n",
        "def float_to_fractions(number):\r\n",
        "    return Fraction(*number.as_integer_ratio())\r\n",
        "\r\n",
        "def get_denominator(number1, number2):\r\n",
        "    \"\"\" 분모를 반환한다. \"\"\"\r\n",
        "    a = Fraction(number1, number2)\r\n",
        "    return a.denominator\r\n",
        "\r\n",
        "def get_numerator(number1, number2):\r\n",
        "    \"분자를 반환한다.\"\r\n",
        "    a = Fraction(number1, number2)\r\n",
        "    return a.numerator\r\n",
        "\r\n",
        "def test_testing_floats():\r\n",
        "    number1 = 1.25\r\n",
        "    number2 = 1\r\n",
        "    number3 = -1\r\n",
        "    number4 = 5/4\r\n",
        "    number6 = 6\r\n",
        "    assert(rounding_floats(number1, number2) == 1.2)\r\n",
        "    assert(rounding_floats(number1*10, number3) == 10)\r\n",
        "    assert(float_to_fractions(number1) == number4)\r\n",
        "    assert(get_denominator(number2, number6) == number6)\r\n",
        "    assert(get_numerator(number2, number6) == number2)\r\n",
        "    print(\"테스트 통과!\")\r\n",
        "\r\n",
        "if __name__ == \"__main__\":\r\n",
        "    test_testing_floats()"
      ],
      "execution_count": null,
      "outputs": []
    },
    {
      "cell_type": "markdown",
      "metadata": {
        "id": "JIaS-MYxoSCm"
      },
      "source": [
        "1.5 decimal 모듈"
      ]
    },
    {
      "cell_type": "code",
      "metadata": {
        "id": "u0-RN7Gy5FZl"
      },
      "source": [
        "sum(0.1 for i in range(10)) == 1.0"
      ],
      "execution_count": null,
      "outputs": []
    },
    {
      "cell_type": "code",
      "metadata": {
        "id": "-WnXpNx6Q2r-"
      },
      "source": [
        "import decimal\r\n",
        "sum(Decimal(\"0.1\") for i in range(10)) == 1.0"
      ],
      "execution_count": null,
      "outputs": []
    },
    {
      "cell_type": "markdown",
      "metadata": {
        "id": "iDXh9hrPoYd9"
      },
      "source": [
        "**1.6** 2진수, 8진수, 16진수"
      ]
    },
    {
      "cell_type": "code",
      "metadata": {
        "id": "VKUcdRcRsu0Z"
      },
      "source": [
        "bin(999) # 2진수\r\n",
        "oct(999) # 8진수\r\n",
        "hex(999) # 16진수"
      ],
      "execution_count": null,
      "outputs": []
    },
    {
      "cell_type": "markdown",
      "metadata": {
        "id": "QHpfok4oolEd"
      },
      "source": [
        "1.7 연습문제"
      ]
    },
    {
      "cell_type": "code",
      "metadata": {
        "id": "GVaEDPU4tL73"
      },
      "source": [
        "# 다른 진법의 숫자를 10진수로 변환하는 함수 (2 <= base <= 10)\r\n",
        "def convert_to_decimal(number, base):\r\n",
        "    multiplier, result = 1, 0\r\n",
        "    while number > 0:\r\n",
        "        result += number % 10 * multiplier\r\n",
        "        multiplier *= base\r\n",
        "        number = number // 10\r\n",
        "    return result\r\n",
        "\r\n",
        "def test_convert_to_decimal():\r\n",
        "    number, base = 1001, 2\r\n",
        "    assert(convert_to_decimal(number, base) == 9)\r\n",
        "    print(\"테스트 통과!\")\r\n",
        "\r\n",
        "if __name__ == \"__main__\":\r\n",
        "    test_convert_to_decimal()"
      ],
      "execution_count": null,
      "outputs": []
    },
    {
      "cell_type": "code",
      "metadata": {
        "id": "T1F1Sqpt0JQT"
      },
      "source": [
        "# 10진수를 다른 진법의 숫자로 변환하는 함수 (2 <= base <= 10)\r\n",
        "def convert_from_decimal(number, base):\r\n",
        "    multiplier, result = 1, 0\r\n",
        "    while number > 0:\r\n",
        "        result += number % base * multiplier\r\n",
        "        multiplier *= 10\r\n",
        "        number = number // base\r\n",
        "    return result\r\n",
        "\r\n",
        "def test_convert_from_decimal():\r\n",
        "    number, base = 9, 2\r\n",
        "    assert(convert_from_decimal(number, base) == 1001)\r\n",
        "    print(\"테스트 통과!\")\r\n",
        "\r\n",
        "if __name__ == \"__main__\":\r\n",
        "    test_convert_from_decimal()"
      ],
      "execution_count": null,
      "outputs": []
    },
    {
      "cell_type": "code",
      "metadata": {
        "id": "Opu_huVu1gWp"
      },
      "source": [
        "def convert_from_decimal_larger_bases(number, base):\r\n",
        "    strings = \"0123456789ABCDEFGHIJ\"\r\n",
        "    result = \"\"\r\n",
        "    while number > 0:\r\n",
        "        digit = number % base\r\n",
        "        result = strings[digit] + result\r\n",
        "        number = number // base\r\n",
        "    return result\r\n",
        "\r\n",
        "def test_convert_from_decimal_larger_bases():\r\n",
        "    number, base = 31, 16\r\n",
        "    assert(convert_from_decimal_larger_bases(number, base) == \"1F\")\r\n",
        "    print(\"테스트 통과!\")\r\n",
        "\r\n",
        "if __name__ == \"__main__\":\r\n",
        "    test_convert_from_decimal_larger_bases()"
      ],
      "execution_count": null,
      "outputs": []
    },
    {
      "cell_type": "code",
      "metadata": {
        "id": "4WNFVPOo3FpG"
      },
      "source": [
        "def convert_dec_to_any_base_rec(number, base):\r\n",
        "    convertString = \"0123456789ABCDEF\"\r\n",
        "    if number < base:\r\n",
        "        return convertString[number]\r\n",
        "    else:\r\n",
        "        return convert_dec_to_any_base_rec(number // base, base) + convertString[number % base]\r\n",
        "\r\n",
        "def test_convert_dec_to_any_base_rec():\r\n",
        "    number = 9\r\n",
        "    base = 2\r\n",
        "    assert(convert_dec_to_any_base_rec(number, base) == \"1001\")\r\n",
        "    print(\"테스트 통과!\")\r\n",
        "\r\n",
        "if __name__ == \"__main__\":\r\n",
        "    test_convert_dec_to_any_base_rec()"
      ],
      "execution_count": null,
      "outputs": []
    },
    {
      "cell_type": "code",
      "metadata": {
        "id": "6EQ6yYMY43DE"
      },
      "source": [
        "# 최대공약수\r\n",
        "def finding_gcd(a, b):\r\n",
        "    while(b != 0):\r\n",
        "        result = b\r\n",
        "        a, b = b, a % b\r\n",
        "    return result\r\n",
        "\r\n",
        "def test_finding_gcd():\r\n",
        "    number1 = 21\r\n",
        "    number2 = 12\r\n",
        "    assert(finding_gcd(number1, number2) == 3)\r\n",
        "    print(\"테스트 통과!\")\r\n",
        "\r\n",
        "if __name__ == \"__main__\":\r\n",
        "    test_finding_gcd()"
      ],
      "execution_count": null,
      "outputs": []
    },
    {
      "cell_type": "code",
      "metadata": {
        "id": "REX3qiGG6DFN"
      },
      "source": [
        "# random 모듈\r\n",
        "import random\r\n",
        "\r\n",
        "def testing_random():\r\n",
        "    \"\"\" random 모듈 테스트 \"\"\"\r\n",
        "    values = [1, 2, 3, 4]\r\n",
        "    print(random.choice(values))\r\n",
        "    print(random.choice(values))\r\n",
        "    print(random.choice(values))\r\n",
        "    print(random.sample(values, 2))\r\n",
        "    print(random.sample(values, 3))\r\n",
        "    \r\n",
        "    \"\"\" values 리스트를 섞는다 \"\"\"\r\n",
        "    random.shuffle(values)\r\n",
        "    print(values)\r\n",
        "\r\n",
        "    \"\"\" 0~10의 임의의 정수를 생성한다 \"\"\"\r\n",
        "    print(random.randint(0, 10))\r\n",
        "    print(random.randint(0, 10))\r\n",
        "\r\n",
        "if __name__ == \"__main__\":\r\n",
        "    testing_random()"
      ],
      "execution_count": null,
      "outputs": []
    },
    {
      "cell_type": "code",
      "metadata": {
        "id": "X-jnGlUX7yVA"
      },
      "source": [
        "# 피보나치 수열\r\n",
        "import math\r\n",
        "\r\n",
        "def find_fibonacci_seq_iter(n): # 반복문 사용\r\n",
        "    if n < 2: return n\r\n",
        "    a, b = 0, 1\r\n",
        "    for i in range(n):\r\n",
        "        a, b = b, a + b\r\n",
        "    return a\r\n",
        "\r\n",
        "def find_fibonacci_seq_rec(n): # 재귀 호출 사용\r\n",
        "    if n < 2: return n\r\n",
        "    return find_fibonacci_seq_rec(n - 1) + find_fibonacci_seq_rec(n -2)\r\n",
        "\r\n",
        "def find_fibonacci_seq_form(n): # 수식 사용\r\n",
        "    sq5 = math.sqrt(5)\r\n",
        "    phi =(1 + sq5) / 2\r\n",
        "    return int(math.floor(phi ** n / sq5))\r\n",
        "\r\n",
        "def test_find_fib():\r\n",
        "    n = 10\r\n",
        "    assert(find_fibonacci_seq_rec(n) == 55)\r\n",
        "    assert(find_fibonacci_seq_iter(n) == 55)\r\n",
        "    assert(find_fibonacci_seq_form(n) == 55)\r\n",
        "    print(\"테스트 통과!\")\r\n",
        "\r\n",
        "if __name__ == \"__main__\":\r\n",
        "    test_find_fib()"
      ],
      "execution_count": null,
      "outputs": []
    },
    {
      "cell_type": "code",
      "metadata": {
        "id": "dqQFHnRR73wm"
      },
      "source": [
        "def fib_generator():\r\n",
        "    a, b = 0, 1\r\n",
        "    while True:\r\n",
        "        yield b\r\n",
        "        a, b = b, a+b\r\n",
        "\r\n",
        "if __name__ == \"__main__\":\r\n",
        "    fg = fib_generator()\r\n",
        "    for _ in range(10):\r\n",
        "        print(next(fg), end=\" \")"
      ],
      "execution_count": null,
      "outputs": []
    },
    {
      "cell_type": "code",
      "metadata": {
        "id": "zbPSEMEcZJh4"
      },
      "source": [
        ""
      ],
      "execution_count": null,
      "outputs": []
    },
    {
      "cell_type": "code",
      "metadata": {
        "id": "3yeZL1E--qtl"
      },
      "source": [
        "# 소수\r\n",
        "import math\r\n",
        "import random\r\n",
        "\r\n",
        "def finding_prime(number):\r\n",
        "    num = abs(number)\r\n",
        "    if num < 4 : return True\r\n",
        "    for x in range(2, num):\r\n",
        "        if num % x == 0:\r\n",
        "            return False\r\n",
        "    return True\r\n",
        "\r\n",
        "def finding_prime_sqrt(number):\r\n",
        "    num = abs(number)\r\n",
        "    if num < 4 : return True\r\n",
        "    for x in range(2, int(math.sqrt(num)) + 1):\r\n",
        "        if number % x == 0:\r\n",
        "            return False\r\n",
        "    return True\r\n",
        "\r\n",
        "def finding_prime_fermat(number):\r\n",
        "    if number <= 102:\r\n",
        "        for a in range(2, number):\r\n",
        "            if pow(a, number-1, number) != 1:\r\n",
        "                return False\r\n",
        "        return True\r\n",
        "    else:\r\n",
        "        for i in range(100):\r\n",
        "            a = random.randint(2, number - 1)\r\n",
        "            if pow(a, number - 1, number) != 1:\r\n",
        "                return False\r\n",
        "        return True\r\n",
        "\r\n",
        "def test_finding_prime():\r\n",
        "    number1 = 17\r\n",
        "    number2 = 20\r\n",
        "    assert(finding_prime(number1) is True)\r\n",
        "    assert(finding_prime(number2) is False)\r\n",
        "    assert(finding_prime_sqrt(number1) is True)\r\n",
        "    assert(finding_prime_sqrt(number2) is False)\r\n",
        "    assert(finding_prime_fermat(number1) is True)\r\n",
        "    assert(finding_prime_fermat(number2) is False)\r\n",
        "    print(\"테스트 통과!\")\r\n",
        "\r\n",
        "if __name__ ==\"__main__\":\r\n",
        "    test_finding_prime()"
      ],
      "execution_count": null,
      "outputs": []
    },
    {
      "cell_type": "code",
      "metadata": {
        "id": "TX9XmtW8BF3V"
      },
      "source": [
        "# random 모듈을 사용하여 n비트 소수를 생성하는 함수\r\n",
        "import math\r\n",
        "import random\r\n",
        "import sys\r\n",
        "\r\n",
        "def finding_prime_sqrt(number):\r\n",
        "    num = abs(number)\r\n",
        "    if num < 4 :\r\n",
        "        return True\r\n",
        "    for x in range(2, int(math.sqrt(num)) + 1):\r\n",
        "        if number % x == 0:\r\n",
        "            return False\r\n",
        "    return True\r\n",
        "\r\n",
        "def generate_prime(number=3):\r\n",
        "    while 1:\r\n",
        "        p = random.randint(pow(2, number-2), pow(2, number-1)-1)\r\n",
        "        p = 2 * p + 1\r\n",
        "        if finding_prime_sqrt(p):\r\n",
        "            return p\r\n",
        "\r\n",
        "if __name__ == \"__main__\":\r\n",
        "    if len(sys.argv) < 2:\r\n",
        "        print(\"Usage: generate_prime.py number\")\r\n",
        "        sys.exit()\r\n",
        "    else:\r\n",
        "        number = int(sys.argv[1])\r\n",
        "        print(generate_prime(number))"
      ],
      "execution_count": null,
      "outputs": []
    },
    {
      "cell_type": "markdown",
      "metadata": {
        "id": "DVelTSrFow8c"
      },
      "source": [
        "1.8 넘파이 패키지"
      ]
    },
    {
      "cell_type": "code",
      "metadata": {
        "id": "MOKXqekXBmF6"
      },
      "source": [
        "import numpy as np\r\n",
        "\r\n",
        "def testing_numpy():\r\n",
        "    \"\"\" tests many features of numpy \"\"\"\r\n",
        "    ax = np.array([1,2,3])\r\n",
        "    ay = np.array([3,4,5])\r\n",
        "    print(ax)\r\n",
        "    print(ax*2)\r\n",
        "    print(ax+10)\r\n",
        "    print(np.sqrt(ax))\r\n",
        "    print(np.cos(ax))\r\n",
        "    print(ax-ay)\r\n",
        "    print(np.where(ax<2, ax, 10))\r\n",
        "\r\n",
        "    m = np.matrix([ax, ay, ax])\r\n",
        "    print(m)\r\n",
        "    print(m.T)\r\n",
        "\r\n",
        "    grid1 = np.zeros(shape=(10,10), dtype=float)\r\n",
        "    grid2 = np.ones(shape=(10,10), dtype=float)\r\n",
        "    print(grid1)\r\n",
        "    print(grid2)\r\n",
        "    print(grid1[1]+10)\r\n",
        "    print(grid2[:,2]*2)\r\n",
        "\r\n",
        "if __name__ == \"__main__\":\r\n",
        "    testing_numpy()"
      ],
      "execution_count": null,
      "outputs": []
    },
    {
      "cell_type": "code",
      "metadata": {
        "id": "G_V7C1csEvdE"
      },
      "source": [
        "import numpy\r\n",
        "import time\r\n",
        "\r\n",
        "def trad_version():\r\n",
        "    t1 = time.time()\r\n",
        "    X = range(10000000)\r\n",
        "    Y = range(10000000)\r\n",
        "    Z = []\r\n",
        "    for i in range(len(X)):\r\n",
        "        Z.append(X[i] + Y[i])\r\n",
        "    return time.time() - t1\r\n",
        "\r\n",
        "def numpy_version():\r\n",
        "    t1 = time.time()\r\n",
        "    X = numpy.arange(10000000)\r\n",
        "    Y = numpy.arange(10000000)\r\n",
        "    Z = X + Y\r\n",
        "    return time.time() - t1\r\n",
        "\r\n",
        "if __name__ == \"__main__\":\r\n",
        "    print(trad_version())\r\n",
        "    print(numpy_version())"
      ],
      "execution_count": null,
      "outputs": []
    }
  ]
}