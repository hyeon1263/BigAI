{
  "nbformat": 4,
  "nbformat_minor": 0,
  "metadata": {
    "colab": {
      "name": "CHAPTER_03",
      "private_outputs": true,
      "provenance": [],
      "collapsed_sections": []
    },
    "kernelspec": {
      "name": "python3",
      "display_name": "Python 3"
    }
  },
  "cells": [
    {
      "cell_type": "markdown",
      "metadata": {
        "id": "G0n9KVe1yoVs"
      },
      "source": [
        "# CHAPTER 03\r\n",
        "##컬렉션 자료구조"
      ]
    },
    {
      "cell_type": "markdown",
      "metadata": {
        "id": "UvOLweMqzJdA"
      },
      "source": [
        "컬렉션 자료구조 = 데이터를 서로 연관시키지 않고 모아두는 컨테이너(container)"
      ]
    },
    {
      "cell_type": "markdown",
      "metadata": {
        "id": "h53Tns0tzd44"
      },
      "source": [
        "3.1 셋 (set) :\r\n",
        "######반복 가능하고, 가변적이며, 중복 요소가 없고, 정렬되지 않은 컬렉션 데이터 타입"
      ]
    },
    {
      "cell_type": "code",
      "metadata": {
        "id": "k7nX6RNMyYFW"
      },
      "source": [
        "dir(set())"
      ],
      "execution_count": null,
      "outputs": []
    },
    {
      "cell_type": "code",
      "metadata": {
        "id": "g4mrLo1a0ZRg"
      },
      "source": [
        "dir(frozenset()) # frozenset : 불변 객체"
      ],
      "execution_count": null,
      "outputs": []
    },
    {
      "cell_type": "code",
      "metadata": {
        "id": "CgafqmBk0pcl"
      },
      "source": [
        "fs = frozenset((1,2,3))\r\n",
        "2 in fs"
      ],
      "execution_count": null,
      "outputs": []
    },
    {
      "cell_type": "code",
      "metadata": {
        "id": "K03NNi8L073H"
      },
      "source": [
        "people = {\"버피\",\"에인절\",\"자일스\"}\r\n",
        "people.add(\"윌로\") # A.add(x): x가 A에 없으면 추가\r\n",
        "print(people)\r\n",
        "\r\n",
        "people.update({\"로미오\", \"줄리엣\", \"에인절\"})\r\n",
        "print(people)\r\n",
        "\r\n",
        "people |= {\"리키\",\"유진\"}\r\n",
        "people\r\n",
        "        # update 또는 '|='연산자: 합집합 개념"
      ],
      "execution_count": null,
      "outputs": []
    },
    {
      "cell_type": "code",
      "metadata": {
        "id": "nJUVnQuk1_qD"
      },
      "source": [
        "people = {\"버피\",\"에인절\",\"자일스\"}\r\n",
        "print(people.union({\"로미오\",\"줄리엣\"})) # A.union() 또는 '|'연산자: A의 복사본을 반환 (update()메서드와 같음)\r\n",
        "print(people | {\"브라이언\"})\r\n",
        "people"
      ],
      "execution_count": null,
      "outputs": []
    },
    {
      "cell_type": "code",
      "metadata": {
        "id": "ZNAKq-1520EK"
      },
      "source": [
        "people = {\"버피\",\"에인절\",\"자일스\",\"이안\"}\r\n",
        "vampires = {\"에인절\",\"자일스\",\"윌로\"}\r\n",
        "people.intersection(vampires), people & vampires # A.intersection(B) 또는 '&'연산자: 교집합 개념 (복사본 반환)"
      ],
      "execution_count": null,
      "outputs": []
    },
    {
      "cell_type": "code",
      "metadata": {
        "id": "6OL_AJUE3VTH"
      },
      "source": [
        "people = {\"버피\",\"에인절\",\"자일스\",\"이안\"}\r\n",
        "vampires = {\"에인절\",\"자일스\",\"윌로\"}\r\n",
        "people.difference(vampires), people-vampires # A.difference(B) 또는 A-B : 차집합 개념 (복사본 반환)"
      ],
      "execution_count": null,
      "outputs": []
    },
    {
      "cell_type": "code",
      "metadata": {
        "id": "_ivVrKrg3m5v"
      },
      "source": [
        "people = {\"버피\",\"에인절\",\"자일스\"}\r\n",
        "people.clear() # A.clear(): A의 모든 항목을 제거\r\n",
        "people"
      ],
      "execution_count": null,
      "outputs": []
    },
    {
      "cell_type": "code",
      "metadata": {
        "id": "RVr-m48u4qSC"
      },
      "source": [
        "countries = {\"프랑스\",\"스페인\",\"영국\"}\r\n",
        "countries.discard(\"한국\")\r\n",
        "countries.remove(\"일본\") # remove(X) -> X가 집합에 없으면 오류발생, but discard(X)는 오류 안 남"
      ],
      "execution_count": null,
      "outputs": []
    },
    {
      "cell_type": "code",
      "metadata": {
        "id": "YX1zOOTu5Prj"
      },
      "source": [
        "countries = {\"프랑스\",\"스페인\",\"영국\"}\r\n",
        "countries.pop() # A.pop(): A에서 한 항목을 무작위로 제거 // A가 비어 있으면 오류발생"
      ],
      "execution_count": null,
      "outputs": []
    },
    {
      "cell_type": "code",
      "metadata": {
        "id": "zUmVoPE35wk9"
      },
      "source": [
        "def remove_dup(l1):\r\n",
        "    # 리스트의 중복된 항목을 제거한 후 반환\r\n",
        "    return list(set(l1))\r\n",
        "\r\n",
        "def intersection(l1,l2):\r\n",
        "    # 교집합의 결과를 반환\r\n",
        "    return list(set(l1) & set(l2))\r\n",
        "\r\n",
        "def union(l1,l2):\r\n",
        "    # 합집합의 결과를 반환\r\n",
        "    return list(set(l1) | set(l2))\r\n",
        "\r\n",
        "def test_sets_operations_with_lists():\r\n",
        "    l1 = [1,2,3,4,5,5,9,11,11,15]\r\n",
        "    l2 = [4,5,6,7,8]\r\n",
        "    l3 = []\r\n",
        "    assert(remove_dup(l1)) == [1,2,3,4,5,9,11,15]\r\n",
        "    assert(intersection(l1,l2) == [4,5])\r\n",
        "    assert(union(l1,l2) == [1,2,3,4,5,6,7,8,9,11,15])\r\n",
        "    assert(remove_dup(l3) == [])\r\n",
        "    assert(intersection(l3,l2) == l3)\r\n",
        "    assert(sorted(union(l3,l2)) == sorted(l2))\r\n",
        "    print(\"테스트 통과!\")\r\n",
        "\r\n",
        "if __name__ == \"__main__\":\r\n",
        "    test_sets_operations_with_lists()  "
      ],
      "execution_count": null,
      "outputs": []
    },
    {
      "cell_type": "code",
      "metadata": {
        "id": "opR93S2D7OQv"
      },
      "source": [
        "def set_operations_with_dict():\r\n",
        "    pairs = [(\"a\",1),(\"b\",2),(\"c\",3)]\r\n",
        "    d1 = dict(pairs)\r\n",
        "    print(\"딕셔너리1\\t: {0}\".format(d1))\r\n",
        "\r\n",
        "    d2 = {\"a\":1, \"c\":2, \"d\":3, \"e\":4}\r\n",
        "    print(\"딕셔너리2\\t: {0}\".format(d2))\r\n",
        "    \r\n",
        "    intersection = d1.keys() & d2.keys()\r\n",
        "    print(\"d1∩d2 (키)\\t: {0}\".format(intersection))\r\n",
        "\r\n",
        "    intersection_items = d1.items() & d2.items()\r\n",
        "    print(\"d1∩d2 (키,값)\\t: {0}\".format(intersection_items))\r\n",
        "\r\n",
        "    subtraction1 = d1.keys() - d2.keys()\r\n",
        "    print(\"d1-d2 (키)\\t: {0}\".format(subtraction1))\r\n",
        "\r\n",
        "    subtraction2 = d2.keys() & d1.keys()\r\n",
        "    print(\"d2-d1 (키)\\t: {0}\".format(subtraction2))\r\n",
        "\r\n",
        "    subtraction_items = d1.items() - d2.items()\r\n",
        "    print(\"d1-d2 (키,값)\\t: {0}\".format(subtraction_items))\r\n",
        "\r\n",
        "    # 딕셔너리의 특정 키를 제외한다.\r\n",
        "    d3 = {key: d2[key] for key in d2.keys() - {\"c\",\"d\"}}\r\n",
        "    print(\"d2 - {{c,d}}\\t: {0}\".format(d3))\r\n",
        "\r\n",
        "if __name__ == \"__main__\":\r\n",
        "    set_operations_with_dict()"
      ],
      "execution_count": null,
      "outputs": []
    },
    {
      "cell_type": "code",
      "metadata": {
        "id": "Uuw37AMttHtH"
      },
      "source": [
        "d = {'a':1, 'b':2}\r\n",
        "d.items()"
      ],
      "execution_count": null,
      "outputs": []
    },
    {
      "cell_type": "markdown",
      "metadata": {
        "id": "M24WWT93AmAG"
      },
      "source": [
        "####3.2 딕셔너리\r\n",
        "######매핑: 키-값이고, 반복 가능하며, 가변객체이며, 인덱스 위치 사용불가 (슬라이스 불가)"
      ]
    },
    {
      "cell_type": "code",
      "metadata": {
        "id": "vOayqXfsAYss"
      },
      "source": [
        "# 해쉬 함수 : 특정 객체에 해당하는 임의의 정수 값을 상수 시간 내에 계산한다.\r\n",
        "hash('hello')"
      ],
      "execution_count": null,
      "outputs": []
    },
    {
      "cell_type": "code",
      "metadata": {
        "id": "h_v_00eGLi0q"
      },
      "source": [
        "tarantino = {}\r\n",
        "tarantino['name'] = '쿠엔틴 타란티노'\r\n",
        "tarantino['job'] = '감독'\r\n",
        "print(tarantino)\r\n",
        "\r\n",
        "sunnydale = dict({\"name\":\"버피\", \"age\":16, \"hobby\":\"게임\"})\r\n",
        "print(sunnydale)\r\n",
        "\r\n",
        "sunnydale = dict(name=\"자일스\", age=45, hobby=\"영화감상\")\r\n",
        "print(sunnydale)\r\n",
        "\r\n",
        "sunnydale = dict([(\"name\",\"윌로\"),(\"age\",15),(\"hobby\",\"개발\")])\r\n",
        "print(sunnydale)"
      ],
      "execution_count": null,
      "outputs": []
    },
    {
      "cell_type": "code",
      "metadata": {
        "id": "0phbw3KJOidA"
      },
      "source": [
        "def usual_dict(dict_data):\r\n",
        "    # dict[key] 사용\r\n",
        "    newdata = {}\r\n",
        "    for k, v in dict_data:\r\n",
        "        if k in newdata:\r\n",
        "            newdata[k].append(v)\r\n",
        "        else:\r\n",
        "            newdata[k] = [v]\r\n",
        "    return newdata\r\n",
        "\r\n",
        "def setdefault_dict(dict_data):\r\n",
        "    # setdefault() 메서드 사용\r\n",
        "    newdata = {}\r\n",
        "    for k, v in dict_data:\r\n",
        "        newdata.setdefault(k, []).append(v)\r\n",
        "    return newdata\r\n",
        "\r\n",
        "def test_setdef():\r\n",
        "    dict_data = (('key1', 'value1'),\r\n",
        "                 ('key1', 'value2'),\r\n",
        "                 ('key2', 'value3'),\r\n",
        "                 ('key2', 'value4'),\r\n",
        "                 ('key2', 'value5'))\r\n",
        "    print(usual_dict(dict_data))\r\n",
        "    print(setdefault_dict(dict_data))\r\n",
        "\r\n",
        "if __name__ == \"__main__\":\r\n",
        "    test_setdef()"
      ],
      "execution_count": null,
      "outputs": []
    },
    {
      "cell_type": "code",
      "metadata": {
        "id": "bmGz8vFfbdqo"
      },
      "source": [
        "d = {'a':1, 'b':2}\r\n",
        "d.update({'b':10})  # A.update(B): A에 B의 키가 있다면, B의 (키,값)으로 갱신 // 없다면 B의 (키,값)을 A에 추가\r\n",
        "print(d)\r\n",
        "\r\n",
        "d.update({'c':100})\r\n",
        "d"
      ],
      "execution_count": null,
      "outputs": []
    },
    {
      "cell_type": "code",
      "metadata": {
        "id": "iN60yF3pb7Kj"
      },
      "source": [
        "sunnydale = dict(name='잰더', age=17, hobby='게임')\r\n",
        "sunnydale.get('hobby'), sunnydale['age'] # get(X): X의 value를 반환, 없다면 반환X"
      ],
      "execution_count": null,
      "outputs": []
    },
    {
      "cell_type": "code",
      "metadata": {
        "id": "L7YKJtkMcfOL"
      },
      "source": [
        "sunnydale = dict(name='잰더', age=17, hobby='게임')\r\n",
        "print(sunnydale.items())\r\n",
        "\r\n",
        "print(sunnydale.values())\r\n",
        "\r\n",
        "print(sunnydale.keys())\r\n",
        "\r\n",
        "sunnydale_copy = sunnydale.items()\r\n",
        "sunnydale_copy['address'] = '서울' # d.items()는 불변객체"
      ],
      "execution_count": null,
      "outputs": []
    },
    {
      "cell_type": "code",
      "metadata": {
        "id": "hiidYJAwdU4U"
      },
      "source": [
        "sunnydale = dict(name='잰더', age=17, hobby='게임', address='서울')\r\n",
        "sunnydale.pop('age') # A.pop(key): A의 key 항목을 제거 후 그 key의 value 반환\r\n",
        "print(sunnydale)\r\n",
        "\r\n",
        "sunnydale.popitem() # A.popitem(): A의 (키와 값)을 제거 후, 그 항목을 반환\r\n",
        "sunnydale"
      ],
      "execution_count": null,
      "outputs": []
    },
    {
      "cell_type": "code",
      "metadata": {
        "id": "n2iMML33eTDC"
      },
      "source": [
        "sunnydale.clear() #A.clear(): A의 모든 항목 제거\r\n",
        "sunnydale"
      ],
      "execution_count": null,
      "outputs": []
    },
    {
      "cell_type": "markdown",
      "metadata": {
        "id": "2tp814KrekMi"
      },
      "source": [
        "####딕셔너리의 성능 측정\r\n",
        "######멤버십 연산에 대한 시간 복잡도 : 리스트=O(n) , 딕셔너리=O(1)이다."
      ]
    },
    {
      "cell_type": "code",
      "metadata": {
        "id": "COiFEmkkexsY"
      },
      "source": [
        "import timeit\r\n",
        "import random\r\n",
        "for i in range(10000, 1000001, 20000):\r\n",
        "    t = timeit.Timer(\"random.randrange(%d) in x\" %i,\r\n",
        "                     \"from __main__ import random, x\")\r\n",
        "    x = list(range(i)) # 리스트\r\n",
        "    lst_time = t.timeit(number=1000)\r\n",
        "    x = {j: None for j in range(i)} # 딕셔너리\r\n",
        "    d_time = t.timeit(number=1000)\r\n",
        "    print(\"%d,%10.3f,%10.3f\" % (i, lst_time, d_time))"
      ],
      "execution_count": null,
      "outputs": []
    },
    {
      "cell_type": "code",
      "metadata": {
        "id": "FaLmx5sAfr4S"
      },
      "source": [
        "d = dict(c=\"!\", b=\"world\", a=\"hello\")\r\n",
        "for key in sorted(d.keys()): # sorted()로 정렬 후 순회하여 출력\r\n",
        "    print(key, d[key])"
      ],
      "execution_count": null,
      "outputs": []
    },
    {
      "cell_type": "code",
      "metadata": {
        "id": "6Tbiwi4Pgd7E"
      },
      "source": [
        "def hello():\r\n",
        "    print('hello')\r\n",
        "\r\n",
        "def world():\r\n",
        "    print('world')\r\n",
        "\r\n",
        "action = 'h'\r\n",
        "# 일반적인 분기문\r\n",
        "if action == 'h':\r\n",
        "    hello()\r\n",
        "elif action == 'w':\r\n",
        "    world()\r\n",
        "\r\n",
        "# 딕셔너리를 사용한 분기 -> 효율적으로 분기 가능\r\n",
        "functions = dict(h=hello, w=world)\r\n",
        "functions[action]()"
      ],
      "execution_count": null,
      "outputs": []
    },
    {
      "cell_type": "markdown",
      "metadata": {
        "id": "5jSTf3CrZ6oR"
      },
      "source": [
        "####3.3 파이썬 컬렉션 데이터 타입"
      ]
    },
    {
      "cell_type": "code",
      "metadata": {
        "id": "s1iYKorlZwiF"
      },
      "source": [
        "from collections import defaultdict # collections 모듈: 다양한 딕셔너리 타입 제공\r\n",
        "\r\n",
        "def defaultdict_example():\r\n",
        "    pairs = {(\"a\",1),(\"b\",2),(\"c\",3)}\r\n",
        "\r\n",
        "    # 일반 딕셔너리\r\n",
        "    d1 = {}\r\n",
        "    for key, value in pairs:\r\n",
        "        if key not in d1:\r\n",
        "            d1[key] = []\r\n",
        "        d1[key].append(value)\r\n",
        "    print(d1)\r\n",
        "\r\n",
        "    # defaultdict\r\n",
        "    d2 = defaultdict(list)\r\n",
        "    for key, value in pairs:\r\n",
        "        d2[key].append(value)\r\n",
        "    print(d2)\r\n",
        "\r\n",
        "if __name__ == \"__main__\":\r\n",
        "    defaultdict_example()"
      ],
      "execution_count": null,
      "outputs": []
    },
    {
      "cell_type": "code",
      "metadata": {
        "id": "ozkrUHiKbbko"
      },
      "source": [
        "# 정렬된 딕셔너리\r\n",
        "from collections import OrderedDict # Python3.7이상부터는 OrderedDict 말고 표준 딕셔너리도 삽입 순서를 보존한다\r\n",
        "tasks = OrderedDict()\r\n",
        "tasks[8031] = \"백업\"\r\n",
        "tasks[4027] = \"이메일 스캔\"\r\n",
        "tasks[5733] = \"시스템 빌드\"\r\n",
        "tasks"
      ],
      "execution_count": null,
      "outputs": []
    },
    {
      "cell_type": "code",
      "metadata": {
        "id": "XZiEwmy-c9oL"
      },
      "source": [
        "from collections import OrderedDict\r\n",
        "\r\n",
        "def orderedDict_example():\r\n",
        "    pairs = [(\"c\",1),(\"b\",2),(\"a\",3)]\r\n",
        "\r\n",
        "    # 일반 딕셔너리\r\n",
        "    d1 = {}\r\n",
        "    for key, value in pairs:\r\n",
        "        if key not in d1:\r\n",
        "            d1[key] = []\r\n",
        "        d1[key].append(value)\r\n",
        "    for key in d1:\r\n",
        "        print(key, d1[key])\r\n",
        "\r\n",
        "    # OrderedDict\r\n",
        "    d2 = OrderedDict(pairs)\r\n",
        "    for key in d2:\r\n",
        "        print(key, d2[key])\r\n",
        "\r\n",
        "if __name__ == \"__main__\":\r\n",
        "    orderedDict_example()"
      ],
      "execution_count": null,
      "outputs": []
    },
    {
      "cell_type": "code",
      "metadata": {
        "id": "-XeIb_0wd1Yl"
      },
      "source": [
        "# 카운터 딕셔너리\r\n",
        "from collections import Counter\r\n",
        "\r\n",
        "def counter_example():\r\n",
        "    # 항목의 발생 횟수를 매핑하는 딕셔너리를 생성한다\r\n",
        "    seq1 = [1,2,3,5,1,2,5,5,2,5,1,4]\r\n",
        "    seq_counts = Counter(seq1)\r\n",
        "    print(seq_counts)\r\n",
        "\r\n",
        "    # 항목의 발생 횟수를 수동으로 갱신하거나, update() 메서드를 사용할 수 있다\r\n",
        "    seq2 = [1,2,3]\r\n",
        "    seq_counts.update(seq2) # [1,2,3] 을 하나씩 count\r\n",
        "    print(seq_counts)\r\n",
        "    seq3 = [1,4,3]\r\n",
        "    for key in seq3:\r\n",
        "        seq_counts[key] += 1 # [1,4,3]을 key로 하는 value를 1씩 +\r\n",
        "    print(seq_counts)\r\n",
        "\r\n",
        "    # a+b, a-b 같은 셋 연산을 사용할 수 있다\r\n",
        "    seq_counts_2 = Counter(seq3)\r\n",
        "    print(seq_counts_2)\r\n",
        "    print(seq_counts + seq_counts_2)\r\n",
        "    print(seq_counts - seq_counts_2)\r\n",
        "\r\n",
        "if __name__ == \"__main__\":\r\n",
        "    counter_example()"
      ],
      "execution_count": null,
      "outputs": []
    },
    {
      "cell_type": "code",
      "metadata": {
        "id": "O5bXdkmT2_JY"
      },
      "source": [
        "# 단어 횟수 세기\r\n",
        "from collections import Counter\r\n",
        "\r\n",
        "def find_top_N_recurring_words(seq, N): # seq안에 가장 많이 등장하는 단어를 N개 보여주는 함수\r\n",
        "    dcounter = Counter()\r\n",
        "    for word in seq.split():\r\n",
        "        dcounter[word] += 1\r\n",
        "    return dcounter.most_common(N)\r\n",
        "\r\n",
        "def test_find_top_N_recurring_words():\r\n",
        "    seq = \"버피 에인절 몬스터 잰더 윌로 버피 몬스터 슈퍼 버피 에인절\"\r\n",
        "    N = 3\r\n",
        "    assert(find_top_N_recurring_words(seq,N) == [(\"버피\",3),(\"에인절\",2),(\"몬스터\",2)])\r\n",
        "    print(\"테스트 통과!\")\r\n",
        "\r\n",
        "if __name__ == \"__main__\":\r\n",
        "    test_find_top_N_recurring_words()"
      ],
      "execution_count": null,
      "outputs": []
    },
    {
      "cell_type": "code",
      "metadata": {
        "id": "BMw848AB89W2"
      },
      "source": [
        "# 애너그램: 문장 또는 단어의 철자 순서를 바꾸는 놀이 / ex) 'asdf' == 'dsaf'\r\n",
        "from collections import Counter\r\n",
        "\r\n",
        "def is_anagram(s1,s2):\r\n",
        "    counter = Counter() # Counter() 객체 생성\r\n",
        "    for c in s1:\r\n",
        "        counter[c] += 1\r\n",
        "    for c in s2:\r\n",
        "        counter[c] -= 1\r\n",
        "    for i in counter.values():\r\n",
        "        if i:       # 0은 거짓, 그외의 숫자는 참\r\n",
        "            return False\r\n",
        "    return True     # 애너그램이 맞다\r\n",
        "\r\n",
        "def test_is_anagram():\r\n",
        "    s1 = 'marina'\r\n",
        "    s2 = 'aniram'\r\n",
        "    assert(is_anagram(s1,s2) is True)\r\n",
        "    s1 = 'google'\r\n",
        "    s2 = 'gouglo'\r\n",
        "    assert(is_anagram(s1,s2) is False)\r\n",
        "    print(\"테스트 통과!\")\r\n",
        "\r\n",
        "if __name__ == \"__main__\":\r\n",
        "    test_is_anagram()"
      ],
      "execution_count": null,
      "outputs": []
    },
    {
      "cell_type": "code",
      "metadata": {
        "id": "2rwrbkrjDYd-"
      },
      "source": [
        "import string\r\n",
        "\r\n",
        "def hash_func(astring): # string에 담긴 문자들의 모든 해쉬값을 더해주는 함수\r\n",
        "    s = 0\r\n",
        "    for one in astring:\r\n",
        "        if one in string.whitespace: # string.whitespace: 공백으로 간주하는 모든 ASCII 문자를 포함하는 문자열\r\n",
        "            continue\r\n",
        "        s = s + ord(one) # ord(): 문자를 ASCII코드로 바꿔주는 함수\r\n",
        "    return s\r\n",
        "\r\n",
        "def find_anagram_hash_function(word1, word2):\r\n",
        "    return hash_func(word1) == hash_func(word2)\r\n",
        "\r\n",
        "def test_find_anagram_hash_function():\r\n",
        "    word1 = 'buffy'\r\n",
        "    word2 = 'bffyu'\r\n",
        "    word3 = 'bffya'\r\n",
        "    assert(find_anagram_hash_function(word1, word2) is True)\r\n",
        "    assert(find_anagram_hash_function(word1, word3) is False)\r\n",
        "    print('테스트 통과!')\r\n",
        "\r\n",
        "if __name__ == \"__main__\":\r\n",
        "    test_find_anagram_hash_function()"
      ],
      "execution_count": null,
      "outputs": []
    },
    {
      "cell_type": "markdown",
      "metadata": {
        "id": "Ycx5Gk9HoEYM"
      },
      "source": [
        "일반 딕셔너리의 경우, 미리 삽입하지 않은 key를 호출하면 다음과 같이 에러가 난다."
      ]
    },
    {
      "cell_type": "code",
      "metadata": {
        "id": "IMyaPNTfdY51"
      },
      "source": [
        "# 주사위 합계 경로\r\n",
        "from collections import Counter, defaultdict # defaultdict(자료형): 기본값을 지정한 딕셔너리\r\n",
        "\r\n",
        "def find_dice_probabilities(S, n_faces=6):\r\n",
        "    if S > 2 * n_faces or S < 2:\r\n",
        "        return None\r\n",
        "\r\n",
        "    cdict = Counter()\r\n",
        "    ddict = defaultdict(list) # ddict를 리스트로 지정\r\n",
        "\r\n",
        "    # 두 주사위의 합을 모두 더해서 딕셔너리에 넣는다\r\n",
        "    for dice1 in range(1, n_faces+1):\r\n",
        "        for dice2 in range(1, n_faces+1):\r\n",
        "            t = [dice1, dice2]\r\n",
        "            cdict[dice1+dice2] += 1\r\n",
        "            ddict[dice1+dice2].append(t)\r\n",
        "\r\n",
        "    return [cdict[S],ddict[S]]\r\n",
        "\r\n",
        "def test_find_dice_probabilities():\r\n",
        "    n_faces = 6\r\n",
        "    S = 5\r\n",
        "    results = find_dice_probabilities(S, n_faces)\r\n",
        "    print(results)\r\n",
        "    assert(results[0] == len(results[1]))\r\n",
        "    print(\"테스트 통과!\")\r\n",
        "\r\n",
        "if __name__ == \"__main__\":\r\n",
        "    test_find_dice_probabilities()"
      ],
      "execution_count": null,
      "outputs": []
    },
    {
      "cell_type": "code",
      "metadata": {
        "id": "z_34PcVhqQCV"
      },
      "source": [
        "# 딕셔너리를 이용해 단어에서 중복되는 문자를 모두 찾아서 제거하는 함수\r\n",
        "import string\r\n",
        "\r\n",
        "def delete_unique_word(str1):\r\n",
        "    table_c = {key: 0 for key in string.ascii_lowercase} # key자리에 ascii_lowercase가 들어감 (모든 소문자를 string형태로) \r\n",
        "    for i in str1:\r\n",
        "        table_c[i] += 1\r\n",
        "    for key, value in table_c.items():\r\n",
        "        if value > 1:\r\n",
        "            str1 = str1.replace(key, \"\") # 2 이상이면 없앤다\r\n",
        "    return str1\r\n",
        "\r\n",
        "def test_delete_unique_word():\r\n",
        "    str1 = \"google\"\r\n",
        "    assert(delete_unique_word(str1) == \"le\")\r\n",
        "    print(\"테스트 통과!\")\r\n",
        "\r\n",
        "if __name__ == \"__main__\":\r\n",
        "    test_delete_unique_word()"
      ],
      "execution_count": null,
      "outputs": []
    }
  ]
}