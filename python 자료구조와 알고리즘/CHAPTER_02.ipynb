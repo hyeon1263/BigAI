{
  "nbformat": 4,
  "nbformat_minor": 0,
  "metadata": {
    "colab": {
      "name": "CHAPTER_02",
      "private_outputs": true,
      "provenance": [],
      "collapsed_sections": []
    },
    "kernelspec": {
      "name": "python3",
      "display_name": "Python 3"
    }
  },
  "cells": [
    {
      "cell_type": "markdown",
      "metadata": {
        "id": "JQvq_5d6wo0r"
      },
      "source": [
        "# CHAPTER 02\r\n",
        "###내장 시퀀스 타입"
      ]
    },
    {
      "cell_type": "markdown",
      "metadata": {
        "id": "j1hq_4YwwwxD"
      },
      "source": [
        "2.1 깊은 복사와 슬라이싱 연산\r\n",
        "######파이썬에서 튜플, 문자열, 바이트는 불변 객체 타입이며, 리스트와 바이트 배열은 가변 객체 타입니다."
      ]
    },
    {
      "cell_type": "code",
      "metadata": {
        "id": "J37xO_mckk6K"
      },
      "source": [
        "# 리스트(list)의 깊은복사 예제\r\n",
        "myList = [1, 2, 3, 4]\r\n",
        "newList = myList[:]\r\n",
        "newList2 = list(myList)"
      ],
      "execution_count": null,
      "outputs": []
    },
    {
      "cell_type": "code",
      "metadata": {
        "id": "Syne28BKdEOz"
      },
      "source": [
        "# 셋(set)의 깊은복사 예제\r\n",
        "people = {\"버피\", \"에인절\", \"자일스\"}\r\n",
        "slayers = people.copy()\r\n",
        "slayers.discard(\"자일스\")\r\n",
        "slayers.remove(\"에인절\")\r\n",
        "slayers, people"
      ],
      "execution_count": null,
      "outputs": []
    },
    {
      "cell_type": "code",
      "metadata": {
        "id": "h7RfajapdYsn"
      },
      "source": [
        "# 딕셔너리(dict)의 깊은복사 예제\r\n",
        "myDict = {\"안녕\": \"세상\"}\r\n",
        "newDict = myDict.copy()"
      ],
      "execution_count": null,
      "outputs": []
    },
    {
      "cell_type": "code",
      "metadata": {
        "id": "oB3LVCaffQIU"
      },
      "source": [
        "# 기타 객체의 깊은 복사 (copy모듈 사용)\r\n",
        "import copy\r\n",
        "my0bj = \"다른 어떤 객체\"\r\n",
        "new0bj = copy.copy(my0bj) # 얕은 복사 (shallow copy)\r\n",
        "new0bj2 = copy.deepcopy(my0bj) # 깊은 복사 (deep copy)"
      ],
      "execution_count": null,
      "outputs": []
    },
    {
      "cell_type": "code",
      "metadata": {
        "id": "W1QMcp4339lN"
      },
      "source": [
        "id(new0bj)== id(new0bj2)\r\n",
        "id(my0bj) == id(new0bj)"
      ],
      "execution_count": null,
      "outputs": []
    },
    {
      "cell_type": "markdown",
      "metadata": {
        "id": "Gt817HRtxSDn"
      },
      "source": [
        "2.2 문자열"
      ]
    },
    {
      "cell_type": "code",
      "metadata": {
        "id": "BlqehoKZg3Du"
      },
      "source": [
        "# 슬라이싱 연산자\r\n",
        "'''seq[시작:끝:스탭]'''\r\n",
        "\r\n",
        "# 유니코드 문자열\r\n",
        "u'잘가\\u0020세상 !'"
      ],
      "execution_count": null,
      "outputs": []
    },
    {
      "cell_type": "code",
      "metadata": {
        "id": "9I8H-sqoS_GQ"
      },
      "source": [
        "# 문자열 메서드\r\n",
        "slayer = [\"버피\", \"앤\", \"아스틴\"]\r\n",
        "print(\"-\".join(slayer))\r\n",
        "print(\" \".join(reversed(slayer)))\r\n",
        "print(\"{0} {1}\".format(\"안녕,\", \"파이썬\"))\r\n",
        "print(\"이름: {who}, 나이: {age}\".format(who=\"제임스\", age=17))"
      ],
      "execution_count": null,
      "outputs": []
    },
    {
      "cell_type": "code",
      "metadata": {
        "id": "Q8qtxTE6RZBU"
      },
      "source": [
        "import decimal\r\n",
        "\"{0} {0!s} {0!r} {0!a}\".format(decimal.Decimal(\"99.9\"))"
      ],
      "execution_count": null,
      "outputs": []
    },
    {
      "cell_type": "code",
      "metadata": {
        "id": "gsQDalUUTCxk"
      },
      "source": [
        "hero = \"버피\"\r\n",
        "number = 999\r\n",
        "\"{number}: {hero}\".format(**locals())"
      ],
      "execution_count": null,
      "outputs": []
    },
    {
      "cell_type": "code",
      "metadata": {
        "id": "06Ac2gZnTdd9"
      },
      "source": [
        "slayers = \"로미오\\n줄리엣\"\r\n",
        "slayers.splitlines() # 줄 바꿈 문자를 기준으로 리스트로 반환"
      ],
      "execution_count": null,
      "outputs": []
    },
    {
      "cell_type": "code",
      "metadata": {
        "id": "_sgmcOODUGYx"
      },
      "source": [
        "start = '안녕*세상*!'\r\n",
        "start.split('*', 1), start.rsplit('*',1)"
      ],
      "execution_count": null,
      "outputs": []
    },
    {
      "cell_type": "code",
      "metadata": {
        "id": "hQAVlcLLUcZ3"
      },
      "source": [
        "slayers = '로미오 & 줄리엣999'\r\n",
        "slayers.strip('999') # 문자열 앞뒤의 ('999')을 제거"
      ],
      "execution_count": null,
      "outputs": []
    },
    {
      "cell_type": "code",
      "metadata": {
        "id": "tQNVsTa1U0cu"
      },
      "source": [
        "# 한 파일에서 사용된 모든 단어를 알파벳순으로 출력, 각 단어가 등장한 횟수 출력\r\n",
        "import string\r\n",
        "import sys\r\n",
        "\r\n",
        "def count_unique_word():\r\n",
        "    words = {}\r\n",
        "    strip = string.whitespace + string.punctuation + string.digits + \"\\\"'\"\r\n",
        "    for filename in sys.argv[1:]:\r\n",
        "        with open(filename) as file:\r\n",
        "            for line in file:\r\n",
        "                for word in line.lower().split():\r\n",
        "                    word = word.strip(strip)\r\n",
        "                    if len(word) > 2:\r\n",
        "                        words[word] = words.get(word, 0) + 1\r\n",
        "    for word in sorted(words):\r\n",
        "        print(\"{0}: {1}번\".format(word, words[word]))\r\n",
        "\r\n",
        "if __name__ == \"__main__\":\r\n",
        "    count_unique_word()"
      ],
      "execution_count": null,
      "outputs": []
    },
    {
      "cell_type": "code",
      "metadata": {
        "id": "tFFHajyKGbPL"
      },
      "source": [
        "import sys\r\n",
        "print(len(sys.argv))"
      ],
      "execution_count": null,
      "outputs": []
    },
    {
      "cell_type": "code",
      "metadata": {
        "id": "sG2fyhIDZFnz"
      },
      "source": [
        "slayers = \"Buffy and Faith\"\r\n",
        "slayers.swapcase() # 대소문자 반전한 문자열의 복사본을 반환\r\n",
        "slayers.capitalize(), slayers.lower(), slayers.upper() # 문자열 첫 글자만 대문자로, 전체 문자열을 소문자로, 대문자로"
      ],
      "execution_count": null,
      "outputs": []
    },
    {
      "cell_type": "code",
      "metadata": {
        "id": "UBUJ647fZoVT"
      },
      "source": [
        "print(slayers.find('y'), slayers.find('k')) # 문자열에 'k'가 없으면 -1 반환\r\n",
        "slayers.index('a', 7, 13) # index('text', 시작, 끝), rindex : 오른쪽에서부터 find"
      ],
      "execution_count": null,
      "outputs": []
    },
    {
      "cell_type": "code",
      "metadata": {
        "id": "i5NL4atUZ8CQ"
      },
      "source": [
        "slayers.index('k') # 문자열에 'k'가 없으면 오류!"
      ],
      "execution_count": null,
      "outputs": []
    },
    {
      "cell_type": "code",
      "metadata": {
        "id": "FWvY-zflcnAX"
      },
      "source": [
        "slayer = 'Buffy is Buffy is Buffy'\r\n",
        "print(slayer.count('Buffy', 0, -1), slayer.count(\"Buffy\")) # count('text', 시작, 끝)\r\n",
        "slayer.replace('Buffy', 'who', 2)"
      ],
      "execution_count": null,
      "outputs": []
    },
    {
      "cell_type": "code",
      "metadata": {
        "id": "8dNJsVatcyDX"
      },
      "source": [
        "name = \"프레드\"\r\n",
        "f\"그의 이름은 {name!r}입니다.\", f\"그의 이름은 {repr(name)}입니다.\" # 특정 객체에 대하여 repr이 리턴한 문자열은‘파이썬으로 해당 객체를 만들 수 있게 해주는 공식적인 문자열’이다."
      ],
      "execution_count": null,
      "outputs": []
    },
    {
      "cell_type": "code",
      "metadata": {
        "id": "_MZUfLwzfRNo"
      },
      "source": [
        "import decimal\r\n",
        "width = 10\r\n",
        "precision = 4\r\n",
        "value = decimal.Decimal(\"12.34567\")\r\n",
        "f\"결과: {value: {width}.{precision}}\""
      ],
      "execution_count": null,
      "outputs": []
    },
    {
      "cell_type": "code",
      "metadata": {
        "id": "-wsEdZHFf2bf"
      },
      "source": [
        "from datetime import datetime\r\n",
        "today = datetime(year=2017, month=1, day=27)\r\n",
        "f\"{today:%B %d, %Y}\" # 날짜 포맷 지정 지정자(specifier) 사용\r\n",
        "number = 1024\r\n",
        "f\"{number:#0x}\" # 정수 포맷 지정자 사용 (16진수 표현)"
      ],
      "execution_count": null,
      "outputs": []
    },
    {
      "cell_type": "markdown",
      "metadata": {
        "id": "OeJNcp4oxbb6"
      },
      "source": [
        "2.3 튜플"
      ]
    },
    {
      "cell_type": "code",
      "metadata": {
        "id": "-ZSK65r5g9UM"
      },
      "source": [
        "# 튜플\r\n",
        "t1 = 1234, '안녕!'\r\n",
        "print(t1)\r\n",
        "t2 = t1, (1, 2, 3, 4, 5) # 중첩됨\r\n",
        "print(t2)\r\n",
        "t3 = 'hi',\r\n",
        "print(t3)"
      ],
      "execution_count": null,
      "outputs": []
    },
    {
      "cell_type": "code",
      "metadata": {
        "id": "LZeOzAXbiDXf"
      },
      "source": [
        "t = 1, 5, 7, 8, 9, 4, 1, 4\r\n",
        "t.count(4), t.index(4)"
      ],
      "execution_count": null,
      "outputs": []
    },
    {
      "cell_type": "code",
      "metadata": {
        "id": "xSeCpmROiq7n"
      },
      "source": [
        "x, *y = (1,2,3,4)\r\n",
        "print(x)\r\n",
        "print(y)\r\n",
        "*x, y = (1,2,3,4)\r\n",
        "print(x)\r\n",
        "print(y)"
      ],
      "execution_count": null,
      "outputs": []
    },
    {
      "cell_type": "code",
      "metadata": {
        "id": "ZTXOik5Fjrx9"
      },
      "source": [
        "# 네임드 튜플\r\n",
        "import collections\r\n",
        "Person = collections.namedtuple('Person', 'name age gender')\r\n",
        "\r\n",
        "''' == Person = collections.namedtuple('Person', 'name age gender')\r\n",
        "    == Person = collections.namedtuple('Person', 'name age gender')'''\r\n",
        "p = Person('아스틴', 30, '남자')\r\n",
        "p, p[0], p.age # 일반 튜플과 마찬가지로 네임드 튜플 또한 불변형이다"
      ],
      "execution_count": null,
      "outputs": []
    },
    {
      "cell_type": "markdown",
      "metadata": {
        "id": "sJId2Hgtxg_r"
      },
      "source": [
        "2.4 리스트"
      ]
    },
    {
      "cell_type": "code",
      "metadata": {
        "id": "O54-rkClC3gM"
      },
      "source": [
        "# 리스트\r\n",
        "q = [2, 3]\r\n",
        "p = [1, q, 4]\r\n",
        "p[1].append(\"버피\")\r\n",
        "print(p)"
      ],
      "execution_count": null,
      "outputs": []
    },
    {
      "cell_type": "markdown",
      "metadata": {
        "id": "3XktXiOWH001"
      },
      "source": [
        "어떤 요소(노드)에 직접 접근할 때 배열의 시간복잡도 = **O(1)** //// 연결 리스트는 시간복잡도 = **O(n)**"
      ]
    },
    {
      "cell_type": "markdown",
      "metadata": {
        "id": "TlN44R7OGEsb"
      },
      "source": [
        "연결 리스트에서 어떤 노드를 삽입할 때, 위치를 알면 --> 시간복잡도 = **O(1)** 이지만 //// 배열에서는 시간복잡도 = **O(n)**이다"
      ]
    },
    {
      "cell_type": "markdown",
      "metadata": {
        "id": "qoANwZKjIRSK"
      },
      "source": [
        "# ※ 연결 리스트의 리스트는 파이썬의 리스트와는 개념이 아예 다름!"
      ]
    },
    {
      "cell_type": "markdown",
      "metadata": {
        "id": "9Ev1i_XTIbR8"
      },
      "source": [
        "리스트 항목을 검색하거나 멤버십 테스트 in 등의 시간복잡도 = **O(n)**이다."
      ]
    },
    {
      "cell_type": "code",
      "metadata": {
        "id": "Bg9VwUb9G1gW"
      },
      "source": [
        "people = ['버피','페이스']\r\n",
        "people.append('자일스')\r\n",
        "\r\n",
        "people[len(people):] = ['젠더']\r\n",
        "people"
      ],
      "execution_count": null,
      "outputs": []
    },
    {
      "cell_type": "code",
      "metadata": {
        "id": "o6BLfLs-KP4U"
      },
      "source": [
        "people = ['버피','페이스']\r\n",
        "people.extend('자일스') # extend(c): 반복 가능한 모든 항목 c를 추가\r\n",
        "print(people)\r\n",
        "\r\n",
        "people += '윌로'\r\n",
        "people += [\"젠더\"]\r\n",
        "print(people)\r\n",
        "\r\n",
        "people[len(people):] = \"아스틴\"\r\n",
        "people"
      ],
      "execution_count": null,
      "outputs": []
    },
    {
      "cell_type": "code",
      "metadata": {
        "id": "KJYsn4V_LCZ0"
      },
      "source": [
        "people = ['버피', '페이스']\r\n",
        "people.insert(1, '잰더')\r\n",
        "people"
      ],
      "execution_count": null,
      "outputs": []
    },
    {
      "cell_type": "code",
      "metadata": {
        "id": "dqeb5vs5LXyI"
      },
      "source": [
        "people = ['버피', '페이스']\r\n",
        "people.remove('버피')\r\n",
        "people"
      ],
      "execution_count": null,
      "outputs": []
    },
    {
      "cell_type": "code",
      "metadata": {
        "id": "CiZObdzPLjCf"
      },
      "source": [
        "people.remove('버피')"
      ],
      "execution_count": null,
      "outputs": []
    },
    {
      "cell_type": "code",
      "metadata": {
        "id": "Gvuc8p-SL1F3"
      },
      "source": [
        "people = ['버피','페이스','아스틴']\r\n",
        "people.pop(1)\r\n",
        "print(people)\r\n",
        "people.pop()\r\n",
        "people"
      ],
      "execution_count": null,
      "outputs": []
    },
    {
      "cell_type": "code",
      "metadata": {
        "id": "dxlNYbrpMA3p"
      },
      "source": [
        "a = [-1, 4, 5, 7, 10]\r\n",
        "\r\n",
        "del a[0]\r\n",
        "print(a)\r\n",
        "\r\n",
        "del a[2:]\r\n",
        "print(a)\r\n",
        "\r\n",
        "del a # a자체를 삭제 --> a 출력 시 오류"
      ],
      "execution_count": null,
      "outputs": []
    },
    {
      "cell_type": "code",
      "metadata": {
        "id": "rY4CV27mMe5U"
      },
      "source": [
        "people = ['버피','페이스','아스틴']\r\n",
        "people.index('버피'), people.count('아스틴')"
      ],
      "execution_count": null,
      "outputs": []
    },
    {
      "cell_type": "code",
      "metadata": {
        "id": "D3Qij9OEJE4n"
      },
      "source": [
        "people = ['잰더', '페이스', '버피']\r\n",
        "people.sort() # default = 오름차순, ㄱㄴㄷ순 ,abc순\r\n",
        "print(people)\r\n",
        "\r\n",
        "people.sort(reverse=True)\r\n",
        "people"
      ],
      "execution_count": null,
      "outputs": []
    },
    {
      "cell_type": "code",
      "metadata": {
        "id": "oj0G-ywzKVkt"
      },
      "source": [
        "# 날짜를 정렬하는 코드\r\n",
        "import time\r\n",
        "timestamp = [\r\n",
        "             \"2018-12-12 01:17:31\",\r\n",
        "             \"2018-12-12 02:17:28\",\r\n",
        "             \"2018-12-12 06:39:26\",\r\n",
        "             \"2018-11-25 07:30:35\",\r\n",
        "             \"2018-11-25 11:32:33\",\r\n",
        "             \"2018-11-25 12:35:48\"\r\n",
        "]\r\n",
        "def time_format(t):\r\n",
        "    return time.strptime(t, '%Y-%m-%d %H:%M:%S')[0:6]\r\n",
        "\r\n",
        "timestamp.sort(key=time_format, reverse=True) # 날짜를 최신순으로 정렬\r\n",
        "print(timestamp)\r\n",
        "\r\n",
        "timestamp.sort(key=lambda x: time.strptime(x, '%Y-%m-%d %H:%M:%S')[0:6], reverse=True) # 함수를 안쓰고;\r\n",
        "print(timestamp)"
      ],
      "execution_count": null,
      "outputs": []
    },
    {
      "cell_type": "code",
      "metadata": {
        "id": "fGEaaeguL6rJ"
      },
      "source": [
        "people = ['잰더', '페이스', '버피']\r\n",
        "people.reverse() # people리스트의 값이 변경됨 // 변경하지 안으려면 reversed(people)사용\r\n",
        "print(people)\r\n",
        "\r\n",
        "print(people[::-1])"
      ],
      "execution_count": null,
      "outputs": []
    },
    {
      "cell_type": "code",
      "metadata": {
        "id": "6SMN5PwoMicG"
      },
      "source": [
        "first, *rest = [1,2,3,4,5]\r\n",
        "print(first, rest)\r\n",
        "\r\n",
        "def example_args(a,b,c):\r\n",
        "    return a * b * c\r\n",
        "    \r\n",
        "L = [2, 3, 4]\r\n",
        "print(example_args(*L))\r\n",
        "example_args(2, *L[1:])"
      ],
      "execution_count": null,
      "outputs": []
    },
    {
      "cell_type": "code",
      "metadata": {
        "id": "pLYS_CqGNC4w"
      },
      "source": [
        "# 리스트 컴프리헨션\r\n",
        "a = [y for y in range(1900, 1940) if y%4 == 0]\r\n",
        "print(a)\r\n",
        "b = [2**i for i in range(11)]\r\n",
        "print(b)\r\n",
        "c = [x for x in a if x%8==0]\r\n",
        "print(c)\r\n",
        "d = [str(round(355/113.0,i)) for i in range(1,6)]\r\n",
        "print(d)\r\n",
        "words = 'Buffy is awesome and a vampire slayer'.split()\r\n",
        "e = [[w.upper(), w.lower(), len(w)] for w in words]\r\n",
        "e"
      ],
      "execution_count": null,
      "outputs": []
    },
    {
      "cell_type": "code",
      "metadata": {
        "id": "9cZUtId4Sqo-"
      },
      "source": [
        "# 리스트 컴프리헨션의 좋은 예 --> 단순한 경우에만 사용하자\r\n",
        "result = []\r\n",
        "for x in range(10):\r\n",
        "    for y in range(5):\r\n",
        "        if x * y > 10:\r\n",
        "            result.append((x,y))\r\n",
        "\r\n",
        "for x in range(5):\r\n",
        "    for y in range(5):\r\n",
        "        if x != y:\r\n",
        "            for z in range(5):\r\n",
        "                if y != z:\r\n",
        "                    yield (x,y,z) \r\n",
        "\r\n",
        "return ((x, complicated_transform(x))\r\n",
        "        for x in long_generator_function(parameter)\r\n",
        "        if x is not None)\r\n",
        "\r\n",
        "squares = [x * x for x in range(10)]\r\n",
        "\r\n",
        "eat(jelly_bean for jelly_bean in jelly_beans if jelly_bean.color == 'black')"
      ],
      "execution_count": null,
      "outputs": []
    },
    {
      "cell_type": "code",
      "metadata": {
        "id": "1IK3lpXRjJSb"
      },
      "source": [
        "# 리스트 컴프리헨션의 나쁜 예 (보여주기 용)\r\n",
        "result = [(x,y) for x in range(10) for y in range(5) if x * y > 10]\r\n",
        "\r\n",
        "return ((x,y,z)\r\n",
        "        for x in xrange(5)\r\n",
        "        for y in xrange(5)\r\n",
        "        if x != y\r\n",
        "        for z in xrange(5)\r\n",
        "        if y != z)"
      ],
      "execution_count": null,
      "outputs": []
    },
    {
      "cell_type": "code",
      "metadata": {
        "id": "qc4KIkWPjieJ"
      },
      "source": [
        "# 리스트의 메서드를 벤치마킹 테스트하여 성능을 측정\r\n",
        "def test1():\r\n",
        "    l = []\r\n",
        "    for i in range(1000):\r\n",
        "        l = l + [i]\r\n",
        "\r\n",
        "def test2():\r\n",
        "    l = []\r\n",
        "    for i in range(1000):\r\n",
        "        l.append(i)\r\n",
        "\r\n",
        "def test3():\r\n",
        "    l = [i for i in range(1000)]\r\n",
        "\r\n",
        "def test4():\r\n",
        "    l = list(range(1000))\r\n",
        "\r\n",
        "if __name__ == \"__main__\":\r\n",
        "    import timeit # 시간 재는 함수\r\n",
        "    t1 = timeit.Timer(\"test1()\", \"from __main__ import test1\")\r\n",
        "    print(\"concat \",t1.timeit(number=1000), \"milliseconds\")\r\n",
        "    t2 = timeit.Timer(\"test2()\", \"from __main__ import test2\")\r\n",
        "    print(\"append \",t2.timeit(number=1000), \"milliseconds\")\r\n",
        "    t3 = timeit.Timer(\"test3()\", \"from __main__ import test3\")\r\n",
        "    print(\"comprehension \",t3.timeit(number=1000), \"milliseconds\")\r\n",
        "    t4 = timeit.Timer(\"test4()\", \"from __main__ import test4\")\r\n",
        "    print(\"list range \",t4.timeit(number=1000), \"milliseconds\")\r\n",
        "    # 속도: list range -> comprehension -> append -> concat"
      ],
      "execution_count": null,
      "outputs": []
    },
    {
      "cell_type": "markdown",
      "metadata": {
        "id": "ORft2rupxmq8"
      },
      "source": [
        "2.5 바이트와 바이트 배열"
      ]
    },
    {
      "cell_type": "code",
      "metadata": {
        "id": "Vgzz_A4WkEu4"
      },
      "source": [
        "blist = [1,2,3,255]\r\n",
        "the_bytes = bytes(blist)\r\n",
        "print(the_bytes)\r\n",
        "\r\n",
        "the_byte_array = bytearray(blist)\r\n",
        "print(the_byte_array)\r\n",
        "\r\n",
        "the_bytes[1] = 127 # 불변 --> 오류"
      ],
      "execution_count": null,
      "outputs": []
    },
    {
      "cell_type": "code",
      "metadata": {
        "id": "Rs_Sqm6RohrE"
      },
      "source": [
        "the_byte_array[1] = 127 # 가변\r\n",
        "the_byte_array # 0x7f = 127"
      ],
      "execution_count": null,
      "outputs": []
    },
    {
      "cell_type": "code",
      "metadata": {
        "id": "YcBjdillo_0D"
      },
      "source": [
        "# 비트와 비트 연산자\r\n",
        "x = 4\r\n",
        "print(1 << x)  # 000010000 -> 16\r\n",
        "\r\n",
        "x = 8\r\n",
        "print(x & x-1) # 0이면 2의 제곱수  &(and), |(or), ^(xor)\r\n",
        "# x = 1000 / x-1 = 0111\r\n",
        "\r\n",
        "x = 6\r\n",
        "print(x & x-1) # 0이 아니면 2의 제곱수가 아님"
      ],
      "execution_count": null,
      "outputs": []
    },
    {
      "cell_type": "code",
      "metadata": {
        "id": "WBC0EIN1XTrS"
      },
      "source": [
        "# 문자열 전체 반전하기\r\n",
        "def revert(s):\r\n",
        "    if s: # s가 빈 문자열이 아니면:\r\n",
        "        s = s[-1] + revert(s[:-1])\r\n",
        "    return s\r\n",
        "\r\n",
        "def revert2(string):\r\n",
        "    return string[::-1]\r\n",
        "\r\n",
        "if __name__ == \"__main__\":\r\n",
        "    str1 = \"안녕 세상!\"\r\n",
        "    str2 = revert(str1)\r\n",
        "    str3 = revert2(str1)\r\n",
        "    print(str2)\r\n",
        "    print(str3)"
      ],
      "execution_count": null,
      "outputs": []
    },
    {
      "cell_type": "code",
      "metadata": {
        "id": "PZmSCpkzZX-J"
      },
      "source": [
        "# 문자열 단어 단위로 반전하기\r\n",
        "def reverser(string1, p1=0, p2=None):\r\n",
        "    if len(string1) < 2:\r\n",
        "        return string1\r\n",
        "    p2 = p2 or len(string1) - 1\r\n",
        "    while p1 < p2:\r\n",
        "        string1[p1], string1[p2] = string1[p2], string1[p1]\r\n",
        "        p1 += 1\r\n",
        "        p2 -= 1\r\n",
        "\r\n",
        "def reversing_words_sentence_logic(string1):\r\n",
        "    # 먼저, 문장 전체를 반전\r\n",
        "    reverser(string1) #\"다있미재 말정 즘리고알 썬이파\"\r\n",
        "    p = 0\r\n",
        "    start = 0\r\n",
        "    while p < len(string1):\r\n",
        "        if string1[p] == u\"\\u0020\":\r\n",
        "            # 단어를 다시 반전 (원위치)\r\n",
        "            reverser(string1, start, p-1)\r\n",
        "            start = p+1\r\n",
        "        p += 1\r\n",
        "    # 마지막 단어를 반전 (원위치)\r\n",
        "    reverser(string1, start, p-1)\r\n",
        "    return \"\".join(string1)\r\n",
        "\r\n",
        "if __name__ == \"__main__\":\r\n",
        "    str1 = \"파이썬 알고리즘 정말 재미있다\"\r\n",
        "    str2 = reversing_words_sentence_logic(list(str1))\r\n",
        "    print(str2)"
      ],
      "execution_count": null,
      "outputs": []
    },
    {
      "cell_type": "code",
      "metadata": {
        "id": "X5v1pNigicu8"
      },
      "source": [
        "# 반복문 하나만 사용  (단어 단위로 나눠 리스트에 추가 --> 리스트 반전)\r\n",
        "def reverse_words_brute(string):\r\n",
        "    word, sentence = [], []\r\n",
        "    for character in string:\r\n",
        "        if character != \" \":\r\n",
        "            word.append(character)\r\n",
        "        else:\r\n",
        "            #조건문에서 빈 리스트는 False다. 여러 공백이 있는 경우, 조건문을 건너뛴다.\r\n",
        "            if word:\r\n",
        "                sentence.append(\"\".join(word))\r\n",
        "            word = []\r\n",
        "    # 마지막 단어가 있다면, 문장에 추가한다.\r\n",
        "    if word != \"\":\r\n",
        "        sentence.append(\"\".join(word))\r\n",
        "    sentence.reverse()\r\n",
        "    return \" \".join(sentence)\r\n",
        "\r\n",
        "if __name__ == \"__main__\":\r\n",
        "    str1 = \"파이썬 알고리즘 정말 재미있다\"\r\n",
        "    str2 = reverse_words_brute(str1)\r\n",
        "    print(str2)"
      ],
      "execution_count": null,
      "outputs": []
    },
    {
      "cell_type": "code",
      "metadata": {
        "id": "_IvhUlWOkbPX"
      },
      "source": [
        "# 리스트로 슬라이스\r\n",
        "def reversing_words_slice(word):\r\n",
        "    new_word = []\r\n",
        "    words = word.split(\" \")\r\n",
        "    for word in words[::-1]:\r\n",
        "        new_word.append(word)\r\n",
        "    return \" \".join(new_word)\r\n",
        "\r\n",
        "if __name__ == \"__main__\":\r\n",
        "    str1 = \"파이썬 알고리즘 정말 재미있다\"\r\n",
        "    str2 = reversing_words_slice(str1)\r\n",
        "    print(str2)"
      ],
      "execution_count": null,
      "outputs": []
    },
    {
      "cell_type": "code",
      "metadata": {
        "id": "8t4r3Li1l5ot"
      },
      "source": [
        "# 반복문 없이 리스트와 문자열 메서드로 해결\r\n",
        "def reversing_words(str1):\r\n",
        "    words = str1.split(\" \")\r\n",
        "    rev_set = \" \".join(reversed(words))\r\n",
        "    return rev_set\r\n",
        "\r\n",
        "def reversing_words2(str1):\r\n",
        "    words = str1.split(\" \")\r\n",
        "    words.reverse()\r\n",
        "    return \" \".join(words)\r\n",
        "\r\n",
        "if __name__ == \"__main__\":\r\n",
        "    str1 = \"파이썬 알고리즘 정말 재미있다\"\r\n",
        "    str2 = reversing_words(str1)\r\n",
        "    str3 = reversing_words2(str1)\r\n",
        "    print(str2)\r\n",
        "    print(str3)"
      ],
      "execution_count": null,
      "outputs": []
    },
    {
      "cell_type": "code",
      "metadata": {
        "id": "DB31k0f_nJaK"
      },
      "source": [
        "# 단순 문자열 압축\r\n",
        "def str_compression(s):\r\n",
        "    count, last = 1, \"\"\r\n",
        "    list_aux = []\r\n",
        "    for i, c in enumerate(s): #enumerate: 반복문 사용 시 몇 번째 반복문인지 확인 (i:index, c:반복객체)\r\n",
        "        if last == c:\r\n",
        "            count += 1\r\n",
        "        else:\r\n",
        "            if i != 0:\r\n",
        "                list_aux.append(str(count))\r\n",
        "            list_aux.append(c)\r\n",
        "            count = 1\r\n",
        "            last = c\r\n",
        "    list_aux.append(str(count))\r\n",
        "    return \"\".join(list_aux)\r\n",
        "\r\n",
        "if __name__ == \"__main__\":\r\n",
        "    result = str_compression(\"aabcccccaaa\")\r\n",
        "    print(result)"
      ],
      "execution_count": null,
      "outputs": []
    },
    {
      "cell_type": "code",
      "metadata": {
        "id": "tJwFisRf_38z"
      },
      "source": [
        "# 문자열 순열 (n개중 n개 모두를 나열하는 순열)\r\n",
        "import itertools # 순열, 조합, ... 을 계산하는 함수 제공\r\n",
        "\r\n",
        "def perm(s):\r\n",
        "    if len(s) < 2:\r\n",
        "        return s\r\n",
        "    res = []\r\n",
        "    for i, c in enumerate(s):\r\n",
        "        for cc in perm(s[:i] + s[i+1:]):\r\n",
        "            res.append(c+cc)\r\n",
        "    return res\r\n",
        "\r\n",
        "def perm2(s):\r\n",
        "    res = itertools.permutations(s)\r\n",
        "    return [\"\".join(i) for i in res]\r\n",
        "\r\n",
        "if __name__ == \"__main__\":\r\n",
        "    val = \"012\"\r\n",
        "    print(perm(val))\r\n",
        "    print(perm2(val))"
      ],
      "execution_count": null,
      "outputs": []
    },
    {
      "cell_type": "code",
      "metadata": {
        "id": "gRQWZxLmHCD1"
      },
      "source": [
        "# 문자열 조합 (n개중 1~n개를 나열하는 조합) -> 순서x\r\n",
        "def combinations(s):\r\n",
        "    if len(s) < 2:\r\n",
        "        return s\r\n",
        "    res = []\r\n",
        "    for i, c in enumerate(s):\r\n",
        "        res.append(c) # 추가된 부분\r\n",
        "        for j in combinations(s[:i] + s[i+1:]):\r\n",
        "            res.append(c + j)\r\n",
        "    return res\r\n",
        "\r\n",
        "if __name__ == \"__main__\":\r\n",
        "    result = combinations(\"abc\")\r\n",
        "    print(result)"
      ],
      "execution_count": null,
      "outputs": []
    },
    {
      "cell_type": "code",
      "metadata": {
        "id": "SkbSHmJRJ8Xr"
      },
      "source": [
        "# 어떤 문자열이 회문인지 확인하는 코드 (회문: 앞에서 읽으나 뒤에서 읽으나 같은 문장)\r\n",
        "def is_palindrome(s):\r\n",
        "    l = s.split(\" \")\r\n",
        "    s2 = \"\".join(l)\r\n",
        "    return s2 == s2[::-1]\r\n",
        "\r\n",
        "def is_palindrome2(s):\r\n",
        "    l = len(s)\r\n",
        "    f, b = 0, l-1\r\n",
        "    while f < l // 2:\r\n",
        "        while s[f] == \" \":\r\n",
        "            f += 1\r\n",
        "        while s[b] == \" \":\r\n",
        "            b -= 1\r\n",
        "        if s[f] != s[b]:\r\n",
        "            return False\r\n",
        "        f += 1\r\n",
        "        b -= 1\r\n",
        "    return True\r\n",
        "\r\n",
        "def is_palindrome3(s):\r\n",
        "    s = s.strip()\r\n",
        "    if len(s) < 2:\r\n",
        "        return True\r\n",
        "    if s[0] == s[-1]:\r\n",
        "        return is_palindrome3(s[1:-1]) # 재귀적\r\n",
        "    else:\r\n",
        "        return False\r\n",
        "\r\n",
        "if __name__ == \"__main__\":\r\n",
        "    str1 = \"다시 합창합시다\"\r\n",
        "    str2 = \"\"\r\n",
        "    str3 = \"hello\"\r\n",
        "    print(is_palindrome(str1))\r\n",
        "    print(is_palindrome(str2))\r\n",
        "    print(is_palindrome(str3))\r\n",
        "    print()\r\n",
        "    print(is_palindrome2(str1))\r\n",
        "    print(is_palindrome2(str2))\r\n",
        "    print(is_palindrome2(str3))\r\n",
        "    print()\r\n",
        "    print(is_palindrome3(str1))\r\n",
        "    print(is_palindrome3(str2))\r\n",
        "    print(is_palindrome3(str3))"
      ],
      "execution_count": null,
      "outputs": []
    }
  ]
}